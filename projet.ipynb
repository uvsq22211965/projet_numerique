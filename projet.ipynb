{
 "cells": [
  {
   "cell_type": "code",
   "execution_count": 3,
   "metadata": {},
   "outputs": [],
   "source": [
    "import numpy as np\n",
    "import matplotlib.pyplot as plt"
   ]
  },
  {
   "cell_type": "code",
   "execution_count": 32,
   "metadata": {},
   "outputs": [],
   "source": [
    "class plaque_plan : \n",
    "    def __init__(self,pt1 : tuple ,pt2: tuple,pt3: tuple,pt4: tuple, charge : float) :\n",
    "        \"\"\"La charge définit la valeur de la distribution de charge surfacique de la plaque. \n",
    "        les trois points définissanet les coins de la plaque.\"\"\"\n",
    "        self.points = [pt1,pt2,pt3,pt4]\n",
    "        self.charge = charge\n",
    "        "
   ]
  },
  {
   "cell_type": "code",
   "execution_count": 33,
   "metadata": {},
   "outputs": [
    {
     "data": {
      "text/plain": [
       "[(0, 0, 0), (1, 2, 3), (0, 1, 1), (3, 3, 0)]"
      ]
     },
     "execution_count": 33,
     "metadata": {},
     "output_type": "execute_result"
    }
   ],
   "source": [
    "p1 = plaque_plan((0,0,0),(1,2,3),(0,1,1),(3,3,0),1)\n",
    "p1.points"
   ]
  }
 ],
 "metadata": {
  "kernelspec": {
   "display_name": "venv",
   "language": "python",
   "name": "python3"
  },
  "language_info": {
   "codemirror_mode": {
    "name": "ipython",
    "version": 3
   },
   "file_extension": ".py",
   "mimetype": "text/x-python",
   "name": "python",
   "nbconvert_exporter": "python",
   "pygments_lexer": "ipython3",
   "version": "3.12.4"
  }
 },
 "nbformat": 4,
 "nbformat_minor": 2
}
