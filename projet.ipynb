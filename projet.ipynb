{
 "cells": [
  {
   "cell_type": "code",
   "execution_count": 70,
   "metadata": {},
   "outputs": [],
   "source": [
    "import numpy as np\n",
    "import matplotlib.pyplot as plt"
   ]
  },
  {
   "cell_type": "code",
   "execution_count": 71,
   "metadata": {},
   "outputs": [],
   "source": [
    "class Plaque : \n",
    "    def __init__(self,charge : float, *points : tuple) :\n",
    "        \"\"\"La charge définit la valeur de la distribution de charge surfacique de la plaque. \n",
    "        les trois points définissant les coins de la plaque.\"\"\"\n",
    "        self.points = points\n",
    "        self.charge = charge"
   ]
  },
  {
   "cell_type": "code",
   "execution_count": 72,
   "metadata": {},
   "outputs": [],
   "source": [
    "def aire(points : list) -> float : pass\n",
    "\n",
    "def remplissage(densite : int, points : list) -> list : # la densité repésente le nombre de points par unités d'aire \n",
    "    r = aire(points)\n",
    "    nb_pts = densite*r"
   ]
  },
  {
   "cell_type": "code",
   "execution_count": 73,
   "metadata": {},
   "outputs": [
    {
     "data": {
      "text/plain": [
       "((0, 0, 0), (1, 2, 3), (0, 1, 1), (3, 3, 0))"
      ]
     },
     "execution_count": 73,
     "metadata": {},
     "output_type": "execute_result"
    }
   ],
   "source": [
    "plaque = Plaque(1,(0,0,0),(1,2,3),(0,1,1),(3,3,0))\n",
    "plaque.points"
   ]
  }
 ],
 "metadata": {
  "kernelspec": {
   "display_name": "venv",
   "language": "python",
   "name": "python3"
  },
  "language_info": {
   "codemirror_mode": {
    "name": "ipython",
    "version": 3
   },
   "file_extension": ".py",
   "mimetype": "text/x-python",
   "name": "python",
   "nbconvert_exporter": "python",
   "pygments_lexer": "ipython3",
   "version": "3.12.4"
  }
 },
 "nbformat": 4,
 "nbformat_minor": 2
}
