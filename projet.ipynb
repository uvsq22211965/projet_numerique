{
 "cells": [
  {
   "cell_type": "code",
   "execution_count": 329,
   "metadata": {},
   "outputs": [],
   "source": [
    "import numpy as np\n",
    "import matplotlib.pyplot as plt\n",
    "import scipy"
   ]
  },
  {
   "cell_type": "code",
   "execution_count": 335,
   "metadata": {},
   "outputs": [],
   "source": [
    "class Plaque : \n",
    "    def __init__(self,charge : float, *points : tuple) :\n",
    "        \"\"\"La charge définit la valeur de la distribution de charge surfacique de la plaque. \n",
    "        les trois points définissant les coins de la plaque.\"\"\"\n",
    "        self.points = points\n",
    "        self.charge = charge"
   ]
  },
  {
   "cell_type": "code",
   "execution_count": 339,
   "metadata": {},
   "outputs": [],
   "source": [
    "class Triangle : \n",
    "    def __init__(self,charge, pt1 ,pt2 ,pt3):\n",
    "        self.pt1 = pt1\n",
    "        self.pt2 = pt2\n",
    "        self.pt3 = pt3\n",
    "        self.points = {pt1,pt2,pt3}\n",
    "        self.charge = charge\n",
    "        self.aire = np.linalg.norm(np.cross(np.subtract(pt1,pt3),np.subtract(pt2,pt3)))*0.5\n",
    "        \n",
    "    def __add__(t1,t2) : \n",
    "        \n",
    "        intersection = len(t1.points.intersection(t2.points))\n",
    "        \n",
    "        if intersection == 2 : \n",
    "            return t1.aire + t2.aire\n",
    "        elif intersection == 3 : \n",
    "            return t1.aire\n",
    "        \n",
    "        return Exception(\"Vous ne pouvez pas ajoutez deux triangles qui n'ont pas au moins deux points en commun.\")"
   ]
  },
  {
   "cell_type": "code",
   "execution_count": 341,
   "metadata": {},
   "outputs": [],
   "source": [
    "def remplissage(densite : int, tr : Triangle) -> list : # la densité repésente le nombre de points par unités d'aire \n",
    "    nb_pts = densite*tr.aire\n",
    "    V1,V2 = np.subtract(tr.pt1,tr.pt3),np.subtract(tr.pt2,tr.pt3)\n",
    "    nb_pts_v1,nb_pts_v2 = 10,10\n",
    "    \n",
    "    s1, s2 = np.linspace(0,np.linalg.norm(V1),nb_pts_v1),np.linspace(0,np.linalg.norm(V2),nb_pts_v2)\n",
    "    \n",
    "    return s1[:, np.newaxis] * V1 + s2[:, np.newaxis] * V2, tr.charge/nb_pts\n",
    "\n",
    "tr = Triangle(10,(1,0,0),(0,0,0),(0,0,1))"
   ]
  },
  {
   "cell_type": "code",
   "execution_count": 392,
   "metadata": {},
   "outputs": [
    {
     "data": {
      "text/plain": [
       "array([-5.18896544e+10, -5.18896544e+10, -5.18896544e+10])"
      ]
     },
     "execution_count": 392,
     "metadata": {},
     "output_type": "execute_result"
    }
   ],
   "source": [
    "def force(point_application : tuple, distribution_points : tuple[list[np.array],float]) -> tuple : \n",
    "    # on se place dans le cas d'une distribution de charge uniforme sur toute la surface\n",
    "    \n",
    "    k = 1/(4*scipy.constants.pi*scipy.constants.epsilon_0)\n",
    "    \n",
    "    F = np.zeros_like(point_application, dtype=np.float64)  \n",
    "\n",
    "    for point in distribution_points[0]: \n",
    "        point = np.array(point, dtype=np.float64) \n",
    "        U = np.subtract(point_application, point)  \n",
    "        r = np.linalg.norm(U)  \n",
    "        if r != 0:  \n",
    "            F += (np.float64(k * distribution_points[1]) / (r**3)) * U\n",
    "    \n",
    "    return F\n",
    "\n",
    "\n",
    "force(np.array((0,0,0)),(np.array((1,1,1)), 10))"
   ]
  },
  {
   "cell_type": "code",
   "execution_count": 301,
   "metadata": {},
   "outputs": [
    {
     "data": {
      "text/plain": [
       "((0, 0, 0), (1, 2, 3), (0, 1, 1), (3, 3, 0))"
      ]
     },
     "execution_count": 301,
     "metadata": {},
     "output_type": "execute_result"
    }
   ],
   "source": [
    "plaque = Plaque(1,(0,0,0),(1,2,3),(0,1,1),(3,3,0))\n",
    "plaque.points"
   ]
  }
 ],
 "metadata": {
  "kernelspec": {
   "display_name": "venv",
   "language": "python",
   "name": "python3"
  },
  "language_info": {
   "codemirror_mode": {
    "name": "ipython",
    "version": 3
   },
   "file_extension": ".py",
   "mimetype": "text/x-python",
   "name": "python",
   "nbconvert_exporter": "python",
   "pygments_lexer": "ipython3",
   "version": "3.12.4"
  }
 },
 "nbformat": 4,
 "nbformat_minor": 2
}
