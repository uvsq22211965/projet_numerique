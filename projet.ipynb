{
 "cells": [
  {
   "cell_type": "code",
   "execution_count": 107,
   "metadata": {},
   "outputs": [],
   "source": [
    "import numpy as np\n",
    "import matplotlib.pyplot as plt"
   ]
  },
  {
   "cell_type": "code",
   "execution_count": 134,
   "metadata": {},
   "outputs": [],
   "source": [
    "class Triangle : \n",
    "    def __init__(self, pt1 ,pt2 ,pt3):\n",
    "        self.points = {pt1,pt2,pt3}\n",
    "        self.aire = np.linalg.norm(np.cross(np.subtract(pt1,pt3),np.subtract(pt2,pt3)))*0.5\n",
    "        \n",
    "    def __add__(t1,t2) : \n",
    "        \n",
    "        intersection = len(t1.points.intersection(t2.points))\n",
    "        \n",
    "        if intersection == 2 : \n",
    "            return t1.aire + t2.aire\n",
    "        elif intersection == 3 : \n",
    "            return t1.aire\n",
    "        \n",
    "        return Exception(\"vous ne pouvez pas ajoutez deux triangles qui n'ont pas au moins deux points en commun.\")"
   ]
  },
  {
   "cell_type": "code",
   "execution_count": 142,
   "metadata": {},
   "outputs": [
    {
     "data": {
      "text/plain": [
       "np.float64(0.0)"
      ]
     },
     "execution_count": 142,
     "metadata": {},
     "output_type": "execute_result"
    }
   ],
   "source": [
    "tr = Triangle((0,0,0),(1,0,0),(0,1,0))\n",
    "tr2 = Triangle((1,0,0),(1,0,0),(0,1,0))\n",
    "tr2.aire"
   ]
  },
  {
   "cell_type": "code",
   "execution_count": 71,
   "metadata": {},
   "outputs": [],
   "source": [
    "class Plaque : \n",
    "    def __init__(self,charge : float, *points : tuple) :\n",
    "        \"\"\"La charge définit la valeur de la distribution de charge surfacique de la plaque. \n",
    "        les trois points définissant les coins de la plaque.\"\"\"\n",
    "        self.points = points\n",
    "        self.charge = charge"
   ]
  },
  {
   "cell_type": "code",
   "execution_count": 72,
   "metadata": {},
   "outputs": [],
   "source": [
    "def aire(points : list) -> float : pass\n",
    "\n",
    "def remplissage(densite : int, points : list) -> list : # la densité repésente le nombre de points par unités d'aire \n",
    "    r = aire(points)\n",
    "    nb_pts = densite*r"
   ]
  },
  {
   "cell_type": "code",
   "execution_count": 73,
   "metadata": {},
   "outputs": [
    {
     "data": {
      "text/plain": [
       "((0, 0, 0), (1, 2, 3), (0, 1, 1), (3, 3, 0))"
      ]
     },
     "execution_count": 73,
     "metadata": {},
     "output_type": "execute_result"
    }
   ],
   "source": [
    "plaque = Plaque(1,(0,0,0),(1,2,3),(0,1,1),(3,3,0))\n",
    "plaque.points"
   ]
  }
 ],
 "metadata": {
  "kernelspec": {
   "display_name": "venv",
   "language": "python",
   "name": "python3"
  },
  "language_info": {
   "codemirror_mode": {
    "name": "ipython",
    "version": 3
   },
   "file_extension": ".py",
   "mimetype": "text/x-python",
   "name": "python",
   "nbconvert_exporter": "python",
   "pygments_lexer": "ipython3",
   "version": "3.12.4"
  }
 },
 "nbformat": 4,
 "nbformat_minor": 2
}
