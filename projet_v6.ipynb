{
 "cells": [
  {
   "cell_type": "code",
   "execution_count": 1084,
   "metadata": {},
   "outputs": [],
   "source": [
    "import plotly.graph_objects as go \n",
    "import matplotlib.pyplot as plt\n",
    "import numpy as np\n",
    "import scipy.constants as cst"
   ]
  },
  {
   "cell_type": "markdown",
   "metadata": {},
   "source": [
    "<span style=\"font-size:40px;\">**Niveau 1**</span>\n"
   ]
  },
  {
   "cell_type": "code",
   "execution_count": 1085,
   "metadata": {},
   "outputs": [],
   "source": [
    "class Maillage : \n",
    "    #Initialisation de l'objet.\n",
    "    def __init__(self,X : np.ndarray ,Y : np.ndarray,Z : np.ndarray) :         \n",
    "        if not((size := X.size) == Y.size == Z.size) : \n",
    "            raise ValueError('Les 3 matrices doivent avoir les mêmes dimensions.')\n",
    "        \n",
    "        #Les listes sont flatten par convénience.\n",
    "        X,Y,Z = X.flatten(),Y.flatten(),Z.flatten()\n",
    "        self.X = X\n",
    "        self.Y = Y\n",
    "        self.Z = Z\n",
    "        self.XYZ = np.array([X,Y,Z])\n",
    "        self.nb_points = size\n",
    "        \n",
    "        #-- ces deux la ne sont plus utile\n",
    "        self.nb_points_droite = np.cbrt(size)\n",
    "        self.nb_points_plan = self.nb_points_droite**2\n",
    "        #--\n",
    "    \n",
    "    #Définition de l'addition de \"Maillage1 + Maillage2\".\n",
    "    def __add__(self,maillage : \"Maillage\") -> \"Maillage\" : \n",
    "        X,Y,Z = np.concatenate((self.X,maillage.X)),np.concatenate((self.Y,maillage.Y)),np.concatenate((self.Z,maillage.Z))\n",
    "        return  Maillage(X,Y,Z) \n",
    "    \n",
    "    #Définition de la multiplication scalaire ie \"scalaire * Maillage\".\n",
    "    def __rmul__(self,scalaire) :\n",
    "        return Maillage(scalaire*self.X,scalaire*self.Y,scalaire*self.Z) \n",
    "    \n",
    "    #Définition de l'expression Maillage[indice].\n",
    "    def __getitem__(self,index : int) -> \"Maillage\" : \n",
    "        return self.X[index],self.Y[index],self.Z[index]\n",
    "    \n",
    "    #Définition de la suppression d'un item du maillage. ie \"del Maillage[indice]\".\n",
    "    #on la supprimera surement si on ne l'utilise pas \n",
    "    def __delitem__(self,index : int) : \n",
    "        X = np.concatenate((self.X[:index], self.X[index+1:]))\n",
    "        Y = np.concatenate((self.Y[:index], self.Y[index+1:]))\n",
    "        Z = np.concatenate((self.Z[:index], self.Z[index+1:]))\n",
    "        \n",
    "        maillage = Maillage(X,Y,Z)\n",
    "        \n",
    "        for attr in list(self.__dict__.keys()) : \n",
    "            setattr(self,attr, getattr(maillage,attr))\n",
    "    \n",
    "    #Définition de l'égalité entre deux maillages ie \"Maillage1 == Maillage2\".\n",
    "    def __eq__(self, maillage : \"Maillage\"):\n",
    "        return np.array_equal(self.X, maillage.X) and \\\n",
    "               np.array_equal(self.Y, maillage.Y) and \\\n",
    "               np.array_equal(self.Z, maillage.Z)\n",
    "\n",
    "\n",
    "    def translate(self, dl : tuple[float]) -> \"Maillage\":\n",
    "        if len(dl) != 3:\n",
    "            raise ValueError('Trop ou pas assez de translations ont été données.')\n",
    "\n",
    "        return Maillage(self.X + dl[0], self.Y + dl[1], self.Z + dl[2])\n",
    "    \n",
    "    def norm(self) : \n",
    "        return np.sqrt(self.X**2 + self.Y**2 + self.Z**2)\n",
    "    \n",
    "    def rotate(self, axes : list[str], angles : list[float]) -> \"Maillage\" : \n",
    "        if len(axes) != len(angles):\n",
    "            raise ValueError(\"Trop ou pas assez d'angles et/ou axes ont été donnés.\")\n",
    "\n",
    "        Rx = lambda angle : np.array([[1,0,0],[0,np.cos(angle),-np.sin(angle)],[0,np.sin(angle),np.cos(angle)]])\n",
    "        Ry = lambda angle : np.array([[np.cos(angle),0,np.sin(angle)],[0,1,0],[-np.sin(angle),0,np.cos(angle)]])\n",
    "        Rz = lambda angle : np.array([[np.cos(angle),-np.sin(angle),0],[np.sin(angle),np.cos(angle),0],[0,0,1]])\n",
    "        product = ''\n",
    "    \n",
    "        for axe,angle in zip(axes,angles) : \n",
    "            product = f'R{axe.strip().lower()}({angle}) @' + product\n",
    "        \n",
    "        return Maillage(*eval(f'{product} self.XYZ')) \n",
    "    \n"
   ]
  },
  {
   "cell_type": "code",
   "execution_count": 1086,
   "metadata": {},
   "outputs": [],
   "source": [
    "def cylindrique_to_cartesien(r : float, theta : float, z : float) -> tuple:\n",
    "    \"\"\"\n",
    "    Entrées :\n",
    "        - r: valeur du rayon (distance entre le point et son projeté orthogonal sur l'axe du cylindre).\n",
    "        - theta: valeur de l’angle.\n",
    "        - z: valeur de l'altitude.\n",
    "\n",
    "    Sortie :\n",
    "        - Renvoie un couple (x,y,z) représentant les coordonnées du point en cartésien.\n",
    "\n",
    "    Explication:\n",
    "        - Prend des coordonnées cylindriques et les traduit en coordonnées cartésiennes.\n",
    "    \"\"\"\n",
    "    return r*np.cos(theta), r*np.sin(theta), z"
   ]
  },
  {
   "cell_type": "code",
   "execution_count": 1087,
   "metadata": {},
   "outputs": [],
   "source": [
    "def spherique_to_cartesien(r : float, theta : float, phi : float) -> tuple:\n",
    "    \"\"\"\n",
    "    Entrées :\n",
    "        - r : valeur du rayon.\n",
    "        - theta : valeur de l’angle entre OM (M point quelconque de l’espace) et Oz.\n",
    "        - phi : valeur de l’angle entre le projeté orthogonal de OM sur le plan (xOy) et l’axe Ox.\n",
    "    \n",
    "    Sortie :\n",
    "        - Renvoie un couple (x,y,z) représentant les coordonnées du point en cartésien.\n",
    "\n",
    "    Explication:\n",
    "        - Prend des coordonnées sphériques et les traduit en coordonnées cartésiennes.\n",
    "    \"\"\"\n",
    "    return r * np.cos(phi) * np.sin(theta), r * np.sin(phi) * np.sin(theta), r * np.cos(theta)"
   ]
  },
  {
   "cell_type": "markdown",
   "metadata": {},
   "source": [
    "<span style=\"font-size:40px;\">**Niveau 2**</span>\n"
   ]
  },
  {
   "cell_type": "code",
   "execution_count": 1088,
   "metadata": {},
   "outputs": [
    {
     "data": {
      "text/plain": [
       "'def creer_maillage_cartesien(x_min : float, x_max : float, y_min : float, y_max : float, z_min : float, z_max : float, pas_du_maillage : float) -> Maillage:\\n    \"\"\"\\n    Entrées:\\n\\n        - x_min : la valeur minimale en x du maillage (Exemple : x_min = -2.5). Le signe est quelconque et la valeur doit être différente de x_max.\\n        - y_min : la valeur minimale en y du maillage (Exemple : y_min = -2.5). Le signe est quelconque et la valeur doit être différente de y_max.\\n        - z_min : la valeur minimale en z du maillage (Exemple : z_min = -2.5). Le signe est quelconque et la valeur doit être différente de z_max.\\n\\n        - x_max : la valeur maximale en x du maillage (Exemple : x_max = 2.5). Le signe est quelconque et la valeur doit être différente de x_min.\\n        - y_max : la valeur maximale en y du maillage (Exemple : y_max = 2.5). Le signe est quelconque et la valeur doit être différente de y_min.\\n        - z_max : la valeur maximale en z du maillage (Exemple : z_max = 2.5). Le signe est quelconque et la valeur doit être différente de z_min.\\n\\n        - pas_du_maillage : \\n            \\n            * Distance séparant 2 points (non diagonnaux) du maillage. \\n            \\n            * Il est de préférence un diviseur de (x_max - x_min) et de (y_max - y_min) et (z_max - z_min). \\n            \\n            * Éviter un pas égal à 0.3 ou quelconque multiple de 0.3 ainsi que les nombres premiers par exemple. \\n            \\n            * Sa valeur ne doit pas être plus élevée que la moitié de la plus petite distance coordonnée_max - coordonnée_min des 3 axes.\\n        \\n    Sorties:\\n    \\n        - Maillage(X,Y,Z)\\n            \\n    Explication:\\n    \\n        La fonction creer_maillage_cartesien() crée une maillage de l\\'espace pour des limites et un pas donnés.\\n    \"\"\"\\n    \\n    est_un_plan = False\\n    est_une_droite = False\\n    #Vérification de la cohérence des données.\\n    for min, max in zip([x_min,y_min,z_min],[x_max,y_max,z_max]):\\n        min_max_verification = True\\n        if min == max: #Sinon le maillage est soit: un plan, une droite ou un point ce qui ne nous intéresse pas ici.\\n            if est_un_plan:\\n                if est_une_droite:\\n                    raise ValueError(\"Le maillage est un point.\") #L\\'intérêt de créer un maillage ponctuel est nul, autant calculer les valeurs directement au point.\\n                est_une_droite = True\\n                min_max_verification = False\\n            est_un_plan = True    \\n            min_max_verification = False\\n    \\n        if min > max:\\n            min, max = max, min #Nécessaire pour avoir des np.linspace(min, max, nb_points) cohérents.\\n        \\n        if min_max_verification:   \\n            if pas_du_maillage > abs(max-min)/2:\\n                raise ValueError(\"pas_du_maillage est trop grand.\") #Le cas écheant, le maillage ne serait pas bien défini.\\n\\n    #Création du maillage.\\n    longueur_maillage_x = abs(x_max - x_min)\\n    longueur_maillage_y = abs(y_max - y_min)\\n    longueur_maillage_z = abs(z_max - z_min)\\n    \\n    if pas_du_maillage == 0 : raise ZeroDivisionError\\n    \\n    nb_points_entre_x_min_x_max = int((longueur_maillage_x) / (pas_du_maillage)) + 1\\n    nb_points_entre_y_min_y_max = int((longueur_maillage_y) / (pas_du_maillage)) + 1\\n    nb_points_entre_z_min_z_max = int((longueur_maillage_z) / (pas_du_maillage)) + 1\\n    \\n    \\n    axe_x = np.linspace(x_min, x_max, nb_points_entre_x_min_x_max)\\n    axe_y = np.linspace(y_min, y_max, nb_points_entre_y_min_y_max)\\n    axe_z = np.linspace(z_min, z_max, nb_points_entre_z_min_z_max)\\n    \\n    X,Y,Z = np.meshgrid(axe_x,axe_y,axe_z)\\n    \\n    #Permet de gérer les cas où pas_du_maillage engendre des points dont les coordonnées ont des décimales infinies comme 0.3.\\n    X = np.round(X, 1) \\n    Y = np.round(Y, 1)\\n    Z = np.round(Z, 1)\\n\\n    return Maillage(X,Y,Z)'"
      ]
     },
     "execution_count": 1088,
     "metadata": {},
     "output_type": "execute_result"
    }
   ],
   "source": [
    "'''def creer_maillage_cartesien(x_min : float, x_max : float, y_min : float, y_max : float, z_min : float, z_max : float, pas_du_maillage : float) -> Maillage:\n",
    "    \"\"\"\n",
    "    Entrées:\n",
    "\n",
    "        - x_min : la valeur minimale en x du maillage (Exemple : x_min = -2.5). Le signe est quelconque et la valeur doit être différente de x_max.\n",
    "        - y_min : la valeur minimale en y du maillage (Exemple : y_min = -2.5). Le signe est quelconque et la valeur doit être différente de y_max.\n",
    "        - z_min : la valeur minimale en z du maillage (Exemple : z_min = -2.5). Le signe est quelconque et la valeur doit être différente de z_max.\n",
    "\n",
    "        - x_max : la valeur maximale en x du maillage (Exemple : x_max = 2.5). Le signe est quelconque et la valeur doit être différente de x_min.\n",
    "        - y_max : la valeur maximale en y du maillage (Exemple : y_max = 2.5). Le signe est quelconque et la valeur doit être différente de y_min.\n",
    "        - z_max : la valeur maximale en z du maillage (Exemple : z_max = 2.5). Le signe est quelconque et la valeur doit être différente de z_min.\n",
    "\n",
    "        - pas_du_maillage : \n",
    "            \n",
    "            * Distance séparant 2 points (non diagonnaux) du maillage. \n",
    "            \n",
    "            * Il est de préférence un diviseur de (x_max - x_min) et de (y_max - y_min) et (z_max - z_min). \n",
    "            \n",
    "            * Éviter un pas égal à 0.3 ou quelconque multiple de 0.3 ainsi que les nombres premiers par exemple. \n",
    "            \n",
    "            * Sa valeur ne doit pas être plus élevée que la moitié de la plus petite distance coordonnée_max - coordonnée_min des 3 axes.\n",
    "        \n",
    "    Sorties:\n",
    "    \n",
    "        - Maillage(X,Y,Z)\n",
    "            \n",
    "    Explication:\n",
    "    \n",
    "        La fonction creer_maillage_cartesien() crée une maillage de l'espace pour des limites et un pas donnés.\n",
    "    \"\"\"\n",
    "    \n",
    "    est_un_plan = False\n",
    "    est_une_droite = False\n",
    "    #Vérification de la cohérence des données.\n",
    "    for min, max in zip([x_min,y_min,z_min],[x_max,y_max,z_max]):\n",
    "        min_max_verification = True\n",
    "        if min == max: #Sinon le maillage est soit: un plan, une droite ou un point ce qui ne nous intéresse pas ici.\n",
    "            if est_un_plan:\n",
    "                if est_une_droite:\n",
    "                    raise ValueError(\"Le maillage est un point.\") #L'intérêt de créer un maillage ponctuel est nul, autant calculer les valeurs directement au point.\n",
    "                est_une_droite = True\n",
    "                min_max_verification = False\n",
    "            est_un_plan = True    \n",
    "            min_max_verification = False\n",
    "    \n",
    "        if min > max:\n",
    "            min, max = max, min #Nécessaire pour avoir des np.linspace(min, max, nb_points) cohérents.\n",
    "        \n",
    "        if min_max_verification:   \n",
    "            if pas_du_maillage > abs(max-min)/2:\n",
    "                raise ValueError(\"pas_du_maillage est trop grand.\") #Le cas écheant, le maillage ne serait pas bien défini.\n",
    "\n",
    "    #Création du maillage.\n",
    "    longueur_maillage_x = abs(x_max - x_min)\n",
    "    longueur_maillage_y = abs(y_max - y_min)\n",
    "    longueur_maillage_z = abs(z_max - z_min)\n",
    "    \n",
    "    if pas_du_maillage == 0 : raise ZeroDivisionError\n",
    "    \n",
    "    nb_points_entre_x_min_x_max = int((longueur_maillage_x) / (pas_du_maillage)) + 1\n",
    "    nb_points_entre_y_min_y_max = int((longueur_maillage_y) / (pas_du_maillage)) + 1\n",
    "    nb_points_entre_z_min_z_max = int((longueur_maillage_z) / (pas_du_maillage)) + 1\n",
    "    \n",
    "    \n",
    "    axe_x = np.linspace(x_min, x_max, nb_points_entre_x_min_x_max)\n",
    "    axe_y = np.linspace(y_min, y_max, nb_points_entre_y_min_y_max)\n",
    "    axe_z = np.linspace(z_min, z_max, nb_points_entre_z_min_z_max)\n",
    "    \n",
    "    X,Y,Z = np.meshgrid(axe_x,axe_y,axe_z)\n",
    "    \n",
    "    #Permet de gérer les cas où pas_du_maillage engendre des points dont les coordonnées ont des décimales infinies comme 0.3.\n",
    "    X = np.round(X, 1) \n",
    "    Y = np.round(Y, 1)\n",
    "    Z = np.round(Z, 1)\n",
    "\n",
    "    return Maillage(X,Y,Z)'''"
   ]
  },
  {
   "cell_type": "code",
   "execution_count": 1089,
   "metadata": {},
   "outputs": [],
   "source": [
    "def creer_maillage_plan(x_min : float, x_max : float, y_min : float, y_max : float, z : \"function\", pas_x : float, pas_y : float) -> Maillage : \n",
    "    densite_x = int(1/pas_x)\n",
    "    densite_y = int(1/pas_y)\n",
    "    \n",
    "    x = np.linspace(x_min,x_max, densite_x*int(x_max - x_min)+1)\n",
    "    y = np.linspace(y_min,y_max, densite_y*int(y_max - y_min)+1)\n",
    "    X,Y = np.meshgrid(x,y)\n",
    "    Z = np.full_like(X, z(X, Y))\n",
    "    \n",
    "    return Maillage(X,Y,Z)"
   ]
  },
  {
   "cell_type": "code",
   "execution_count": 1090,
   "metadata": {},
   "outputs": [],
   "source": [
    "def creer_maillage_cartesien(x_min : float, x_max : float, y_min : float, y_max : float, z_min : float, z_max : float, pas_du_maillage : float) -> Maillage : \n",
    "    M = Maillage(*np.empty((3,0)))\n",
    "    densite_x = int(1/pas_du_maillage)\n",
    "    Z = np.linspace(z_min,z_max, densite_x*int(z_max - z_min)+1)\n",
    "    \n",
    "    for z in Z : \n",
    "        M += creer_maillage_plan(x_min,x_max,y_min,y_max,lambda x,y : z, pas_du_maillage,pas_du_maillage)\n",
    "    \n",
    "    return M"
   ]
  },
  {
   "cell_type": "code",
   "execution_count": 1091,
   "metadata": {},
   "outputs": [],
   "source": [
    "def creer_maillage_cylindrique(z_min : float, z_max : float, rayon : \"function\", theta : float, pas_z : float, pas_theta : float) -> Maillage :\n",
    "    \"\"\"\n",
    "    Entrées :\n",
    "\n",
    "        - z_min : Représente la valeur minimale selon z.\n",
    "        - z_max : Représente la valeur maximale selon z.\n",
    "            - NB : Z_max – Z_min = hauteur.\n",
    "\n",
    "        - rayon : C’est une fonction, elle dépend de theta et de z.\n",
    "        - theta : représente l’angle d’ouverture ducylindre.\n",
    "\n",
    "        - pas_du_maillage :\n",
    "\n",
    "            * Distance séparant 2 points (non diagonnaux) du maillage.\n",
    "\n",
    "            * Il est de préférence un diviseur de (theta_max - theta_min) et de(rayon_max - rayon_min) et (z_max - z_min).\n",
    "\n",
    "            * Éviter un pas égal à 0.3 ou quelconque multiple de 0.3 ainsi que les nombres premiers par exemple.\n",
    "\n",
    "            * Sa valeur ne doit pas être plus élevée que la moitié de la plus petite distance coordonnée_max - coordonnée_min des 3 axes.\n",
    "\n",
    "    - Sorties :\n",
    "    \n",
    "        - Renvoie un maillage qui représente un cylindre ou un morceau de cylindre en fonction de l’angle annoncé.\n",
    "    \"\"\"\n",
    "\n",
    "    #je ne sais pas si ces conditions sont utiles\n",
    "    if z_min > z_max:\n",
    "        z_min, z_max = z_max, z_min\n",
    "    if theta > 2 * np.pi:\n",
    "        theta = 2 * np.pi\n",
    "\n",
    "    densite_theta = int(1/pas_theta)\n",
    "    densite_z = int(1/pas_z)\n",
    "\n",
    "    valeurs_theta = np.linspace(0, theta, densite_theta * int(theta),endpoint=False) \n",
    "    valeurs_z = np.linspace(z_min, z_max, densite_z*int(z_max - z_min) + 1,endpoint=False)\n",
    "\n",
    "    THETA, Z = np.meshgrid(valeurs_theta, valeurs_z)\n",
    "    array_r = np.full_like(THETA,rayon(THETA,Z))\n",
    "\n",
    "    return Maillage(*cylindrique_to_cartesien(array_r, THETA, Z))"
   ]
  },
  {
   "cell_type": "code",
   "execution_count": 1092,
   "metadata": {},
   "outputs": [],
   "source": [
    "def creer_maillage_spherique(rayon : float, theta : float, phi : float, pas_phi : float, pas_theta) -> Maillage :\n",
    "    densite_phi = int(1/pas_phi)\n",
    "    densite_theta = int(1/pas_theta)\n",
    "    \n",
    "    Theta = np.linspace(0, theta, densite_theta * int(theta),endpoint=False) \n",
    "    Phi =  np.linspace(0, phi, densite_phi * int(phi),endpoint=False) \n",
    "\n",
    "    THETA, PHI = np.meshgrid(Theta,Phi)\n",
    "    RAYON = np.full_like(THETA,rayon(THETA,PHI))\n",
    "    \n",
    "    return Maillage(*spherique_to_cartesien(RAYON,THETA,PHI))"
   ]
  },
  {
   "cell_type": "code",
   "execution_count": 1093,
   "metadata": {},
   "outputs": [],
   "source": [
    "def creer_maillage_disque(rayon : float, theta : float, z : \"function\", pas_rayon : float, pas_theta : float) -> Maillage : \n",
    "    densite_rayon = int(1/pas_rayon)\n",
    "    densite_theta = int(1/pas_theta)\n",
    "    \n",
    "    Theta = np.linspace(0, theta, densite_theta * int(theta),endpoint=False) \n",
    "    Rayon =  np.linspace(0, rayon, densite_rayon * int(rayon)) \n",
    "\n",
    "    THETA, RAYON = np.meshgrid(Theta,Rayon)\n",
    "    Z = np.full_like(THETA,z(THETA,RAYON))\n",
    "    \n",
    "    return Maillage(*cylindrique_to_cartesien(RAYON, THETA, Z))"
   ]
  },
  {
   "cell_type": "markdown",
   "metadata": {},
   "source": [
    "<span style=\"font-size:40px;\">**Niveau 3**</span>\n"
   ]
  },
  {
   "cell_type": "code",
   "execution_count": 1094,
   "metadata": {},
   "outputs": [],
   "source": [
    "def calcule_charge(maillage: Maillage, distribution_charge : tuple[float,\"function\"] = None) : \n",
    "    return (val := distribution_charge[1](*maillage.XYZ))*distribution_charge[0]/np.sum(val) if distribution_charge != None else None\n",
    "    \n",
    "def afficher_plotly(maillage : Maillage, distribution_charge : tuple[float,\"function\"] = None) : \n",
    "    fig = go.Figure(go.Scatter3d(x=maillage.X,y=maillage.Y,z=maillage.Z,mode=\"markers\",\n",
    "                                 marker=dict(color=calcule_charge(maillage,distribution_charge),colorscale=\"Viridis\",showscale=True if distribution_charge != None else False,size=1)))\n",
    "    fig.show()\n",
    "\n",
    "def afficher_matplotlib(maillage : Maillage, distribution_charge : tuple[float,\"function\"] = None) :\n",
    "\n",
    "    fig = plt.figure(figsize=(8, 6))\n",
    "    ax = fig.add_subplot(111, projection='3d')\n",
    "    sc = ax.scatter(maillage.X, maillage.Y, maillage.Z, marker='o', c = calcule_charge(maillage,distribution_charge), cmap=\"coolwarm\", s = 0.5)\n",
    "\n",
    "    if distribution_charge is not None:\n",
    "        cbar = fig.colorbar(sc, ax=ax, shrink=0.5)\n",
    "        cbar.set_label(\"valeurs\")\n",
    "    ax.set_xlabel(\"X\")\n",
    "    ax.set_ylabel(\"Y\")\n",
    "\n",
    "    plt.show()"
   ]
  },
  {
   "cell_type": "code",
   "execution_count": 1095,
   "metadata": {},
   "outputs": [
    {
     "data": {
      "text/plain": [
       "'def isoler_plan_cartesien(maillage : Maillage, plan : str, valeur_coupe : float) -> tuple:\\n  \\n    val_min_x, val_min_y, val_min_z = maillage[0]\\n    val_max_x, val_max_y, val_max_z = maillage[maillage.nb_points - 1]\\n    \\n    pas = round((val_max_x - val_min_x) / maillage.nb_points_droite, 2)\\n    \\n    nb_plan = int(maillage.nb_points / maillage.nb_points_plan)\\n    \\n    if valeur_coupe == None:\\n            raise ValueError(\\'Précisez la valeur de la côte du plan.\\')\\n    \\n    if (psl := plan.strip().lower()) in [\"xoz\",\"zox\"]:\\n        if val_min_y > valeur_coupe > val_max_y and (valeur_coupe not in maillage.Y) :\\n            raise ValueError(\"Le plan n\\'existe pas.\")\\n        val_indice_y = int(abs(val_min_y - valeur_coupe) / pas * maillage.nb_points_plan)\\n        \\n        return maillage[val_indice_y:val_indice_y+int(maillage.nb_points_plan)]\\n    \\n    if psl in [\"xoy\",\"yox\"]:\\n        if val_min_z > valeur_coupe > val_max_z and (valeur_coupe not in maillage.Z) :\\n            raise ValueError(\"Le plan n\\'existe pas.\")\\n        val_indice_z = int(abs(val_min_z - valeur_coupe) / pas)\\n        \\n        liste = [float(valeur) for valeur in maillage.Y[::int(maillage.nb_points_plan)]]\\n        \\n        return maillage.X[:int(maillage.nb_points_plan)], liste*nb_plan, maillage.Z[val_indice_z::int(maillage.nb_points_droite)]\\n    \\n    if psl in [\"yoz\",\"zoy\"]:\\n        if val_min_x > valeur_coupe > val_max_x  and (valeur_coupe not in maillage.X) :\\n            raise ValueError(\"Le plan n\\'existe pas.\")\\n        \\n        liste_x = [float(valeur_coupe) for _ in range(int(maillage.nb_points_plan))]\\n        liste_y = [[float(valeur)]*nb_plan for valeur in maillage.Y[::int(maillage.nb_points_plan)]]\\n    \\n        return liste_x, liste_y, maillage.Z[:int(maillage.nb_points_plan)]\\n    \\n    raise ValueError(\"La string du plan ne convient pas. Vérifiez l\\'orthographe ou si le plan existe.\")'"
      ]
     },
     "execution_count": 1095,
     "metadata": {},
     "output_type": "execute_result"
    }
   ],
   "source": [
    "'''def isoler_plan_cartesien(maillage : Maillage, plan : str, valeur_coupe : float) -> tuple:\n",
    "  \n",
    "    val_min_x, val_min_y, val_min_z = maillage[0]\n",
    "    val_max_x, val_max_y, val_max_z = maillage[maillage.nb_points - 1]\n",
    "    \n",
    "    pas = round((val_max_x - val_min_x) / maillage.nb_points_droite, 2)\n",
    "    \n",
    "    nb_plan = int(maillage.nb_points / maillage.nb_points_plan)\n",
    "    \n",
    "    if valeur_coupe == None:\n",
    "            raise ValueError('Précisez la valeur de la côte du plan.')\n",
    "    \n",
    "    if (psl := plan.strip().lower()) in [\"xoz\",\"zox\"]:\n",
    "        if val_min_y > valeur_coupe > val_max_y and (valeur_coupe not in maillage.Y) :\n",
    "            raise ValueError(\"Le plan n'existe pas.\")\n",
    "        val_indice_y = int(abs(val_min_y - valeur_coupe) / pas * maillage.nb_points_plan)\n",
    "        \n",
    "        return maillage[val_indice_y:val_indice_y+int(maillage.nb_points_plan)]\n",
    "    \n",
    "    if psl in [\"xoy\",\"yox\"]:\n",
    "        if val_min_z > valeur_coupe > val_max_z and (valeur_coupe not in maillage.Z) :\n",
    "            raise ValueError(\"Le plan n'existe pas.\")\n",
    "        val_indice_z = int(abs(val_min_z - valeur_coupe) / pas)\n",
    "        \n",
    "        liste = [float(valeur) for valeur in maillage.Y[::int(maillage.nb_points_plan)]]\n",
    "        \n",
    "        return maillage.X[:int(maillage.nb_points_plan)], liste*nb_plan, maillage.Z[val_indice_z::int(maillage.nb_points_droite)]\n",
    "    \n",
    "    if psl in [\"yoz\",\"zoy\"]:\n",
    "        if val_min_x > valeur_coupe > val_max_x  and (valeur_coupe not in maillage.X) :\n",
    "            raise ValueError(\"Le plan n'existe pas.\")\n",
    "        \n",
    "        liste_x = [float(valeur_coupe) for _ in range(int(maillage.nb_points_plan))]\n",
    "        liste_y = [[float(valeur)]*nb_plan for valeur in maillage.Y[::int(maillage.nb_points_plan)]]\n",
    "    \n",
    "        return liste_x, liste_y, maillage.Z[:int(maillage.nb_points_plan)]\n",
    "    \n",
    "    raise ValueError(\"La string du plan ne convient pas. Vérifiez l'orthographe ou si le plan existe.\")'''"
   ]
  },
  {
   "cell_type": "code",
   "execution_count": 1110,
   "metadata": {},
   "outputs": [],
   "source": [
    "x_min,x_max,y_min,y_max,z_min,z_max = -2,2,-3,4,0,5\n",
    "pas_du_maillage = 0.5\n",
    "Maillage_espace = creer_maillage_cartesien(x_min,x_max,y_min,y_max,z_min,z_max,pas_du_maillage)"
   ]
  },
  {
   "cell_type": "code",
   "execution_count": 1133,
   "metadata": {},
   "outputs": [
    {
     "data": {
      "application/vnd.plotly.v1+json": {
       "config": {
        "plotlyServerURL": "https://plot.ly"
       },
       "data": [
        {
         "marker": {
          "colorscale": [
           [
            0,
            "#440154"
           ],
           [
            0.1111111111111111,
            "#482878"
           ],
           [
            0.2222222222222222,
            "#3e4989"
           ],
           [
            0.3333333333333333,
            "#31688e"
           ],
           [
            0.4444444444444444,
            "#26828e"
           ],
           [
            0.5555555555555556,
            "#1f9e89"
           ],
           [
            0.6666666666666666,
            "#35b779"
           ],
           [
            0.7777777777777778,
            "#6ece58"
           ],
           [
            0.8888888888888888,
            "#b5de2b"
           ],
           [
            1,
            "#fde725"
           ]
          ],
          "showscale": false,
          "size": 1
         },
         "mode": "markers",
         "type": "scatter3d",
         "x": {
          "bdata": "AAAAAAAAAMAAAAAAAAD4vwAAAAAAAPC/AAAAAAAA4L8AAAAAAAAAAAAAAAAAAOA/AAAAAAAA8D8AAAAAAAD4PwAAAAAAAABAAAAAAAAAAMAAAAAAAAD4vwAAAAAAAPC/AAAAAAAA4L8AAAAAAAAAAAAAAAAAAOA/AAAAAAAA8D8AAAAAAAD4PwAAAAAAAABAAAAAAAAAAMAAAAAAAAD4vwAAAAAAAPC/AAAAAAAA4L8AAAAAAAAAAAAAAAAAAOA/AAAAAAAA8D8AAAAAAAD4PwAAAAAAAABAAAAAAAAAAMAAAAAAAAD4vwAAAAAAAPC/AAAAAAAA4L8AAAAAAAAAAAAAAAAAAOA/AAAAAAAA8D8AAAAAAAD4PwAAAAAAAABAAAAAAAAAAMAAAAAAAAD4vwAAAAAAAPC/AAAAAAAA4L8AAAAAAAAAAAAAAAAAAOA/AAAAAAAA8D8AAAAAAAD4PwAAAAAAAABAAAAAAAAAAMAAAAAAAAD4vwAAAAAAAPC/AAAAAAAA4L8AAAAAAAAAAAAAAAAAAOA/AAAAAAAA8D8AAAAAAAD4PwAAAAAAAABAAAAAAAAAAMAAAAAAAAD4vwAAAAAAAPC/AAAAAAAA4L8AAAAAAAAAAAAAAAAAAOA/AAAAAAAA8D8AAAAAAAD4PwAAAAAAAABAAAAAAAAAAMAAAAAAAAD4vwAAAAAAAPC/AAAAAAAA4L8AAAAAAAAAAAAAAAAAAOA/AAAAAAAA8D8AAAAAAAD4PwAAAAAAAABAAAAAAAAAAMAAAAAAAAD4vwAAAAAAAPC/AAAAAAAA4L8AAAAAAAAAAAAAAAAAAOA/AAAAAAAA8D8AAAAAAAD4PwAAAAAAAABAAAAAAAAAAMAAAAAAAAD4vwAAAAAAAPC/AAAAAAAA4L8AAAAAAAAAAAAAAAAAAOA/AAAAAAAA8D8AAAAAAAD4PwAAAAAAAABAAAAAAAAAAMAAAAAAAAD4vwAAAAAAAPC/AAAAAAAA4L8AAAAAAAAAAAAAAAAAAOA/AAAAAAAA8D8AAAAAAAD4PwAAAAAAAABA",
          "dtype": "f8"
         },
         "y": {
          "bdata": "AAAAAAAAAAAAAAAAAAAAAAAAAAAAAAAAAAAAAAAAAAAAAAAAAAAAAAAAAAAAAAAAAAAAAAAAAAAAAAAAAAAAAAAAAAAAAAAAAAAAAAAAAAAAAAAAAAAAAAAAAAAAAAAAAAAAAAAAAAAAAAAAAAAAAAAAAAAAAAAAAAAAAAAAAAAAAAAAAAAAAAAAAAAAAAAAAAAAAAAAAAAAAAAAAAAAAAAAAAAAAAAAAAAAAAAAAAAAAAAAAAAAAAAAAAAAAAAAAAAAAAAAAAAAAAAAAAAAAAAAAAAAAAAAAAAAAAAAAAAAAAAAAAAAAAAAAAAAAAAAAAAAAAAAAAAAAAAAAAAAAAAAAAAAAAAAAAAAAAAAAAAAAAAAAAAAAAAAAAAAAAAAAAAAAAAAAAAAAAAAAAAAAAAAAAAAAAAAAAAAAAAAAAAAAAAAAAAAAAAAAAAAAAAAAAAAAAAAAAAAAAAAAAAAAAAAAAAAAAAAAAAAAAAAAAAAAAAAAAAAAAAAAAAAAAAAAAAAAAAAAAAAAAAAAAAAAAAAAAAAAAAAAAAAAAAAAAAAAAAAAAAAAAAAAAAAAAAAAAAAAAAAAAAAAAAAAAAAAAAAAAAAAAAAAAAAAAAAAAAAAAAAAAAAAAAAAAAAAAAAAAAAAAAAAAAAAAAAAAAAAAAAAAAAAAAAAAAAAAAAAAAAAAAAAAAAAAAAAAAAAAAAAAAAAAAAAAAAAAAAAAAAAAAAAAAAAAAAAAAAAAAAAAAAAAAAAAAAAAAAAAAAAAAAAAAAAAAAAAAAAAAAAAAAAAAAAAAAAAAAAAAAAAAAAAAAAAAAAAAAAAAAAAAAAAAAAAAAAAAAAAAAAAAAAAAAAAAAAAAAAAAAAAAAAAAAAAAAAAAAAAAAAAAAAAAAAAAAAAAAAAAAAAAAAAAAAAAAAAAAAAAAAAAAAAAAAAAAAAAAAAAAAAAAAAAAAAAAAAAAAAAAAAAAAAAAAAAAAAAAAAAAAAAAAAAAAAAAAAAAAAAAAAAAAAAAAAAAAAAAAAAAAAAAAAAAAAAAAAAAAAAAAAAAAAAAAAAA",
          "dtype": "f8"
         },
         "z": {
          "bdata": "AAAAAAAAAAAAAAAAAAAAAAAAAAAAAAAAAAAAAAAAAAAAAAAAAAAAAAAAAAAAAAAAAAAAAAAAAAAAAAAAAAAAAAAAAAAAAAAAAAAAAAAA4D8AAAAAAADgPwAAAAAAAOA/AAAAAAAA4D8AAAAAAADgPwAAAAAAAOA/AAAAAAAA4D8AAAAAAADgPwAAAAAAAOA/AAAAAAAA8D8AAAAAAADwPwAAAAAAAPA/AAAAAAAA8D8AAAAAAADwPwAAAAAAAPA/AAAAAAAA8D8AAAAAAADwPwAAAAAAAPA/AAAAAAAA+D8AAAAAAAD4PwAAAAAAAPg/AAAAAAAA+D8AAAAAAAD4PwAAAAAAAPg/AAAAAAAA+D8AAAAAAAD4PwAAAAAAAPg/AAAAAAAAAEAAAAAAAAAAQAAAAAAAAABAAAAAAAAAAEAAAAAAAAAAQAAAAAAAAABAAAAAAAAAAEAAAAAAAAAAQAAAAAAAAABAAAAAAAAABEAAAAAAAAAEQAAAAAAAAARAAAAAAAAABEAAAAAAAAAEQAAAAAAAAARAAAAAAAAABEAAAAAAAAAEQAAAAAAAAARAAAAAAAAACEAAAAAAAAAIQAAAAAAAAAhAAAAAAAAACEAAAAAAAAAIQAAAAAAAAAhAAAAAAAAACEAAAAAAAAAIQAAAAAAAAAhAAAAAAAAADEAAAAAAAAAMQAAAAAAAAAxAAAAAAAAADEAAAAAAAAAMQAAAAAAAAAxAAAAAAAAADEAAAAAAAAAMQAAAAAAAAAxAAAAAAAAAEEAAAAAAAAAQQAAAAAAAABBAAAAAAAAAEEAAAAAAAAAQQAAAAAAAABBAAAAAAAAAEEAAAAAAAAAQQAAAAAAAABBAAAAAAAAAEkAAAAAAAAASQAAAAAAAABJAAAAAAAAAEkAAAAAAAAASQAAAAAAAABJAAAAAAAAAEkAAAAAAAAASQAAAAAAAABJAAAAAAAAAFEAAAAAAAAAUQAAAAAAAABRAAAAAAAAAFEAAAAAAAAAUQAAAAAAAABRAAAAAAAAAFEAAAAAAAAAUQAAAAAAAABRA",
          "dtype": "f8"
         }
        }
       ],
       "layout": {
        "template": {
         "data": {
          "bar": [
           {
            "error_x": {
             "color": "#2a3f5f"
            },
            "error_y": {
             "color": "#2a3f5f"
            },
            "marker": {
             "line": {
              "color": "#E5ECF6",
              "width": 0.5
             },
             "pattern": {
              "fillmode": "overlay",
              "size": 10,
              "solidity": 0.2
             }
            },
            "type": "bar"
           }
          ],
          "barpolar": [
           {
            "marker": {
             "line": {
              "color": "#E5ECF6",
              "width": 0.5
             },
             "pattern": {
              "fillmode": "overlay",
              "size": 10,
              "solidity": 0.2
             }
            },
            "type": "barpolar"
           }
          ],
          "carpet": [
           {
            "aaxis": {
             "endlinecolor": "#2a3f5f",
             "gridcolor": "white",
             "linecolor": "white",
             "minorgridcolor": "white",
             "startlinecolor": "#2a3f5f"
            },
            "baxis": {
             "endlinecolor": "#2a3f5f",
             "gridcolor": "white",
             "linecolor": "white",
             "minorgridcolor": "white",
             "startlinecolor": "#2a3f5f"
            },
            "type": "carpet"
           }
          ],
          "choropleth": [
           {
            "colorbar": {
             "outlinewidth": 0,
             "ticks": ""
            },
            "type": "choropleth"
           }
          ],
          "contour": [
           {
            "colorbar": {
             "outlinewidth": 0,
             "ticks": ""
            },
            "colorscale": [
             [
              0,
              "#0d0887"
             ],
             [
              0.1111111111111111,
              "#46039f"
             ],
             [
              0.2222222222222222,
              "#7201a8"
             ],
             [
              0.3333333333333333,
              "#9c179e"
             ],
             [
              0.4444444444444444,
              "#bd3786"
             ],
             [
              0.5555555555555556,
              "#d8576b"
             ],
             [
              0.6666666666666666,
              "#ed7953"
             ],
             [
              0.7777777777777778,
              "#fb9f3a"
             ],
             [
              0.8888888888888888,
              "#fdca26"
             ],
             [
              1,
              "#f0f921"
             ]
            ],
            "type": "contour"
           }
          ],
          "contourcarpet": [
           {
            "colorbar": {
             "outlinewidth": 0,
             "ticks": ""
            },
            "type": "contourcarpet"
           }
          ],
          "heatmap": [
           {
            "colorbar": {
             "outlinewidth": 0,
             "ticks": ""
            },
            "colorscale": [
             [
              0,
              "#0d0887"
             ],
             [
              0.1111111111111111,
              "#46039f"
             ],
             [
              0.2222222222222222,
              "#7201a8"
             ],
             [
              0.3333333333333333,
              "#9c179e"
             ],
             [
              0.4444444444444444,
              "#bd3786"
             ],
             [
              0.5555555555555556,
              "#d8576b"
             ],
             [
              0.6666666666666666,
              "#ed7953"
             ],
             [
              0.7777777777777778,
              "#fb9f3a"
             ],
             [
              0.8888888888888888,
              "#fdca26"
             ],
             [
              1,
              "#f0f921"
             ]
            ],
            "type": "heatmap"
           }
          ],
          "histogram": [
           {
            "marker": {
             "pattern": {
              "fillmode": "overlay",
              "size": 10,
              "solidity": 0.2
             }
            },
            "type": "histogram"
           }
          ],
          "histogram2d": [
           {
            "colorbar": {
             "outlinewidth": 0,
             "ticks": ""
            },
            "colorscale": [
             [
              0,
              "#0d0887"
             ],
             [
              0.1111111111111111,
              "#46039f"
             ],
             [
              0.2222222222222222,
              "#7201a8"
             ],
             [
              0.3333333333333333,
              "#9c179e"
             ],
             [
              0.4444444444444444,
              "#bd3786"
             ],
             [
              0.5555555555555556,
              "#d8576b"
             ],
             [
              0.6666666666666666,
              "#ed7953"
             ],
             [
              0.7777777777777778,
              "#fb9f3a"
             ],
             [
              0.8888888888888888,
              "#fdca26"
             ],
             [
              1,
              "#f0f921"
             ]
            ],
            "type": "histogram2d"
           }
          ],
          "histogram2dcontour": [
           {
            "colorbar": {
             "outlinewidth": 0,
             "ticks": ""
            },
            "colorscale": [
             [
              0,
              "#0d0887"
             ],
             [
              0.1111111111111111,
              "#46039f"
             ],
             [
              0.2222222222222222,
              "#7201a8"
             ],
             [
              0.3333333333333333,
              "#9c179e"
             ],
             [
              0.4444444444444444,
              "#bd3786"
             ],
             [
              0.5555555555555556,
              "#d8576b"
             ],
             [
              0.6666666666666666,
              "#ed7953"
             ],
             [
              0.7777777777777778,
              "#fb9f3a"
             ],
             [
              0.8888888888888888,
              "#fdca26"
             ],
             [
              1,
              "#f0f921"
             ]
            ],
            "type": "histogram2dcontour"
           }
          ],
          "mesh3d": [
           {
            "colorbar": {
             "outlinewidth": 0,
             "ticks": ""
            },
            "type": "mesh3d"
           }
          ],
          "parcoords": [
           {
            "line": {
             "colorbar": {
              "outlinewidth": 0,
              "ticks": ""
             }
            },
            "type": "parcoords"
           }
          ],
          "pie": [
           {
            "automargin": true,
            "type": "pie"
           }
          ],
          "scatter": [
           {
            "fillpattern": {
             "fillmode": "overlay",
             "size": 10,
             "solidity": 0.2
            },
            "type": "scatter"
           }
          ],
          "scatter3d": [
           {
            "line": {
             "colorbar": {
              "outlinewidth": 0,
              "ticks": ""
             }
            },
            "marker": {
             "colorbar": {
              "outlinewidth": 0,
              "ticks": ""
             }
            },
            "type": "scatter3d"
           }
          ],
          "scattercarpet": [
           {
            "marker": {
             "colorbar": {
              "outlinewidth": 0,
              "ticks": ""
             }
            },
            "type": "scattercarpet"
           }
          ],
          "scattergeo": [
           {
            "marker": {
             "colorbar": {
              "outlinewidth": 0,
              "ticks": ""
             }
            },
            "type": "scattergeo"
           }
          ],
          "scattergl": [
           {
            "marker": {
             "colorbar": {
              "outlinewidth": 0,
              "ticks": ""
             }
            },
            "type": "scattergl"
           }
          ],
          "scattermap": [
           {
            "marker": {
             "colorbar": {
              "outlinewidth": 0,
              "ticks": ""
             }
            },
            "type": "scattermap"
           }
          ],
          "scattermapbox": [
           {
            "marker": {
             "colorbar": {
              "outlinewidth": 0,
              "ticks": ""
             }
            },
            "type": "scattermapbox"
           }
          ],
          "scatterpolar": [
           {
            "marker": {
             "colorbar": {
              "outlinewidth": 0,
              "ticks": ""
             }
            },
            "type": "scatterpolar"
           }
          ],
          "scatterpolargl": [
           {
            "marker": {
             "colorbar": {
              "outlinewidth": 0,
              "ticks": ""
             }
            },
            "type": "scatterpolargl"
           }
          ],
          "scatterternary": [
           {
            "marker": {
             "colorbar": {
              "outlinewidth": 0,
              "ticks": ""
             }
            },
            "type": "scatterternary"
           }
          ],
          "surface": [
           {
            "colorbar": {
             "outlinewidth": 0,
             "ticks": ""
            },
            "colorscale": [
             [
              0,
              "#0d0887"
             ],
             [
              0.1111111111111111,
              "#46039f"
             ],
             [
              0.2222222222222222,
              "#7201a8"
             ],
             [
              0.3333333333333333,
              "#9c179e"
             ],
             [
              0.4444444444444444,
              "#bd3786"
             ],
             [
              0.5555555555555556,
              "#d8576b"
             ],
             [
              0.6666666666666666,
              "#ed7953"
             ],
             [
              0.7777777777777778,
              "#fb9f3a"
             ],
             [
              0.8888888888888888,
              "#fdca26"
             ],
             [
              1,
              "#f0f921"
             ]
            ],
            "type": "surface"
           }
          ],
          "table": [
           {
            "cells": {
             "fill": {
              "color": "#EBF0F8"
             },
             "line": {
              "color": "white"
             }
            },
            "header": {
             "fill": {
              "color": "#C8D4E3"
             },
             "line": {
              "color": "white"
             }
            },
            "type": "table"
           }
          ]
         },
         "layout": {
          "annotationdefaults": {
           "arrowcolor": "#2a3f5f",
           "arrowhead": 0,
           "arrowwidth": 1
          },
          "autotypenumbers": "strict",
          "coloraxis": {
           "colorbar": {
            "outlinewidth": 0,
            "ticks": ""
           }
          },
          "colorscale": {
           "diverging": [
            [
             0,
             "#8e0152"
            ],
            [
             0.1,
             "#c51b7d"
            ],
            [
             0.2,
             "#de77ae"
            ],
            [
             0.3,
             "#f1b6da"
            ],
            [
             0.4,
             "#fde0ef"
            ],
            [
             0.5,
             "#f7f7f7"
            ],
            [
             0.6,
             "#e6f5d0"
            ],
            [
             0.7,
             "#b8e186"
            ],
            [
             0.8,
             "#7fbc41"
            ],
            [
             0.9,
             "#4d9221"
            ],
            [
             1,
             "#276419"
            ]
           ],
           "sequential": [
            [
             0,
             "#0d0887"
            ],
            [
             0.1111111111111111,
             "#46039f"
            ],
            [
             0.2222222222222222,
             "#7201a8"
            ],
            [
             0.3333333333333333,
             "#9c179e"
            ],
            [
             0.4444444444444444,
             "#bd3786"
            ],
            [
             0.5555555555555556,
             "#d8576b"
            ],
            [
             0.6666666666666666,
             "#ed7953"
            ],
            [
             0.7777777777777778,
             "#fb9f3a"
            ],
            [
             0.8888888888888888,
             "#fdca26"
            ],
            [
             1,
             "#f0f921"
            ]
           ],
           "sequentialminus": [
            [
             0,
             "#0d0887"
            ],
            [
             0.1111111111111111,
             "#46039f"
            ],
            [
             0.2222222222222222,
             "#7201a8"
            ],
            [
             0.3333333333333333,
             "#9c179e"
            ],
            [
             0.4444444444444444,
             "#bd3786"
            ],
            [
             0.5555555555555556,
             "#d8576b"
            ],
            [
             0.6666666666666666,
             "#ed7953"
            ],
            [
             0.7777777777777778,
             "#fb9f3a"
            ],
            [
             0.8888888888888888,
             "#fdca26"
            ],
            [
             1,
             "#f0f921"
            ]
           ]
          },
          "colorway": [
           "#636efa",
           "#EF553B",
           "#00cc96",
           "#ab63fa",
           "#FFA15A",
           "#19d3f3",
           "#FF6692",
           "#B6E880",
           "#FF97FF",
           "#FECB52"
          ],
          "font": {
           "color": "#2a3f5f"
          },
          "geo": {
           "bgcolor": "white",
           "lakecolor": "white",
           "landcolor": "#E5ECF6",
           "showlakes": true,
           "showland": true,
           "subunitcolor": "white"
          },
          "hoverlabel": {
           "align": "left"
          },
          "hovermode": "closest",
          "mapbox": {
           "style": "light"
          },
          "paper_bgcolor": "white",
          "plot_bgcolor": "#E5ECF6",
          "polar": {
           "angularaxis": {
            "gridcolor": "white",
            "linecolor": "white",
            "ticks": ""
           },
           "bgcolor": "#E5ECF6",
           "radialaxis": {
            "gridcolor": "white",
            "linecolor": "white",
            "ticks": ""
           }
          },
          "scene": {
           "xaxis": {
            "backgroundcolor": "#E5ECF6",
            "gridcolor": "white",
            "gridwidth": 2,
            "linecolor": "white",
            "showbackground": true,
            "ticks": "",
            "zerolinecolor": "white"
           },
           "yaxis": {
            "backgroundcolor": "#E5ECF6",
            "gridcolor": "white",
            "gridwidth": 2,
            "linecolor": "white",
            "showbackground": true,
            "ticks": "",
            "zerolinecolor": "white"
           },
           "zaxis": {
            "backgroundcolor": "#E5ECF6",
            "gridcolor": "white",
            "gridwidth": 2,
            "linecolor": "white",
            "showbackground": true,
            "ticks": "",
            "zerolinecolor": "white"
           }
          },
          "shapedefaults": {
           "line": {
            "color": "#2a3f5f"
           }
          },
          "ternary": {
           "aaxis": {
            "gridcolor": "white",
            "linecolor": "white",
            "ticks": ""
           },
           "baxis": {
            "gridcolor": "white",
            "linecolor": "white",
            "ticks": ""
           },
           "bgcolor": "#E5ECF6",
           "caxis": {
            "gridcolor": "white",
            "linecolor": "white",
            "ticks": ""
           }
          },
          "title": {
           "x": 0.05
          },
          "xaxis": {
           "automargin": true,
           "gridcolor": "white",
           "linecolor": "white",
           "ticks": "",
           "title": {
            "standoff": 15
           },
           "zerolinecolor": "white",
           "zerolinewidth": 2
          },
          "yaxis": {
           "automargin": true,
           "gridcolor": "white",
           "linecolor": "white",
           "ticks": "",
           "title": {
            "standoff": 15
           },
           "zerolinecolor": "white",
           "zerolinewidth": 2
          }
         }
        }
       }
      }
     },
     "metadata": {},
     "output_type": "display_data"
    }
   ],
   "source": [
    "def isoler_plan_cartesien(M : Maillage, plan : str, valeur_coupe : float) -> Maillage :\n",
    "    plan = ''.join(sorted(plan.strip().lower()))\n",
    "    index = {'yz' : 0,'xz' : 1,'xy' : 2}\n",
    "    mask = M.XYZ[index[plan],:] == valeur_coupe\n",
    "    if np.any(mask) == False : raise ValueError(\"la valeur de coupe choisit n'est pas autorisée\")\n",
    "    return Maillage(* M.XYZ[:,mask]) \n",
    "    \n",
    "afficher_plotly(isoler_plan_cartesien(Maillage_espace, 'xz',0))"
   ]
  },
  {
   "cell_type": "code",
   "execution_count": 1098,
   "metadata": {},
   "outputs": [],
   "source": [
    "#M2 = creer_maillage_cylindrique(-2,2,lambda theta,z : 2,2*np.pi, 0.01,0.01)\n",
    "#M1 = creer_maillage_spherique(lambda theta,phi : phi, np.pi,2*np.pi, 0.1,0.1) #creer_maillage_cylindrique(-3,3,lambda theta,z : 2,2*np.pi, 0.05,0.05) #np.where(abs(z) >= 1/2, z, 2*z)  np.where(abs(z) <= 1, z+theta, z)\n",
    "#M3 = creer_maillage_plan(-2,2,-2,2,lambda x,y : np.cos(x*y),0.05,0.05)\n",
    "#afficher_plotly(M3,(10,lambda x,y,z : abs(x)))"
   ]
  },
  {
   "cell_type": "code",
   "execution_count": 1108,
   "metadata": {},
   "outputs": [],
   "source": [
    "rayon = 2\n",
    "theta = 2*np.pi\n",
    "pas_rayon = pas_z = 0.1\n",
    "pas_theta = 0.1\n",
    "C = creer_maillage_cylindrique(-2,2,lambda theta,z : 2 ,theta,pas_z,pas_theta)\n",
    "B1 = creer_maillage_disque(rayon,theta,lambda theta,r : 2,pas_rayon,pas_theta)\n",
    "B2 = creer_maillage_disque(rayon,theta,lambda theta,r : -2,pas_rayon,pas_theta)"
   ]
  },
  {
   "cell_type": "code",
   "execution_count": 1109,
   "metadata": {},
   "outputs": [
    {
     "data": {
      "application/vnd.plotly.v1+json": {
       "config": {
        "plotlyServerURL": "https://plot.ly"
       },
       "data": [
        {
         "marker": {
          "color": 10,
          "colorscale": [
           [
            0,
            "#440154"
           ],
           [
            0.1111111111111111,
            "#482878"
           ],
           [
            0.2222222222222222,
            "#3e4989"
           ],
           [
            0.3333333333333333,
            "#31688e"
           ],
           [
            0.4444444444444444,
            "#26828e"
           ],
           [
            0.5555555555555556,
            "#1f9e89"
           ],
           [
            0.6666666666666666,
            "#35b779"
           ],
           [
            0.7777777777777778,
            "#6ece58"
           ],
           [
            0.8888888888888888,
            "#b5de2b"
           ],
           [
            1,
            "#fde725"
           ]
          ],
          "showscale": true,
          "size": 1
         },
         "mode": "markers",
         "type": "scatter3d",
         "x": {
          "bdata": "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",
          "dtype": "f8"
         },
         "y": {
          "bdata": "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",
          "dtype": "f8"
         },
         "z": {
          "bdata": "AAAAAAAAAMAAAAAAAAAAwAAAAAAAAADAAAAAAAAAAMAAAAAAAAAAwAAAAAAAAADAAAAAAAAAAMAAAAAAAAAAwAAAAAAAAADAAAAAAAAAAMAAAAAAAAAAwAAAAAAAAADAAAAAAAAAAMAAAAAAAAAAwAAAAAAAAADAAAAAAAAAAMAAAAAAAAAAwAAAAAAAAADAAAAAAAAAAMAAAAAAAAAAwAAAAAAAAADAAAAAAAAAAMAAAAAAAAAAwAAAAAAAAADAAAAAAAAAAMAAAAAAAAAAwAAAAAAAAADAAAAAAAAAAMAAAAAAAAAAwAAAAAAAAADAAAAAAAAAAMAAAAAAAAAAwAAAAAAAAADAAAAAAAAAAMAAAAAAAAAAwAAAAAAAAADAAAAAAAAAAMAAAAAAAAAAwAAAAAAAAADAAAAAAAAAAMAAAAAAAAAAwAAAAAAAAADAAAAAAAAAAMAAAAAAAAAAwAAAAAAAAADAAAAAAAAAAMAAAAAAAAAAwAAAAAAAAADAAAAAAAAAAMAAAAAAAAAAwAAAAAAAAADAAAAAAAAAAMAAAAAAAAAAwAAAAAAAAADAAAAAAAAAAMAAAAAAAAAAwAAAAAAAAADAAAAAAAAAAMAAAAAAAAAAwAAAAAAAAADAcD4G52Nw/r9wPgbnY3D+v3A+BudjcP6/cD4G52Nw/r9wPgbnY3D+v3A+BudjcP6/cD4G52Nw/r9wPgbnY3D+v3A+BudjcP6/cD4G52Nw/r9wPgbnY3D+v3A+BudjcP6/cD4G52Nw/r9wPgbnY3D+v3A+BudjcP6/cD4G52Nw/r9wPgbnY3D+v3A+BudjcP6/cD4G52Nw/r9wPgbnY3D+v3A+BudjcP6/cD4G52Nw/r9wPgbnY3D+v3A+BudjcP6/cD4G52Nw/r9wPgbnY3D+v3A+BudjcP6/cD4G52Nw/r9wPgbnY3D+v3A+BudjcP6/cD4G52Nw/r9wPgbnY3D+v3A+BudjcP6/cD4G52Nw/r9wPgbnY3D+v3A+BudjcP6/cD4G52Nw/r9wPgbnY3D+v3A+BudjcP6/cD4G52Nw/r9wPgbnY3D+v3A+BudjcP6/cD4G52Nw/r9wPgbnY3D+v3A+BudjcP6/cD4G52Nw/r9wPgbnY3D+v3A+BudjcP6/cD4G52Nw/r9wPgbnY3D+v3A+BudjcP6/cD4G52Nw/r9wPgbnY3D+v3A+BudjcP6/cD4G52Nw/r9wPgbnY3D+v3A+BudjcP6/cD4G52Nw/r9wPgbnY3D+v3A+BudjcP6/4XwMzsfg/L/hfAzOx+D8v+F8DM7H4Py/4XwMzsfg/L/hfAzOx+D8v+F8DM7H4Py/4XwMzsfg/L/hfAzOx+D8v+F8DM7H4Py/4XwMzsfg/L/hfAzOx+D8v+F8DM7H4Py/4XwMzsfg/L/hfAzOx+D8v+F8DM7H4Py/4XwMzsfg/L/hfAzOx+D8v+F8DM7H4Py/4XwMzsfg/L/hfAzOx+D8v+F8DM7H4Py/4XwMzsfg/L/hfAzOx+D8v+F8DM7H4Py/4XwMzsfg/L/hfAzOx+D8v+F8DM7H4Py/4XwMzsfg/L/hfAzOx+D8v+F8DM7H4Py/4XwMzsfg/L/hfAzOx+D8v+F8DM7H4Py/4XwMzsfg/L/hfAzOx+D8v+F8DM7H4Py/4XwMzsfg/L/hfAzOx+D8v+F8DM7H4Py/4XwMzsfg/L/hfAzOx+D8v+F8DM7H4Py/4XwMzsfg/L/hfAzOx+D8v+F8DM7H4Py/4XwMzsfg/L/hfAzOx+D8v+F8DM7H4Py/4XwMzsfg/L/hfAzOx+D8v+F8DM7H4Py/4XwMzsfg/L/hfAzOx+D8v+F8DM7H4Py/4XwMzsfg/L/hfAzOx+D8v+F8DM7H4Py/4XwMzsfg/L/hfAzOx+D8v+F8DM7H4Py/UbsStStR+79RuxK1K1H7v1G7ErUrUfu/UbsStStR+79RuxK1K1H7v1G7ErUrUfu/UbsStStR+79RuxK1K1H7v1G7ErUrUfu/UbsStStR+79RuxK1K1H7v1G7ErUrUfu/UbsStStR+79RuxK1K1H7v1G7ErUrUfu/UbsStStR+79RuxK1K1H7v1G7ErUrUfu/UbsStStR+79RuxK1K1H7v1G7ErUrUfu/UbsStStR+79RuxK1K1H7v1G7ErUrUfu/UbsStStR+79RuxK1K1H7v1G7ErUrUfu/UbsStStR+79RuxK1K1H7v1G7ErUrUfu/UbsStStR+79RuxK1K1H7v1G7ErUrUfu/UbsStStR+79RuxK1K1H7v1G7ErUrUfu/UbsStStR+79RuxK1K1H7v1G7ErUrUfu/UbsStStR+79RuxK1K1H7v1G7ErUrUfu/UbsStStR+79RuxK1K1H7v1G7ErUrUfu/UbsStStR+79RuxK1K1H7v1G7ErUrUfu/UbsStStR+79RuxK1K1H7v1G7ErUrUfu/UbsStStR+79RuxK1K1H7v1G7ErUrUfu/UbsStStR+79RuxK1K1H7v1G7ErUrUfu/UbsStStR+79RuxK1K1H7v1G7ErUrUfu/wvkYnI/B+b/C+Ricj8H5v8L5GJyPwfm/wvkYnI/B+b/C+Ricj8H5v8L5GJyPwfm/wvkYnI/B+b/C+Ricj8H5v8L5GJyPwfm/wvkYnI/B+b/C+Ricj8H5v8L5GJyPwfm/wvkYnI/B+b/C+Ricj8H5v8L5GJyPwfm/wvkYnI/B+b/C+Ricj8H5v8L5GJyPwfm/wvkYnI/B+b/C+Ricj8H5v8L5GJyPwfm/wvkYnI/B+b/C+Ricj8H5v8L5GJyPwfm/wvkYnI/B+b/C+Ricj8H5v8L5GJyPwfm/wvkYnI/B+b/C+Ricj8H5v8L5GJyPwfm/wvkYnI/B+b/C+Ricj8H5v8L5GJyPwfm/wvkYnI/B+b/C+Ricj8H5v8L5GJyPwfm/wvkYnI/B+b/C+Ricj8H5v8L5GJyPwfm/wvkYnI/B+b/C+Ricj8H5v8L5GJyPwfm/wvkYnI/B+b/C+Ricj8H5v8L5GJyPwfm/wvkYnI/B+b/C+Ricj8H5v8L5GJyPwfm/wvkYnI/B+b/C+Ricj8H5v8L5GJyPwfm/wvkYnI/B+b/C+Ricj8H5v8L5GJyPwfm/wvkYnI/B+b/C+Ricj8H5v8L5GJyPwfm/wvkYnI/B+b/C+Ricj8H5v8L5GJyPwfm/Mjgfg/Mx+L8yOB+D8zH4vzI4H4PzMfi/Mjgfg/Mx+L8yOB+D8zH4vzI4H4PzMfi/Mjgfg/Mx+L8yOB+D8zH4vzI4H4PzMfi/Mjgfg/Mx+L8yOB+D8zH4vzI4H4PzMfi/Mjgfg/Mx+L8yOB+D8zH4vzI4H4PzMfi/Mjgfg/Mx+L8yOB+D8zH4vzI4H4PzMfi/Mjgfg/Mx+L8yOB+D8zH4vzI4H4PzMfi/Mjgfg/Mx+L8yOB+D8zH4vzI4H4PzMfi/Mjgfg/Mx+L8yOB+D8zH4vzI4H4PzMfi/Mjgfg/Mx+L8yOB+D8zH4vzI4H4PzMfi/Mjgfg/Mx+L8yOB+D8zH4vzI4H4PzMfi/Mjgfg/Mx+L8yOB+D8zH4vzI4H4PzMfi/Mjgfg/Mx+L8yOB+D8zH4vzI4H4PzMfi/Mjgfg/Mx+L8yOB+D8zH4vzI4H4PzMfi/Mjgfg/Mx+L8yOB+D8zH4vzI4H4PzMfi/Mjgfg/Mx+L8yOB+D8zH4vzI4H4PzMfi/Mjgfg/Mx+L8yOB+D8zH4vzI4H4PzMfi/Mjgfg/Mx+L8yOB+D8zH4vzI4H4PzMfi/Mjgfg/Mx+L8yOB+D8zH4vzI4H4PzMfi/Mjgfg/Mx+L8yOB+D8zH4vzI4H4PzMfi/onYlalei9r+idiVqV6L2v6J2JWpXova/onYlalei9r+idiVqV6L2v6J2JWpXova/onYlalei9r+idiVqV6L2v6J2JWpXova/onYlalei9r+idiVqV6L2v6J2JWpXova/onYlalei9r+idiVqV6L2v6J2JWpXova/onYlalei9r+idiVqV6L2v6J2JWpXova/onYlalei9r+idiVqV6L2v6J2JWpXova/onYlalei9r+idiVqV6L2v6J2JWpXova/onYlalei9r+idiVqV6L2v6J2JWpXova/onYlalei9r+idiVqV6L2v6J2JWpXova/onYlalei9r+idiVqV6L2v6J2JWpXova/onYlalei9r+idiVqV6L2v6J2JWpXova/onYlalei9r+idiVqV6L2v6J2JWpXova/onYlalei9r+idiVqV6L2v6J2JWpXova/onYlalei9r+idiVqV6L2v6J2JWpXova/onYlalei9r+idiVqV6L2v6J2JWpXova/onYlalei9r+idiVqV6L2v6J2JWpXova/onYlalei9r+idiVqV6L2v6J2JWpXova/onYlalei9r+idiVqV6L2v6J2JWpXova/onYlalei9r+idiVqV6L2v6J2JWpXova/ErUrUbsS9b8StStRuxL1vxK1K1G7EvW/ErUrUbsS9b8StStRuxL1vxK1K1G7EvW/ErUrUbsS9b8StStRuxL1vxK1K1G7EvW/ErUrUbsS9b8StStRuxL1vxK1K1G7EvW/ErUrUbsS9b8StStRuxL1vxK1K1G7EvW/ErUrUbsS9b8StStRuxL1vxK1K1G7EvW/ErUrUbsS9b8StStRuxL1vxK1K1G7EvW/ErUrUbsS9b8StStRuxL1vxK1K1G7EvW/ErUrUbsS9b8StStRuxL1vxK1K1G7EvW/ErUrUbsS9b8StStRuxL1vxK1K1G7EvW/ErUrUbsS9b8StStRuxL1vxK1K1G7EvW/ErUrUbsS9b8StStRuxL1vxK1K1G7EvW/ErUrUbsS9b8StStRuxL1vxK1K1G7EvW/ErUrUbsS9b8StStRuxL1vxK1K1G7EvW/ErUrUbsS9b8StStRuxL1vxK1K1G7EvW/ErUrUbsS9b8StStRuxL1vxK1K1G7EvW/ErUrUbsS9b8StStRuxL1vxK1K1G7EvW/ErUrUbsS9b8StStRuxL1vxK1K1G7EvW/ErUrUbsS9b8StStRuxL1vxK1K1G7EvW/ErUrUbsS9b8StStRuxL1vxK1K1G7EvW/g/MxOB+D87+D8zE4H4Pzv4PzMTgfg/O/g/MxOB+D87+D8zE4H4Pzv4PzMTgfg/O/g/MxOB+D87+D8zE4H4Pzv4PzMTgfg/O/g/MxOB+D87+D8zE4H4Pzv4PzMTgfg/O/g/MxOB+D87+D8zE4H4Pzv4PzMTgfg/O/g/MxOB+D87+D8zE4H4Pzv4PzMTgfg/O/g/MxOB+D87+D8zE4H4Pzv4PzMTgfg/O/g/MxOB+D87+D8zE4H4Pzv4PzMTgfg/O/g/MxOB+D87+D8zE4H4Pzv4PzMTgfg/O/g/MxOB+D87+D8zE4H4Pzv4PzMTgfg/O/g/MxOB+D87+D8zE4H4Pzv4PzMTgfg/O/g/MxOB+D87+D8zE4H4Pzv4PzMTgfg/O/g/MxOB+D87+D8zE4H4Pzv4PzMTgfg/O/g/MxOB+D87+D8zE4H4Pzv4PzMTgfg/O/g/MxOB+D87+D8zE4H4Pzv4PzMTgfg/O/g/MxOB+D87+D8zE4H4Pzv4PzMTgfg/O/g/MxOB+D87+D8zE4H4Pzv4PzMTgfg/O/g/MxOB+D87+D8zE4H4Pzv4PzMTgfg/O/g/MxOB+D87+D8zE4H4Pzv4PzMTgfg/O/g/MxOB+D87+D8zE4H4Pzv4PzMTgfg/O/9DE4H4Pz8b/0MTgfg/Pxv/QxOB+D8/G/9DE4H4Pz8b/0MTgfg/Pxv/QxOB+D8/G/9DE4H4Pz8b/0MTgfg/Pxv/QxOB+D8/G/9DE4H4Pz8b/0MTgfg/Pxv/QxOB+D8/G/9DE4H4Pz8b/0MTgfg/Pxv/QxOB+D8/G/9DE4H4Pz8b/0MTgfg/Pxv/QxOB+D8/G/9DE4H4Pz8b/0MTgfg/Pxv/QxOB+D8/G/9DE4H4Pz8b/0MTgfg/Pxv/QxOB+D8/G/9DE4H4Pz8b/0MTgfg/Pxv/QxOB+D8/G/9DE4H4Pz8b/0MTgfg/Pxv/QxOB+D8/G/9DE4H4Pz8b/0MTgfg/Pxv/QxOB+D8/G/9DE4H4Pz8b/0MTgfg/Pxv/QxOB+D8/G/9DE4H4Pz8b/0MTgfg/Pxv/QxOB+D8/G/9DE4H4Pz8b/0MTgfg/Pxv/QxOB+D8/G/9DE4H4Pz8b/0MTgfg/Pxv/QxOB+D8/G/9DE4H4Pz8b/0MTgfg/Pxv/QxOB+D8/G/9DE4H4Pz8b/0MTgfg/Pxv/QxOB+D8/G/9DE4H4Pz8b/0MTgfg/Pxv/QxOB+D8/G/9DE4H4Pz8b/0MTgfg/Pxv/QxOB+D8/G/9DE4H4Pz8b/0MTgfg/Pxv/QxOB+D8/G/ZHA+Budj8L9kcD4G52Pwv2RwPgbnY/C/ZHA+Budj8L9kcD4G52Pwv2RwPgbnY/C/ZHA+Budj8L9kcD4G52Pwv2RwPgbnY/C/ZHA+Budj8L9kcD4G52Pwv2RwPgbnY/C/ZHA+Budj8L9kcD4G52Pwv2RwPgbnY/C/ZHA+Budj8L9kcD4G52Pwv2RwPgbnY/C/ZHA+Budj8L9kcD4G52Pwv2RwPgbnY/C/ZHA+Budj8L9kcD4G52Pwv2RwPgbnY/C/ZHA+Budj8L9kcD4G52Pwv2RwPgbnY/C/ZHA+Budj8L9kcD4G52Pwv2RwPgbnY/C/ZHA+Budj8L9kcD4G52Pwv2RwPgbnY/C/ZHA+Budj8L9kcD4G52Pwv2RwPgbnY/C/ZHA+Budj8L9kcD4G52Pwv2RwPgbnY/C/ZHA+Budj8L9kcD4G52Pwv2RwPgbnY/C/ZHA+Budj8L9kcD4G52Pwv2RwPgbnY/C/ZHA+Budj8L9kcD4G52Pwv2RwPgbnY/C/ZHA+Budj8L9kcD4G52Pwv2RwPgbnY/C/ZHA+Budj8L9kcD4G52Pwv2RwPgbnY/C/ZHA+Budj8L9kcD4G52Pwv2RwPgbnY/C/ZHA+Budj8L9kcD4G52Pwv2RwPgbnY/C/qF2J2pWo7b+oXYnalajtv6hdidqVqO2/qF2J2pWo7b+oXYnalajtv6hdidqVqO2/qF2J2pWo7b+oXYnalajtv6hdidqVqO2/qF2J2pWo7b+oXYnalajtv6hdidqVqO2/qF2J2pWo7b+oXYnalajtv6hdidqVqO2/qF2J2pWo7b+oXYnalajtv6hdidqVqO2/qF2J2pWo7b+oXYnalajtv6hdidqVqO2/qF2J2pWo7b+oXYnalajtv6hdidqVqO2/qF2J2pWo7b+oXYnalajtv6hdidqVqO2/qF2J2pWo7b+oXYnalajtv6hdidqVqO2/qF2J2pWo7b+oXYnalajtv6hdidqVqO2/qF2J2pWo7b+oXYnalajtv6hdidqVqO2/qF2J2pWo7b+oXYnalajtv6hdidqVqO2/qF2J2pWo7b+oXYnalajtv6hdidqVqO2/qF2J2pWo7b+oXYnalajtv6hdidqVqO2/qF2J2pWo7b+oXYnalajtv6hdidqVqO2/qF2J2pWo7b+oXYnalajtv6hdidqVqO2/qF2J2pWo7b+oXYnalajtv6hdidqVqO2/qF2J2pWo7b+oXYnalajtv6hdidqVqO2/qF2J2pWo7b+oXYnalajtv6hdidqVqO2/iNqVqF2J6r+I2pWoXYnqv4jalahdieq/iNqVqF2J6r+I2pWoXYnqv4jalahdieq/iNqVqF2J6r+I2pWoXYnqv4jalahdieq/iNqVqF2J6r+I2pWoXYnqv4jalahdieq/iNqVqF2J6r+I2pWoXYnqv4jalahdieq/iNqVqF2J6r+I2pWoXYnqv4jalahdieq/iNqVqF2J6r+I2pWoXYnqv4jalahdieq/iNqVqF2J6r+I2pWoXYnqv4jalahdieq/iNqVqF2J6r+I2pWoXYnqv4jalahdieq/iNqVqF2J6r+I2pWoXYnqv4jalahdieq/iNqVqF2J6r+I2pWoXYnqv4jalahdieq/iNqVqF2J6r+I2pWoXYnqv4jalahdieq/iNqVqF2J6r+I2pWoXYnqv4jalahdieq/iNqVqF2J6r+I2pWoXYnqv4jalahdieq/iNqVqF2J6r+I2pWoXYnqv4jalahdieq/iNqVqF2J6r+I2pWoXYnqv4jalahdieq/iNqVqF2J6r+I2pWoXYnqv4jalahdieq/iNqVqF2J6r+I2pWoXYnqv4jalahdieq/iNqVqF2J6r+I2pWoXYnqv4jalahdieq/iNqVqF2J6r+I2pWoXYnqv4jalahdieq/aleidiVq579qV6J2JWrnv2pXonYlaue/aleidiVq579qV6J2JWrnv2pXonYlaue/aleidiVq579qV6J2JWrnv2pXonYlaue/aleidiVq579qV6J2JWrnv2pXonYlaue/aleidiVq579qV6J2JWrnv2pXonYlaue/aleidiVq579qV6J2JWrnv2pXonYlaue/aleidiVq579qV6J2JWrnv2pXonYlaue/aleidiVq579qV6J2JWrnv2pXonYlaue/aleidiVq579qV6J2JWrnv2pXonYlaue/aleidiVq579qV6J2JWrnv2pXonYlaue/aleidiVq579qV6J2JWrnv2pXonYlaue/aleidiVq579qV6J2JWrnv2pXonYlaue/aleidiVq579qV6J2JWrnv2pXonYlaue/aleidiVq579qV6J2JWrnv2pXonYlaue/aleidiVq579qV6J2JWrnv2pXonYlaue/aleidiVq579qV6J2JWrnv2pXonYlaue/aleidiVq579qV6J2JWrnv2pXonYlaue/aleidiVq579qV6J2JWrnv2pXonYlaue/aleidiVq579qV6J2JWrnv2pXonYlaue/aleidiVq579qV6J2JWrnv2pXonYlaue/StSuRO1K5L9K1K5E7Urkv0rUrkTtSuS/StSuRO1K5L9K1K5E7Urkv0rUrkTtSuS/StSuRO1K5L9K1K5E7Urkv0rUrkTtSuS/StSuRO1K5L9K1K5E7Urkv0rUrkTtSuS/StSuRO1K5L9K1K5E7Urkv0rUrkTtSuS/StSuRO1K5L9K1K5E7Urkv0rUrkTtSuS/StSuRO1K5L9K1K5E7Urkv0rUrkTtSuS/StSuRO1K5L9K1K5E7Urkv0rUrkTtSuS/StSuRO1K5L9K1K5E7Urkv0rUrkTtSuS/StSuRO1K5L9K1K5E7Urkv0rUrkTtSuS/StSuRO1K5L9K1K5E7Urkv0rUrkTtSuS/StSuRO1K5L9K1K5E7Urkv0rUrkTtSuS/StSuRO1K5L9K1K5E7Urkv0rUrkTtSuS/StSuRO1K5L9K1K5E7Urkv0rUrkTtSuS/StSuRO1K5L9K1K5E7Urkv0rUrkTtSuS/StSuRO1K5L9K1K5E7Urkv0rUrkTtSuS/StSuRO1K5L9K1K5E7Urkv0rUrkTtSuS/StSuRO1K5L9K1K5E7Urkv0rUrkTtSuS/StSuRO1K5L9K1K5E7Urkv0rUrkTtSuS/StSuRO1K5L9K1K5E7Urkv0rUrkTtSuS/LFG7ErUr4b8sUbsStSvhvyxRuxK1K+G/LFG7ErUr4b8sUbsStSvhvyxRuxK1K+G/LFG7ErUr4b8sUbsStSvhvyxRuxK1K+G/LFG7ErUr4b8sUbsStSvhvyxRuxK1K+G/LFG7ErUr4b8sUbsStSvhvyxRuxK1K+G/LFG7ErUr4b8sUbsStSvhvyxRuxK1K+G/LFG7ErUr4b8sUbsStSvhvyxRuxK1K+G/LFG7ErUr4b8sUbsStSvhvyxRuxK1K+G/LFG7ErUr4b8sUbsStSvhvyxRuxK1K+G/LFG7ErUr4b8sUbsStSvhvyxRuxK1K+G/LFG7ErUr4b8sUbsStSvhvyxRuxK1K+G/LFG7ErUr4b8sUbsStSvhvyxRuxK1K+G/LFG7ErUr4b8sUbsStSvhvyxRuxK1K+G/LFG7ErUr4b8sUbsStSvhvyxRuxK1K+G/LFG7ErUr4b8sUbsStSvhvyxRuxK1K+G/LFG7ErUr4b8sUbsStSvhvyxRuxK1K+G/LFG7ErUr4b8sUbsStSvhvyxRuxK1K+G/LFG7ErUr4b8sUbsStSvhvyxRuxK1K+G/LFG7ErUr4b8sUbsStSvhvyxRuxK1K+G/LFG7ErUr4b8sUbsStSvhvyxRuxK1K+G/GJyPwfkY3L8YnI/B+Rjcvxicj8H5GNy/GJyPwfkY3L8YnI/B+Rjcvxicj8H5GNy/GJyPwfkY3L8YnI/B+Rjcvxicj8H5GNy/GJyPwfkY3L8YnI/B+Rjcvxicj8H5GNy/GJyPwfkY3L8YnI/B+Rjcvxicj8H5GNy/GJyPwfkY3L8YnI/B+Rjcvxicj8H5GNy/GJyPwfkY3L8YnI/B+Rjcvxicj8H5GNy/GJyPwfkY3L8YnI/B+Rjcvxicj8H5GNy/GJyPwfkY3L8YnI/B+Rjcvxicj8H5GNy/GJyPwfkY3L8YnI/B+Rjcvxicj8H5GNy/GJyPwfkY3L8YnI/B+Rjcvxicj8H5GNy/GJyPwfkY3L8YnI/B+Rjcvxicj8H5GNy/GJyPwfkY3L8YnI/B+Rjcvxicj8H5GNy/GJyPwfkY3L8YnI/B+Rjcvxicj8H5GNy/GJyPwfkY3L8YnI/B+Rjcvxicj8H5GNy/GJyPwfkY3L8YnI/B+Rjcvxicj8H5GNy/GJyPwfkY3L8YnI/B+Rjcvxicj8H5GNy/GJyPwfkY3L8YnI/B+Rjcvxicj8H5GNy/GJyPwfkY3L8YnI/B+Rjcvxicj8H5GNy/GJyPwfkY3L8YnI/B+Rjcvxicj8H5GNy/2JWoXYna1b/YlahdidrVv9iVqF2J2tW/2JWoXYna1b/YlahdidrVv9iVqF2J2tW/2JWoXYna1b/YlahdidrVv9iVqF2J2tW/2JWoXYna1b/YlahdidrVv9iVqF2J2tW/2JWoXYna1b/YlahdidrVv9iVqF2J2tW/2JWoXYna1b/YlahdidrVv9iVqF2J2tW/2JWoXYna1b/YlahdidrVv9iVqF2J2tW/2JWoXYna1b/YlahdidrVv9iVqF2J2tW/2JWoXYna1b/YlahdidrVv9iVqF2J2tW/2JWoXYna1b/YlahdidrVv9iVqF2J2tW/2JWoXYna1b/YlahdidrVv9iVqF2J2tW/2JWoXYna1b/YlahdidrVv9iVqF2J2tW/2JWoXYna1b/YlahdidrVv9iVqF2J2tW/2JWoXYna1b/YlahdidrVv9iVqF2J2tW/2JWoXYna1b/YlahdidrVv9iVqF2J2tW/2JWoXYna1b/YlahdidrVv9iVqF2J2tW/2JWoXYna1b/YlahdidrVv9iVqF2J2tW/2JWoXYna1b/YlahdidrVv9iVqF2J2tW/2JWoXYna1b/YlahdidrVv9iVqF2J2tW/2JWoXYna1b/YlahdidrVv9iVqF2J2tW/OB+D8zE4z784H4PzMTjPvzgfg/MxOM+/OB+D8zE4z784H4PzMTjPvzgfg/MxOM+/OB+D8zE4z784H4PzMTjPvzgfg/MxOM+/OB+D8zE4z784H4PzMTjPvzgfg/MxOM+/OB+D8zE4z784H4PzMTjPvzgfg/MxOM+/OB+D8zE4z784H4PzMTjPvzgfg/MxOM+/OB+D8zE4z784H4PzMTjPvzgfg/MxOM+/OB+D8zE4z784H4PzMTjPvzgfg/MxOM+/OB+D8zE4z784H4PzMTjPvzgfg/MxOM+/OB+D8zE4z784H4PzMTjPvzgfg/MxOM+/OB+D8zE4z784H4PzMTjPvzgfg/MxOM+/OB+D8zE4z784H4PzMTjPvzgfg/MxOM+/OB+D8zE4z784H4PzMTjPvzgfg/MxOM+/OB+D8zE4z784H4PzMTjPvzgfg/MxOM+/OB+D8zE4z784H4PzMTjPvzgfg/MxOM+/OB+D8zE4z784H4PzMTjPvzgfg/MxOM+/OB+D8zE4z784H4PzMTjPvzgfg/MxOM+/OB+D8zE4z784H4PzMTjPvzgfg/MxOM+/OB+D8zE4z784H4PzMTjPvzgfg/MxOM+/OB+D8zE4z784H4PzMTjPvzgfg/MxOM+/uBK1K1G7wr+4ErUrUbvCv7gStStRu8K/uBK1K1G7wr+4ErUrUbvCv7gStStRu8K/uBK1K1G7wr+4ErUrUbvCv7gStStRu8K/uBK1K1G7wr+4ErUrUbvCv7gStStRu8K/uBK1K1G7wr+4ErUrUbvCv7gStStRu8K/uBK1K1G7wr+4ErUrUbvCv7gStStRu8K/uBK1K1G7wr+4ErUrUbvCv7gStStRu8K/uBK1K1G7wr+4ErUrUbvCv7gStStRu8K/uBK1K1G7wr+4ErUrUbvCv7gStStRu8K/uBK1K1G7wr+4ErUrUbvCv7gStStRu8K/uBK1K1G7wr+4ErUrUbvCv7gStStRu8K/uBK1K1G7wr+4ErUrUbvCv7gStStRu8K/uBK1K1G7wr+4ErUrUbvCv7gStStRu8K/uBK1K1G7wr+4ErUrUbvCv7gStStRu8K/uBK1K1G7wr+4ErUrUbvCv7gStStRu8K/uBK1K1G7wr+4ErUrUbvCv7gStStRu8K/uBK1K1G7wr+4ErUrUbvCv7gStStRu8K/uBK1K1G7wr+4ErUrUbvCv7gStStRu8K/uBK1K1G7wr+4ErUrUbvCv7gStStRu8K/uBK1K1G7wr+4ErUrUbvCv7gStStRu8K/ABmcj8H5qL8AGZyPwfmovwAZnI/B+ai/ABmcj8H5qL8AGZyPwfmovwAZnI/B+ai/ABmcj8H5qL8AGZyPwfmovwAZnI/B+ai/ABmcj8H5qL8AGZyPwfmovwAZnI/B+ai/ABmcj8H5qL8AGZyPwfmovwAZnI/B+ai/ABmcj8H5qL8AGZyPwfmovwAZnI/B+ai/ABmcj8H5qL8AGZyPwfmovwAZnI/B+ai/ABmcj8H5qL8AGZyPwfmovwAZnI/B+ai/ABmcj8H5qL8AGZyPwfmovwAZnI/B+ai/ABmcj8H5qL8AGZyPwfmovwAZnI/B+ai/ABmcj8H5qL8AGZyPwfmovwAZnI/B+ai/ABmcj8H5qL8AGZyPwfmovwAZnI/B+ai/ABmcj8H5qL8AGZyPwfmovwAZnI/B+ai/ABmcj8H5qL8AGZyPwfmovwAZnI/B+ai/ABmcj8H5qL8AGZyPwfmovwAZnI/B+ai/ABmcj8H5qL8AGZyPwfmovwAZnI/B+ai/ABmcj8H5qL8AGZyPwfmovwAZnI/B+ai/ABmcj8H5qL8AGZyPwfmovwAZnI/B+ai/ABmcj8H5qL8AGZyPwfmovwAZnI/B+ai/ABmcj8H5qL8AGZyPwfmovwAZnI/B+ai/ABmcj8H5qD8AGZyPwfmoPwAZnI/B+ag/ABmcj8H5qD8AGZyPwfmoPwAZnI/B+ag/ABmcj8H5qD8AGZyPwfmoPwAZnI/B+ag/ABmcj8H5qD8AGZyPwfmoPwAZnI/B+ag/ABmcj8H5qD8AGZyPwfmoPwAZnI/B+ag/ABmcj8H5qD8AGZyPwfmoPwAZnI/B+ag/ABmcj8H5qD8AGZyPwfmoPwAZnI/B+ag/ABmcj8H5qD8AGZyPwfmoPwAZnI/B+ag/ABmcj8H5qD8AGZyPwfmoPwAZnI/B+ag/ABmcj8H5qD8AGZyPwfmoPwAZnI/B+ag/ABmcj8H5qD8AGZyPwfmoPwAZnI/B+ag/ABmcj8H5qD8AGZyPwfmoPwAZnI/B+ag/ABmcj8H5qD8AGZyPwfmoPwAZnI/B+ag/ABmcj8H5qD8AGZyPwfmoPwAZnI/B+ag/ABmcj8H5qD8AGZyPwfmoPwAZnI/B+ag/ABmcj8H5qD8AGZyPwfmoPwAZnI/B+ag/ABmcj8H5qD8AGZyPwfmoPwAZnI/B+ag/ABmcj8H5qD8AGZyPwfmoPwAZnI/B+ag/ABmcj8H5qD8AGZyPwfmoPwAZnI/B+ag/ABmcj8H5qD8AGZyPwfmoPwAZnI/B+ag/wBK1K1G7wj/AErUrUbvCP8AStStRu8I/wBK1K1G7wj/AErUrUbvCP8AStStRu8I/wBK1K1G7wj/AErUrUbvCP8AStStRu8I/wBK1K1G7wj/AErUrUbvCP8AStStRu8I/wBK1K1G7wj/AErUrUbvCP8AStStRu8I/wBK1K1G7wj/AErUrUbvCP8AStStRu8I/wBK1K1G7wj/AErUrUbvCP8AStStRu8I/wBK1K1G7wj/AErUrUbvCP8AStStRu8I/wBK1K1G7wj/AErUrUbvCP8AStStRu8I/wBK1K1G7wj/AErUrUbvCP8AStStRu8I/wBK1K1G7wj/AErUrUbvCP8AStStRu8I/wBK1K1G7wj/AErUrUbvCP8AStStRu8I/wBK1K1G7wj/AErUrUbvCP8AStStRu8I/wBK1K1G7wj/AErUrUbvCP8AStStRu8I/wBK1K1G7wj/AErUrUbvCP8AStStRu8I/wBK1K1G7wj/AErUrUbvCP8AStStRu8I/wBK1K1G7wj/AErUrUbvCP8AStStRu8I/wBK1K1G7wj/AErUrUbvCP8AStStRu8I/wBK1K1G7wj/AErUrUbvCP8AStStRu8I/wBK1K1G7wj/AErUrUbvCP8AStStRu8I/QB+D8zE4zz9AH4PzMTjPP0Afg/MxOM8/QB+D8zE4zz9AH4PzMTjPP0Afg/MxOM8/QB+D8zE4zz9AH4PzMTjPP0Afg/MxOM8/QB+D8zE4zz9AH4PzMTjPP0Afg/MxOM8/QB+D8zE4zz9AH4PzMTjPP0Afg/MxOM8/QB+D8zE4zz9AH4PzMTjPP0Afg/MxOM8/QB+D8zE4zz9AH4PzMTjPP0Afg/MxOM8/QB+D8zE4zz9AH4PzMTjPP0Afg/MxOM8/QB+D8zE4zz9AH4PzMTjPP0Afg/MxOM8/QB+D8zE4zz9AH4PzMTjPP0Afg/MxOM8/QB+D8zE4zz9AH4PzMTjPP0Afg/MxOM8/QB+D8zE4zz9AH4PzMTjPP0Afg/MxOM8/QB+D8zE4zz9AH4PzMTjPP0Afg/MxOM8/QB+D8zE4zz9AH4PzMTjPP0Afg/MxOM8/QB+D8zE4zz9AH4PzMTjPP0Afg/MxOM8/QB+D8zE4zz9AH4PzMTjPP0Afg/MxOM8/QB+D8zE4zz9AH4PzMTjPP0Afg/MxOM8/QB+D8zE4zz9AH4PzMTjPP0Afg/MxOM8/QB+D8zE4zz9AH4PzMTjPP0Afg/MxOM8/QB+D8zE4zz9AH4PzMTjPP0Afg/MxOM8/4JWoXYna1T/glahdidrVP+CVqF2J2tU/4JWoXYna1T/glahdidrVP+CVqF2J2tU/4JWoXYna1T/glahdidrVP+CVqF2J2tU/4JWoXYna1T/glahdidrVP+CVqF2J2tU/4JWoXYna1T/glahdidrVP+CVqF2J2tU/4JWoXYna1T/glahdidrVP+CVqF2J2tU/4JWoXYna1T/glahdidrVP+CVqF2J2tU/4JWoXYna1T/glahdidrVP+CVqF2J2tU/4JWoXYna1T/glahdidrVP+CVqF2J2tU/4JWoXYna1T/glahdidrVP+CVqF2J2tU/4JWoXYna1T/glahdidrVP+CVqF2J2tU/4JWoXYna1T/glahdidrVP+CVqF2J2tU/4JWoXYna1T/glahdidrVP+CVqF2J2tU/4JWoXYna1T/glahdidrVP+CVqF2J2tU/4JWoXYna1T/glahdidrVP+CVqF2J2tU/4JWoXYna1T/glahdidrVP+CVqF2J2tU/4JWoXYna1T/glahdidrVP+CVqF2J2tU/4JWoXYna1T/glahdidrVP+CVqF2J2tU/4JWoXYna1T/glahdidrVP+CVqF2J2tU/4JWoXYna1T/glahdidrVP+CVqF2J2tU/GJyPwfkY3D8YnI/B+RjcPxicj8H5GNw/GJyPwfkY3D8YnI/B+RjcPxicj8H5GNw/GJyPwfkY3D8YnI/B+RjcPxicj8H5GNw/GJyPwfkY3D8YnI/B+RjcPxicj8H5GNw/GJyPwfkY3D8YnI/B+RjcPxicj8H5GNw/GJyPwfkY3D8YnI/B+RjcPxicj8H5GNw/GJyPwfkY3D8YnI/B+RjcPxicj8H5GNw/GJyPwfkY3D8YnI/B+RjcPxicj8H5GNw/GJyPwfkY3D8YnI/B+RjcPxicj8H5GNw/GJyPwfkY3D8YnI/B+RjcPxicj8H5GNw/GJyPwfkY3D8YnI/B+RjcPxicj8H5GNw/GJyPwfkY3D8YnI/B+RjcPxicj8H5GNw/GJyPwfkY3D8YnI/B+RjcPxicj8H5GNw/GJyPwfkY3D8YnI/B+RjcPxicj8H5GNw/GJyPwfkY3D8YnI/B+RjcPxicj8H5GNw/GJyPwfkY3D8YnI/B+RjcPxicj8H5GNw/GJyPwfkY3D8YnI/B+RjcPxicj8H5GNw/GJyPwfkY3D8YnI/B+RjcPxicj8H5GNw/GJyPwfkY3D8YnI/B+RjcPxicj8H5GNw/GJyPwfkY3D8YnI/B+RjcPxicj8H5GNw/LFG7ErUr4T8sUbsStSvhPyxRuxK1K+E/LFG7ErUr4T8sUbsStSvhPyxRuxK1K+E/LFG7ErUr4T8sUbsStSvhPyxRuxK1K+E/LFG7ErUr4T8sUbsStSvhPyxRuxK1K+E/LFG7ErUr4T8sUbsStSvhPyxRuxK1K+E/LFG7ErUr4T8sUbsStSvhPyxRuxK1K+E/LFG7ErUr4T8sUbsStSvhPyxRuxK1K+E/LFG7ErUr4T8sUbsStSvhPyxRuxK1K+E/LFG7ErUr4T8sUbsStSvhPyxRuxK1K+E/LFG7ErUr4T8sUbsStSvhPyxRuxK1K+E/LFG7ErUr4T8sUbsStSvhPyxRuxK1K+E/LFG7ErUr4T8sUbsStSvhPyxRuxK1K+E/LFG7ErUr4T8sUbsStSvhPyxRuxK1K+E/LFG7ErUr4T8sUbsStSvhPyxRuxK1K+E/LFG7ErUr4T8sUbsStSvhPyxRuxK1K+E/LFG7ErUr4T8sUbsStSvhPyxRuxK1K+E/LFG7ErUr4T8sUbsStSvhPyxRuxK1K+E/LFG7ErUr4T8sUbsStSvhPyxRuxK1K+E/LFG7ErUr4T8sUbsStSvhPyxRuxK1K+E/LFG7ErUr4T8sUbsStSvhPyxRuxK1K+E/TNSuRO1K5D9M1K5E7UrkP0zUrkTtSuQ/TNSuRO1K5D9M1K5E7UrkP0zUrkTtSuQ/TNSuRO1K5D9M1K5E7UrkP0zUrkTtSuQ/TNSuRO1K5D9M1K5E7UrkP0zUrkTtSuQ/TNSuRO1K5D9M1K5E7UrkP0zUrkTtSuQ/TNSuRO1K5D9M1K5E7UrkP0zUrkTtSuQ/TNSuRO1K5D9M1K5E7UrkP0zUrkTtSuQ/TNSuRO1K5D9M1K5E7UrkP0zUrkTtSuQ/TNSuRO1K5D9M1K5E7UrkP0zUrkTtSuQ/TNSuRO1K5D9M1K5E7UrkP0zUrkTtSuQ/TNSuRO1K5D9M1K5E7UrkP0zUrkTtSuQ/TNSuRO1K5D9M1K5E7UrkP0zUrkTtSuQ/TNSuRO1K5D9M1K5E7UrkP0zUrkTtSuQ/TNSuRO1K5D9M1K5E7UrkP0zUrkTtSuQ/TNSuRO1K5D9M1K5E7UrkP0zUrkTtSuQ/TNSuRO1K5D9M1K5E7UrkP0zUrkTtSuQ/TNSuRO1K5D9M1K5E7UrkP0zUrkTtSuQ/TNSuRO1K5D9M1K5E7UrkP0zUrkTtSuQ/TNSuRO1K5D9M1K5E7UrkP0zUrkTtSuQ/TNSuRO1K5D9M1K5E7UrkP0zUrkTtSuQ/bFeidiVq5z9sV6J2JWrnP2xXonYlauc/bFeidiVq5z9sV6J2JWrnP2xXonYlauc/bFeidiVq5z9sV6J2JWrnP2xXonYlauc/bFeidiVq5z9sV6J2JWrnP2xXonYlauc/bFeidiVq5z9sV6J2JWrnP2xXonYlauc/bFeidiVq5z9sV6J2JWrnP2xXonYlauc/bFeidiVq5z9sV6J2JWrnP2xXonYlauc/bFeidiVq5z9sV6J2JWrnP2xXonYlauc/bFeidiVq5z9sV6J2JWrnP2xXonYlauc/bFeidiVq5z9sV6J2JWrnP2xXonYlauc/bFeidiVq5z9sV6J2JWrnP2xXonYlauc/bFeidiVq5z9sV6J2JWrnP2xXonYlauc/bFeidiVq5z9sV6J2JWrnP2xXonYlauc/bFeidiVq5z9sV6J2JWrnP2xXonYlauc/bFeidiVq5z9sV6J2JWrnP2xXonYlauc/bFeidiVq5z9sV6J2JWrnP2xXonYlauc/bFeidiVq5z9sV6J2JWrnP2xXonYlauc/bFeidiVq5z9sV6J2JWrnP2xXonYlauc/bFeidiVq5z9sV6J2JWrnP2xXonYlauc/bFeidiVq5z9sV6J2JWrnP2xXonYlauc/jNqVqF2J6j+M2pWoXYnqP4zalahdieo/jNqVqF2J6j+M2pWoXYnqP4zalahdieo/jNqVqF2J6j+M2pWoXYnqP4zalahdieo/jNqVqF2J6j+M2pWoXYnqP4zalahdieo/jNqVqF2J6j+M2pWoXYnqP4zalahdieo/jNqVqF2J6j+M2pWoXYnqP4zalahdieo/jNqVqF2J6j+M2pWoXYnqP4zalahdieo/jNqVqF2J6j+M2pWoXYnqP4zalahdieo/jNqVqF2J6j+M2pWoXYnqP4zalahdieo/jNqVqF2J6j+M2pWoXYnqP4zalahdieo/jNqVqF2J6j+M2pWoXYnqP4zalahdieo/jNqVqF2J6j+M2pWoXYnqP4zalahdieo/jNqVqF2J6j+M2pWoXYnqP4zalahdieo/jNqVqF2J6j+M2pWoXYnqP4zalahdieo/jNqVqF2J6j+M2pWoXYnqP4zalahdieo/jNqVqF2J6j+M2pWoXYnqP4zalahdieo/jNqVqF2J6j+M2pWoXYnqP4zalahdieo/jNqVqF2J6j+M2pWoXYnqP4zalahdieo/jNqVqF2J6j+M2pWoXYnqP4zalahdieo/jNqVqF2J6j+M2pWoXYnqP4zalahdieo/qF2J2pWo7T+oXYnalajtP6hdidqVqO0/qF2J2pWo7T+oXYnalajtP6hdidqVqO0/qF2J2pWo7T+oXYnalajtP6hdidqVqO0/qF2J2pWo7T+oXYnalajtP6hdidqVqO0/qF2J2pWo7T+oXYnalajtP6hdidqVqO0/qF2J2pWo7T+oXYnalajtP6hdidqVqO0/qF2J2pWo7T+oXYnalajtP6hdidqVqO0/qF2J2pWo7T+oXYnalajtP6hdidqVqO0/qF2J2pWo7T+oXYnalajtP6hdidqVqO0/qF2J2pWo7T+oXYnalajtP6hdidqVqO0/qF2J2pWo7T+oXYnalajtP6hdidqVqO0/qF2J2pWo7T+oXYnalajtP6hdidqVqO0/qF2J2pWo7T+oXYnalajtP6hdidqVqO0/qF2J2pWo7T+oXYnalajtP6hdidqVqO0/qF2J2pWo7T+oXYnalajtP6hdidqVqO0/qF2J2pWo7T+oXYnalajtP6hdidqVqO0/qF2J2pWo7T+oXYnalajtP6hdidqVqO0/qF2J2pWo7T+oXYnalajtP6hdidqVqO0/qF2J2pWo7T+oXYnalajtP6hdidqVqO0/qF2J2pWo7T+oXYnalajtP6hdidqVqO0/ZHA+Budj8D9kcD4G52PwP2RwPgbnY/A/ZHA+Budj8D9kcD4G52PwP2RwPgbnY/A/ZHA+Budj8D9kcD4G52PwP2RwPgbnY/A/ZHA+Budj8D9kcD4G52PwP2RwPgbnY/A/ZHA+Budj8D9kcD4G52PwP2RwPgbnY/A/ZHA+Budj8D9kcD4G52PwP2RwPgbnY/A/ZHA+Budj8D9kcD4G52PwP2RwPgbnY/A/ZHA+Budj8D9kcD4G52PwP2RwPgbnY/A/ZHA+Budj8D9kcD4G52PwP2RwPgbnY/A/ZHA+Budj8D9kcD4G52PwP2RwPgbnY/A/ZHA+Budj8D9kcD4G52PwP2RwPgbnY/A/ZHA+Budj8D9kcD4G52PwP2RwPgbnY/A/ZHA+Budj8D9kcD4G52PwP2RwPgbnY/A/ZHA+Budj8D9kcD4G52PwP2RwPgbnY/A/ZHA+Budj8D9kcD4G52PwP2RwPgbnY/A/ZHA+Budj8D9kcD4G52PwP2RwPgbnY/A/ZHA+Budj8D9kcD4G52PwP2RwPgbnY/A/ZHA+Budj8D9kcD4G52PwP2RwPgbnY/A/ZHA+Budj8D9kcD4G52PwP2RwPgbnY/A/ZHA+Budj8D9kcD4G52PwP2RwPgbnY/A/9DE4H4Pz8T/0MTgfg/PxP/QxOB+D8/E/9DE4H4Pz8T/0MTgfg/PxP/QxOB+D8/E/9DE4H4Pz8T/0MTgfg/PxP/QxOB+D8/E/9DE4H4Pz8T/0MTgfg/PxP/QxOB+D8/E/9DE4H4Pz8T/0MTgfg/PxP/QxOB+D8/E/9DE4H4Pz8T/0MTgfg/PxP/QxOB+D8/E/9DE4H4Pz8T/0MTgfg/PxP/QxOB+D8/E/9DE4H4Pz8T/0MTgfg/PxP/QxOB+D8/E/9DE4H4Pz8T/0MTgfg/PxP/QxOB+D8/E/9DE4H4Pz8T/0MTgfg/PxP/QxOB+D8/E/9DE4H4Pz8T/0MTgfg/PxP/QxOB+D8/E/9DE4H4Pz8T/0MTgfg/PxP/QxOB+D8/E/9DE4H4Pz8T/0MTgfg/PxP/QxOB+D8/E/9DE4H4Pz8T/0MTgfg/PxP/QxOB+D8/E/9DE4H4Pz8T/0MTgfg/PxP/QxOB+D8/E/9DE4H4Pz8T/0MTgfg/PxP/QxOB+D8/E/9DE4H4Pz8T/0MTgfg/PxP/QxOB+D8/E/9DE4H4Pz8T/0MTgfg/PxP/QxOB+D8/E/9DE4H4Pz8T/0MTgfg/PxP/QxOB+D8/E/9DE4H4Pz8T/0MTgfg/PxP/QxOB+D8/E/hPMxOB+D8z+E8zE4H4PzP4TzMTgfg/M/hPMxOB+D8z+E8zE4H4PzP4TzMTgfg/M/hPMxOB+D8z+E8zE4H4PzP4TzMTgfg/M/hPMxOB+D8z+E8zE4H4PzP4TzMTgfg/M/hPMxOB+D8z+E8zE4H4PzP4TzMTgfg/M/hPMxOB+D8z+E8zE4H4PzP4TzMTgfg/M/hPMxOB+D8z+E8zE4H4PzP4TzMTgfg/M/hPMxOB+D8z+E8zE4H4PzP4TzMTgfg/M/hPMxOB+D8z+E8zE4H4PzP4TzMTgfg/M/hPMxOB+D8z+E8zE4H4PzP4TzMTgfg/M/hPMxOB+D8z+E8zE4H4PzP4TzMTgfg/M/hPMxOB+D8z+E8zE4H4PzP4TzMTgfg/M/hPMxOB+D8z+E8zE4H4PzP4TzMTgfg/M/hPMxOB+D8z+E8zE4H4PzP4TzMTgfg/M/hPMxOB+D8z+E8zE4H4PzP4TzMTgfg/M/hPMxOB+D8z+E8zE4H4PzP4TzMTgfg/M/hPMxOB+D8z+E8zE4H4PzP4TzMTgfg/M/hPMxOB+D8z+E8zE4H4PzP4TzMTgfg/M/hPMxOB+D8z+E8zE4H4PzP4TzMTgfg/M/hPMxOB+D8z+E8zE4H4PzP4TzMTgfg/M/FLUrUbsS9T8UtStRuxL1PxS1K1G7EvU/FLUrUbsS9T8UtStRuxL1PxS1K1G7EvU/FLUrUbsS9T8UtStRuxL1PxS1K1G7EvU/FLUrUbsS9T8UtStRuxL1PxS1K1G7EvU/FLUrUbsS9T8UtStRuxL1PxS1K1G7EvU/FLUrUbsS9T8UtStRuxL1PxS1K1G7EvU/FLUrUbsS9T8UtStRuxL1PxS1K1G7EvU/FLUrUbsS9T8UtStRuxL1PxS1K1G7EvU/FLUrUbsS9T8UtStRuxL1PxS1K1G7EvU/FLUrUbsS9T8UtStRuxL1PxS1K1G7EvU/FLUrUbsS9T8UtStRuxL1PxS1K1G7EvU/FLUrUbsS9T8UtStRuxL1PxS1K1G7EvU/FLUrUbsS9T8UtStRuxL1PxS1K1G7EvU/FLUrUbsS9T8UtStRuxL1PxS1K1G7EvU/FLUrUbsS9T8UtStRuxL1PxS1K1G7EvU/FLUrUbsS9T8UtStRuxL1PxS1K1G7EvU/FLUrUbsS9T8UtStRuxL1PxS1K1G7EvU/FLUrUbsS9T8UtStRuxL1PxS1K1G7EvU/FLUrUbsS9T8UtStRuxL1PxS1K1G7EvU/FLUrUbsS9T8UtStRuxL1PxS1K1G7EvU/onYlalei9j+idiVqV6L2P6J2JWpXovY/onYlalei9j+idiVqV6L2P6J2JWpXovY/onYlalei9j+idiVqV6L2P6J2JWpXovY/onYlalei9j+idiVqV6L2P6J2JWpXovY/onYlalei9j+idiVqV6L2P6J2JWpXovY/onYlalei9j+idiVqV6L2P6J2JWpXovY/onYlalei9j+idiVqV6L2P6J2JWpXovY/onYlalei9j+idiVqV6L2P6J2JWpXovY/onYlalei9j+idiVqV6L2P6J2JWpXovY/onYlalei9j+idiVqV6L2P6J2JWpXovY/onYlalei9j+idiVqV6L2P6J2JWpXovY/onYlalei9j+idiVqV6L2P6J2JWpXovY/onYlalei9j+idiVqV6L2P6J2JWpXovY/onYlalei9j+idiVqV6L2P6J2JWpXovY/onYlalei9j+idiVqV6L2P6J2JWpXovY/onYlalei9j+idiVqV6L2P6J2JWpXovY/onYlalei9j+idiVqV6L2P6J2JWpXovY/onYlalei9j+idiVqV6L2P6J2JWpXovY/onYlalei9j+idiVqV6L2P6J2JWpXovY/onYlalei9j+idiVqV6L2P6J2JWpXovY/Mjgfg/Mx+D8yOB+D8zH4PzI4H4PzMfg/Mjgfg/Mx+D8yOB+D8zH4PzI4H4PzMfg/Mjgfg/Mx+D8yOB+D8zH4PzI4H4PzMfg/Mjgfg/Mx+D8yOB+D8zH4PzI4H4PzMfg/Mjgfg/Mx+D8yOB+D8zH4PzI4H4PzMfg/Mjgfg/Mx+D8yOB+D8zH4PzI4H4PzMfg/Mjgfg/Mx+D8yOB+D8zH4PzI4H4PzMfg/Mjgfg/Mx+D8yOB+D8zH4PzI4H4PzMfg/Mjgfg/Mx+D8yOB+D8zH4PzI4H4PzMfg/Mjgfg/Mx+D8yOB+D8zH4PzI4H4PzMfg/Mjgfg/Mx+D8yOB+D8zH4PzI4H4PzMfg/Mjgfg/Mx+D8yOB+D8zH4PzI4H4PzMfg/Mjgfg/Mx+D8yOB+D8zH4PzI4H4PzMfg/Mjgfg/Mx+D8yOB+D8zH4PzI4H4PzMfg/Mjgfg/Mx+D8yOB+D8zH4PzI4H4PzMfg/Mjgfg/Mx+D8yOB+D8zH4PzI4H4PzMfg/Mjgfg/Mx+D8yOB+D8zH4PzI4H4PzMfg/Mjgfg/Mx+D8yOB+D8zH4PzI4H4PzMfg/Mjgfg/Mx+D8yOB+D8zH4PzI4H4PzMfg/Mjgfg/Mx+D8yOB+D8zH4PzI4H4PzMfg/wvkYnI/B+T/C+Ricj8H5P8L5GJyPwfk/wvkYnI/B+T/C+Ricj8H5P8L5GJyPwfk/wvkYnI/B+T/C+Ricj8H5P8L5GJyPwfk/wvkYnI/B+T/C+Ricj8H5P8L5GJyPwfk/wvkYnI/B+T/C+Ricj8H5P8L5GJyPwfk/wvkYnI/B+T/C+Ricj8H5P8L5GJyPwfk/wvkYnI/B+T/C+Ricj8H5P8L5GJyPwfk/wvkYnI/B+T/C+Ricj8H5P8L5GJyPwfk/wvkYnI/B+T/C+Ricj8H5P8L5GJyPwfk/wvkYnI/B+T/C+Ricj8H5P8L5GJyPwfk/wvkYnI/B+T/C+Ricj8H5P8L5GJyPwfk/wvkYnI/B+T/C+Ricj8H5P8L5GJyPwfk/wvkYnI/B+T/C+Ricj8H5P8L5GJyPwfk/wvkYnI/B+T/C+Ricj8H5P8L5GJyPwfk/wvkYnI/B+T/C+Ricj8H5P8L5GJyPwfk/wvkYnI/B+T/C+Ricj8H5P8L5GJyPwfk/wvkYnI/B+T/C+Ricj8H5P8L5GJyPwfk/wvkYnI/B+T/C+Ricj8H5P8L5GJyPwfk/wvkYnI/B+T/C+Ricj8H5P8L5GJyPwfk/wvkYnI/B+T/C+Ricj8H5P8L5GJyPwfk/UrsStStR+z9SuxK1K1H7P1K7ErUrUfs/UrsStStR+z9SuxK1K1H7P1K7ErUrUfs/UrsStStR+z9SuxK1K1H7P1K7ErUrUfs/UrsStStR+z9SuxK1K1H7P1K7ErUrUfs/UrsStStR+z9SuxK1K1H7P1K7ErUrUfs/UrsStStR+z9SuxK1K1H7P1K7ErUrUfs/UrsStStR+z9SuxK1K1H7P1K7ErUrUfs/UrsStStR+z9SuxK1K1H7P1K7ErUrUfs/UrsStStR+z9SuxK1K1H7P1K7ErUrUfs/UrsStStR+z9SuxK1K1H7P1K7ErUrUfs/UrsStStR+z9SuxK1K1H7P1K7ErUrUfs/UrsStStR+z9SuxK1K1H7P1K7ErUrUfs/UrsStStR+z9SuxK1K1H7P1K7ErUrUfs/UrsStStR+z9SuxK1K1H7P1K7ErUrUfs/UrsStStR+z9SuxK1K1H7P1K7ErUrUfs/UrsStStR+z9SuxK1K1H7P1K7ErUrUfs/UrsStStR+z9SuxK1K1H7P1K7ErUrUfs/UrsStStR+z9SuxK1K1H7P1K7ErUrUfs/UrsStStR+z9SuxK1K1H7P1K7ErUrUfs/UrsStStR+z9SuxK1K1H7P1K7ErUrUfs/4nwMzsfg/D/ifAzOx+D8P+J8DM7H4Pw/4nwMzsfg/D/ifAzOx+D8P+J8DM7H4Pw/4nwMzsfg/D/ifAzOx+D8P+J8DM7H4Pw/4nwMzsfg/D/ifAzOx+D8P+J8DM7H4Pw/4nwMzsfg/D/ifAzOx+D8P+J8DM7H4Pw/4nwMzsfg/D/ifAzOx+D8P+J8DM7H4Pw/4nwMzsfg/D/ifAzOx+D8P+J8DM7H4Pw/4nwMzsfg/D/ifAzOx+D8P+J8DM7H4Pw/4nwMzsfg/D/ifAzOx+D8P+J8DM7H4Pw/4nwMzsfg/D/ifAzOx+D8P+J8DM7H4Pw/4nwMzsfg/D/ifAzOx+D8P+J8DM7H4Pw/4nwMzsfg/D/ifAzOx+D8P+J8DM7H4Pw/4nwMzsfg/D/ifAzOx+D8P+J8DM7H4Pw/4nwMzsfg/D/ifAzOx+D8P+J8DM7H4Pw/4nwMzsfg/D/ifAzOx+D8P+J8DM7H4Pw/4nwMzsfg/D/ifAzOx+D8P+J8DM7H4Pw/4nwMzsfg/D/ifAzOx+D8P+J8DM7H4Pw/4nwMzsfg/D/ifAzOx+D8P+J8DM7H4Pw/4nwMzsfg/D/ifAzOx+D8P+J8DM7H4Pw/4nwMzsfg/D/ifAzOx+D8P+J8DM7H4Pw/cD4G52Nw/j9wPgbnY3D+P3A+BudjcP4/cD4G52Nw/j9wPgbnY3D+P3A+BudjcP4/cD4G52Nw/j9wPgbnY3D+P3A+BudjcP4/cD4G52Nw/j9wPgbnY3D+P3A+BudjcP4/cD4G52Nw/j9wPgbnY3D+P3A+BudjcP4/cD4G52Nw/j9wPgbnY3D+P3A+BudjcP4/cD4G52Nw/j9wPgbnY3D+P3A+BudjcP4/cD4G52Nw/j9wPgbnY3D+P3A+BudjcP4/cD4G52Nw/j9wPgbnY3D+P3A+BudjcP4/cD4G52Nw/j9wPgbnY3D+P3A+BudjcP4/cD4G52Nw/j9wPgbnY3D+P3A+BudjcP4/cD4G52Nw/j9wPgbnY3D+P3A+BudjcP4/cD4G52Nw/j9wPgbnY3D+P3A+BudjcP4/cD4G52Nw/j9wPgbnY3D+P3A+BudjcP4/cD4G52Nw/j9wPgbnY3D+P3A+BudjcP4/cD4G52Nw/j9wPgbnY3D+P3A+BudjcP4/cD4G52Nw/j9wPgbnY3D+P3A+BudjcP4/cD4G52Nw/j9wPgbnY3D+P3A+BudjcP4/cD4G52Nw/j9wPgbnY3D+P3A+BudjcP4/cD4G52Nw/j9wPgbnY3D+P3A+BudjcP4/AAAAAAAAAEAAAAAAAAAAQAAAAAAAAABAAAAAAAAAAEAAAAAAAAAAQAAAAAAAAABAAAAAAAAAAEAAAAAAAAAAQAAAAAAAAABAAAAAAAAAAEAAAAAAAAAAQAAAAAAAAABAAAAAAAAAAEAAAAAAAAAAQAAAAAAAAABAAAAAAAAAAEAAAAAAAAAAQAAAAAAAAABAAAAAAAAAAEAAAAAAAAAAQAAAAAAAAABAAAAAAAAAAEAAAAAAAAAAQAAAAAAAAABAAAAAAAAAAEAAAAAAAAAAQAAAAAAAAABAAAAAAAAAAEAAAAAAAAAAQAAAAAAAAABAAAAAAAAAAEAAAAAAAAAAQAAAAAAAAABAAAAAAAAAAEAAAAAAAAAAQAAAAAAAAABAAAAAAAAAAEAAAAAAAAAAQAAAAAAAAABAAAAAAAAAAEAAAAAAAAAAQAAAAAAAAABAAAAAAAAAAEAAAAAAAAAAQAAAAAAAAABAAAAAAAAAAEAAAAAAAAAAQAAAAAAAAABAAAAAAAAAAEAAAAAAAAAAQAAAAAAAAABAAAAAAAAAAEAAAAAAAAAAQAAAAAAAAABAAAAAAAAAAEAAAAAAAAAAQAAAAAAAAABAAAAAAAAAAEAAAAAAAAAAQAAAAAAAAABAAAAAAAAAAEAAAAAAAAAAQAAAAAAAAABAAAAAAAAAAEAAAAAAAAAAQAAAAAAAAABAAAAAAAAAAEAAAAAAAAAAQAAAAAAAAABAAAAAAAAAAEAAAAAAAAAAQAAAAAAAAABAAAAAAAAAAEAAAAAAAAAAQAAAAAAAAABAAAAAAAAAAEAAAAAAAAAAQAAAAAAAAABAAAAAAAAAAEAAAAAAAAAAQAAAAAAAAABAAAAAAAAAAEAAAAAAAAAAQAAAAAAAAABAAAAAAAAAAEAAAAAAAAAAQAAAAAAAAABAAAAAAAAAAEAAAAAAAAAAQAAAAAAAAABAAAAAAAAAAEAAAAAAAAAAQAAAAAAAAABAAAAAAAAAAEAAAAAAAAAAQAAAAAAAAABAAAAAAAAAAEAAAAAAAAAAQAAAAAAAAABAAAAAAAAAAEAAAAAAAAAAQAAAAAAAAABAAAAAAAAAAEAAAAAAAAAAQAAAAAAAAABAAAAAAAAAAEAAAAAAAAAAQAAAAAAAAABAAAAAAAAAAEAAAAAAAAAAQAAAAAAAAABAAAAAAAAAAEAAAAAAAAAAQAAAAAAAAABAAAAAAAAAAEAAAAAAAAAAQAAAAAAAAABAAAAAAAAAAEAAAAAAAAAAQAAAAAAAAABAAAAAAAAAAEAAAAAAAAAAQAAAAAAAAABAAAAAAAAAAEAAAAAAAAAAQAAAAAAAAABAAAAAAAAAAEAAAAAAAAAAQAAAAAAAAABAAAAAAAAAAEAAAAAAAAAAQAAAAAAAAABAAAAAAAAAAEAAAAAAAAAAQAAAAAAAAABAAAAAAAAAAEAAAAAAAAAAQAAAAAAAAABAAAAAAAAAAEAAAAAAAAAAQAAAAAAAAABAAAAAAAAAAEAAAAAAAAAAQAAAAAAAAABAAAAAAAAAAEAAAAAAAAAAQAAAAAAAAABAAAAAAAAAAEAAAAAAAAAAQAAAAAAAAABAAAAAAAAAAEAAAAAAAAAAQAAAAAAAAABAAAAAAAAAAEAAAAAAAAAAQAAAAAAAAABAAAAAAAAAAEAAAAAAAAAAQAAAAAAAAABAAAAAAAAAAEAAAAAAAAAAQAAAAAAAAABAAAAAAAAAAEAAAAAAAAAAQAAAAAAAAABAAAAAAAAAAEAAAAAAAAAAQAAAAAAAAABAAAAAAAAAAEAAAAAAAAAAQAAAAAAAAABAAAAAAAAAAEAAAAAAAAAAQAAAAAAAAABAAAAAAAAAAEAAAAAAAAAAQAAAAAAAAABAAAAAAAAAAEAAAAAAAAAAQAAAAAAAAABAAAAAAAAAAEAAAAAAAAAAQAAAAAAAAABAAAAAAAAAAEAAAAAAAAAAQAAAAAAAAABAAAAAAAAAAEAAAAAAAAAAQAAAAAAAAABAAAAAAAAAAEAAAAAAAAAAQAAAAAAAAABAAAAAAAAAAEAAAAAAAAAAQAAAAAAAAABAAAAAAAAAAEAAAAAAAAAAQAAAAAAAAABAAAAAAAAAAEAAAAAAAAAAQAAAAAAAAABAAAAAAAAAAEAAAAAAAAAAQAAAAAAAAABAAAAAAAAAAEAAAAAAAAAAQAAAAAAAAABAAAAAAAAAAEAAAAAAAAAAQAAAAAAAAABAAAAAAAAAAEAAAAAAAAAAQAAAAAAAAABAAAAAAAAAAEAAAAAAAAAAQAAAAAAAAABAAAAAAAAAAEAAAAAAAAAAQAAAAAAAAABAAAAAAAAAAEAAAAAAAAAAQAAAAAAAAABAAAAAAAAAAEAAAAAAAAAAQAAAAAAAAABAAAAAAAAAAEAAAAAAAAAAQAAAAAAAAABAAAAAAAAAAEAAAAAAAAAAQAAAAAAAAABAAAAAAAAAAEAAAAAAAAAAQAAAAAAAAABAAAAAAAAAAEAAAAAAAAAAQAAAAAAAAABAAAAAAAAAAEAAAAAAAAAAQAAAAAAAAABAAAAAAAAAAEAAAAAAAAAAQAAAAAAAAABAAAAAAAAAAEAAAAAAAAAAQAAAAAAAAABAAAAAAAAAAEAAAAAAAAAAQAAAAAAAAABAAAAAAAAAAEAAAAAAAAAAQAAAAAAAAABAAAAAAAAAAEAAAAAAAAAAQAAAAAAAAABAAAAAAAAAAEAAAAAAAAAAQAAAAAAAAABAAAAAAAAAAEAAAAAAAAAAQAAAAAAAAABAAAAAAAAAAEAAAAAAAAAAQAAAAAAAAABAAAAAAAAAAEAAAAAAAAAAQAAAAAAAAABAAAAAAAAAAEAAAAAAAAAAQAAAAAAAAABAAAAAAAAAAEAAAAAAAAAAQAAAAAAAAABAAAAAAAAAAEAAAAAAAAAAQAAAAAAAAABAAAAAAAAAAEAAAAAAAAAAQAAAAAAAAABAAAAAAAAAAEAAAAAAAAAAQAAAAAAAAABAAAAAAAAAAEAAAAAAAAAAQAAAAAAAAABAAAAAAAAAAEAAAAAAAAAAQAAAAAAAAABAAAAAAAAAAEAAAAAAAAAAQAAAAAAAAABAAAAAAAAAAEAAAAAAAAAAQAAAAAAAAABAAAAAAAAAAEAAAAAAAAAAQAAAAAAAAABAAAAAAAAAAEAAAAAAAAAAQAAAAAAAAABAAAAAAAAAAEAAAAAAAAAAQAAAAAAAAABAAAAAAAAAAEAAAAAAAAAAQAAAAAAAAABAAAAAAAAAAEAAAAAAAAAAQAAAAAAAAABAAAAAAAAAAEAAAAAAAAAAQAAAAAAAAABAAAAAAAAAAEAAAAAAAAAAQAAAAAAAAABAAAAAAAAAAEAAAAAAAAAAQAAAAAAAAABAAAAAAAAAAEAAAAAAAAAAQAAAAAAAAABAAAAAAAAAAEAAAAAAAAAAQAAAAAAAAABAAAAAAAAAAEAAAAAAAAAAQAAAAAAAAABAAAAAAAAAAEAAAAAAAAAAQAAAAAAAAABAAAAAAAAAAEAAAAAAAAAAQAAAAAAAAABAAAAAAAAAAEAAAAAAAAAAQAAAAAAAAABAAAAAAAAAAEAAAAAAAAAAQAAAAAAAAABAAAAAAAAAAEAAAAAAAAAAQAAAAAAAAABAAAAAAAAAAEAAAAAAAAAAQAAAAAAAAABAAAAAAAAAAEAAAAAAAAAAQAAAAAAAAABAAAAAAAAAAEAAAAAAAAAAQAAAAAAAAABAAAAAAAAAAEAAAAAAAAAAQAAAAAAAAABAAAAAAAAAAEAAAAAAAAAAQAAAAAAAAABAAAAAAAAAAEAAAAAAAAAAQAAAAAAAAABAAAAAAAAAAEAAAAAAAAAAQAAAAAAAAABAAAAAAAAAAEAAAAAAAAAAQAAAAAAAAABAAAAAAAAAAEAAAAAAAAAAQAAAAAAAAABAAAAAAAAAAEAAAAAAAAAAQAAAAAAAAABAAAAAAAAAAEAAAAAAAAAAQAAAAAAAAABAAAAAAAAAAEAAAAAAAAAAQAAAAAAAAABAAAAAAAAAAEAAAAAAAAAAQAAAAAAAAABAAAAAAAAAAEAAAAAAAAAAQAAAAAAAAABAAAAAAAAAAEAAAAAAAAAAQAAAAAAAAABAAAAAAAAAAEAAAAAAAAAAQAAAAAAAAABAAAAAAAAAAEAAAAAAAAAAQAAAAAAAAABAAAAAAAAAAEAAAAAAAAAAQAAAAAAAAABAAAAAAAAAAEAAAAAAAAAAQAAAAAAAAABAAAAAAAAAAEAAAAAAAAAAQAAAAAAAAABAAAAAAAAAAEAAAAAAAAAAQAAAAAAAAABAAAAAAAAAAEAAAAAAAAAAQAAAAAAAAABAAAAAAAAAAEAAAAAAAAAAQAAAAAAAAABAAAAAAAAAAEAAAAAAAAAAQAAAAAAAAABAAAAAAAAAAEAAAAAAAAAAQAAAAAAAAABAAAAAAAAAAEAAAAAAAAAAQAAAAAAAAABAAAAAAAAAAEAAAAAAAAAAQAAAAAAAAABAAAAAAAAAAEAAAAAAAAAAQAAAAAAAAABAAAAAAAAAAEAAAAAAAAAAQAAAAAAAAABAAAAAAAAAAEAAAAAAAAAAQAAAAAAAAABAAAAAAAAAAEAAAAAAAAAAQAAAAAAAAABAAAAAAAAAAEAAAAAAAAAAQAAAAAAAAABAAAAAAAAAAEAAAAAAAAAAQAAAAAAAAABAAAAAAAAAAEAAAAAAAAAAQAAAAAAAAABAAAAAAAAAAEAAAAAAAAAAQAAAAAAAAABAAAAAAAAAAEAAAAAAAAAAQAAAAAAAAABAAAAAAAAAAEAAAAAAAAAAQAAAAAAAAABAAAAAAAAAAEAAAAAAAAAAQAAAAAAAAABAAAAAAAAAAEAAAAAAAAAAQAAAAAAAAABAAAAAAAAAAEAAAAAAAAAAQAAAAAAAAABAAAAAAAAAAEAAAAAAAAAAQAAAAAAAAABAAAAAAAAAAEAAAAAAAAAAQAAAAAAAAABAAAAAAAAAAEAAAAAAAAAAQAAAAAAAAABAAAAAAAAAAEAAAAAAAAAAQAAAAAAAAABAAAAAAAAAAEAAAAAAAAAAQAAAAAAAAABAAAAAAAAAAEAAAAAAAAAAQAAAAAAAAABAAAAAAAAAAEAAAAAAAAAAQAAAAAAAAABAAAAAAAAAAEAAAAAAAAAAQAAAAAAAAABAAAAAAAAAAEAAAAAAAAAAQAAAAAAAAABAAAAAAAAAAEAAAAAAAAAAQAAAAAAAAABAAAAAAAAAAEAAAAAAAAAAQAAAAAAAAABAAAAAAAAAAEAAAAAAAAAAQAAAAAAAAABAAAAAAAAAAEAAAAAAAAAAQAAAAAAAAABAAAAAAAAAAEAAAAAAAAAAQAAAAAAAAABAAAAAAAAAAEAAAAAAAAAAQAAAAAAAAABAAAAAAAAAAEAAAAAAAAAAQAAAAAAAAABAAAAAAAAAAEAAAAAAAAAAQAAAAAAAAABAAAAAAAAAAEAAAAAAAAAAQAAAAAAAAABAAAAAAAAAAEAAAAAAAAAAQAAAAAAAAABAAAAAAAAAAEAAAAAAAAAAQAAAAAAAAABAAAAAAAAAAEAAAAAAAAAAQAAAAAAAAABAAAAAAAAAAEAAAAAAAAAAQAAAAAAAAABAAAAAAAAAAEAAAAAAAAAAQAAAAAAAAABAAAAAAAAAAEAAAAAAAAAAQAAAAAAAAABAAAAAAAAAAEAAAAAAAAAAQAAAAAAAAABAAAAAAAAAAEAAAAAAAAAAQAAAAAAAAABAAAAAAAAAAEAAAAAAAAAAQAAAAAAAAABAAAAAAAAAAEAAAAAAAAAAQAAAAAAAAABAAAAAAAAAAEAAAAAAAAAAQAAAAAAAAABAAAAAAAAAAEAAAAAAAAAAQAAAAAAAAABAAAAAAAAAAEAAAAAAAAAAQAAAAAAAAABAAAAAAAAAAEAAAAAAAAAAQAAAAAAAAABAAAAAAAAAAEAAAAAAAAAAQAAAAAAAAABAAAAAAAAAAEAAAAAAAAAAQAAAAAAAAABAAAAAAAAAAEAAAAAAAAAAQAAAAAAAAABAAAAAAAAAAEAAAAAAAAAAQAAAAAAAAABAAAAAAAAAAEAAAAAAAAAAQAAAAAAAAABAAAAAAAAAAEAAAAAAAAAAQAAAAAAAAABAAAAAAAAAAEAAAAAAAAAAQAAAAAAAAABAAAAAAAAAAEAAAAAAAAAAQAAAAAAAAABAAAAAAAAAAEAAAAAAAAAAQAAAAAAAAABAAAAAAAAAAEAAAAAAAAAAQAAAAAAAAABAAAAAAAAAAEAAAAAAAAAAQAAAAAAAAABAAAAAAAAAAEAAAAAAAAAAQAAAAAAAAABAAAAAAAAAAEAAAAAAAAAAQAAAAAAAAABAAAAAAAAAAEAAAAAAAAAAQAAAAAAAAABAAAAAAAAAAEAAAAAAAAAAQAAAAAAAAABAAAAAAAAAAEAAAAAAAAAAQAAAAAAAAABAAAAAAAAAAEAAAAAAAAAAQAAAAAAAAABAAAAAAAAAAEAAAAAAAAAAQAAAAAAAAABAAAAAAAAAAEAAAAAAAAAAQAAAAAAAAABAAAAAAAAAAEAAAAAAAAAAQAAAAAAAAABAAAAAAAAAAEAAAAAAAAAAQAAAAAAAAABAAAAAAAAAAEAAAAAAAAAAQAAAAAAAAABAAAAAAAAAAEAAAAAAAAAAQAAAAAAAAABAAAAAAAAAAEAAAAAAAAAAQAAAAAAAAABAAAAAAAAAAEAAAAAAAAAAQAAAAAAAAABAAAAAAAAAAEAAAAAAAAAAQAAAAAAAAABAAAAAAAAAAEAAAAAAAAAAQAAAAAAAAABAAAAAAAAAAEAAAAAAAAAAQAAAAAAAAABAAAAAAAAAAEAAAAAAAAAAQAAAAAAAAABAAAAAAAAAAEAAAAAAAAAAQAAAAAAAAABAAAAAAAAAAEAAAAAAAAAAQAAAAAAAAABAAAAAAAAAAEAAAAAAAAAAQAAAAAAAAABAAAAAAAAAAEAAAAAAAAAAQAAAAAAAAABAAAAAAAAAAEAAAAAAAAAAQAAAAAAAAABAAAAAAAAAAEAAAAAAAAAAQAAAAAAAAABAAAAAAAAAAEAAAAAAAAAAQAAAAAAAAABAAAAAAAAAAEAAAAAAAAAAQAAAAAAAAABAAAAAAAAAAEAAAAAAAAAAQAAAAAAAAABAAAAAAAAAAEAAAAAAAAAAQAAAAAAAAABAAAAAAAAAAEAAAAAAAAAAQAAAAAAAAABAAAAAAAAAAEAAAAAAAAAAQAAAAAAAAABAAAAAAAAAAEAAAAAAAAAAQAAAAAAAAABAAAAAAAAAAEAAAAAAAAAAQAAAAAAAAABAAAAAAAAAAEAAAAAAAAAAQAAAAAAAAABAAAAAAAAAAEAAAAAAAAAAQAAAAAAAAABAAAAAAAAAAEAAAAAAAAAAQAAAAAAAAABAAAAAAAAAAEAAAAAAAAAAQAAAAAAAAABAAAAAAAAAAEAAAAAAAAAAQAAAAAAAAABAAAAAAAAAAEAAAAAAAAAAQAAAAAAAAABAAAAAAAAAAEAAAAAAAAAAQAAAAAAAAABAAAAAAAAAAEAAAAAAAAAAQAAAAAAAAABAAAAAAAAAAEAAAAAAAAAAQAAAAAAAAABAAAAAAAAAAEAAAAAAAAAAQAAAAAAAAABAAAAAAAAAAEAAAAAAAAAAQAAAAAAAAABAAAAAAAAAAEAAAAAAAAAAQAAAAAAAAABAAAAAAAAAAEAAAAAAAAAAQAAAAAAAAABAAAAAAAAAAEAAAAAAAAAAQAAAAAAAAABAAAAAAAAAAEAAAAAAAAAAQAAAAAAAAABAAAAAAAAAAEAAAAAAAAAAQAAAAAAAAABAAAAAAAAAAEAAAAAAAAAAQAAAAAAAAABAAAAAAAAAAEAAAAAAAAAAQAAAAAAAAABAAAAAAAAAAEAAAAAAAAAAQAAAAAAAAABAAAAAAAAAAEAAAAAAAAAAQAAAAAAAAABAAAAAAAAAAEAAAAAAAAAAQAAAAAAAAABAAAAAAAAAAEAAAAAAAAAAQAAAAAAAAABAAAAAAAAAAEAAAAAAAAAAQAAAAAAAAABAAAAAAAAAAEAAAAAAAAAAQAAAAAAAAABAAAAAAAAAAEAAAAAAAAAAQAAAAAAAAABAAAAAAAAAAEAAAAAAAAAAQAAAAAAAAABAAAAAAAAAAEAAAAAAAAAAQAAAAAAAAABAAAAAAAAAAEAAAAAAAAAAQAAAAAAAAABAAAAAAAAAAEAAAAAAAAAAQAAAAAAAAABAAAAAAAAAAEAAAAAAAAAAQAAAAAAAAABAAAAAAAAAAEAAAAAAAAAAQAAAAAAAAABAAAAAAAAAAEAAAAAAAAAAQAAAAAAAAABAAAAAAAAAAEAAAAAAAAAAQAAAAAAAAABAAAAAAAAAAEAAAAAAAAAAQAAAAAAAAABAAAAAAAAAAEAAAAAAAAAAQAAAAAAAAABAAAAAAAAAAEAAAAAAAAAAQAAAAAAAAABAAAAAAAAAAEAAAAAAAAAAQAAAAAAAAABAAAAAAAAAAEAAAAAAAAAAQAAAAAAAAABAAAAAAAAAAEAAAAAAAAAAQAAAAAAAAABAAAAAAAAAAEAAAAAAAAAAQAAAAAAAAABAAAAAAAAAAEAAAAAAAAAAQAAAAAAAAABAAAAAAAAAAEAAAAAAAAAAQAAAAAAAAABAAAAAAAAAAEAAAAAAAAAAQAAAAAAAAABAAAAAAAAAAEAAAAAAAAAAQAAAAAAAAABAAAAAAAAAAEAAAAAAAAAAQAAAAAAAAABAAAAAAAAAAEAAAAAAAAAAQAAAAAAAAABAAAAAAAAAAEAAAAAAAAAAQAAAAAAAAABAAAAAAAAAAEAAAAAAAAAAQAAAAAAAAABAAAAAAAAAAEAAAAAAAAAAQAAAAAAAAABAAAAAAAAAAEAAAAAAAAAAQAAAAAAAAABAAAAAAAAAAEAAAAAAAAAAQAAAAAAAAABAAAAAAAAAAEAAAAAAAAAAQAAAAAAAAABAAAAAAAAAAEAAAAAAAAAAQAAAAAAAAABAAAAAAAAAAEAAAAAAAAAAQAAAAAAAAABAAAAAAAAAAEAAAAAAAAAAQAAAAAAAAABAAAAAAAAAAEAAAAAAAAAAQAAAAAAAAABAAAAAAAAAAEAAAAAAAAAAQAAAAAAAAABAAAAAAAAAAEAAAAAAAAAAQAAAAAAAAABAAAAAAAAAAEAAAAAAAAAAQAAAAAAAAABAAAAAAAAAAEAAAAAAAAAAQAAAAAAAAABAAAAAAAAAAEAAAAAAAAAAQAAAAAAAAABAAAAAAAAAAEAAAAAAAAAAQAAAAAAAAABAAAAAAAAAAEAAAAAAAAAAQAAAAAAAAABAAAAAAAAAAEAAAAAAAAAAQAAAAAAAAABAAAAAAAAAAEAAAAAAAAAAQAAAAAAAAABAAAAAAAAAAEAAAAAAAAAAQAAAAAAAAABAAAAAAAAAAEAAAAAAAAAAQAAAAAAAAABAAAAAAAAAAEAAAAAAAAAAQAAAAAAAAABAAAAAAAAAAEAAAAAAAAAAQAAAAAAAAABAAAAAAAAAAEAAAAAAAAAAQAAAAAAAAABAAAAAAAAAAEAAAAAAAAAAQAAAAAAAAABAAAAAAAAAAEAAAAAAAAAAQAAAAAAAAABAAAAAAAAAAEAAAAAAAAAAQAAAAAAAAABAAAAAAAAAAEAAAAAAAAAAQAAAAAAAAABAAAAAAAAAAEAAAAAAAAAAQAAAAAAAAABAAAAAAAAAAEAAAAAAAAAAQAAAAAAAAABAAAAAAAAAAEAAAAAAAAAAQAAAAAAAAABAAAAAAAAAAEAAAAAAAAAAQAAAAAAAAABAAAAAAAAAAEAAAAAAAAAAQAAAAAAAAABAAAAAAAAAAEAAAAAAAAAAQAAAAAAAAABAAAAAAAAAAEAAAAAAAAAAQAAAAAAAAABAAAAAAAAAAEAAAAAAAAAAQAAAAAAAAABAAAAAAAAAAEAAAAAAAAAAQAAAAAAAAABAAAAAAAAAAEAAAAAAAAAAQAAAAAAAAABAAAAAAAAAAEAAAAAAAAAAQAAAAAAAAABAAAAAAAAAAEAAAAAAAAAAQAAAAAAAAABAAAAAAAAAAEAAAAAAAAAAQAAAAAAAAABAAAAAAAAAAEAAAAAAAAAAQAAAAAAAAABAAAAAAAAAAEAAAAAAAAAAQAAAAAAAAABAAAAAAAAAAEAAAAAAAAAAQAAAAAAAAABAAAAAAAAAAEAAAAAAAAAAQAAAAAAAAABAAAAAAAAAAEAAAAAAAAAAQAAAAAAAAABAAAAAAAAAAEAAAAAAAAAAQAAAAAAAAABAAAAAAAAAAEAAAAAAAAAAQAAAAAAAAABAAAAAAAAAAEAAAAAAAAAAQAAAAAAAAABAAAAAAAAAAEAAAAAAAAAAQAAAAAAAAABAAAAAAAAAAEAAAAAAAAAAQAAAAAAAAABAAAAAAAAAAEAAAAAAAAAAQAAAAAAAAABAAAAAAAAAAEAAAAAAAAAAQAAAAAAAAABAAAAAAAAAAEAAAAAAAAAAQAAAAAAAAABAAAAAAAAAAEAAAAAAAAAAQAAAAAAAAABAAAAAAAAAAEAAAAAAAAAAQAAAAAAAAABAAAAAAAAAAEAAAAAAAAAAQAAAAAAAAABAAAAAAAAAAEAAAAAAAAAAQAAAAAAAAABAAAAAAAAAAEAAAAAAAAAAQAAAAAAAAABAAAAAAAAAAEAAAAAAAAAAQAAAAAAAAABAAAAAAAAAAEAAAAAAAAAAQAAAAAAAAABAAAAAAAAAAEAAAAAAAAAAQAAAAAAAAABAAAAAAAAAAEAAAAAAAAAAQAAAAAAAAABAAAAAAAAAAEAAAAAAAAAAQAAAAAAAAABAAAAAAAAAAEAAAAAAAAAAQAAAAAAAAABAAAAAAAAAAEAAAAAAAAAAQAAAAAAAAABAAAAAAAAAAEAAAAAAAAAAQAAAAAAAAABAAAAAAAAAAEAAAAAAAAAAQAAAAAAAAABAAAAAAAAAAEAAAAAAAAAAQAAAAAAAAABAAAAAAAAAAEAAAAAAAAAAQAAAAAAAAABAAAAAAAAAAEAAAAAAAAAAQAAAAAAAAABAAAAAAAAAAEAAAAAAAAAAQAAAAAAAAABAAAAAAAAAAEAAAAAAAAAAQAAAAAAAAABAAAAAAAAAAEAAAAAAAAAAQAAAAAAAAABAAAAAAAAAAEAAAAAAAAAAQAAAAAAAAABAAAAAAAAAAEAAAAAAAAAAQAAAAAAAAABAAAAAAAAAAEAAAAAAAAAAQAAAAAAAAABAAAAAAAAAAEAAAAAAAAAAQAAAAAAAAABAAAAAAAAAAEAAAAAAAAAAQAAAAAAAAABAAAAAAAAAAEAAAAAAAAAAQAAAAAAAAABAAAAAAAAAAEAAAAAAAAAAQAAAAAAAAABAAAAAAAAAAEAAAAAAAAAAQAAAAAAAAABAAAAAAAAAAEAAAAAAAAAAQAAAAAAAAABAAAAAAAAAAEAAAAAAAAAAQAAAAAAAAABAAAAAAAAAAEAAAAAAAAAAQAAAAAAAAABAAAAAAAAAAEAAAAAAAAAAQAAAAAAAAABAAAAAAAAAAEAAAAAAAAAAQAAAAAAAAABAAAAAAAAAAEAAAAAAAAAAQAAAAAAAAABAAAAAAAAAAEAAAAAAAAAAQAAAAAAAAABAAAAAAAAAAEAAAAAAAAAAQAAAAAAAAABAAAAAAAAAAEAAAAAAAAAAQAAAAAAAAABAAAAAAAAAAEAAAAAAAAAAQAAAAAAAAABAAAAAAAAAAEAAAAAAAAAAQAAAAAAAAABAAAAAAAAAAEAAAAAAAAAAQAAAAAAAAABAAAAAAAAAAEAAAAAAAAAAQAAAAAAAAABAAAAAAAAAAEAAAAAAAAAAQAAAAAAAAABAAAAAAAAAAEAAAAAAAAAAQAAAAAAAAABAAAAAAAAAAEAAAAAAAAAAQAAAAAAAAABAAAAAAAAAAEAAAAAAAAAAQAAAAAAAAABAAAAAAAAAAEAAAAAAAAAAQAAAAAAAAABAAAAAAAAAAEAAAAAAAAAAQAAAAAAAAABAAAAAAAAAAEAAAAAAAAAAQAAAAAAAAABAAAAAAAAAAEAAAAAAAAAAQAAAAAAAAABAAAAAAAAAAEAAAAAAAAAAQAAAAAAAAABAAAAAAAAAAEAAAAAAAAAAQAAAAAAAAABAAAAAAAAAAEAAAAAAAAAAQAAAAAAAAABAAAAAAAAAAEAAAAAAAAAAQAAAAAAAAABAAAAAAAAAAEAAAAAAAAAAQAAAAAAAAABAAAAAAAAAAEAAAAAAAAAAQAAAAAAAAABAAAAAAAAAAEAAAAAAAAAAQAAAAAAAAABAAAAAAAAAAEAAAAAAAAAAQAAAAAAAAABAAAAAAAAAAEAAAAAAAAAAQAAAAAAAAABAAAAAAAAAAEAAAAAAAAAAQAAAAAAAAABAAAAAAAAAAEAAAAAAAAAAQAAAAAAAAABAAAAAAAAAAEAAAAAAAAAAQAAAAAAAAABAAAAAAAAAAEAAAAAAAAAAQAAAAAAAAABAAAAAAAAAAEAAAAAAAAAAQAAAAAAAAABAAAAAAAAAAEAAAAAAAAAAQAAAAAAAAABAAAAAAAAAAEAAAAAAAAAAQAAAAAAAAABAAAAAAAAAAEAAAAAAAAAAQAAAAAAAAABAAAAAAAAAAEAAAAAAAAAAQAAAAAAAAABAAAAAAAAAAEAAAAAAAAAAQAAAAAAAAABAAAAAAAAAAEAAAAAAAAAAQAAAAAAAAABAAAAAAAAAAEAAAAAAAAAAQAAAAAAAAABAAAAAAAAAAEAAAAAAAAAAQAAAAAAAAABAAAAAAAAAAMAAAAAAAAAAwAAAAAAAAADAAAAAAAAAAMAAAAAAAAAAwAAAAAAAAADAAAAAAAAAAMAAAAAAAAAAwAAAAAAAAADAAAAAAAAAAMAAAAAAAAAAwAAAAAAAAADAAAAAAAAAAMAAAAAAAAAAwAAAAAAAAADAAAAAAAAAAMAAAAAAAAAAwAAAAAAAAADAAAAAAAAAAMAAAAAAAAAAwAAAAAAAAADAAAAAAAAAAMAAAAAAAAAAwAAAAAAAAADAAAAAAAAAAMAAAAAAAAAAwAAAAAAAAADAAAAAAAAAAMAAAAAAAAAAwAAAAAAAAADAAAAAAAAAAMAAAAAAAAAAwAAAAAAAAADAAAAAAAAAAMAAAAAAAAAAwAAAAAAAAADAAAAAAAAAAMAAAAAAAAAAwAAAAAAAAADAAAAAAAAAAMAAAAAAAAAAwAAAAAAAAADAAAAAAAAAAMAAAAAAAAAAwAAAAAAAAADAAAAAAAAAAMAAAAAAAAAAwAAAAAAAAADAAAAAAAAAAMAAAAAAAAAAwAAAAAAAAADAAAAAAAAAAMAAAAAAAAAAwAAAAAAAAADAAAAAAAAAAMAAAAAAAAAAwAAAAAAAAADAAAAAAAAAAMAAAAAAAAAAwAAAAAAAAADAAAAAAAAAAMAAAAAAAAAAwAAAAAAAAADAAAAAAAAAAMAAAAAAAAAAwAAAAAAAAADAAAAAAAAAAMAAAAAAAAAAwAAAAAAAAADAAAAAAAAAAMAAAAAAAAAAwAAAAAAAAADAAAAAAAAAAMAAAAAAAAAAwAAAAAAAAADAAAAAAAAAAMAAAAAAAAAAwAAAAAAAAADAAAAAAAAAAMAAAAAAAAAAwAAAAAAAAADAAAAAAAAAAMAAAAAAAAAAwAAAAAAAAADAAAAAAAAAAMAAAAAAAAAAwAAAAAAAAADAAAAAAAAAAMAAAAAAAAAAwAAAAAAAAADAAAAAAAAAAMAAAAAAAAAAwAAAAAAAAADAAAAAAAAAAMAAAAAAAAAAwAAAAAAAAADAAAAAAAAAAMAAAAAAAAAAwAAAAAAAAADAAAAAAAAAAMAAAAAAAAAAwAAAAAAAAADAAAAAAAAAAMAAAAAAAAAAwAAAAAAAAADAAAAAAAAAAMAAAAAAAAAAwAAAAAAAAADAAAAAAAAAAMAAAAAAAAAAwAAAAAAAAADAAAAAAAAAAMAAAAAAAAAAwAAAAAAAAADAAAAAAAAAAMAAAAAAAAAAwAAAAAAAAADAAAAAAAAAAMAAAAAAAAAAwAAAAAAAAADAAAAAAAAAAMAAAAAAAAAAwAAAAAAAAADAAAAAAAAAAMAAAAAAAAAAwAAAAAAAAADAAAAAAAAAAMAAAAAAAAAAwAAAAAAAAADAAAAAAAAAAMAAAAAAAAAAwAAAAAAAAADAAAAAAAAAAMAAAAAAAAAAwAAAAAAAAADAAAAAAAAAAMAAAAAAAAAAwAAAAAAAAADAAAAAAAAAAMAAAAAAAAAAwAAAAAAAAADAAAAAAAAAAMAAAAAAAAAAwAAAAAAAAADAAAAAAAAAAMAAAAAAAAAAwAAAAAAAAADAAAAAAAAAAMAAAAAAAAAAwAAAAAAAAADAAAAAAAAAAMAAAAAAAAAAwAAAAAAAAADAAAAAAAAAAMAAAAAAAAAAwAAAAAAAAADAAAAAAAAAAMAAAAAAAAAAwAAAAAAAAADAAAAAAAAAAMAAAAAAAAAAwAAAAAAAAADAAAAAAAAAAMAAAAAAAAAAwAAAAAAAAADAAAAAAAAAAMAAAAAAAAAAwAAAAAAAAADAAAAAAAAAAMAAAAAAAAAAwAAAAAAAAADAAAAAAAAAAMAAAAAAAAAAwAAAAAAAAADAAAAAAAAAAMAAAAAAAAAAwAAAAAAAAADAAAAAAAAAAMAAAAAAAAAAwAAAAAAAAADAAAAAAAAAAMAAAAAAAAAAwAAAAAAAAADAAAAAAAAAAMAAAAAAAAAAwAAAAAAAAADAAAAAAAAAAMAAAAAAAAAAwAAAAAAAAADAAAAAAAAAAMAAAAAAAAAAwAAAAAAAAADAAAAAAAAAAMAAAAAAAAAAwAAAAAAAAADAAAAAAAAAAMAAAAAAAAAAwAAAAAAAAADAAAAAAAAAAMAAAAAAAAAAwAAAAAAAAADAAAAAAAAAAMAAAAAAAAAAwAAAAAAAAADAAAAAAAAAAMAAAAAAAAAAwAAAAAAAAADAAAAAAAAAAMAAAAAAAAAAwAAAAAAAAADAAAAAAAAAAMAAAAAAAAAAwAAAAAAAAADAAAAAAAAAAMAAAAAAAAAAwAAAAAAAAADAAAAAAAAAAMAAAAAAAAAAwAAAAAAAAADAAAAAAAAAAMAAAAAAAAAAwAAAAAAAAADAAAAAAAAAAMAAAAAAAAAAwAAAAAAAAADAAAAAAAAAAMAAAAAAAAAAwAAAAAAAAADAAAAAAAAAAMAAAAAAAAAAwAAAAAAAAADAAAAAAAAAAMAAAAAAAAAAwAAAAAAAAADAAAAAAAAAAMAAAAAAAAAAwAAAAAAAAADAAAAAAAAAAMAAAAAAAAAAwAAAAAAAAADAAAAAAAAAAMAAAAAAAAAAwAAAAAAAAADAAAAAAAAAAMAAAAAAAAAAwAAAAAAAAADAAAAAAAAAAMAAAAAAAAAAwAAAAAAAAADAAAAAAAAAAMAAAAAAAAAAwAAAAAAAAADAAAAAAAAAAMAAAAAAAAAAwAAAAAAAAADAAAAAAAAAAMAAAAAAAAAAwAAAAAAAAADAAAAAAAAAAMAAAAAAAAAAwAAAAAAAAADAAAAAAAAAAMAAAAAAAAAAwAAAAAAAAADAAAAAAAAAAMAAAAAAAAAAwAAAAAAAAADAAAAAAAAAAMAAAAAAAAAAwAAAAAAAAADAAAAAAAAAAMAAAAAAAAAAwAAAAAAAAADAAAAAAAAAAMAAAAAAAAAAwAAAAAAAAADAAAAAAAAAAMAAAAAAAAAAwAAAAAAAAADAAAAAAAAAAMAAAAAAAAAAwAAAAAAAAADAAAAAAAAAAMAAAAAAAAAAwAAAAAAAAADAAAAAAAAAAMAAAAAAAAAAwAAAAAAAAADAAAAAAAAAAMAAAAAAAAAAwAAAAAAAAADAAAAAAAAAAMAAAAAAAAAAwAAAAAAAAADAAAAAAAAAAMAAAAAAAAAAwAAAAAAAAADAAAAAAAAAAMAAAAAAAAAAwAAAAAAAAADAAAAAAAAAAMAAAAAAAAAAwAAAAAAAAADAAAAAAAAAAMAAAAAAAAAAwAAAAAAAAADAAAAAAAAAAMAAAAAAAAAAwAAAAAAAAADAAAAAAAAAAMAAAAAAAAAAwAAAAAAAAADAAAAAAAAAAMAAAAAAAAAAwAAAAAAAAADAAAAAAAAAAMAAAAAAAAAAwAAAAAAAAADAAAAAAAAAAMAAAAAAAAAAwAAAAAAAAADAAAAAAAAAAMAAAAAAAAAAwAAAAAAAAADAAAAAAAAAAMAAAAAAAAAAwAAAAAAAAADAAAAAAAAAAMAAAAAAAAAAwAAAAAAAAADAAAAAAAAAAMAAAAAAAAAAwAAAAAAAAADAAAAAAAAAAMAAAAAAAAAAwAAAAAAAAADAAAAAAAAAAMAAAAAAAAAAwAAAAAAAAADAAAAAAAAAAMAAAAAAAAAAwAAAAAAAAADAAAAAAAAAAMAAAAAAAAAAwAAAAAAAAADAAAAAAAAAAMAAAAAAAAAAwAAAAAAAAADAAAAAAAAAAMAAAAAAAAAAwAAAAAAAAADAAAAAAAAAAMAAAAAAAAAAwAAAAAAAAADAAAAAAAAAAMAAAAAAAAAAwAAAAAAAAADAAAAAAAAAAMAAAAAAAAAAwAAAAAAAAADAAAAAAAAAAMAAAAAAAAAAwAAAAAAAAADAAAAAAAAAAMAAAAAAAAAAwAAAAAAAAADAAAAAAAAAAMAAAAAAAAAAwAAAAAAAAADAAAAAAAAAAMAAAAAAAAAAwAAAAAAAAADAAAAAAAAAAMAAAAAAAAAAwAAAAAAAAADAAAAAAAAAAMAAAAAAAAAAwAAAAAAAAADAAAAAAAAAAMAAAAAAAAAAwAAAAAAAAADAAAAAAAAAAMAAAAAAAAAAwAAAAAAAAADAAAAAAAAAAMAAAAAAAAAAwAAAAAAAAADAAAAAAAAAAMAAAAAAAAAAwAAAAAAAAADAAAAAAAAAAMAAAAAAAAAAwAAAAAAAAADAAAAAAAAAAMAAAAAAAAAAwAAAAAAAAADAAAAAAAAAAMAAAAAAAAAAwAAAAAAAAADAAAAAAAAAAMAAAAAAAAAAwAAAAAAAAADAAAAAAAAAAMAAAAAAAAAAwAAAAAAAAADAAAAAAAAAAMAAAAAAAAAAwAAAAAAAAADAAAAAAAAAAMAAAAAAAAAAwAAAAAAAAADAAAAAAAAAAMAAAAAAAAAAwAAAAAAAAADAAAAAAAAAAMAAAAAAAAAAwAAAAAAAAADAAAAAAAAAAMAAAAAAAAAAwAAAAAAAAADAAAAAAAAAAMAAAAAAAAAAwAAAAAAAAADAAAAAAAAAAMAAAAAAAAAAwAAAAAAAAADAAAAAAAAAAMAAAAAAAAAAwAAAAAAAAADAAAAAAAAAAMAAAAAAAAAAwAAAAAAAAADAAAAAAAAAAMAAAAAAAAAAwAAAAAAAAADAAAAAAAAAAMAAAAAAAAAAwAAAAAAAAADAAAAAAAAAAMAAAAAAAAAAwAAAAAAAAADAAAAAAAAAAMAAAAAAAAAAwAAAAAAAAADAAAAAAAAAAMAAAAAAAAAAwAAAAAAAAADAAAAAAAAAAMAAAAAAAAAAwAAAAAAAAADAAAAAAAAAAMAAAAAAAAAAwAAAAAAAAADAAAAAAAAAAMAAAAAAAAAAwAAAAAAAAADAAAAAAAAAAMAAAAAAAAAAwAAAAAAAAADAAAAAAAAAAMAAAAAAAAAAwAAAAAAAAADAAAAAAAAAAMAAAAAAAAAAwAAAAAAAAADAAAAAAAAAAMAAAAAAAAAAwAAAAAAAAADAAAAAAAAAAMAAAAAAAAAAwAAAAAAAAADAAAAAAAAAAMAAAAAAAAAAwAAAAAAAAADAAAAAAAAAAMAAAAAAAAAAwAAAAAAAAADAAAAAAAAAAMAAAAAAAAAAwAAAAAAAAADAAAAAAAAAAMAAAAAAAAAAwAAAAAAAAADAAAAAAAAAAMAAAAAAAAAAwAAAAAAAAADAAAAAAAAAAMAAAAAAAAAAwAAAAAAAAADAAAAAAAAAAMAAAAAAAAAAwAAAAAAAAADAAAAAAAAAAMAAAAAAAAAAwAAAAAAAAADAAAAAAAAAAMAAAAAAAAAAwAAAAAAAAADAAAAAAAAAAMAAAAAAAAAAwAAAAAAAAADAAAAAAAAAAMAAAAAAAAAAwAAAAAAAAADAAAAAAAAAAMAAAAAAAAAAwAAAAAAAAADAAAAAAAAAAMAAAAAAAAAAwAAAAAAAAADAAAAAAAAAAMAAAAAAAAAAwAAAAAAAAADAAAAAAAAAAMAAAAAAAAAAwAAAAAAAAADAAAAAAAAAAMAAAAAAAAAAwAAAAAAAAADAAAAAAAAAAMAAAAAAAAAAwAAAAAAAAADAAAAAAAAAAMAAAAAAAAAAwAAAAAAAAADAAAAAAAAAAMAAAAAAAAAAwAAAAAAAAADAAAAAAAAAAMAAAAAAAAAAwAAAAAAAAADAAAAAAAAAAMAAAAAAAAAAwAAAAAAAAADAAAAAAAAAAMAAAAAAAAAAwAAAAAAAAADAAAAAAAAAAMAAAAAAAAAAwAAAAAAAAADAAAAAAAAAAMAAAAAAAAAAwAAAAAAAAADAAAAAAAAAAMAAAAAAAAAAwAAAAAAAAADAAAAAAAAAAMAAAAAAAAAAwAAAAAAAAADAAAAAAAAAAMAAAAAAAAAAwAAAAAAAAADAAAAAAAAAAMAAAAAAAAAAwAAAAAAAAADAAAAAAAAAAMAAAAAAAAAAwAAAAAAAAADAAAAAAAAAAMAAAAAAAAAAwAAAAAAAAADAAAAAAAAAAMAAAAAAAAAAwAAAAAAAAADAAAAAAAAAAMAAAAAAAAAAwAAAAAAAAADAAAAAAAAAAMAAAAAAAAAAwAAAAAAAAADAAAAAAAAAAMAAAAAAAAAAwAAAAAAAAADAAAAAAAAAAMAAAAAAAAAAwAAAAAAAAADAAAAAAAAAAMAAAAAAAAAAwAAAAAAAAADAAAAAAAAAAMAAAAAAAAAAwAAAAAAAAADAAAAAAAAAAMAAAAAAAAAAwAAAAAAAAADAAAAAAAAAAMAAAAAAAAAAwAAAAAAAAADAAAAAAAAAAMAAAAAAAAAAwAAAAAAAAADAAAAAAAAAAMAAAAAAAAAAwAAAAAAAAADAAAAAAAAAAMAAAAAAAAAAwAAAAAAAAADAAAAAAAAAAMAAAAAAAAAAwAAAAAAAAADAAAAAAAAAAMAAAAAAAAAAwAAAAAAAAADAAAAAAAAAAMAAAAAAAAAAwAAAAAAAAADAAAAAAAAAAMAAAAAAAAAAwAAAAAAAAADAAAAAAAAAAMAAAAAAAAAAwAAAAAAAAADAAAAAAAAAAMAAAAAAAAAAwAAAAAAAAADAAAAAAAAAAMAAAAAAAAAAwAAAAAAAAADAAAAAAAAAAMAAAAAAAAAAwAAAAAAAAADAAAAAAAAAAMAAAAAAAAAAwAAAAAAAAADAAAAAAAAAAMAAAAAAAAAAwAAAAAAAAADAAAAAAAAAAMAAAAAAAAAAwAAAAAAAAADAAAAAAAAAAMAAAAAAAAAAwAAAAAAAAADAAAAAAAAAAMAAAAAAAAAAwAAAAAAAAADAAAAAAAAAAMAAAAAAAAAAwAAAAAAAAADAAAAAAAAAAMAAAAAAAAAAwAAAAAAAAADAAAAAAAAAAMAAAAAAAAAAwAAAAAAAAADAAAAAAAAAAMAAAAAAAAAAwAAAAAAAAADAAAAAAAAAAMAAAAAAAAAAwAAAAAAAAADAAAAAAAAAAMAAAAAAAAAAwAAAAAAAAADAAAAAAAAAAMAAAAAAAAAAwAAAAAAAAADAAAAAAAAAAMAAAAAAAAAAwAAAAAAAAADAAAAAAAAAAMAAAAAAAAAAwAAAAAAAAADAAAAAAAAAAMAAAAAAAAAAwAAAAAAAAADAAAAAAAAAAMAAAAAAAAAAwAAAAAAAAADAAAAAAAAAAMAAAAAAAAAAwAAAAAAAAADAAAAAAAAAAMAAAAAAAAAAwAAAAAAAAADAAAAAAAAAAMAAAAAAAAAAwAAAAAAAAADAAAAAAAAAAMAAAAAAAAAAwAAAAAAAAADAAAAAAAAAAMAAAAAAAAAAwAAAAAAAAADAAAAAAAAAAMAAAAAAAAAAwAAAAAAAAADAAAAAAAAAAMAAAAAAAAAAwAAAAAAAAADAAAAAAAAAAMAAAAAAAAAAwAAAAAAAAADAAAAAAAAAAMAAAAAAAAAAwAAAAAAAAADAAAAAAAAAAMAAAAAAAAAAwAAAAAAAAADAAAAAAAAAAMAAAAAAAAAAwAAAAAAAAADAAAAAAAAAAMAAAAAAAAAAwAAAAAAAAADAAAAAAAAAAMAAAAAAAAAAwAAAAAAAAADAAAAAAAAAAMAAAAAAAAAAwAAAAAAAAADAAAAAAAAAAMAAAAAAAAAAwAAAAAAAAADAAAAAAAAAAMAAAAAAAAAAwAAAAAAAAADAAAAAAAAAAMAAAAAAAAAAwAAAAAAAAADAAAAAAAAAAMAAAAAAAAAAwAAAAAAAAADAAAAAAAAAAMAAAAAAAAAAwAAAAAAAAADAAAAAAAAAAMAAAAAAAAAAwAAAAAAAAADAAAAAAAAAAMAAAAAAAAAAwAAAAAAAAADAAAAAAAAAAMAAAAAAAAAAwAAAAAAAAADAAAAAAAAAAMAAAAAAAAAAwAAAAAAAAADAAAAAAAAAAMAAAAAAAAAAwAAAAAAAAADAAAAAAAAAAMAAAAAAAAAAwAAAAAAAAADAAAAAAAAAAMAAAAAAAAAAwAAAAAAAAADAAAAAAAAAAMAAAAAAAAAAwAAAAAAAAADAAAAAAAAAAMAAAAAAAAAAwAAAAAAAAADAAAAAAAAAAMAAAAAAAAAAwAAAAAAAAADAAAAAAAAAAMAAAAAAAAAAwAAAAAAAAADAAAAAAAAAAMAAAAAAAAAAwAAAAAAAAADAAAAAAAAAAMAAAAAAAAAAwAAAAAAAAADAAAAAAAAAAMAAAAAAAAAAwAAAAAAAAADAAAAAAAAAAMAAAAAAAAAAwAAAAAAAAADAAAAAAAAAAMAAAAAAAAAAwAAAAAAAAADAAAAAAAAAAMAAAAAAAAAAwAAAAAAAAADAAAAAAAAAAMAAAAAAAAAAwAAAAAAAAADAAAAAAAAAAMAAAAAAAAAAwAAAAAAAAADAAAAAAAAAAMAAAAAAAAAAwAAAAAAAAADAAAAAAAAAAMAAAAAAAAAAwAAAAAAAAADAAAAAAAAAAMAAAAAAAAAAwAAAAAAAAADAAAAAAAAAAMAAAAAAAAAAwAAAAAAAAADAAAAAAAAAAMAAAAAAAAAAwAAAAAAAAADAAAAAAAAAAMAAAAAAAAAAwAAAAAAAAADAAAAAAAAAAMAAAAAAAAAAwAAAAAAAAADAAAAAAAAAAMAAAAAAAAAAwAAAAAAAAADAAAAAAAAAAMAAAAAAAAAAwAAAAAAAAADAAAAAAAAAAMAAAAAAAAAAwAAAAAAAAADAAAAAAAAAAMAAAAAAAAAAwAAAAAAAAADAAAAAAAAAAMAAAAAAAAAAwAAAAAAAAADAAAAAAAAAAMAAAAAAAAAAwAAAAAAAAADAAAAAAAAAAMAAAAAAAAAAwAAAAAAAAADAAAAAAAAAAMAAAAAAAAAAwAAAAAAAAADAAAAAAAAAAMAAAAAAAAAAwAAAAAAAAADAAAAAAAAAAMAAAAAAAAAAwAAAAAAAAADAAAAAAAAAAMAAAAAAAAAAwAAAAAAAAADAAAAAAAAAAMAAAAAAAAAAwAAAAAAAAADAAAAAAAAAAMAAAAAAAAAAwAAAAAAAAADAAAAAAAAAAMAAAAAAAAAAwAAAAAAAAADAAAAAAAAAAMAAAAAAAAAAwAAAAAAAAADAAAAAAAAAAMAAAAAAAAAAwAAAAAAAAADAAAAAAAAAAMAAAAAAAAAAwAAAAAAAAADAAAAAAAAAAMAAAAAAAAAAwAAAAAAAAADAAAAAAAAAAMAAAAAAAAAAwAAAAAAAAADAAAAAAAAAAMAAAAAAAAAAwAAAAAAAAADAAAAAAAAAAMAAAAAAAAAAwAAAAAAAAADAAAAAAAAAAMAAAAAAAAAAwAAAAAAAAADAAAAAAAAAAMAAAAAAAAAAwAAAAAAAAADAAAAAAAAAAMAAAAAAAAAAwAAAAAAAAADAAAAAAAAAAMAAAAAAAAAAwAAAAAAAAADAAAAAAAAAAMAAAAAAAAAAwAAAAAAAAADAAAAAAAAAAMAAAAAAAAAAwAAAAAAAAADAAAAAAAAAAMAAAAAAAAAAwAAAAAAAAADAAAAAAAAAAMAAAAAAAAAAwAAAAAAAAADAAAAAAAAAAMAAAAAAAAAAwAAAAAAAAADAAAAAAAAAAMAAAAAAAAAAwAAAAAAAAADAAAAAAAAAAMAAAAAAAAAAwAAAAAAAAADAAAAAAAAAAMAAAAAAAAAAwAAAAAAAAADAAAAAAAAAAMAAAAAAAAAAwAAAAAAAAADAAAAAAAAAAMAAAAAAAAAAwAAAAAAAAADAAAAAAAAAAMAAAAAAAAAAwAAAAAAAAADAAAAAAAAAAMAAAAAAAAAAwAAAAAAAAADAAAAAAAAAAMAAAAAAAAAAwAAAAAAAAADAAAAAAAAAAMAAAAAAAAAAwAAAAAAAAADAAAAAAAAAAMAAAAAAAAAAwAAAAAAAAADAAAAAAAAAAMAAAAAAAAAAwAAAAAAAAADAAAAAAAAAAMAAAAAAAAAAwAAAAAAAAADAAAAAAAAAAMAAAAAAAAAAwAAAAAAAAADAAAAAAAAAAMAAAAAAAAAAwAAAAAAAAADAAAAAAAAAAMAAAAAAAAAAwAAAAAAAAADAAAAAAAAAAMAAAAAAAAAAwAAAAAAAAADAAAAAAAAAAMAAAAAAAAAAwAAAAAAAAADAAAAAAAAAAMAAAAAAAAAAwAAAAAAAAADAAAAAAAAAAMAAAAAAAAAAwAAAAAAAAADAAAAAAAAAAMAAAAAAAAAAwAAAAAAAAADAAAAAAAAAAMAAAAAAAAAAwAAAAAAAAADAAAAAAAAAAMAAAAAAAAAAwAAAAAAAAADAAAAAAAAAAMAAAAAAAAAAwAAAAAAAAADAAAAAAAAAAMAAAAAAAAAAwAAAAAAAAADAAAAAAAAAAMAAAAAAAAAAwAAAAAAAAADAAAAAAAAAAMAAAAAAAAAAwAAAAAAAAADAAAAAAAAAAMAAAAAAAAAAwAAAAAAAAADAAAAAAAAAAMAAAAAAAAAAwAAAAAAAAADAAAAAAAAAAMAAAAAAAAAAwAAAAAAAAADAAAAAAAAAAMAAAAAAAAAAwAAAAAAAAADAAAAAAAAAAMAAAAAAAAAAwAAAAAAAAADAAAAAAAAAAMAAAAAAAAAAwAAAAAAAAADAAAAAAAAAAMAAAAAAAAAAwAAAAAAAAADAAAAAAAAAAMAAAAAAAAAAwAAAAAAAAADAAAAAAAAAAMAAAAAAAAAAwAAAAAAAAADAAAAAAAAAAMAAAAAAAAAAwAAAAAAAAADAAAAAAAAAAMAAAAAAAAAAwAAAAAAAAADAAAAAAAAAAMAAAAAAAAAAwAAAAAAAAADAAAAAAAAAAMAAAAAAAAAAwAAAAAAAAADAAAAAAAAAAMAAAAAAAAAAwAAAAAAAAADAAAAAAAAAAMAAAAAAAAAAwAAAAAAAAADAAAAAAAAAAMAAAAAAAAAAwAAAAAAAAADAAAAAAAAAAMAAAAAAAAAAwAAAAAAAAADAAAAAAAAAAMAAAAAAAAAAwAAAAAAAAADAAAAAAAAAAMAAAAAAAAAAwAAAAAAAAADAAAAAAAAAAMAAAAAAAAAAwAAAAAAAAADAAAAAAAAAAMAAAAAAAAAAwAAAAAAAAADAAAAAAAAAAMAAAAAAAAAAwAAAAAAAAADAAAAAAAAAAMAAAAAAAAAAwAAAAAAAAADAAAAAAAAAAMAAAAAAAAAAwAAAAAAAAADAAAAAAAAAAMAAAAAAAAAAwAAAAAAAAADAAAAAAAAAAMAAAAAAAAAAwAAAAAAAAADAAAAAAAAAAMAAAAAAAAAAwAAAAAAAAADAAAAAAAAAAMAAAAAAAAAAwAAAAAAAAADAAAAAAAAAAMAAAAAAAAAAwAAAAAAAAADAAAAAAAAAAMAAAAAAAAAAwAAAAAAAAADAAAAAAAAAAMAAAAAAAAAAwAAAAAAAAADAAAAAAAAAAMAAAAAAAAAAwAAAAAAAAADAAAAAAAAAAMAAAAAAAAAAwAAAAAAAAADAAAAAAAAAAMAAAAAAAAAAwAAAAAAAAADAAAAAAAAAAMAAAAAAAAAAwAAAAAAAAADAAAAAAAAAAMAAAAAAAAAAwAAAAAAAAADAAAAAAAAAAMAAAAAAAAAAwAAAAAAAAADAAAAAAAAAAMAAAAAAAAAAwAAAAAAAAADAAAAAAAAAAMAAAAAAAAAAwAAAAAAAAADAAAAAAAAAAMAAAAAAAAAAwAAAAAAAAADAAAAAAAAAAMAAAAAAAAAAwAAAAAAAAADAAAAAAAAAAMAAAAAAAAAAwAAAAAAAAADAAAAAAAAAAMAAAAAAAAAAwAAAAAAAAADAAAAAAAAAAMAAAAAAAAAAwAAAAAAAAADAAAAAAAAAAMAAAAAAAAAAwAAAAAAAAADAAAAAAAAAAMAAAAAAAAAAwAAAAAAAAADAAAAAAAAAAMAAAAAAAAAAwAAAAAAAAADAAAAAAAAAAMAAAAAAAAAAwAAAAAAAAADAAAAAAAAAAMAAAAAAAAAAwAAAAAAAAADAAAAAAAAAAMAAAAAAAAAAwAAAAAAAAADAAAAAAAAAAMAAAAAAAAAAwAAAAAAAAADAAAAAAAAAAMAAAAAAAAAAwAAAAAAAAADAAAAAAAAAAMAAAAAAAAAAwAAAAAAAAADAAAAAAAAAAMAAAAAAAAAAwAAAAAAAAADAAAAAAAAAAMAAAAAAAAAAwAAAAAAAAADAAAAAAAAAAMAAAAAAAAAAwAAAAAAAAADAAAAAAAAAAMAAAAAAAAAAwAAAAAAAAADAAAAAAAAAAMAAAAAAAAAAwAAAAAAAAADAAAAAAAAAAMAAAAAAAAAAwAAAAAAAAADAAAAAAAAAAMAAAAAAAAAAwAAAAAAAAADAAAAAAAAAAMAAAAAAAAAAwAAAAAAAAADAAAAAAAAAAMAAAAAAAAAAwAAAAAAAAADAAAAAAAAAAMAAAAAAAAAAwAAAAAAAAADAAAAAAAAAAMAAAAAAAAAAwAAAAAAAAADAAAAAAAAAAMAAAAAAAAAAwAAAAAAAAADAAAAAAAAAAMAAAAAAAAAAwAAAAAAAAADAAAAAAAAAAMAAAAAAAAAAwAAAAAAAAADAAAAAAAAAAMAAAAAAAAAAwAAAAAAAAADAAAAAAAAAAMAAAAAAAAAAwAAAAAAAAADAAAAAAAAAAMAAAAAAAAAAwAAAAAAAAADAAAAAAAAAAMAAAAAAAAAAwAAAAAAAAADAAAAAAAAAAMAAAAAAAAAAwAAAAAAAAADAAAAAAAAAAMAAAAAAAAAAwAAAAAAAAADAAAAAAAAAAMAAAAAAAAAAwAAAAAAAAADAAAAAAAAAAMAAAAAAAAAAwAAAAAAAAADAAAAAAAAAAMAAAAAAAAAAwAAAAAAAAADA",
          "dtype": "f8"
         }
        },
        {
         "line": {
          "color": "red",
          "width": 4
         },
         "marker": {
          "color": "red",
          "size": 5
         },
         "mode": "lines+markers",
         "type": "scatter3d",
         "x": [
          2,
          0.024338975615841415
         ],
         "y": [
          2,
          0.024338975615841415
         ],
         "z": [
          2,
          0.01594581030894109
         ]
        }
       ],
       "layout": {
        "template": {
         "data": {
          "bar": [
           {
            "error_x": {
             "color": "#2a3f5f"
            },
            "error_y": {
             "color": "#2a3f5f"
            },
            "marker": {
             "line": {
              "color": "#E5ECF6",
              "width": 0.5
             },
             "pattern": {
              "fillmode": "overlay",
              "size": 10,
              "solidity": 0.2
             }
            },
            "type": "bar"
           }
          ],
          "barpolar": [
           {
            "marker": {
             "line": {
              "color": "#E5ECF6",
              "width": 0.5
             },
             "pattern": {
              "fillmode": "overlay",
              "size": 10,
              "solidity": 0.2
             }
            },
            "type": "barpolar"
           }
          ],
          "carpet": [
           {
            "aaxis": {
             "endlinecolor": "#2a3f5f",
             "gridcolor": "white",
             "linecolor": "white",
             "minorgridcolor": "white",
             "startlinecolor": "#2a3f5f"
            },
            "baxis": {
             "endlinecolor": "#2a3f5f",
             "gridcolor": "white",
             "linecolor": "white",
             "minorgridcolor": "white",
             "startlinecolor": "#2a3f5f"
            },
            "type": "carpet"
           }
          ],
          "choropleth": [
           {
            "colorbar": {
             "outlinewidth": 0,
             "ticks": ""
            },
            "type": "choropleth"
           }
          ],
          "contour": [
           {
            "colorbar": {
             "outlinewidth": 0,
             "ticks": ""
            },
            "colorscale": [
             [
              0,
              "#0d0887"
             ],
             [
              0.1111111111111111,
              "#46039f"
             ],
             [
              0.2222222222222222,
              "#7201a8"
             ],
             [
              0.3333333333333333,
              "#9c179e"
             ],
             [
              0.4444444444444444,
              "#bd3786"
             ],
             [
              0.5555555555555556,
              "#d8576b"
             ],
             [
              0.6666666666666666,
              "#ed7953"
             ],
             [
              0.7777777777777778,
              "#fb9f3a"
             ],
             [
              0.8888888888888888,
              "#fdca26"
             ],
             [
              1,
              "#f0f921"
             ]
            ],
            "type": "contour"
           }
          ],
          "contourcarpet": [
           {
            "colorbar": {
             "outlinewidth": 0,
             "ticks": ""
            },
            "type": "contourcarpet"
           }
          ],
          "heatmap": [
           {
            "colorbar": {
             "outlinewidth": 0,
             "ticks": ""
            },
            "colorscale": [
             [
              0,
              "#0d0887"
             ],
             [
              0.1111111111111111,
              "#46039f"
             ],
             [
              0.2222222222222222,
              "#7201a8"
             ],
             [
              0.3333333333333333,
              "#9c179e"
             ],
             [
              0.4444444444444444,
              "#bd3786"
             ],
             [
              0.5555555555555556,
              "#d8576b"
             ],
             [
              0.6666666666666666,
              "#ed7953"
             ],
             [
              0.7777777777777778,
              "#fb9f3a"
             ],
             [
              0.8888888888888888,
              "#fdca26"
             ],
             [
              1,
              "#f0f921"
             ]
            ],
            "type": "heatmap"
           }
          ],
          "histogram": [
           {
            "marker": {
             "pattern": {
              "fillmode": "overlay",
              "size": 10,
              "solidity": 0.2
             }
            },
            "type": "histogram"
           }
          ],
          "histogram2d": [
           {
            "colorbar": {
             "outlinewidth": 0,
             "ticks": ""
            },
            "colorscale": [
             [
              0,
              "#0d0887"
             ],
             [
              0.1111111111111111,
              "#46039f"
             ],
             [
              0.2222222222222222,
              "#7201a8"
             ],
             [
              0.3333333333333333,
              "#9c179e"
             ],
             [
              0.4444444444444444,
              "#bd3786"
             ],
             [
              0.5555555555555556,
              "#d8576b"
             ],
             [
              0.6666666666666666,
              "#ed7953"
             ],
             [
              0.7777777777777778,
              "#fb9f3a"
             ],
             [
              0.8888888888888888,
              "#fdca26"
             ],
             [
              1,
              "#f0f921"
             ]
            ],
            "type": "histogram2d"
           }
          ],
          "histogram2dcontour": [
           {
            "colorbar": {
             "outlinewidth": 0,
             "ticks": ""
            },
            "colorscale": [
             [
              0,
              "#0d0887"
             ],
             [
              0.1111111111111111,
              "#46039f"
             ],
             [
              0.2222222222222222,
              "#7201a8"
             ],
             [
              0.3333333333333333,
              "#9c179e"
             ],
             [
              0.4444444444444444,
              "#bd3786"
             ],
             [
              0.5555555555555556,
              "#d8576b"
             ],
             [
              0.6666666666666666,
              "#ed7953"
             ],
             [
              0.7777777777777778,
              "#fb9f3a"
             ],
             [
              0.8888888888888888,
              "#fdca26"
             ],
             [
              1,
              "#f0f921"
             ]
            ],
            "type": "histogram2dcontour"
           }
          ],
          "mesh3d": [
           {
            "colorbar": {
             "outlinewidth": 0,
             "ticks": ""
            },
            "type": "mesh3d"
           }
          ],
          "parcoords": [
           {
            "line": {
             "colorbar": {
              "outlinewidth": 0,
              "ticks": ""
             }
            },
            "type": "parcoords"
           }
          ],
          "pie": [
           {
            "automargin": true,
            "type": "pie"
           }
          ],
          "scatter": [
           {
            "fillpattern": {
             "fillmode": "overlay",
             "size": 10,
             "solidity": 0.2
            },
            "type": "scatter"
           }
          ],
          "scatter3d": [
           {
            "line": {
             "colorbar": {
              "outlinewidth": 0,
              "ticks": ""
             }
            },
            "marker": {
             "colorbar": {
              "outlinewidth": 0,
              "ticks": ""
             }
            },
            "type": "scatter3d"
           }
          ],
          "scattercarpet": [
           {
            "marker": {
             "colorbar": {
              "outlinewidth": 0,
              "ticks": ""
             }
            },
            "type": "scattercarpet"
           }
          ],
          "scattergeo": [
           {
            "marker": {
             "colorbar": {
              "outlinewidth": 0,
              "ticks": ""
             }
            },
            "type": "scattergeo"
           }
          ],
          "scattergl": [
           {
            "marker": {
             "colorbar": {
              "outlinewidth": 0,
              "ticks": ""
             }
            },
            "type": "scattergl"
           }
          ],
          "scattermap": [
           {
            "marker": {
             "colorbar": {
              "outlinewidth": 0,
              "ticks": ""
             }
            },
            "type": "scattermap"
           }
          ],
          "scattermapbox": [
           {
            "marker": {
             "colorbar": {
              "outlinewidth": 0,
              "ticks": ""
             }
            },
            "type": "scattermapbox"
           }
          ],
          "scatterpolar": [
           {
            "marker": {
             "colorbar": {
              "outlinewidth": 0,
              "ticks": ""
             }
            },
            "type": "scatterpolar"
           }
          ],
          "scatterpolargl": [
           {
            "marker": {
             "colorbar": {
              "outlinewidth": 0,
              "ticks": ""
             }
            },
            "type": "scatterpolargl"
           }
          ],
          "scatterternary": [
           {
            "marker": {
             "colorbar": {
              "outlinewidth": 0,
              "ticks": ""
             }
            },
            "type": "scatterternary"
           }
          ],
          "surface": [
           {
            "colorbar": {
             "outlinewidth": 0,
             "ticks": ""
            },
            "colorscale": [
             [
              0,
              "#0d0887"
             ],
             [
              0.1111111111111111,
              "#46039f"
             ],
             [
              0.2222222222222222,
              "#7201a8"
             ],
             [
              0.3333333333333333,
              "#9c179e"
             ],
             [
              0.4444444444444444,
              "#bd3786"
             ],
             [
              0.5555555555555556,
              "#d8576b"
             ],
             [
              0.6666666666666666,
              "#ed7953"
             ],
             [
              0.7777777777777778,
              "#fb9f3a"
             ],
             [
              0.8888888888888888,
              "#fdca26"
             ],
             [
              1,
              "#f0f921"
             ]
            ],
            "type": "surface"
           }
          ],
          "table": [
           {
            "cells": {
             "fill": {
              "color": "#EBF0F8"
             },
             "line": {
              "color": "white"
             }
            },
            "header": {
             "fill": {
              "color": "#C8D4E3"
             },
             "line": {
              "color": "white"
             }
            },
            "type": "table"
           }
          ]
         },
         "layout": {
          "annotationdefaults": {
           "arrowcolor": "#2a3f5f",
           "arrowhead": 0,
           "arrowwidth": 1
          },
          "autotypenumbers": "strict",
          "coloraxis": {
           "colorbar": {
            "outlinewidth": 0,
            "ticks": ""
           }
          },
          "colorscale": {
           "diverging": [
            [
             0,
             "#8e0152"
            ],
            [
             0.1,
             "#c51b7d"
            ],
            [
             0.2,
             "#de77ae"
            ],
            [
             0.3,
             "#f1b6da"
            ],
            [
             0.4,
             "#fde0ef"
            ],
            [
             0.5,
             "#f7f7f7"
            ],
            [
             0.6,
             "#e6f5d0"
            ],
            [
             0.7,
             "#b8e186"
            ],
            [
             0.8,
             "#7fbc41"
            ],
            [
             0.9,
             "#4d9221"
            ],
            [
             1,
             "#276419"
            ]
           ],
           "sequential": [
            [
             0,
             "#0d0887"
            ],
            [
             0.1111111111111111,
             "#46039f"
            ],
            [
             0.2222222222222222,
             "#7201a8"
            ],
            [
             0.3333333333333333,
             "#9c179e"
            ],
            [
             0.4444444444444444,
             "#bd3786"
            ],
            [
             0.5555555555555556,
             "#d8576b"
            ],
            [
             0.6666666666666666,
             "#ed7953"
            ],
            [
             0.7777777777777778,
             "#fb9f3a"
            ],
            [
             0.8888888888888888,
             "#fdca26"
            ],
            [
             1,
             "#f0f921"
            ]
           ],
           "sequentialminus": [
            [
             0,
             "#0d0887"
            ],
            [
             0.1111111111111111,
             "#46039f"
            ],
            [
             0.2222222222222222,
             "#7201a8"
            ],
            [
             0.3333333333333333,
             "#9c179e"
            ],
            [
             0.4444444444444444,
             "#bd3786"
            ],
            [
             0.5555555555555556,
             "#d8576b"
            ],
            [
             0.6666666666666666,
             "#ed7953"
            ],
            [
             0.7777777777777778,
             "#fb9f3a"
            ],
            [
             0.8888888888888888,
             "#fdca26"
            ],
            [
             1,
             "#f0f921"
            ]
           ]
          },
          "colorway": [
           "#636efa",
           "#EF553B",
           "#00cc96",
           "#ab63fa",
           "#FFA15A",
           "#19d3f3",
           "#FF6692",
           "#B6E880",
           "#FF97FF",
           "#FECB52"
          ],
          "font": {
           "color": "#2a3f5f"
          },
          "geo": {
           "bgcolor": "white",
           "lakecolor": "white",
           "landcolor": "#E5ECF6",
           "showlakes": true,
           "showland": true,
           "subunitcolor": "white"
          },
          "hoverlabel": {
           "align": "left"
          },
          "hovermode": "closest",
          "mapbox": {
           "style": "light"
          },
          "paper_bgcolor": "white",
          "plot_bgcolor": "#E5ECF6",
          "polar": {
           "angularaxis": {
            "gridcolor": "white",
            "linecolor": "white",
            "ticks": ""
           },
           "bgcolor": "#E5ECF6",
           "radialaxis": {
            "gridcolor": "white",
            "linecolor": "white",
            "ticks": ""
           }
          },
          "scene": {
           "xaxis": {
            "backgroundcolor": "#E5ECF6",
            "gridcolor": "white",
            "gridwidth": 2,
            "linecolor": "white",
            "showbackground": true,
            "ticks": "",
            "zerolinecolor": "white"
           },
           "yaxis": {
            "backgroundcolor": "#E5ECF6",
            "gridcolor": "white",
            "gridwidth": 2,
            "linecolor": "white",
            "showbackground": true,
            "ticks": "",
            "zerolinecolor": "white"
           },
           "zaxis": {
            "backgroundcolor": "#E5ECF6",
            "gridcolor": "white",
            "gridwidth": 2,
            "linecolor": "white",
            "showbackground": true,
            "ticks": "",
            "zerolinecolor": "white"
           }
          },
          "shapedefaults": {
           "line": {
            "color": "#2a3f5f"
           }
          },
          "ternary": {
           "aaxis": {
            "gridcolor": "white",
            "linecolor": "white",
            "ticks": ""
           },
           "baxis": {
            "gridcolor": "white",
            "linecolor": "white",
            "ticks": ""
           },
           "bgcolor": "#E5ECF6",
           "caxis": {
            "gridcolor": "white",
            "linecolor": "white",
            "ticks": ""
           }
          },
          "title": {
           "x": 0.05
          },
          "xaxis": {
           "automargin": true,
           "gridcolor": "white",
           "linecolor": "white",
           "ticks": "",
           "title": {
            "standoff": 15
           },
           "zerolinecolor": "white",
           "zerolinewidth": 2
          },
          "yaxis": {
           "automargin": true,
           "gridcolor": "white",
           "linecolor": "white",
           "ticks": "",
           "title": {
            "standoff": 15
           },
           "zerolinecolor": "white",
           "zerolinewidth": 2
          }
         }
        }
       }
      }
     },
     "metadata": {},
     "output_type": "display_data"
    }
   ],
   "source": [
    "def calcule_champ(maillage : Maillage, point : np.ndarray, charge : np.ndarray) : \n",
    "    k= 1/(4*np.pi*cst.epsilon_0)\n",
    "    M = (-1*maillage).translate(point)\n",
    "    return np.sum(k*charge*M.XYZ/(M.norm()**3), axis=1)\n",
    "\n",
    "M = C+B1+B2\n",
    "distribution_charge = (10,lambda x,y,z : 1)\n",
    "point = np.array([2,2,2])\n",
    "valeurs_charge = calcule_charge(M,distribution_charge)\n",
    "x,y,z = 10**(-15)*calcule_champ(M,point,valeurs_charge)\n",
    "\n",
    "fig = go.Figure(go.Scatter3d(\n",
    "    x=M.X,y=M.Y,z=M.Z,mode=\"markers\",\n",
    "    marker=dict(color=valeurs_charge,colorscale=\"Viridis\",showscale=True if distribution_charge != None else False,size=1)))\n",
    "\n",
    "fig.add_traces(data=go.Scatter3d(\n",
    "    x=[point[0], x],\n",
    "    y=[point[1], y],\n",
    "    z=[point[2], z],\n",
    "    mode='lines+markers',\n",
    "    marker=dict(size=5, color='red'),\n",
    "    line=dict(color='red', width=4)\n",
    "))\n",
    "\n",
    "fig.show()"
   ]
  }
 ],
 "metadata": {
  "kernelspec": {
   "display_name": "base",
   "language": "python",
   "name": "python3"
  },
  "language_info": {
   "codemirror_mode": {
    "name": "ipython",
    "version": 3
   },
   "file_extension": ".py",
   "mimetype": "text/x-python",
   "name": "python",
   "nbconvert_exporter": "python",
   "pygments_lexer": "ipython3",
   "version": "3.10.8"
  }
 },
 "nbformat": 4,
 "nbformat_minor": 2
}
