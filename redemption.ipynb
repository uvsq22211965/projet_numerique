{
 "cells": [
  {
   "cell_type": "code",
   "execution_count": 370,
   "metadata": {},
   "outputs": [],
   "source": [
    "import numpy as np\n",
    "import plotly.graph_objects as go \n",
    "import scipy.constants as cst\n",
    "import matplotlib.pyplot as plt"
   ]
  },
  {
   "cell_type": "code",
   "execution_count": 371,
   "metadata": {},
   "outputs": [],
   "source": [
    "class Maillage : \n",
    "    #Initialisation de l'objet.\n",
    "    def __init__(self,X : np.ndarray ,Y : np.ndarray,Z : np.ndarray) :         \n",
    "        if not((size := X.size) == Y.size == Z.size) : \n",
    "            raise ValueError('Les 3 matrices doivent avoir les mêmes dimensions.')\n",
    "        \n",
    "        #Les listes sont flatten par convénience.\n",
    "        X,Y,Z = X.flatten(),Y.flatten(),Z.flatten()\n",
    "        self.X = X\n",
    "        self.Y = Y\n",
    "        self.Z = Z\n",
    "        self.XYZ = np.array([X,Y,Z])\n",
    "        self.nb_points = size\n",
    "    \n",
    "    #Définition de l'addition de \"Maillage1 + Maillage2\".\n",
    "    def __add__(self,maillage : \"Maillage\") -> \"Maillage\" : \n",
    "        X,Y,Z = np.concatenate((self.X,maillage.X)),np.concatenate((self.Y,maillage.Y)),np.concatenate((self.Z,maillage.Z))\n",
    "        return  Maillage(X,Y,Z) \n",
    "    \n",
    "    #Définition de la multiplication scalaire ie \"scalaire * Maillage\".\n",
    "    def __rmul__(self,scalaire) :\n",
    "        return Maillage(scalaire*self.X,scalaire*self.Y,scalaire*self.Z) \n",
    "    \n",
    "    #Définition de l'expression Maillage[indice].\n",
    "    def __getitem__(self,index : int) -> \"Maillage\" : \n",
    "        return self.X[index],self.Y[index],self.Z[index]\n",
    "    \n",
    "    #Définition de l'égalité entre deux maillages ie \"Maillage1 == Maillage2\".\n",
    "    def __eq__(self, maillage : \"Maillage\"):\n",
    "        return np.array_equal(self.X, maillage.X) and \\\n",
    "               np.array_equal(self.Y, maillage.Y) and \\\n",
    "               np.array_equal(self.Z, maillage.Z)\n",
    "\n",
    "\n",
    "    def translate(self, dl : tuple[float]) -> \"Maillage\":\n",
    "        if len(dl) != 3:\n",
    "            raise ValueError('Trop ou pas assez de translations ont été données.')\n",
    "\n",
    "        return Maillage(self.X + dl[0], self.Y + dl[1], self.Z + dl[2])\n",
    "    \n",
    "    def norm(self) : \n",
    "        return np.sqrt(self.X**2 + self.Y**2 + self.Z**2)\n",
    "    \n",
    "    def rotate(self, axes : list[str], angles : list[float]) -> \"Maillage\" : \n",
    "        if len(axes) != len(angles):\n",
    "            raise ValueError(\"Trop ou pas assez d'angles et/ou axes ont été donnés.\")\n",
    "\n",
    "        Rx = lambda angle : np.array([[1,0,0],[0,np.cos(angle),-np.sin(angle)],[0,np.sin(angle),np.cos(angle)]])\n",
    "        Ry = lambda angle : np.array([[np.cos(angle),0,np.sin(angle)],[0,1,0],[-np.sin(angle),0,np.cos(angle)]])\n",
    "        Rz = lambda angle : np.array([[np.cos(angle),-np.sin(angle),0],[np.sin(angle),np.cos(angle),0],[0,0,1]])\n",
    "        product = ''\n",
    "    \n",
    "        for axe,angle in zip(axes,angles) : \n",
    "            product = f'R{axe.strip().lower()}({angle}) @' + product\n",
    "        \n",
    "        return Maillage(*eval(f'{product} self.XYZ')) "
   ]
  },
  {
   "cell_type": "code",
   "execution_count": 372,
   "metadata": {},
   "outputs": [],
   "source": [
    "def creer_maillage_cartesien(x_min : float, x_max : float, y_min : float, y_max : float, z_min : float, z_max : float, pas_du_maillage : float) -> Maillage:\n",
    "    \"\"\"\n",
    "    Entrées:\n",
    "\n",
    "        - x_min : la valeur minimale en x du maillage (Exemple : x_min = -2.5). Le signe est quelconque et la valeur doit être différente de x_max.\n",
    "        - y_min : la valeur minimale en y du maillage (Exemple : y_min = -2.5). Le signe est quelconque et la valeur doit être différente de y_max.\n",
    "        - z_min : la valeur minimale en z du maillage (Exemple : z_min = -2.5). Le signe est quelconque et la valeur doit être différente de z_max.\n",
    "\n",
    "        - x_max : la valeur maximale en x du maillage (Exemple : x_max = 2.5). Le signe est quelconque et la valeur doit être différente de x_min.\n",
    "        - y_max : la valeur maximale en y du maillage (Exemple : y_max = 2.5). Le signe est quelconque et la valeur doit être différente de y_min.\n",
    "        - z_max : la valeur maximale en z du maillage (Exemple : z_max = 2.5). Le signe est quelconque et la valeur doit être différente de z_min.\n",
    "\n",
    "        - pas_du_maillage : \n",
    "            \n",
    "            * Distance séparant 2 points (non diagonnaux) du maillage. \n",
    "            \n",
    "            * Il est de préférence un diviseur de (x_max - x_min) et de (y_max - y_min) et (z_max - z_min). \n",
    "            \n",
    "            * Éviter un pas égal à 0.3 ou quelconque multiple de 0.3 ainsi que les nombres premiers par exemple. \n",
    "            \n",
    "            * Sa valeur ne doit pas être plus élevée que la moitié de la plus petite distance coordonnée_max - coordonnée_min des 3 axes.\n",
    "        \n",
    "    Sorties:\n",
    "    \n",
    "        - [X,Y,Z] : C'est une liste qui contient 3 listes de NP.ARRAYS 2D. \n",
    "            \n",
    "            * len(X) = len(Y) = len(Z) = nb_points_entre_y_min_y_max.\n",
    "            \n",
    "            * X[0] ou Y[0] ou Z[0] représente le plan (xOz) pour y = y_min, X[1] ou Y[1] ou Z[1] pour y = y_min + pas_du_maillage et ainsi \n",
    "                de suite jusqu'à y = y_max. \n",
    "            \n",
    "            * De plus, pour chaque NP.ARRAY de X, Y ou Z, X[y_fixé][:,0], Y[y_fixé][:,0], Z[y_fixé][:,0] représente les droites parallèles \n",
    "                à l'axe (Ox) pour y = y_fixé et z = z_min. De même, X[y_fixé][:,1], Y[y_fixé][:,1], Z[y_fixé][:,1] représente les droites \n",
    "                parallèles à l'axe (Ox) pour y = y_fixé et z = z_min + pas_du_maillage. \n",
    "            \n",
    "            * On a également X[y_fixé][0,:], Y[y_fixé][0,:], Z[y_fixé][0,:] représente les droites parallèles à l'axe (Oz) pour y = y_fixé et \n",
    "                x = x_min. De même, X[y_fixé][1,:], Y[y_fixé][1,:], Z[y_fixé][1,:] représente les droites parallèles à l'axe (Oz) pour y = y_fixé \n",
    "                et x = x_min + pas_du_maillage.\n",
    "            \n",
    "    Explication:\n",
    "    \n",
    "        La fonction creer_maillage_cartesien() crée une maillage de l'espace pour des limites et un pas donnés.\n",
    "    \"\"\"\n",
    "    \n",
    "    #Vérification de la cohérence des données.\n",
    "    for min, max in zip([x_min,y_min,z_min],[x_max,y_max,z_max]):\n",
    "        est_un_plan = False\n",
    "        est_une_droite = False\n",
    "        \n",
    "        if min == max: #Sinon le maillage est soit: un plan, une droite ou un point ce qui ne nous intéresse pas ici.\n",
    "            if est_un_plan:\n",
    "                if est_une_droite:\n",
    "                    raise ValueError(\"Le maillage est un point.\")\n",
    "                est_une_droite = True\n",
    "            est_un_plan = True    \n",
    "    \n",
    "        if min > max:\n",
    "            min, max = max, min #Nécessaire pour avoir des np.linspace(min, max, nb_points) cohérents.\n",
    "        \n",
    "        if not est_un_plan:   \n",
    "            if pas_du_maillage > abs(max-min)/2:\n",
    "                raise ValueError(\"pas_du_maillage est trop grand.\") #Le cas écheant, le maillage ne serait pas bien défini.\n",
    "\n",
    "    #Création du maillage.\n",
    "    longueur_maillage_x = abs(x_max - x_min)\n",
    "    longueur_maillage_y = abs(y_max - y_min)\n",
    "    longueur_maillage_z = abs(z_max - z_min)\n",
    "    \n",
    "    try:\n",
    "        nb_points_entre_x_min_x_max = int((longueur_maillage_x) / (pas_du_maillage)) + 1\n",
    "    except:\n",
    "        raise ZeroDivisionError\n",
    "    try:\n",
    "        nb_points_entre_y_min_y_max = int((longueur_maillage_y) / (pas_du_maillage)) + 1\n",
    "    except:\n",
    "        raise ZeroDivisionError\n",
    "    try:\n",
    "        nb_points_entre_z_min_z_max = int((longueur_maillage_z) / (pas_du_maillage)) + 1\n",
    "    except:\n",
    "        raise ZeroDivisionError\n",
    "    \n",
    "    axe_x = np.linspace(x_min, x_max, nb_points_entre_x_min_x_max)\n",
    "    axe_y = np.linspace(y_min, y_max, nb_points_entre_y_min_y_max)\n",
    "    axe_z = np.linspace(z_min, z_max, nb_points_entre_z_min_z_max)\n",
    "    \n",
    "    X,Y,Z = np.meshgrid(axe_x,axe_y,axe_z)\n",
    "    \n",
    "    #Permet de gérer les cas où pas_du_maillage engendre des points dont les coordonnées ont des décimales infinies comme 0.3.\n",
    "    X = np.round(X, 1) \n",
    "    Y = np.round(Y, 1)\n",
    "    Z = np.round(Z, 1)\n",
    "\n",
    "    return Maillage(X,Y,Z)\n",
    "\n",
    "cote = 2 #N'est pas une variable globale.\n",
    "pas_du_maillage = 0.1 #N'est pas une variable globale.\n",
    "test = creer_maillage_cartesien(-cote,cote,-cote,cote,-cote,cote,pas_du_maillage)  "
   ]
  },
  {
   "cell_type": "code",
   "execution_count": 373,
   "metadata": {},
   "outputs": [],
   "source": [
    "def spherique_to_cartesien(r : float, theta : float, phi : float) -> tuple:\n",
    "    return r * np.cos(phi) * np.sin(theta), r * np.sin(phi) * np.sin(theta), r * np.cos(theta)"
   ]
  },
  {
   "cell_type": "code",
   "execution_count": 374,
   "metadata": {},
   "outputs": [],
   "source": [
    "def cylindrique_to_cartesien(r : float, theta : float, z : float) -> tuple:\n",
    "    return r*np.cos(theta), r*np.sin(theta), z"
   ]
  },
  {
   "cell_type": "code",
   "execution_count": 375,
   "metadata": {},
   "outputs": [],
   "source": [
    "def ajouter_trace_maillage(fig: go.Figure, maillage : Maillage):\n",
    "    \n",
    "    fig.add_traces(go.Scatter3d(\n",
    "        x = maillage.X,\n",
    "        y = maillage.Y,\n",
    "        z = maillage.Z,\n",
    "        mode=\"markers\",\n",
    "        marker=dict(size=1)))\n",
    "    "
   ]
  },
  {
   "cell_type": "code",
   "execution_count": 376,
   "metadata": {},
   "outputs": [],
   "source": [
    "def afficher_plotly(maillages : list[Maillage]):\n",
    "    fig = go.Figure()\n",
    "    \n",
    "    for maillage in maillages:\n",
    "        ajouter_trace_maillage(fig, maillage)\n",
    "    \n",
    "    fig.show()"
   ]
  },
  {
   "cell_type": "code",
   "execution_count": 377,
   "metadata": {},
   "outputs": [],
   "source": [
    "def afficher_matplotlib(maillage : Maillage) :\n",
    "\n",
    "    fig = plt.figure(figsize=(8, 6))\n",
    "    ax = fig.add_subplot(111, projection='3d')\n",
    "    sc = ax.scatter(maillage.X, maillage.Y, maillage.Z, marker='o', s = 0.5)\n",
    "\n",
    "    ax.set_xlabel(\"X\")\n",
    "    ax.set_ylabel(\"Y\")\n",
    "\n",
    "    plt.show()"
   ]
  },
  {
   "cell_type": "code",
   "execution_count": 378,
   "metadata": {},
   "outputs": [],
   "source": [
    "def creer_plan(x_min : float, x_max : float, y_min : float, y_max : float, z : \"function\", pas_x : float, pas_y : float) -> Maillage : \n",
    "    densite_x = int(1/pas_x)\n",
    "    densite_y = int(1/pas_y)\n",
    "    \n",
    "    x = np.linspace(x_min,x_max, densite_x*int(x_max - x_min)+1)\n",
    "    y = np.linspace(y_min,y_max, densite_y*int(y_max - y_min)+1)\n",
    "    X,Y = np.meshgrid(x,y)\n",
    "    Z = np.full_like(X, z(X, Y))\n",
    "    \n",
    "    return Maillage(X,Y,Z)"
   ]
  },
  {
   "cell_type": "code",
   "execution_count": 379,
   "metadata": {},
   "outputs": [],
   "source": [
    "def pave(x_min : float, x_max : float, y_min : float, y_max : float, z_min : float, z_max : float, pas_du_maillage : float) -> Maillage : \n",
    "    M = Maillage(*np.empty((3,0)))\n",
    "    densite_x = int(1/pas_du_maillage)\n",
    "    Z = np.linspace(z_min,z_max, densite_x*int(z_max - z_min)+1)\n",
    "    \n",
    "    for z in Z : \n",
    "        M += creer_plan(x_min,x_max,y_min,y_max,lambda x,y : z, pas_du_maillage,pas_du_maillage)\n",
    "    \n",
    "    return M"
   ]
  },
  {
   "cell_type": "code",
   "execution_count": 380,
   "metadata": {},
   "outputs": [],
   "source": [
    "def cercle(rayon : float, cote : float, pas : float) -> Maillage:\n",
    "    \n",
    "    if rayon == 0:\n",
    "       return Maillage(np.array([0.]), np.array([0.]), np.array([cote]))\n",
    "\n",
    "    pi = np.pi\n",
    "    angle = 2*pi * rayon\n",
    "    nb_points =  int(angle / pas)  # arrondi et créé des trucs bizarres.\n",
    "    \n",
    "    theta = np.linspace(0, 2 * pi, nb_points, endpoint=False)\n",
    "    r = np.full(nb_points, rayon, float)\n",
    "    z = np.full(nb_points, cote, float)\n",
    "    \n",
    "    x, y, z_cart = cylindrique_to_cartesien(r, theta, z)\n",
    "    return Maillage(x, y, z_cart)"
   ]
  },
  {
   "cell_type": "code",
   "execution_count": 381,
   "metadata": {},
   "outputs": [],
   "source": [
    "def disque(rayon : float, cote : float, pas) -> Maillage:\n",
    "    nb_points = int(rayon/pas)\n",
    "    disque = Maillage(*np.empty((3,0)))\n",
    "\n",
    "    for r in np.linspace(0,rayon, nb_points):\n",
    "        disque += cercle(r,cote,pas)\n",
    "    \n",
    "    return disque"
   ]
  },
  {
   "cell_type": "code",
   "execution_count": 382,
   "metadata": {},
   "outputs": [],
   "source": [
    "def sphere(rayon : float, pas : float) -> Maillage: \n",
    "    pi = np.pi\n",
    "    \n",
    "    "
   ]
  },
  {
   "cell_type": "code",
   "execution_count": 383,
   "metadata": {},
   "outputs": [
    {
     "name": "stdout",
     "output_type": "stream",
     "text": [
      "0.1\n"
     ]
    }
   ],
   "source": [
    "def calculer_charge(valeur_totale : float, nb_points : int):\n",
    "    return valeur_totale/nb_points\n",
    "\n",
    "print(calculer_charge(10,100))"
   ]
  },
  {
   "cell_type": "code",
   "execution_count": 384,
   "metadata": {},
   "outputs": [],
   "source": [
    "def potentiel(coordonnees_charge : np.ndarray, point : np.ndarray, valeur_charge : float):\n",
    "    return valeur_charge/(4 * np.pi * cst.epsilon_0 * np.sqrt((coordonnees_charge[0] - point[0])**2 + (coordonnees_charge[1] - point[1])**2 + (coordonnees_charge[2] - point[2])**2))"
   ]
  },
  {
   "cell_type": "code",
   "execution_count": 385,
   "metadata": {},
   "outputs": [
    {
     "data": {
      "text/plain": [
       "np.float64(8.9875517861708)"
      ]
     },
     "execution_count": 385,
     "metadata": {},
     "output_type": "execute_result"
    }
   ],
   "source": [
    "potentiel(np.array([0,0,0]), np.array([0,0,1]), 1e-9)"
   ]
  },
  {
   "cell_type": "code",
   "execution_count": 386,
   "metadata": {},
   "outputs": [
    {
     "name": "stdout",
     "output_type": "stream",
     "text": [
      "[-4.16333634e-17 -2.94902991e-16  1.86207780e+01]\n"
     ]
    },
    {
     "data": {
      "application/vnd.plotly.v1+json": {
       "config": {
        "plotlyServerURL": "https://plot.ly"
       },
       "data": [
        {
         "marker": {
          "size": 1
         },
         "mode": "markers",
         "type": "scatter3d",
         "x": {
          "bdata": "AAAAAAAAAABVVVVVVVXlP2b6/t19K94/CdDF7jKIhzxl+v7dfSvev1VVVVVVVeW/aPr+3X0r3r8GXBQzJqahvGT6/t19K94/VVVVVVVV9T8uXsw0nbXzP2b6/t19K+4/mBsfb+xT4D8J0MXuMoiXPJYbH2/sU+C/Zfr+3X0r7r8uXsw0nbXzv1VVVVVVVfW/L17MNJ21879o+v7dfSvuv54bH2/sU+C/BlwUMyamsbyaGx9v7FPgP2T6/t19K+4/LV7MNJ218z8AAAAAAAAAQOAeEB2i/v4/WcCBTrQK/D8WuNIDtlP3P1ArGDx+JfE/UOkvN+/G4z90k+AbChPAP4B6A2Uc/Ne/nYElyfc/67+8AbX+xmX0v6f0l5t34/m/5VrvnbrA/b8D2YBUZ7//vwPZgFRnv/+/41rvnbrA/b+m9Jebd+P5v7oBtf7GZfS/k4Elyfc/6795egNlHPzXv5KT4BsKE8A/TOkvN+/G4z9SKxg8fiXxPxm40gO2U/c/WcCBTrQK/D/hHhAdov7+Pw==",
          "dtype": "f8"
         },
         "y": {
          "bdata": "AAAAAAAAAAAAAAAAAAAAAGb6/t19K94/VVVVVVVV5T9m+v7dfSvePwnQxe4yiJc8Zfr+3X0r3r9VVVVVVVXlv2j6/t19K96/AAAAAAAAAACXGx9v7FPgP2b6/t19K+4/Ll7MNJ218z9VVVVVVVX1Py5ezDSdtfM/Zvr+3X0r7j+YGx9v7FPgPwnQxe4yiKc8lhsfb+xT4L9l+v7dfSvuvy1ezDSdtfO/VVVVVVVV9b8uXsw0nbXzv2j6/t19K+6/nhsfb+xT4L8AAAAAAAAAAJYHHPoR1d8/Uqm/XA3V7j8UIBFVz+f1P4YuZP+7BPs//1REEw5v/j/+Q+S/1e//P/4JJazlbv8/ixXc3Ff0/D/qa1tjC6j4P19adQQjz/I/FamoSFqP5z/aW6Fd6wrQP+FboV3rCtC/H6moSFqP579gWnUEI8/yv+trW2MLqPi/jhXc3Ff0/L//CSWs5W7/v/5D5L/V7/+/AFVEEw5v/r+FLmT/uwT7vxAgEVXP5/W/Uqm/XA3V7r+LBxz6EdXfvw==",
          "dtype": "f8"
         },
         "z": {
          "bdata": "AAAAAAAAAAAAAAAAAAAAAAAAAAAAAAAAAAAAAAAAAAAAAAAAAAAAAAAAAAAAAAAAAAAAAAAAAAAAAAAAAAAAAAAAAAAAAAAAAAAAAAAAAAAAAAAAAAAAAAAAAAAAAAAAAAAAAAAAAAAAAAAAAAAAAAAAAAAAAAAAAAAAAAAAAAAAAAAAAAAAAAAAAAAAAAAAAAAAAAAAAAAAAAAAAAAAAAAAAAAAAAAAAAAAAAAAAAAAAAAAAAAAAAAAAAAAAAAAAAAAAAAAAAAAAAAAAAAAAAAAAAAAAAAAAAAAAAAAAAAAAAAAAAAAAAAAAAAAAAAAAAAAAAAAAAAAAAAAAAAAAAAAAAAAAAAAAAAAAAAAAAAAAAAAAAAAAAAAAAAAAAAAAAAAAAAAAAAAAAAAAAAAAAAAAAAAAAAAAAAAAAAAAAAAAAAAAAAAAAAAAAAAAAAAAAAAAAAAAAAAAAAAAAAAAAAAAAAAAAAAAAAAAAAAAAAAAAAAAAAAAAAAAAAAAAAAAAAAAAAAAAAAAAAAAAAAAA==",
          "dtype": "f8"
         }
        },
        {
         "marker": {
          "size": 3
         },
         "mode": "lines+markers",
         "type": "scatter3d",
         "x": [
          0,
          -4.163336342344337e-17
         ],
         "y": [
          0,
          -2.949029909160572e-16
         ],
         "z": [
          0.1,
          18.720778014989808
         ]
        },
        {
         "marker": {
          "size": 3
         },
         "mode": "lines+markers",
         "type": "scatter3d",
         "x": [
          0,
          0
         ],
         "y": [
          0,
          0
         ],
         "z": [
          0,
          0.1
         ]
        }
       ],
       "layout": {
        "template": {
         "data": {
          "bar": [
           {
            "error_x": {
             "color": "#2a3f5f"
            },
            "error_y": {
             "color": "#2a3f5f"
            },
            "marker": {
             "line": {
              "color": "#E5ECF6",
              "width": 0.5
             },
             "pattern": {
              "fillmode": "overlay",
              "size": 10,
              "solidity": 0.2
             }
            },
            "type": "bar"
           }
          ],
          "barpolar": [
           {
            "marker": {
             "line": {
              "color": "#E5ECF6",
              "width": 0.5
             },
             "pattern": {
              "fillmode": "overlay",
              "size": 10,
              "solidity": 0.2
             }
            },
            "type": "barpolar"
           }
          ],
          "carpet": [
           {
            "aaxis": {
             "endlinecolor": "#2a3f5f",
             "gridcolor": "white",
             "linecolor": "white",
             "minorgridcolor": "white",
             "startlinecolor": "#2a3f5f"
            },
            "baxis": {
             "endlinecolor": "#2a3f5f",
             "gridcolor": "white",
             "linecolor": "white",
             "minorgridcolor": "white",
             "startlinecolor": "#2a3f5f"
            },
            "type": "carpet"
           }
          ],
          "choropleth": [
           {
            "colorbar": {
             "outlinewidth": 0,
             "ticks": ""
            },
            "type": "choropleth"
           }
          ],
          "contour": [
           {
            "colorbar": {
             "outlinewidth": 0,
             "ticks": ""
            },
            "colorscale": [
             [
              0,
              "#0d0887"
             ],
             [
              0.1111111111111111,
              "#46039f"
             ],
             [
              0.2222222222222222,
              "#7201a8"
             ],
             [
              0.3333333333333333,
              "#9c179e"
             ],
             [
              0.4444444444444444,
              "#bd3786"
             ],
             [
              0.5555555555555556,
              "#d8576b"
             ],
             [
              0.6666666666666666,
              "#ed7953"
             ],
             [
              0.7777777777777778,
              "#fb9f3a"
             ],
             [
              0.8888888888888888,
              "#fdca26"
             ],
             [
              1,
              "#f0f921"
             ]
            ],
            "type": "contour"
           }
          ],
          "contourcarpet": [
           {
            "colorbar": {
             "outlinewidth": 0,
             "ticks": ""
            },
            "type": "contourcarpet"
           }
          ],
          "heatmap": [
           {
            "colorbar": {
             "outlinewidth": 0,
             "ticks": ""
            },
            "colorscale": [
             [
              0,
              "#0d0887"
             ],
             [
              0.1111111111111111,
              "#46039f"
             ],
             [
              0.2222222222222222,
              "#7201a8"
             ],
             [
              0.3333333333333333,
              "#9c179e"
             ],
             [
              0.4444444444444444,
              "#bd3786"
             ],
             [
              0.5555555555555556,
              "#d8576b"
             ],
             [
              0.6666666666666666,
              "#ed7953"
             ],
             [
              0.7777777777777778,
              "#fb9f3a"
             ],
             [
              0.8888888888888888,
              "#fdca26"
             ],
             [
              1,
              "#f0f921"
             ]
            ],
            "type": "heatmap"
           }
          ],
          "histogram": [
           {
            "marker": {
             "pattern": {
              "fillmode": "overlay",
              "size": 10,
              "solidity": 0.2
             }
            },
            "type": "histogram"
           }
          ],
          "histogram2d": [
           {
            "colorbar": {
             "outlinewidth": 0,
             "ticks": ""
            },
            "colorscale": [
             [
              0,
              "#0d0887"
             ],
             [
              0.1111111111111111,
              "#46039f"
             ],
             [
              0.2222222222222222,
              "#7201a8"
             ],
             [
              0.3333333333333333,
              "#9c179e"
             ],
             [
              0.4444444444444444,
              "#bd3786"
             ],
             [
              0.5555555555555556,
              "#d8576b"
             ],
             [
              0.6666666666666666,
              "#ed7953"
             ],
             [
              0.7777777777777778,
              "#fb9f3a"
             ],
             [
              0.8888888888888888,
              "#fdca26"
             ],
             [
              1,
              "#f0f921"
             ]
            ],
            "type": "histogram2d"
           }
          ],
          "histogram2dcontour": [
           {
            "colorbar": {
             "outlinewidth": 0,
             "ticks": ""
            },
            "colorscale": [
             [
              0,
              "#0d0887"
             ],
             [
              0.1111111111111111,
              "#46039f"
             ],
             [
              0.2222222222222222,
              "#7201a8"
             ],
             [
              0.3333333333333333,
              "#9c179e"
             ],
             [
              0.4444444444444444,
              "#bd3786"
             ],
             [
              0.5555555555555556,
              "#d8576b"
             ],
             [
              0.6666666666666666,
              "#ed7953"
             ],
             [
              0.7777777777777778,
              "#fb9f3a"
             ],
             [
              0.8888888888888888,
              "#fdca26"
             ],
             [
              1,
              "#f0f921"
             ]
            ],
            "type": "histogram2dcontour"
           }
          ],
          "mesh3d": [
           {
            "colorbar": {
             "outlinewidth": 0,
             "ticks": ""
            },
            "type": "mesh3d"
           }
          ],
          "parcoords": [
           {
            "line": {
             "colorbar": {
              "outlinewidth": 0,
              "ticks": ""
             }
            },
            "type": "parcoords"
           }
          ],
          "pie": [
           {
            "automargin": true,
            "type": "pie"
           }
          ],
          "scatter": [
           {
            "fillpattern": {
             "fillmode": "overlay",
             "size": 10,
             "solidity": 0.2
            },
            "type": "scatter"
           }
          ],
          "scatter3d": [
           {
            "line": {
             "colorbar": {
              "outlinewidth": 0,
              "ticks": ""
             }
            },
            "marker": {
             "colorbar": {
              "outlinewidth": 0,
              "ticks": ""
             }
            },
            "type": "scatter3d"
           }
          ],
          "scattercarpet": [
           {
            "marker": {
             "colorbar": {
              "outlinewidth": 0,
              "ticks": ""
             }
            },
            "type": "scattercarpet"
           }
          ],
          "scattergeo": [
           {
            "marker": {
             "colorbar": {
              "outlinewidth": 0,
              "ticks": ""
             }
            },
            "type": "scattergeo"
           }
          ],
          "scattergl": [
           {
            "marker": {
             "colorbar": {
              "outlinewidth": 0,
              "ticks": ""
             }
            },
            "type": "scattergl"
           }
          ],
          "scattermap": [
           {
            "marker": {
             "colorbar": {
              "outlinewidth": 0,
              "ticks": ""
             }
            },
            "type": "scattermap"
           }
          ],
          "scattermapbox": [
           {
            "marker": {
             "colorbar": {
              "outlinewidth": 0,
              "ticks": ""
             }
            },
            "type": "scattermapbox"
           }
          ],
          "scatterpolar": [
           {
            "marker": {
             "colorbar": {
              "outlinewidth": 0,
              "ticks": ""
             }
            },
            "type": "scatterpolar"
           }
          ],
          "scatterpolargl": [
           {
            "marker": {
             "colorbar": {
              "outlinewidth": 0,
              "ticks": ""
             }
            },
            "type": "scatterpolargl"
           }
          ],
          "scatterternary": [
           {
            "marker": {
             "colorbar": {
              "outlinewidth": 0,
              "ticks": ""
             }
            },
            "type": "scatterternary"
           }
          ],
          "surface": [
           {
            "colorbar": {
             "outlinewidth": 0,
             "ticks": ""
            },
            "colorscale": [
             [
              0,
              "#0d0887"
             ],
             [
              0.1111111111111111,
              "#46039f"
             ],
             [
              0.2222222222222222,
              "#7201a8"
             ],
             [
              0.3333333333333333,
              "#9c179e"
             ],
             [
              0.4444444444444444,
              "#bd3786"
             ],
             [
              0.5555555555555556,
              "#d8576b"
             ],
             [
              0.6666666666666666,
              "#ed7953"
             ],
             [
              0.7777777777777778,
              "#fb9f3a"
             ],
             [
              0.8888888888888888,
              "#fdca26"
             ],
             [
              1,
              "#f0f921"
             ]
            ],
            "type": "surface"
           }
          ],
          "table": [
           {
            "cells": {
             "fill": {
              "color": "#EBF0F8"
             },
             "line": {
              "color": "white"
             }
            },
            "header": {
             "fill": {
              "color": "#C8D4E3"
             },
             "line": {
              "color": "white"
             }
            },
            "type": "table"
           }
          ]
         },
         "layout": {
          "annotationdefaults": {
           "arrowcolor": "#2a3f5f",
           "arrowhead": 0,
           "arrowwidth": 1
          },
          "autotypenumbers": "strict",
          "coloraxis": {
           "colorbar": {
            "outlinewidth": 0,
            "ticks": ""
           }
          },
          "colorscale": {
           "diverging": [
            [
             0,
             "#8e0152"
            ],
            [
             0.1,
             "#c51b7d"
            ],
            [
             0.2,
             "#de77ae"
            ],
            [
             0.3,
             "#f1b6da"
            ],
            [
             0.4,
             "#fde0ef"
            ],
            [
             0.5,
             "#f7f7f7"
            ],
            [
             0.6,
             "#e6f5d0"
            ],
            [
             0.7,
             "#b8e186"
            ],
            [
             0.8,
             "#7fbc41"
            ],
            [
             0.9,
             "#4d9221"
            ],
            [
             1,
             "#276419"
            ]
           ],
           "sequential": [
            [
             0,
             "#0d0887"
            ],
            [
             0.1111111111111111,
             "#46039f"
            ],
            [
             0.2222222222222222,
             "#7201a8"
            ],
            [
             0.3333333333333333,
             "#9c179e"
            ],
            [
             0.4444444444444444,
             "#bd3786"
            ],
            [
             0.5555555555555556,
             "#d8576b"
            ],
            [
             0.6666666666666666,
             "#ed7953"
            ],
            [
             0.7777777777777778,
             "#fb9f3a"
            ],
            [
             0.8888888888888888,
             "#fdca26"
            ],
            [
             1,
             "#f0f921"
            ]
           ],
           "sequentialminus": [
            [
             0,
             "#0d0887"
            ],
            [
             0.1111111111111111,
             "#46039f"
            ],
            [
             0.2222222222222222,
             "#7201a8"
            ],
            [
             0.3333333333333333,
             "#9c179e"
            ],
            [
             0.4444444444444444,
             "#bd3786"
            ],
            [
             0.5555555555555556,
             "#d8576b"
            ],
            [
             0.6666666666666666,
             "#ed7953"
            ],
            [
             0.7777777777777778,
             "#fb9f3a"
            ],
            [
             0.8888888888888888,
             "#fdca26"
            ],
            [
             1,
             "#f0f921"
            ]
           ]
          },
          "colorway": [
           "#636efa",
           "#EF553B",
           "#00cc96",
           "#ab63fa",
           "#FFA15A",
           "#19d3f3",
           "#FF6692",
           "#B6E880",
           "#FF97FF",
           "#FECB52"
          ],
          "font": {
           "color": "#2a3f5f"
          },
          "geo": {
           "bgcolor": "white",
           "lakecolor": "white",
           "landcolor": "#E5ECF6",
           "showlakes": true,
           "showland": true,
           "subunitcolor": "white"
          },
          "hoverlabel": {
           "align": "left"
          },
          "hovermode": "closest",
          "mapbox": {
           "style": "light"
          },
          "paper_bgcolor": "white",
          "plot_bgcolor": "#E5ECF6",
          "polar": {
           "angularaxis": {
            "gridcolor": "white",
            "linecolor": "white",
            "ticks": ""
           },
           "bgcolor": "#E5ECF6",
           "radialaxis": {
            "gridcolor": "white",
            "linecolor": "white",
            "ticks": ""
           }
          },
          "scene": {
           "xaxis": {
            "backgroundcolor": "#E5ECF6",
            "gridcolor": "white",
            "gridwidth": 2,
            "linecolor": "white",
            "showbackground": true,
            "ticks": "",
            "zerolinecolor": "white"
           },
           "yaxis": {
            "backgroundcolor": "#E5ECF6",
            "gridcolor": "white",
            "gridwidth": 2,
            "linecolor": "white",
            "showbackground": true,
            "ticks": "",
            "zerolinecolor": "white"
           },
           "zaxis": {
            "backgroundcolor": "#E5ECF6",
            "gridcolor": "white",
            "gridwidth": 2,
            "linecolor": "white",
            "showbackground": true,
            "ticks": "",
            "zerolinecolor": "white"
           }
          },
          "shapedefaults": {
           "line": {
            "color": "#2a3f5f"
           }
          },
          "ternary": {
           "aaxis": {
            "gridcolor": "white",
            "linecolor": "white",
            "ticks": ""
           },
           "baxis": {
            "gridcolor": "white",
            "linecolor": "white",
            "ticks": ""
           },
           "bgcolor": "#E5ECF6",
           "caxis": {
            "gridcolor": "white",
            "linecolor": "white",
            "ticks": ""
           }
          },
          "title": {
           "x": 0.05
          },
          "xaxis": {
           "automargin": true,
           "gridcolor": "white",
           "linecolor": "white",
           "ticks": "",
           "title": {
            "standoff": 15
           },
           "zerolinecolor": "white",
           "zerolinewidth": 2
          },
          "yaxis": {
           "automargin": true,
           "gridcolor": "white",
           "linecolor": "white",
           "ticks": "",
           "title": {
            "standoff": 15
           },
           "zerolinecolor": "white",
           "zerolinewidth": 2
          }
         }
        }
       }
      }
     },
     "metadata": {},
     "output_type": "display_data"
    }
   ],
   "source": [
    "#Il faut accepter que le champ soit aberrant sur la surface à cause de la discrétisation -> limite de la modélisation.\n",
    "\n",
    "k= 1/(4*np.pi*cst.epsilon_0)\n",
    "test = disque(2, 0 , 0.5)\n",
    "\n",
    "point = np.array([0,0,0.1])\n",
    "\n",
    "q = calculer_charge(1e-9, test.nb_points)\n",
    "u = -1*test.translate(-point)\n",
    "\n",
    "norme = u.norm()\n",
    "vect = np.sum(k*q*u.XYZ/norme**3,axis=1)\n",
    "\n",
    "print(vect)\n",
    "\n",
    "fig = go.Figure()\n",
    "\n",
    "fig.add_traces(go.Scatter3d(\n",
    "    x = test.X,\n",
    "    y = test.Y,\n",
    "    z = test.Z,\n",
    "    mode=\"markers\",\n",
    "    marker=dict(size=1))\n",
    ")\n",
    "\n",
    "fig.add_traces(go.Scatter3d(\n",
    "    x = [point[0],point[0] + vect[0]],\n",
    "    y = [point[1],point[1] + vect[1]],\n",
    "    z = [point[2],point[2] + vect[2]],\n",
    "    mode=\"lines+markers\",\n",
    "    marker=dict(size=3))\n",
    ")\n",
    "\n",
    "fig.add_traces(go.Scatter3d(\n",
    "    x = [0, point[0]],\n",
    "    y = [0, point[1]], \n",
    "    z = [0, point[2]],\n",
    "    mode=\"lines+markers\",\n",
    "    marker=dict(size=3)))\n"
   ]
  },
  {
   "cell_type": "code",
   "execution_count": 387,
   "metadata": {},
   "outputs": [],
   "source": [
    "def calcule_champ(distribution : Maillage, maillage : Maillage, charge : float) :\n",
    "    k= 1/(4*np.pi*cst.epsilon_0)\n",
    "    V = []\n",
    "    for i in range(maillage.XYZ.shape[1]) : \n",
    "        point = maillage.XYZ[:,i]\n",
    "        \n",
    "        u = (-1*distribution).translate(point)\n",
    "        norme = u.norm()\n",
    "        norme[abs(norme) < 0.01] = 1e30\n",
    "        resultat = k*charge*u.XYZ/norme**3\n",
    "        vect = np.sum(resultat,axis=1)\n",
    "        V.append(vect)\n",
    "    return V\n",
    "\n"
   ]
  },
  {
   "cell_type": "code",
   "execution_count": 388,
   "metadata": {},
   "outputs": [],
   "source": [
    "def calcule_champ(distribution : Maillage, maillage : Maillage, charge : float):\n",
    "    k = 1 / (4 * np.pi * cst.epsilon_0)\n",
    "    V = []\n",
    "    for i in range(maillage.XYZ.shape[1]):\n",
    "        point = maillage.XYZ[:, i]\n",
    "        \n",
    "        u = (-1 * distribution).translate(point)\n",
    "        norme = u.norm()\n",
    "        masque = norme >= 0.01  # Ne garde que les points à distance raisonnable\n",
    "        if np.any(masque):\n",
    "            u_XYZ_filtré = u.XYZ[:, masque]\n",
    "            norme_filtré = norme[masque]\n",
    "            resultat = k * charge * u_XYZ_filtré / (norme_filtré)**3\n",
    "            vect = np.sum(resultat, axis=1)\n",
    "        else:\n",
    "            vect = np.zeros(3)\n",
    "            \n",
    "        V.append(vect)\n",
    "\n",
    "    return V\n"
   ]
  },
  {
   "cell_type": "code",
   "execution_count": 389,
   "metadata": {},
   "outputs": [
    {
     "data": {
      "image/png": "[encoded data removed]",
      "text/plain": [
       "<Figure size 640x480 with 1 Axes>"
      ]
     },
     "metadata": {},
     "output_type": "display_data"
    }
   ],
   "source": [
    "Y = []\n",
    "X = np.arange(0.1,1,0.1)\n",
    "\n",
    "for n in X :\n",
    "    plan = disque(2,0, n)\n",
    "    q = calculer_charge(1e-10,plan.nb_points)\n",
    "    k= 1/(4*np.pi*cst.epsilon_0)\n",
    "    point = np.array([0,0.1,0])\n",
    "    u = -1*plan.translate(-point)\n",
    "\n",
    "    norme = u.norm()\n",
    "    vect = np.sum(k*q*u.XYZ/norme**3,axis=1)\n",
    "    Y.append(vect[1])\n",
    "\n",
    "plt.scatter(X,Y)\n",
    "plt.gca().invert_xaxis() \n",
    "plt.xlabel(\"Valeur du pas (m)\")\n",
    "plt.ylabel(\"Valeur du champ créé en un point de la surface (V/m)\")\n",
    "plt.show()"
   ]
  },
  {
   "cell_type": "code",
   "execution_count": 390,
   "metadata": {},
   "outputs": [
    {
     "data": {
      "application/vnd.plotly.v1+json": {
       "config": {
        "plotlyServerURL": "https://plot.ly"
       },
       "data": [
        {
         "marker": {
          "size": 1
         },
         "mode": "markers",
         "type": "scatter3d",
         "x": {
          "bdata": "AAAAAAAAAMAAAAAAAADwvwAAAAAAAAAAAAAAAAAA8D8AAAAAAAAAQAAAAAAAAADAAAAAAAAA8L8AAAAAAAAAAAAAAAAAAPA/AAAAAAAAAEAAAAAAAAAAwAAAAAAAAPC/AAAAAAAAAAAAAAAAAADwPwAAAAAAAABAAAAAAAAAAMAAAAAAAADwvwAAAAAAAAAAAAAAAAAA8D8AAAAAAAAAQAAAAAAAAADAAAAAAAAA8L8AAAAAAAAAAAAAAAAAAPA/AAAAAAAAAEA=",
          "dtype": "f8"
         },
         "y": {
          "bdata": "AAAAAAAAAMAAAAAAAAAAwAAAAAAAAADAAAAAAAAAAMAAAAAAAAAAwAAAAAAAAPC/AAAAAAAA8L8AAAAAAADwvwAAAAAAAPC/AAAAAAAA8L8AAAAAAAAAAAAAAAAAAAAAAAAAAAAAAAAAAAAAAAAAAAAAAAAAAAAAAAAAAAAA8D8AAAAAAADwPwAAAAAAAPA/AAAAAAAA8D8AAAAAAADwPwAAAAAAAABAAAAAAAAAAEAAAAAAAAAAQAAAAAAAAABAAAAAAAAAAEA=",
          "dtype": "f8"
         },
         "z": {
          "bdata": "AAAAAAAAAAAAAAAAAAAAAAAAAAAAAAAAAAAAAAAAAAAAAAAAAAAAAAAAAAAAAAAAAAAAAAAAAAAAAAAAAAAAAAAAAAAAAAAAAAAAAAAAAAAAAAAAAAAAAAAAAAAAAAAAAAAAAAAAAAAAAAAAAAAAAAAAAAAAAAAAAAAAAAAAAAAAAAAAAAAAAAAAAAAAAAAAAAAAAAAAAAAAAAAAAAAAAAAAAAAAAAAAAAAAAAAAAAAAAAAAAAAAAAAAAAAAAAAAAAAAAAAAAAA=",
          "dtype": "f8"
         }
        },
        {
         "marker": {
          "color": "red",
          "size": 3
         },
         "mode": "lines+markers",
         "showlegend": false,
         "type": "scatter3d",
         "x": [
          -2,
          -2.574505442255311
         ],
         "y": [
          -2,
          -2.574505442255311
         ],
         "z": [
          1,
          1.9044169527519568
         ]
        },
        {
         "marker": {
          "color": "red",
          "size": 3
         },
         "mode": "lines+markers",
         "showlegend": false,
         "type": "scatter3d",
         "x": [
          -1,
          -1.2664724239727319
         ],
         "y": [
          -2,
          -2.7131061334132216
         ],
         "z": [
          1,
          2.121548598986159
         ]
        },
        {
         "marker": {
          "color": "red",
          "size": 3
         },
         "mode": "lines+markers",
         "showlegend": false,
         "type": "scatter3d",
         "x": [
          0,
          -5.204170427930421e-18
         ],
         "y": [
          -2,
          -2.752279450876394
         ],
         "z": [
          1,
          2.166940095032613
         ]
        },
        {
         "marker": {
          "color": "red",
          "size": 3
         },
         "mode": "lines+markers",
         "showlegend": false,
         "type": "scatter3d",
         "x": [
          1,
          1.2664724239727319
         ],
         "y": [
          -2,
          -2.7131061334132216
         ],
         "z": [
          1,
          2.121548598986159
         ]
        },
        {
         "marker": {
          "color": "red",
          "size": 3
         },
         "mode": "lines+markers",
         "showlegend": false,
         "type": "scatter3d",
         "x": [
          2,
          2.574505442255311
         ],
         "y": [
          -2,
          -2.574505442255311
         ],
         "z": [
          1,
          1.9044169527519568
         ]
        },
        {
         "marker": {
          "color": "red",
          "size": 3
         },
         "mode": "lines+markers",
         "showlegend": false,
         "type": "scatter3d",
         "x": [
          -2,
          -2.7131061334132216
         ],
         "y": [
          -1,
          -1.2664724239727319
         ],
         "z": [
          1,
          2.121548598986159
         ]
        },
        {
         "marker": {
          "color": "red",
          "size": 3
         },
         "mode": "lines+markers",
         "showlegend": false,
         "type": "scatter3d",
         "x": [
          -1,
          -1.3293499435232858
         ],
         "y": [
          -1,
          -1.3293499435232858
         ],
         "z": [
          1,
          2.4003478033940397
         ]
        },
        {
         "marker": {
          "color": "red",
          "size": 3
         },
         "mode": "lines+markers",
         "showlegend": false,
         "type": "scatter3d",
         "x": [
          0,
          -5.204170427930421e-18
         ],
         "y": [
          -1,
          -1.3498202164676998
         ],
         "z": [
          1,
          2.459322315759813
         ]
        },
        {
         "marker": {
          "color": "red",
          "size": 3
         },
         "mode": "lines+markers",
         "showlegend": false,
         "type": "scatter3d",
         "x": [
          1,
          1.3293499435232858
         ],
         "y": [
          -1,
          -1.3293499435232858
         ],
         "z": [
          1,
          2.40034780339404
         ]
        },
        {
         "marker": {
          "color": "red",
          "size": 3
         },
         "mode": "lines+markers",
         "showlegend": false,
         "type": "scatter3d",
         "x": [
          2,
          2.713106133413222
         ],
         "y": [
          -1,
          -1.2664724239727319
         ],
         "z": [
          1,
          2.121548598986159
         ]
        },
        {
         "marker": {
          "color": "red",
          "size": 3
         },
         "mode": "lines+markers",
         "showlegend": false,
         "type": "scatter3d",
         "x": [
          -2,
          -2.7522794508763946
         ],
         "y": [
          0,
          -1.214306433183765e-17
         ],
         "z": [
          1,
          2.166940095032613
         ]
        },
        {
         "marker": {
          "color": "red",
          "size": 3
         },
         "mode": "lines+markers",
         "showlegend": false,
         "type": "scatter3d",
         "x": [
          -1,
          -1.3498202164676998
         ],
         "y": [
          0,
          5.204170427930421e-18
         ],
         "z": [
          1,
          2.4593223157598136
         ]
        },
        {
         "marker": {
          "color": "red",
          "size": 3
         },
         "mode": "lines+markers",
         "showlegend": false,
         "type": "scatter3d",
         "x": [
          0,
          -3.469446951953614e-18
         ],
         "y": [
          0,
          0
         ],
         "z": [
          1,
          2.5222266789781616
         ]
        },
        {
         "marker": {
          "color": "red",
          "size": 3
         },
         "mode": "lines+markers",
         "showlegend": false,
         "type": "scatter3d",
         "x": [
          1,
          1.3498202164676998
         ],
         "y": [
          0,
          6.938893903907228e-18
         ],
         "z": [
          1,
          2.459322315759814
         ]
        },
        {
         "marker": {
          "color": "red",
          "size": 3
         },
         "mode": "lines+markers",
         "showlegend": false,
         "type": "scatter3d",
         "x": [
          2,
          2.7522794508763946
         ],
         "y": [
          0,
          -2.7755575615628914e-17
         ],
         "z": [
          1,
          2.166940095032613
         ]
        },
        {
         "marker": {
          "color": "red",
          "size": 3
         },
         "mode": "lines+markers",
         "showlegend": false,
         "type": "scatter3d",
         "x": [
          -2,
          -2.713106133413222
         ],
         "y": [
          1,
          1.2664724239727319
         ],
         "z": [
          1,
          2.121548598986159
         ]
        },
        {
         "marker": {
          "color": "red",
          "size": 3
         },
         "mode": "lines+markers",
         "showlegend": false,
         "type": "scatter3d",
         "x": [
          -1,
          -1.3293499435232858
         ],
         "y": [
          1,
          1.3293499435232858
         ],
         "z": [
          1,
          2.40034780339404
         ]
        },
        {
         "marker": {
          "color": "red",
          "size": 3
         },
         "mode": "lines+markers",
         "showlegend": false,
         "type": "scatter3d",
         "x": [
          0,
          -6.938893903907228e-18
         ],
         "y": [
          1,
          1.3498202164676998
         ],
         "z": [
          1,
          2.459322315759814
         ]
        },
        {
         "marker": {
          "color": "red",
          "size": 3
         },
         "mode": "lines+markers",
         "showlegend": false,
         "type": "scatter3d",
         "x": [
          1,
          1.3293499435232858
         ],
         "y": [
          1,
          1.3293499435232858
         ],
         "z": [
          1,
          2.4003478033940397
         ]
        },
        {
         "marker": {
          "color": "red",
          "size": 3
         },
         "mode": "lines+markers",
         "showlegend": false,
         "type": "scatter3d",
         "x": [
          2,
          2.713106133413222
         ],
         "y": [
          1,
          1.2664724239727319
         ],
         "z": [
          1,
          2.121548598986159
         ]
        },
        {
         "marker": {
          "color": "red",
          "size": 3
         },
         "mode": "lines+markers",
         "showlegend": false,
         "type": "scatter3d",
         "x": [
          -2,
          -2.574505442255311
         ],
         "y": [
          2,
          2.574505442255311
         ],
         "z": [
          1,
          1.9044169527519568
         ]
        },
        {
         "marker": {
          "color": "red",
          "size": 3
         },
         "mode": "lines+markers",
         "showlegend": false,
         "type": "scatter3d",
         "x": [
          -1,
          -1.2664724239727319
         ],
         "y": [
          2,
          2.713106133413222
         ],
         "z": [
          1,
          2.121548598986159
         ]
        },
        {
         "marker": {
          "color": "red",
          "size": 3
         },
         "mode": "lines+markers",
         "showlegend": false,
         "type": "scatter3d",
         "x": [
          0,
          0
         ],
         "y": [
          2,
          2.7522794508763946
         ],
         "z": [
          1,
          2.166940095032613
         ]
        },
        {
         "marker": {
          "color": "red",
          "size": 3
         },
         "mode": "lines+markers",
         "showlegend": false,
         "type": "scatter3d",
         "x": [
          1,
          1.2664724239727319
         ],
         "y": [
          2,
          2.713106133413222
         ],
         "z": [
          1,
          2.121548598986159
         ]
        },
        {
         "marker": {
          "color": "red",
          "size": 3
         },
         "mode": "lines+markers",
         "showlegend": false,
         "type": "scatter3d",
         "x": [
          2,
          2.574505442255311
         ],
         "y": [
          2,
          2.574505442255311
         ],
         "z": [
          1,
          1.9044169527519568
         ]
        }
       ],
       "layout": {
        "template": {
         "data": {
          "bar": [
           {
            "error_x": {
             "color": "#2a3f5f"
            },
            "error_y": {
             "color": "#2a3f5f"
            },
            "marker": {
             "line": {
              "color": "#E5ECF6",
              "width": 0.5
             },
             "pattern": {
              "fillmode": "overlay",
              "size": 10,
              "solidity": 0.2
             }
            },
            "type": "bar"
           }
          ],
          "barpolar": [
           {
            "marker": {
             "line": {
              "color": "#E5ECF6",
              "width": 0.5
             },
             "pattern": {
              "fillmode": "overlay",
              "size": 10,
              "solidity": 0.2
             }
            },
            "type": "barpolar"
           }
          ],
          "carpet": [
           {
            "aaxis": {
             "endlinecolor": "#2a3f5f",
             "gridcolor": "white",
             "linecolor": "white",
             "minorgridcolor": "white",
             "startlinecolor": "#2a3f5f"
            },
            "baxis": {
             "endlinecolor": "#2a3f5f",
             "gridcolor": "white",
             "linecolor": "white",
             "minorgridcolor": "white",
             "startlinecolor": "#2a3f5f"
            },
            "type": "carpet"
           }
          ],
          "choropleth": [
           {
            "colorbar": {
             "outlinewidth": 0,
             "ticks": ""
            },
            "type": "choropleth"
           }
          ],
          "contour": [
           {
            "colorbar": {
             "outlinewidth": 0,
             "ticks": ""
            },
            "colorscale": [
             [
              0,
              "#0d0887"
             ],
             [
              0.1111111111111111,
              "#46039f"
             ],
             [
              0.2222222222222222,
              "#7201a8"
             ],
             [
              0.3333333333333333,
              "#9c179e"
             ],
             [
              0.4444444444444444,
              "#bd3786"
             ],
             [
              0.5555555555555556,
              "#d8576b"
             ],
             [
              0.6666666666666666,
              "#ed7953"
             ],
             [
              0.7777777777777778,
              "#fb9f3a"
             ],
             [
              0.8888888888888888,
              "#fdca26"
             ],
             [
              1,
              "#f0f921"
             ]
            ],
            "type": "contour"
           }
          ],
          "contourcarpet": [
           {
            "colorbar": {
             "outlinewidth": 0,
             "ticks": ""
            },
            "type": "contourcarpet"
           }
          ],
          "heatmap": [
           {
            "colorbar": {
             "outlinewidth": 0,
             "ticks": ""
            },
            "colorscale": [
             [
              0,
              "#0d0887"
             ],
             [
              0.1111111111111111,
              "#46039f"
             ],
             [
              0.2222222222222222,
              "#7201a8"
             ],
             [
              0.3333333333333333,
              "#9c179e"
             ],
             [
              0.4444444444444444,
              "#bd3786"
             ],
             [
              0.5555555555555556,
              "#d8576b"
             ],
             [
              0.6666666666666666,
              "#ed7953"
             ],
             [
              0.7777777777777778,
              "#fb9f3a"
             ],
             [
              0.8888888888888888,
              "#fdca26"
             ],
             [
              1,
              "#f0f921"
             ]
            ],
            "type": "heatmap"
           }
          ],
          "histogram": [
           {
            "marker": {
             "pattern": {
              "fillmode": "overlay",
              "size": 10,
              "solidity": 0.2
             }
            },
            "type": "histogram"
           }
          ],
          "histogram2d": [
           {
            "colorbar": {
             "outlinewidth": 0,
             "ticks": ""
            },
            "colorscale": [
             [
              0,
              "#0d0887"
             ],
             [
              0.1111111111111111,
              "#46039f"
             ],
             [
              0.2222222222222222,
              "#7201a8"
             ],
             [
              0.3333333333333333,
              "#9c179e"
             ],
             [
              0.4444444444444444,
              "#bd3786"
             ],
             [
              0.5555555555555556,
              "#d8576b"
             ],
             [
              0.6666666666666666,
              "#ed7953"
             ],
             [
              0.7777777777777778,
              "#fb9f3a"
             ],
             [
              0.8888888888888888,
              "#fdca26"
             ],
             [
              1,
              "#f0f921"
             ]
            ],
            "type": "histogram2d"
           }
          ],
          "histogram2dcontour": [
           {
            "colorbar": {
             "outlinewidth": 0,
             "ticks": ""
            },
            "colorscale": [
             [
              0,
              "#0d0887"
             ],
             [
              0.1111111111111111,
              "#46039f"
             ],
             [
              0.2222222222222222,
              "#7201a8"
             ],
             [
              0.3333333333333333,
              "#9c179e"
             ],
             [
              0.4444444444444444,
              "#bd3786"
             ],
             [
              0.5555555555555556,
              "#d8576b"
             ],
             [
              0.6666666666666666,
              "#ed7953"
             ],
             [
              0.7777777777777778,
              "#fb9f3a"
             ],
             [
              0.8888888888888888,
              "#fdca26"
             ],
             [
              1,
              "#f0f921"
             ]
            ],
            "type": "histogram2dcontour"
           }
          ],
          "mesh3d": [
           {
            "colorbar": {
             "outlinewidth": 0,
             "ticks": ""
            },
            "type": "mesh3d"
           }
          ],
          "parcoords": [
           {
            "line": {
             "colorbar": {
              "outlinewidth": 0,
              "ticks": ""
             }
            },
            "type": "parcoords"
           }
          ],
          "pie": [
           {
            "automargin": true,
            "type": "pie"
           }
          ],
          "scatter": [
           {
            "fillpattern": {
             "fillmode": "overlay",
             "size": 10,
             "solidity": 0.2
            },
            "type": "scatter"
           }
          ],
          "scatter3d": [
           {
            "line": {
             "colorbar": {
              "outlinewidth": 0,
              "ticks": ""
             }
            },
            "marker": {
             "colorbar": {
              "outlinewidth": 0,
              "ticks": ""
             }
            },
            "type": "scatter3d"
           }
          ],
          "scattercarpet": [
           {
            "marker": {
             "colorbar": {
              "outlinewidth": 0,
              "ticks": ""
             }
            },
            "type": "scattercarpet"
           }
          ],
          "scattergeo": [
           {
            "marker": {
             "colorbar": {
              "outlinewidth": 0,
              "ticks": ""
             }
            },
            "type": "scattergeo"
           }
          ],
          "scattergl": [
           {
            "marker": {
             "colorbar": {
              "outlinewidth": 0,
              "ticks": ""
             }
            },
            "type": "scattergl"
           }
          ],
          "scattermap": [
           {
            "marker": {
             "colorbar": {
              "outlinewidth": 0,
              "ticks": ""
             }
            },
            "type": "scattermap"
           }
          ],
          "scattermapbox": [
           {
            "marker": {
             "colorbar": {
              "outlinewidth": 0,
              "ticks": ""
             }
            },
            "type": "scattermapbox"
           }
          ],
          "scatterpolar": [
           {
            "marker": {
             "colorbar": {
              "outlinewidth": 0,
              "ticks": ""
             }
            },
            "type": "scatterpolar"
           }
          ],
          "scatterpolargl": [
           {
            "marker": {
             "colorbar": {
              "outlinewidth": 0,
              "ticks": ""
             }
            },
            "type": "scatterpolargl"
           }
          ],
          "scatterternary": [
           {
            "marker": {
             "colorbar": {
              "outlinewidth": 0,
              "ticks": ""
             }
            },
            "type": "scatterternary"
           }
          ],
          "surface": [
           {
            "colorbar": {
             "outlinewidth": 0,
             "ticks": ""
            },
            "colorscale": [
             [
              0,
              "#0d0887"
             ],
             [
              0.1111111111111111,
              "#46039f"
             ],
             [
              0.2222222222222222,
              "#7201a8"
             ],
             [
              0.3333333333333333,
              "#9c179e"
             ],
             [
              0.4444444444444444,
              "#bd3786"
             ],
             [
              0.5555555555555556,
              "#d8576b"
             ],
             [
              0.6666666666666666,
              "#ed7953"
             ],
             [
              0.7777777777777778,
              "#fb9f3a"
             ],
             [
              0.8888888888888888,
              "#fdca26"
             ],
             [
              1,
              "#f0f921"
             ]
            ],
            "type": "surface"
           }
          ],
          "table": [
           {
            "cells": {
             "fill": {
              "color": "#EBF0F8"
             },
             "line": {
              "color": "white"
             }
            },
            "header": {
             "fill": {
              "color": "#C8D4E3"
             },
             "line": {
              "color": "white"
             }
            },
            "type": "table"
           }
          ]
         },
         "layout": {
          "annotationdefaults": {
           "arrowcolor": "#2a3f5f",
           "arrowhead": 0,
           "arrowwidth": 1
          },
          "autotypenumbers": "strict",
          "coloraxis": {
           "colorbar": {
            "outlinewidth": 0,
            "ticks": ""
           }
          },
          "colorscale": {
           "diverging": [
            [
             0,
             "#8e0152"
            ],
            [
             0.1,
             "#c51b7d"
            ],
            [
             0.2,
             "#de77ae"
            ],
            [
             0.3,
             "#f1b6da"
            ],
            [
             0.4,
             "#fde0ef"
            ],
            [
             0.5,
             "#f7f7f7"
            ],
            [
             0.6,
             "#e6f5d0"
            ],
            [
             0.7,
             "#b8e186"
            ],
            [
             0.8,
             "#7fbc41"
            ],
            [
             0.9,
             "#4d9221"
            ],
            [
             1,
             "#276419"
            ]
           ],
           "sequential": [
            [
             0,
             "#0d0887"
            ],
            [
             0.1111111111111111,
             "#46039f"
            ],
            [
             0.2222222222222222,
             "#7201a8"
            ],
            [
             0.3333333333333333,
             "#9c179e"
            ],
            [
             0.4444444444444444,
             "#bd3786"
            ],
            [
             0.5555555555555556,
             "#d8576b"
            ],
            [
             0.6666666666666666,
             "#ed7953"
            ],
            [
             0.7777777777777778,
             "#fb9f3a"
            ],
            [
             0.8888888888888888,
             "#fdca26"
            ],
            [
             1,
             "#f0f921"
            ]
           ],
           "sequentialminus": [
            [
             0,
             "#0d0887"
            ],
            [
             0.1111111111111111,
             "#46039f"
            ],
            [
             0.2222222222222222,
             "#7201a8"
            ],
            [
             0.3333333333333333,
             "#9c179e"
            ],
            [
             0.4444444444444444,
             "#bd3786"
            ],
            [
             0.5555555555555556,
             "#d8576b"
            ],
            [
             0.6666666666666666,
             "#ed7953"
            ],
            [
             0.7777777777777778,
             "#fb9f3a"
            ],
            [
             0.8888888888888888,
             "#fdca26"
            ],
            [
             1,
             "#f0f921"
            ]
           ]
          },
          "colorway": [
           "#636efa",
           "#EF553B",
           "#00cc96",
           "#ab63fa",
           "#FFA15A",
           "#19d3f3",
           "#FF6692",
           "#B6E880",
           "#FF97FF",
           "#FECB52"
          ],
          "font": {
           "color": "#2a3f5f"
          },
          "geo": {
           "bgcolor": "white",
           "lakecolor": "white",
           "landcolor": "#E5ECF6",
           "showlakes": true,
           "showland": true,
           "subunitcolor": "white"
          },
          "hoverlabel": {
           "align": "left"
          },
          "hovermode": "closest",
          "mapbox": {
           "style": "light"
          },
          "paper_bgcolor": "white",
          "plot_bgcolor": "#E5ECF6",
          "polar": {
           "angularaxis": {
            "gridcolor": "white",
            "linecolor": "white",
            "ticks": ""
           },
           "bgcolor": "#E5ECF6",
           "radialaxis": {
            "gridcolor": "white",
            "linecolor": "white",
            "ticks": ""
           }
          },
          "scene": {
           "xaxis": {
            "backgroundcolor": "#E5ECF6",
            "gridcolor": "white",
            "gridwidth": 2,
            "linecolor": "white",
            "showbackground": true,
            "ticks": "",
            "zerolinecolor": "white"
           },
           "yaxis": {
            "backgroundcolor": "#E5ECF6",
            "gridcolor": "white",
            "gridwidth": 2,
            "linecolor": "white",
            "showbackground": true,
            "ticks": "",
            "zerolinecolor": "white"
           },
           "zaxis": {
            "backgroundcolor": "#E5ECF6",
            "gridcolor": "white",
            "gridwidth": 2,
            "linecolor": "white",
            "showbackground": true,
            "ticks": "",
            "zerolinecolor": "white"
           }
          },
          "shapedefaults": {
           "line": {
            "color": "#2a3f5f"
           }
          },
          "ternary": {
           "aaxis": {
            "gridcolor": "white",
            "linecolor": "white",
            "ticks": ""
           },
           "baxis": {
            "gridcolor": "white",
            "linecolor": "white",
            "ticks": ""
           },
           "bgcolor": "#E5ECF6",
           "caxis": {
            "gridcolor": "white",
            "linecolor": "white",
            "ticks": ""
           }
          },
          "title": {
           "x": 0.05
          },
          "xaxis": {
           "automargin": true,
           "gridcolor": "white",
           "linecolor": "white",
           "ticks": "",
           "title": {
            "standoff": 15
           },
           "zerolinecolor": "white",
           "zerolinewidth": 2
          },
          "yaxis": {
           "automargin": true,
           "gridcolor": "white",
           "linecolor": "white",
           "ticks": "",
           "title": {
            "standoff": 15
           },
           "zerolinecolor": "white",
           "zerolinewidth": 2
          }
         }
        }
       }
      }
     },
     "metadata": {},
     "output_type": "display_data"
    },
    {
     "name": "stdout",
     "output_type": "stream",
     "text": [
      "0.9044169527519568\n"
     ]
    }
   ],
   "source": [
    "#distribution = disque(2,0, 0.01)\n",
    "distribution = creer_plan(-2,2,-2,2,lambda x,y : 0,1,1)\n",
    "#maillage = plan(2,1, 0.5)\n",
    "#maillage = Maillage(*np.array([0,0,0.00001]))\n",
    "maillage = creer_plan(-2,2,-2,2,lambda x,y : 1,1,1)\n",
    "q = calculer_charge(1e-9,distribution.nb_points)\n",
    "\n",
    "\n",
    "vect = calcule_champ(distribution,maillage,q)\n",
    "\n",
    "fig = go.Figure()\n",
    "fig.add_traces(go.Scatter3d(x=distribution.X,y=distribution.Y,z=distribution.Z,mode=\"markers\", marker=dict(size=1)))\n",
    "\n",
    "for i in range(maillage.XYZ.shape[1]) : \n",
    "    fig.add_traces(go.Scatter3d(x= [maillage.XYZ[0,i],maillage.XYZ[0,i] + vect[i][0]],\n",
    "                                y= [maillage.XYZ[1,i],maillage.XYZ[1,i] + vect[i][1]],\n",
    "                                z= [maillage.XYZ[2,i],maillage.XYZ[2,i] + vect[i][2]],\n",
    "                                mode=\"lines+markers\", marker=dict(size=3, color=\"red\"), showlegend=False))\n",
    "fig.show()\n",
    "                                \n",
    "print(vect[0][2])"
   ]
  },
  {
   "cell_type": "code",
   "execution_count": 398,
   "metadata": {},
   "outputs": [
    {
     "name": "stdout",
     "output_type": "stream",
     "text": [
      "3.469799727465856 %, 59 points.\n"
     ]
    },
    {
     "data": {
      "image/png": "[encoded data removed]",
      "text/plain": [
       "<Figure size 640x480 with 1 Axes>"
      ]
     },
     "metadata": {},
     "output_type": "display_data"
    }
   ],
   "source": [
    "Y = []\n",
    "X = np.arange(0.01,0.6,0.01)\n",
    "rayon = 0.5\n",
    "dimension = 0.1\n",
    "charge = 1e-9\n",
    "valeur_theorique = charge / (2*cst.epsilon_0*np.pi*rayon**2)\n",
    "\n",
    "#Les limites du modèle (discrétisation notamment) se prennent le dessus dès lors que l'altitude est inférieure au pas de discrétisation du maillage, il est donc recommandé de se placer à une altitude supérieure au pas.\n",
    "\n",
    "for altitude in X:\n",
    "    #distribution = creer_maillage_cartesien(-dimension,dimension,-dimension,dimension,0,0, 0.001)\n",
    "    distribution = disque(rayon, 0, 0.005)\n",
    "    maillage = Maillage(*np.array([0,0,altitude]))\n",
    "    q = calculer_charge(charge,distribution.nb_points)\n",
    "    vect = calcule_champ(distribution,maillage,q)\n",
    "    Y.append(abs(vect[0][2] - valeur_theorique)/valeur_theorique*100)\n",
    "    \n",
    "print(f'{Y[0]} %, {len(Y)} points.')\n",
    "plt.xlabel(\"altitude à la plaque (m)\")\n",
    "plt.ylabel(\"Erreur plaque infinie (%)\")\n",
    "plt.yticks(np.arange(0, 101, 5))\n",
    "plt.scatter(X,Y)\n",
    "plt.show()"
   ]
  },
  {
   "cell_type": "code",
   "execution_count": 392,
   "metadata": {},
   "outputs": [],
   "source": [
    "commentaire = {0.001 : 2.4831374361190615}"
   ]
  }
 ],
 "metadata": {
  "kernelspec": {
   "display_name": "Python 3",
   "language": "python",
   "name": "python3"
  },
  "language_info": {
   "codemirror_mode": {
    "name": "ipython",
    "version": 3
   },
   "file_extension": ".py",
   "mimetype": "text/x-python",
   "name": "python",
   "nbconvert_exporter": "python",
   "pygments_lexer": "ipython3",
   "version": "3.12.2"
  }
 },
 "nbformat": 4,
 "nbformat_minor": 2
}
