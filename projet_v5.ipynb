{
 "cells": [
  {
   "cell_type": "code",
   "execution_count": 55,
   "metadata": {},
   "outputs": [],
   "source": [
    "import plotly.graph_objects as go \n",
    "import numpy as np"
   ]
  },
  {
   "cell_type": "code",
   "execution_count": 102,
   "metadata": {},
   "outputs": [],
   "source": [
    "\n",
    "class Maillage : \n",
    "    def __init__(self,X : np.ndarray ,Y : np.ndarray,Z : np.ndarray) :         \n",
    "        if (size := X.size) == Y.size == Z.size : \n",
    "            X,Y,Z = X.flatten(),Y.flatten(),Z.flatten()\n",
    "            self.X = X\n",
    "            self.Y = Y\n",
    "            self.Z = Z\n",
    "            self.XYZ = X,Y,Z\n",
    "            self.nb_points = size\n",
    "            self.nb_points_droite = np.cbrt(size)\n",
    "            self.nb_points_plan = self.nb_points_droite**2\n",
    "            self.val_min = self[0]\n",
    "            self.val_max = self[size-1]\n",
    "            self.pas = round((self.val_max[0] - self.val_min[0]) / self.nb_points_droite, 2)\n",
    "                 \n",
    "    def __add__(self,maillage : \"Maillage\") -> \"Maillage\" : \n",
    "        X,Y,Z = np.concatenate((self.X,maillage.X)),np.concatenate((self.Y,maillage.Y)),np.concatenate((self.Z,maillage.Z))\n",
    "        return Maillage(X,Y,Z)\n",
    "    \n",
    "    def __getitem__(self,index : int) -> \"Maillage\" : \n",
    "        return self.X[index],self.Y[index],self.Z[index]\n",
    "    \n",
    "    def __delitem__(self,index : int) : \n",
    "        X = np.concatenate((self.X[:index], self.X[index+1:]))\n",
    "        Y = np.concatenate((self.Y[:index], self.Y[index+1:]))\n",
    "        Z = np.concatenate((self.Z[:index], self.Z[index+1:]))\n",
    "        \n",
    "        maillage = Maillage(X,Y,Z)\n",
    "        \n",
    "        for attr in list(self.__dict__.keys()) : \n",
    "            setattr(self,attr, getattr(maillage,attr))\n",
    "     \n",
    "    def __eq__(self, maillage : \"Maillage\"):\n",
    "        return np.array_equal(self.X, maillage.X) and \\\n",
    "               np.array_equal(self.Y, maillage.Y) and \\\n",
    "               np.array_equal(self.Z, maillage.Z)\n",
    "               \n",
    "    def add_point(self,point : np.ndarray) -> \"Maillage\" : \n",
    "        if point.shape == (3,) : \n",
    "            X = self.X + point[0]\n",
    "            Y = self.Y + point[1]\n",
    "            Z = self.Z + point[2]\n",
    "            return Maillage(X,Y,Z) \n",
    "        raise ValueError(\"Un point est nécéssairement de dimension (3,)\")\n",
    "    \n",
    "    def norm(self) -> np.ndarray : \n",
    "        return np.sqrt(self.X**2 + self.Y**2 + self.Z**2)\n",
    "    \n",
    "    def afficher(self):\n",
    "        fig = go.Figure(data=[go.Scatter3d(x=self.X, y=self.Y, z=self.Z, mode='markers',marker=dict(size=2))])\n",
    "        fig.show()"
   ]
  },
  {
   "cell_type": "code",
   "execution_count": 104,
   "metadata": {},
   "outputs": [],
   "source": [
    "\n",
    "def creer_maillage_cartesien(x_min : float, x_max : float, y_min : float, y_max : float, z_min : float, z_max : float, pas_du_maillage : float) -> Maillage:\n",
    "    \"\"\"\n",
    "    Entrées:\n",
    "\n",
    "        - x_min : la valeur minimale en x du maillage (Exemple : x_min = -2.5). Le signe est quelconque et la valeur doit être différente de x_max.\n",
    "        - y_min : la valeur minimale en y du maillage (Exemple : y_min = -2.5). Le signe est quelconque et la valeur doit être différente de y_max.\n",
    "        - z_min : la valeur minimale en z du maillage (Exemple : z_min = -2.5). Le signe est quelconque et la valeur doit être différente de z_max.\n",
    "\n",
    "        - x_max : la valeur maximale en x du maillage (Exemple : x_max = 2.5). Le signe est quelconque et la valeur doit être différente de x_min.\n",
    "        - y_max : la valeur maximale en y du maillage (Exemple : y_max = 2.5). Le signe est quelconque et la valeur doit être différente de y_min.\n",
    "        - z_max : la valeur maximale en z du maillage (Exemple : z_max = 2.5). Le signe est quelconque et la valeur doit être différente de z_min.\n",
    "\n",
    "        - pas_du_maillage : \n",
    "            \n",
    "            * Distance séparant 2 points (non diagonnaux) du maillage. \n",
    "            \n",
    "            * Il est de préférence un diviseur de (x_max - x_min) et de (y_max - y_min) et (z_max - z_min). \n",
    "            \n",
    "            * Éviter un pas égal à 0.3 ou quelconque multiple de 0.3 ainsi que les nombres premiers par exemple. \n",
    "            \n",
    "            * Sa valeur ne doit pas être plus élevée que la moitié de la plus petite distance coordonnée_max - coordonnée_min des 3 axes.\n",
    "        \n",
    "    Sorties:\n",
    "    \n",
    "        - [X,Y,Z] : C'est une liste qui contient 3 listes de NP.ARRAYS 2D. \n",
    "            \n",
    "            * len(X) = len(Y) = len(Z) = nb_points_entre_y_min_y_max.\n",
    "            \n",
    "            * X[0] ou Y[0] ou Z[0] représente le plan (xOz) pour y = y_min, X[1] ou Y[1] ou Z[1] pour y = y_min + pas_du_maillage et ainsi \n",
    "                de suite jusqu'à y = y_max. \n",
    "            \n",
    "            * De plus, pour chaque NP.ARRAY de X, Y ou Z, X[y_fixé][:,0], Y[y_fixé][:,0], Z[y_fixé][:,0] représente les droites parallèles \n",
    "                à l'axe (Ox) pour y = y_fixé et z = z_min. De même, X[y_fixé][:,1], Y[y_fixé][:,1], Z[y_fixé][:,1] représente les droites \n",
    "                parallèles à l'axe (Ox) pour y = y_fixé et z = z_min + pas_du_maillage. \n",
    "            \n",
    "            * On a également X[y_fixé][0,:], Y[y_fixé][0,:], Z[y_fixé][0,:] représente les droites parallèles à l'axe (Oz) pour y = y_fixé et \n",
    "                x = x_min. De même, X[y_fixé][1,:], Y[y_fixé][1,:], Z[y_fixé][1,:] représente les droites parallèles à l'axe (Oz) pour y = y_fixé \n",
    "                et x = x_min + pas_du_maillage.\n",
    "            \n",
    "    Explication:\n",
    "    \n",
    "        La fonction creer_maillage_cartesien() crée une maillage de l'espace pour des limites et un pas donnés.\n",
    "    \"\"\"\n",
    "    \n",
    "    #Vérification de la cohérence des données.\n",
    "    for min, max in zip([x_min,y_min,z_min],[x_max,y_max,z_max]):\n",
    "        est_un_plan = False\n",
    "        est_une_droite = False\n",
    "        \n",
    "        if min == max: #Sinon le maillage est soit: un plan, une droite ou un point ce qui ne nous intéresse pas ici.\n",
    "            if est_un_plan:\n",
    "                if est_une_droite:\n",
    "                    raise ValueError(\"Le maillage est un point.\")\n",
    "                est_une_droite = True\n",
    "            est_un_plan = True    \n",
    "    \n",
    "        if min > max:\n",
    "            min, max = max, min #Nécessaire pour avoir des np.linspace(min, max, nb_points) cohérents.\n",
    "        \n",
    "        if not est_un_plan:   \n",
    "            if pas_du_maillage > abs(max-min)/2:\n",
    "                raise ValueError(\"pas_du_maillage est trop grand.\") #Le cas écheant, le maillage ne serait pas bien défini.\n",
    "\n",
    "    #Création du maillage.\n",
    "    longueur_maillage_x = abs(x_max - x_min)\n",
    "    longueur_maillage_y = abs(y_max - y_min)\n",
    "    longueur_maillage_z = abs(z_max - z_min)\n",
    "    \n",
    "    try:\n",
    "        nb_points_entre_x_min_x_max = int((longueur_maillage_x) / (pas_du_maillage)) + 1\n",
    "    except:\n",
    "        raise ZeroDivisionError\n",
    "    try:\n",
    "        nb_points_entre_y_min_y_max = int((longueur_maillage_y) / (pas_du_maillage)) + 1\n",
    "    except:\n",
    "        raise ZeroDivisionError\n",
    "    try:\n",
    "        nb_points_entre_z_min_z_max = int((longueur_maillage_z) / (pas_du_maillage)) + 1\n",
    "    except:\n",
    "        raise ZeroDivisionError\n",
    "    \n",
    "    axe_x = np.linspace(x_min, x_max, nb_points_entre_x_min_x_max)\n",
    "    axe_y = np.linspace(y_min, y_max, nb_points_entre_y_min_y_max)\n",
    "    axe_z = np.linspace(z_min, z_max, nb_points_entre_z_min_z_max)\n",
    "    \n",
    "    X,Y,Z = np.meshgrid(axe_x,axe_y,axe_z)\n",
    "    \n",
    "    #Permet de gérer les cas où pas_du_maillage engendre des points dont les coordonnées ont des décimales infinies comme 0.3.\n",
    "    X = np.round(X, 1) \n",
    "    Y = np.round(Y, 1)\n",
    "    Z = np.round(Z, 1)\n",
    "\n",
    "    return Maillage(X,Y,Z)\n",
    "\n",
    "cote = 2 #N'est pas une variable globale.\n",
    "pas_du_maillage = 0.1 #N'est pas une variable globale.\n",
    "test = creer_maillage_cartesien(-cote,cote,-cote,cote,-cote,cote,pas_du_maillage)  "
   ]
  },
  {
   "cell_type": "code",
   "execution_count": 99,
   "metadata": {},
   "outputs": [],
   "source": [
    "def isoler_plan_cartesien(maillage : Maillage, plan : str, valeur_coupe : float) -> tuple:\n",
    "    \n",
    "    val_min_x, val_min_y, val_min_z = maillage.val_min\n",
    "    val_max_x, val_max_y, val_max_z = maillage.val_max\n",
    "    nb_plan = int(maillage.nb_points/maillage.nb_points_plan)\n",
    "    \n",
    "    if plan.strip().lower() in [\"xoz\",\"zox\"]:\n",
    "        if valeur_coupe == None:\n",
    "            raise ValueError('Précisez la valeur de la côte du plan.')\n",
    "        if valeur_coupe > val_max_y:\n",
    "            raise ValueError(\"Le plan n'existe pas.\")\n",
    "        if valeur_coupe < val_min_y:\n",
    "            raise ValueError(\"Le plan n'existe pas.\")\n",
    "        if valeur_coupe not in maillage.Y:\n",
    "            raise ValueError(\"Le plan n'existe pas\")\n",
    "        val_indice_y = int(abs(val_min_y - valeur_coupe)/(maillage.pas) * maillage.nb_points_plan)\n",
    "        \n",
    "        return maillage[val_indice_y:val_indice_y+int(maillage.nb_points_plan)]\n",
    "    \n",
    "    if plan.strip().lower() in [\"xoy\",\"yox\"]:\n",
    "        if valeur_coupe == None:\n",
    "            raise ValueError('Précisez la valeur de la côte du plan.')\n",
    "        if valeur_coupe > val_max_z:\n",
    "            raise ValueError(\"Le plan n'existe pas.\")\n",
    "        if valeur_coupe < val_min_z:\n",
    "            raise ValueError(\"Le plan n'existe pas.\")\n",
    "        if valeur_coupe not in maillage.Z:\n",
    "            raise ValueError(\"Le plan n'existe pas\")\n",
    "        val_indice_z = int(abs(val_min_z - valeur_coupe)/maillage.pas)\n",
    "        \n",
    "        liste = []\n",
    "        for valeur in maillage.Y[::int(maillage.nb_points_plan)]:\n",
    "            liste.append(float(valeur))\n",
    "        \n",
    "        return maillage.X[:int(maillage.nb_points_plan)], liste*nb_plan, maillage.Z[val_indice_z::int(maillage.nb_points_droite)]\n",
    "    \n",
    "    if plan.strip().lower() in [\"yoz\",\"zoy\"]:\n",
    "        if valeur_coupe == None:\n",
    "            raise ValueError('Précisez la valeur de la côte du plan.')\n",
    "        if valeur_coupe > val_max_x:\n",
    "            raise ValueError(\"Le plan n'existe pas.\")\n",
    "        if valeur_coupe < val_min_x:\n",
    "            raise ValueError(\"Le plan n'existe pas.\")\n",
    "        if valeur_coupe not in maillage.X:\n",
    "            raise ValueError(\"Le plan n'existe pas\")\n",
    "        \n",
    "        liste_x = []\n",
    "        for _ in range(int(maillage.nb_points_plan)):\n",
    "            liste_x.append(float(valeur_coupe))\n",
    "            \n",
    "        liste_y = []\n",
    "        for valeur in maillage.Y[::int(maillage.nb_points_plan)]:\n",
    "            liste_temporaire = []\n",
    "            liste_temporaire.append(float(valeur))\n",
    "            liste_y += liste_temporaire*nb_plan\n",
    "    \n",
    "        return liste_x, liste_y, maillage.Z[:int(maillage.nb_points_plan)]\n",
    "    \n",
    "    raise ValueError(\"La string du plan ne convient pas. Vérifiez l'orthographe ou si le plan existe.\")"
   ]
  },
  {
   "cell_type": "code",
   "execution_count": 101,
   "metadata": {},
   "outputs": [
    {
     "data": {
      "application/vnd.plotly.v1+json": {
       "config": {
        "plotlyServerURL": "https://plot.ly"
       },
       "data": [
        {
         "marker": {
          "size": 2
         },
         "mode": "markers",
         "type": "scatter3d",
         "x": {
          "bdata": "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",
          "dtype": "f8"
         },
         "y": {
          "bdata": "AAAAAAAAAEAAAAAAAAAAQAAAAAAAAABAAAAAAAAAAEAAAAAAAAAAQAAAAAAAAABAAAAAAAAAAEAAAAAAAAAAQAAAAAAAAABAAAAAAAAAAEAAAAAAAAAAQAAAAAAAAABAAAAAAAAAAEAAAAAAAAAAQAAAAAAAAABAAAAAAAAAAEAAAAAAAAAAQAAAAAAAAABAAAAAAAAAAEAAAAAAAAAAQAAAAAAAAABAAAAAAAAAAEAAAAAAAAAAQAAAAAAAAABAAAAAAAAAAEAAAAAAAAAAQAAAAAAAAABAAAAAAAAAAEAAAAAAAAAAQAAAAAAAAABAAAAAAAAAAEAAAAAAAAAAQAAAAAAAAABAAAAAAAAAAEAAAAAAAAAAQAAAAAAAAABAAAAAAAAAAEAAAAAAAAAAQAAAAAAAAABAAAAAAAAAAEAAAAAAAAAAQAAAAAAAAABAAAAAAAAAAEAAAAAAAAAAQAAAAAAAAABAAAAAAAAAAEAAAAAAAAAAQAAAAAAAAABAAAAAAAAAAEAAAAAAAAAAQAAAAAAAAABAAAAAAAAAAEAAAAAAAAAAQAAAAAAAAABAAAAAAAAAAEAAAAAAAAAAQAAAAAAAAABAAAAAAAAAAEAAAAAAAAAAQAAAAAAAAABAAAAAAAAAAEAAAAAAAAAAQAAAAAAAAABAAAAAAAAAAEAAAAAAAAAAQAAAAAAAAABAAAAAAAAAAEAAAAAAAAAAQAAAAAAAAABAAAAAAAAAAEAAAAAAAAAAQAAAAAAAAABAAAAAAAAAAEAAAAAAAAAAQAAAAAAAAABAAAAAAAAAAEAAAAAAAAAAQAAAAAAAAABAAAAAAAAAAEAAAAAAAAAAQAAAAAAAAABAAAAAAAAAAEAAAAAAAAAAQAAAAAAAAABAAAAAAAAAAEAAAAAAAAAAQAAAAAAAAABAAAAAAAAAAEAAAAAAAAAAQAAAAAAAAABAAAAAAAAAAEAAAAAAAAAAQAAAAAAAAABAAAAAAAAAAEAAAAAAAAAAQAAAAAAAAABAAAAAAAAAAEAAAAAAAAAAQAAAAAAAAABAAAAAAAAAAEAAAAAAAAAAQAAAAAAAAABAAAAAAAAAAEAAAAAAAAAAQAAAAAAAAABAAAAAAAAAAEAAAAAAAAAAQAAAAAAAAABAAAAAAAAAAEAAAAAAAAAAQAAAAAAAAABAAAAAAAAAAEAAAAAAAAAAQAAAAAAAAABAAAAAAAAAAEAAAAAAAAAAQAAAAAAAAABAAAAAAAAAAEAAAAAAAAAAQAAAAAAAAABAAAAAAAAAAEAAAAAAAAAAQAAAAAAAAABAAAAAAAAAAEAAAAAAAAAAQAAAAAAAAABAAAAAAAAAAEAAAAAAAAAAQAAAAAAAAABAAAAAAAAAAEAAAAAAAAAAQAAAAAAAAABAAAAAAAAAAEAAAAAAAAAAQAAAAAAAAABAAAAAAAAAAEAAAAAAAAAAQAAAAAAAAABAAAAAAAAAAEAAAAAAAAAAQAAAAAAAAABAAAAAAAAAAEAAAAAAAAAAQAAAAAAAAABAAAAAAAAAAEAAAAAAAAAAQAAAAAAAAABAAAAAAAAAAEAAAAAAAAAAQAAAAAAAAABAAAAAAAAAAEAAAAAAAAAAQAAAAAAAAABAAAAAAAAAAEAAAAAAAAAAQAAAAAAAAABAAAAAAAAAAEAAAAAAAAAAQAAAAAAAAABAAAAAAAAAAEAAAAAAAAAAQAAAAAAAAABAAAAAAAAAAEAAAAAAAAAAQAAAAAAAAABAAAAAAAAAAEAAAAAAAAAAQAAAAAAAAABAAAAAAAAAAEAAAAAAAAAAQAAAAAAAAABAAAAAAAAAAEAAAAAAAAAAQAAAAAAAAABAAAAAAAAAAEAAAAAAAAAAQAAAAAAAAABAAAAAAAAAAEAAAAAAAAAAQAAAAAAAAABAAAAAAAAAAEAAAAAAAAAAQAAAAAAAAABAAAAAAAAAAEAAAAAAAAAAQAAAAAAAAABAAAAAAAAAAEAAAAAAAAAAQAAAAAAAAABAAAAAAAAAAEAAAAAAAAAAQAAAAAAAAABAAAAAAAAAAEAAAAAAAAAAQAAAAAAAAABAAAAAAAAAAEAAAAAAAAAAQAAAAAAAAABAAAAAAAAAAEAAAAAAAAAAQAAAAAAAAABAAAAAAAAAAEAAAAAAAAAAQAAAAAAAAABAAAAAAAAAAEAAAAAAAAAAQAAAAAAAAABAAAAAAAAAAEAAAAAAAAAAQAAAAAAAAABAAAAAAAAAAEAAAAAAAAAAQAAAAAAAAABAAAAAAAAAAEAAAAAAAAAAQAAAAAAAAABAAAAAAAAAAEAAAAAAAAAAQAAAAAAAAABAAAAAAAAAAEAAAAAAAAAAQAAAAAAAAABAAAAAAAAAAEAAAAAAAAAAQAAAAAAAAABAAAAAAAAAAEAAAAAAAAAAQAAAAAAAAABAAAAAAAAAAEAAAAAAAAAAQAAAAAAAAABAAAAAAAAAAEAAAAAAAAAAQAAAAAAAAABAAAAAAAAAAEAAAAAAAAAAQAAAAAAAAABAAAAAAAAAAEAAAAAAAAAAQAAAAAAAAABAAAAAAAAAAEAAAAAAAAAAQAAAAAAAAABAAAAAAAAAAEAAAAAAAAAAQAAAAAAAAABAAAAAAAAAAEAAAAAAAAAAQAAAAAAAAABAAAAAAAAAAEAAAAAAAAAAQAAAAAAAAABAAAAAAAAAAEAAAAAAAAAAQAAAAAAAAABAAAAAAAAAAEAAAAAAAAAAQAAAAAAAAABAAAAAAAAAAEAAAAAAAAAAQAAAAAAAAABAAAAAAAAAAEAAAAAAAAAAQAAAAAAAAABAAAAAAAAAAEAAAAAAAAAAQAAAAAAAAABAAAAAAAAAAEAAAAAAAAAAQAAAAAAAAABAAAAAAAAAAEAAAAAAAAAAQAAAAAAAAABAAAAAAAAAAEAAAAAAAAAAQAAAAAAAAABAAAAAAAAAAEAAAAAAAAAAQAAAAAAAAABAAAAAAAAAAEAAAAAAAAAAQAAAAAAAAABAAAAAAAAAAEAAAAAAAAAAQAAAAAAAAABAAAAAAAAAAEAAAAAAAAAAQAAAAAAAAABAAAAAAAAAAEAAAAAAAAAAQAAAAAAAAABAAAAAAAAAAEAAAAAAAAAAQAAAAAAAAABAAAAAAAAAAEAAAAAAAAAAQAAAAAAAAABAAAAAAAAAAEAAAAAAAAAAQAAAAAAAAABAAAAAAAAAAEAAAAAAAAAAQAAAAAAAAABAAAAAAAAAAEAAAAAAAAAAQAAAAAAAAABAAAAAAAAAAEAAAAAAAAAAQAAAAAAAAABAAAAAAAAAAEAAAAAAAAAAQAAAAAAAAABAAAAAAAAAAEAAAAAAAAAAQAAAAAAAAABAAAAAAAAAAEAAAAAAAAAAQAAAAAAAAABAAAAAAAAAAEAAAAAAAAAAQAAAAAAAAABAAAAAAAAAAEAAAAAAAAAAQAAAAAAAAABAAAAAAAAAAEAAAAAAAAAAQAAAAAAAAABAAAAAAAAAAEAAAAAAAAAAQAAAAAAAAABAAAAAAAAAAEAAAAAAAAAAQAAAAAAAAABAAAAAAAAAAEAAAAAAAAAAQAAAAAAAAABAAAAAAAAAAEAAAAAAAAAAQAAAAAAAAABAAAAAAAAAAEAAAAAAAAAAQAAAAAAAAABAAAAAAAAAAEAAAAAAAAAAQAAAAAAAAABAAAAAAAAAAEAAAAAAAAAAQAAAAAAAAABAAAAAAAAAAEAAAAAAAAAAQAAAAAAAAABAAAAAAAAAAEAAAAAAAAAAQAAAAAAAAABAAAAAAAAAAEAAAAAAAAAAQAAAAAAAAABAAAAAAAAAAEAAAAAAAAAAQAAAAAAAAABAAAAAAAAAAEAAAAAAAAAAQAAAAAAAAABAAAAAAAAAAEAAAAAAAAAAQAAAAAAAAABAAAAAAAAAAEAAAAAAAAAAQAAAAAAAAABAAAAAAAAAAEAAAAAAAAAAQAAAAAAAAABAAAAAAAAAAEAAAAAAAAAAQAAAAAAAAABAAAAAAAAAAEAAAAAAAAAAQAAAAAAAAABAAAAAAAAAAEAAAAAAAAAAQAAAAAAAAABAAAAAAAAAAEAAAAAAAAAAQAAAAAAAAABAAAAAAAAAAEAAAAAAAAAAQAAAAAAAAABAAAAAAAAAAEAAAAAAAAAAQAAAAAAAAABAAAAAAAAAAEAAAAAAAAAAQAAAAAAAAABAAAAAAAAAAEAAAAAAAAAAQAAAAAAAAABAAAAAAAAAAEAAAAAAAAAAQAAAAAAAAABAAAAAAAAAAEAAAAAAAAAAQAAAAAAAAABAAAAAAAAAAEAAAAAAAAAAQAAAAAAAAABAAAAAAAAAAEAAAAAAAAAAQAAAAAAAAABAAAAAAAAAAEAAAAAAAAAAQAAAAAAAAABAAAAAAAAAAEAAAAAAAAAAQAAAAAAAAABAAAAAAAAAAEAAAAAAAAAAQAAAAAAAAABAAAAAAAAAAEAAAAAAAAAAQAAAAAAAAABAAAAAAAAAAEAAAAAAAAAAQAAAAAAAAABAAAAAAAAAAEAAAAAAAAAAQAAAAAAAAABAAAAAAAAAAEAAAAAAAAAAQAAAAAAAAABAAAAAAAAAAEAAAAAAAAAAQAAAAAAAAABAAAAAAAAAAEAAAAAAAAAAQAAAAAAAAABAAAAAAAAAAEAAAAAAAAAAQAAAAAAAAABAAAAAAAAAAEAAAAAAAAAAQAAAAAAAAABAAAAAAAAAAEAAAAAAAAAAQAAAAAAAAABAAAAAAAAAAEAAAAAAAAAAQAAAAAAAAABAAAAAAAAAAEAAAAAAAAAAQAAAAAAAAABAAAAAAAAAAEAAAAAAAAAAQAAAAAAAAABAAAAAAAAAAEAAAAAAAAAAQAAAAAAAAABAAAAAAAAAAEAAAAAAAAAAQAAAAAAAAABAAAAAAAAAAEAAAAAAAAAAQAAAAAAAAABAAAAAAAAAAEAAAAAAAAAAQAAAAAAAAABAAAAAAAAAAEAAAAAAAAAAQAAAAAAAAABAAAAAAAAAAEAAAAAAAAAAQAAAAAAAAABAAAAAAAAAAEAAAAAAAAAAQAAAAAAAAABAAAAAAAAAAEAAAAAAAAAAQAAAAAAAAABAAAAAAAAAAEAAAAAAAAAAQAAAAAAAAABAAAAAAAAAAEAAAAAAAAAAQAAAAAAAAABAAAAAAAAAAEAAAAAAAAAAQAAAAAAAAABAAAAAAAAAAEAAAAAAAAAAQAAAAAAAAABAAAAAAAAAAEAAAAAAAAAAQAAAAAAAAABAAAAAAAAAAEAAAAAAAAAAQAAAAAAAAABAAAAAAAAAAEAAAAAAAAAAQAAAAAAAAABAAAAAAAAAAEAAAAAAAAAAQAAAAAAAAABAAAAAAAAAAEAAAAAAAAAAQAAAAAAAAABAAAAAAAAAAEAAAAAAAAAAQAAAAAAAAABAAAAAAAAAAEAAAAAAAAAAQAAAAAAAAABAAAAAAAAAAEAAAAAAAAAAQAAAAAAAAABAAAAAAAAAAEAAAAAAAAAAQAAAAAAAAABAAAAAAAAAAEAAAAAAAAAAQAAAAAAAAABAAAAAAAAAAEAAAAAAAAAAQAAAAAAAAABAAAAAAAAAAEAAAAAAAAAAQAAAAAAAAABAAAAAAAAAAEAAAAAAAAAAQAAAAAAAAABAAAAAAAAAAEAAAAAAAAAAQAAAAAAAAABAAAAAAAAAAEAAAAAAAAAAQAAAAAAAAABAAAAAAAAAAEAAAAAAAAAAQAAAAAAAAABAAAAAAAAAAEAAAAAAAAAAQAAAAAAAAABAAAAAAAAAAEAAAAAAAAAAQAAAAAAAAABAAAAAAAAAAEAAAAAAAAAAQAAAAAAAAABAAAAAAAAAAEAAAAAAAAAAQAAAAAAAAABAAAAAAAAAAEAAAAAAAAAAQAAAAAAAAABAAAAAAAAAAEAAAAAAAAAAQAAAAAAAAABAAAAAAAAAAEAAAAAAAAAAQAAAAAAAAABAAAAAAAAAAEAAAAAAAAAAQAAAAAAAAABAAAAAAAAAAEAAAAAAAAAAQAAAAAAAAABAAAAAAAAAAEAAAAAAAAAAQAAAAAAAAABAAAAAAAAAAEAAAAAAAAAAQAAAAAAAAABAAAAAAAAAAEAAAAAAAAAAQAAAAAAAAABAAAAAAAAAAEAAAAAAAAAAQAAAAAAAAABAAAAAAAAAAEAAAAAAAAAAQAAAAAAAAABAAAAAAAAAAEAAAAAAAAAAQAAAAAAAAABAAAAAAAAAAEAAAAAAAAAAQAAAAAAAAABAAAAAAAAAAEAAAAAAAAAAQAAAAAAAAABAAAAAAAAAAEAAAAAAAAAAQAAAAAAAAABAAAAAAAAAAEAAAAAAAAAAQAAAAAAAAABAAAAAAAAAAEAAAAAAAAAAQAAAAAAAAABAAAAAAAAAAEAAAAAAAAAAQAAAAAAAAABAAAAAAAAAAEAAAAAAAAAAQAAAAAAAAABAAAAAAAAAAEAAAAAAAAAAQAAAAAAAAABAAAAAAAAAAEAAAAAAAAAAQAAAAAAAAABAAAAAAAAAAEAAAAAAAAAAQAAAAAAAAABAAAAAAAAAAEAAAAAAAAAAQAAAAAAAAABAAAAAAAAAAEAAAAAAAAAAQAAAAAAAAABAAAAAAAAAAEAAAAAAAAAAQAAAAAAAAABAAAAAAAAAAEAAAAAAAAAAQAAAAAAAAABAAAAAAAAAAEAAAAAAAAAAQAAAAAAAAABAAAAAAAAAAEAAAAAAAAAAQAAAAAAAAABAAAAAAAAAAEAAAAAAAAAAQAAAAAAAAABAAAAAAAAAAEAAAAAAAAAAQAAAAAAAAABAAAAAAAAAAEAAAAAAAAAAQAAAAAAAAABAAAAAAAAAAEAAAAAAAAAAQAAAAAAAAABAAAAAAAAAAEAAAAAAAAAAQAAAAAAAAABAAAAAAAAAAEAAAAAAAAAAQAAAAAAAAABAAAAAAAAAAEAAAAAAAAAAQAAAAAAAAABAAAAAAAAAAEAAAAAAAAAAQAAAAAAAAABAAAAAAAAAAEAAAAAAAAAAQAAAAAAAAABAAAAAAAAAAEAAAAAAAAAAQAAAAAAAAABAAAAAAAAAAEAAAAAAAAAAQAAAAAAAAABAAAAAAAAAAEAAAAAAAAAAQAAAAAAAAABAAAAAAAAAAEAAAAAAAAAAQAAAAAAAAABAAAAAAAAAAEAAAAAAAAAAQAAAAAAAAABAAAAAAAAAAEAAAAAAAAAAQAAAAAAAAABAAAAAAAAAAEAAAAAAAAAAQAAAAAAAAABAAAAAAAAAAEAAAAAAAAAAQAAAAAAAAABAAAAAAAAAAEAAAAAAAAAAQAAAAAAAAABAAAAAAAAAAEAAAAAAAAAAQAAAAAAAAABAAAAAAAAAAEAAAAAAAAAAQAAAAAAAAABAAAAAAAAAAEAAAAAAAAAAQAAAAAAAAABAAAAAAAAAAEAAAAAAAAAAQAAAAAAAAABAAAAAAAAAAEAAAAAAAAAAQAAAAAAAAABAAAAAAAAAAEAAAAAAAAAAQAAAAAAAAABAAAAAAAAAAEAAAAAAAAAAQAAAAAAAAABAAAAAAAAAAEAAAAAAAAAAQAAAAAAAAABAAAAAAAAAAEAAAAAAAAAAQAAAAAAAAABAAAAAAAAAAEAAAAAAAAAAQAAAAAAAAABAAAAAAAAAAEAAAAAAAAAAQAAAAAAAAABAAAAAAAAAAEAAAAAAAAAAQAAAAAAAAABAAAAAAAAAAEAAAAAAAAAAQAAAAAAAAABAAAAAAAAAAEAAAAAAAAAAQAAAAAAAAABAAAAAAAAAAEAAAAAAAAAAQAAAAAAAAABAAAAAAAAAAEAAAAAAAAAAQAAAAAAAAABAAAAAAAAAAEAAAAAAAAAAQAAAAAAAAABAAAAAAAAAAEAAAAAAAAAAQAAAAAAAAABAAAAAAAAAAEAAAAAAAAAAQAAAAAAAAABAAAAAAAAAAEAAAAAAAAAAQAAAAAAAAABAAAAAAAAAAEAAAAAAAAAAQAAAAAAAAABAAAAAAAAAAEAAAAAAAAAAQAAAAAAAAABAAAAAAAAAAEAAAAAAAAAAQAAAAAAAAABAAAAAAAAAAEAAAAAAAAAAQAAAAAAAAABAAAAAAAAAAEAAAAAAAAAAQAAAAAAAAABAAAAAAAAAAEAAAAAAAAAAQAAAAAAAAABAAAAAAAAAAEAAAAAAAAAAQAAAAAAAAABAAAAAAAAAAEAAAAAAAAAAQAAAAAAAAABAAAAAAAAAAEAAAAAAAAAAQAAAAAAAAABAAAAAAAAAAEAAAAAAAAAAQAAAAAAAAABAAAAAAAAAAEAAAAAAAAAAQAAAAAAAAABAAAAAAAAAAEAAAAAAAAAAQAAAAAAAAABAAAAAAAAAAEAAAAAAAAAAQAAAAAAAAABAAAAAAAAAAEAAAAAAAAAAQAAAAAAAAABAAAAAAAAAAEAAAAAAAAAAQAAAAAAAAABAAAAAAAAAAEAAAAAAAAAAQAAAAAAAAABAAAAAAAAAAEAAAAAAAAAAQAAAAAAAAABAAAAAAAAAAEAAAAAAAAAAQAAAAAAAAABAAAAAAAAAAEAAAAAAAAAAQAAAAAAAAABAAAAAAAAAAEAAAAAAAAAAQAAAAAAAAABAAAAAAAAAAEAAAAAAAAAAQAAAAAAAAABAAAAAAAAAAEAAAAAAAAAAQAAAAAAAAABAAAAAAAAAAEAAAAAAAAAAQAAAAAAAAABAAAAAAAAAAEAAAAAAAAAAQAAAAAAAAABAAAAAAAAAAEAAAAAAAAAAQAAAAAAAAABAAAAAAAAAAEAAAAAAAAAAQAAAAAAAAABAAAAAAAAAAEAAAAAAAAAAQAAAAAAAAABAAAAAAAAAAEAAAAAAAAAAQAAAAAAAAABAAAAAAAAAAEAAAAAAAAAAQAAAAAAAAABAAAAAAAAAAEAAAAAAAAAAQAAAAAAAAABAAAAAAAAAAEAAAAAAAAAAQAAAAAAAAABAAAAAAAAAAEAAAAAAAAAAQAAAAAAAAABAAAAAAAAAAEAAAAAAAAAAQAAAAAAAAABAAAAAAAAAAEAAAAAAAAAAQAAAAAAAAABAAAAAAAAAAEAAAAAAAAAAQAAAAAAAAABAAAAAAAAAAEAAAAAAAAAAQAAAAAAAAABAAAAAAAAAAEAAAAAAAAAAQAAAAAAAAABAAAAAAAAAAEAAAAAAAAAAQAAAAAAAAABAAAAAAAAAAEAAAAAAAAAAQAAAAAAAAABAAAAAAAAAAEAAAAAAAAAAQAAAAAAAAABAAAAAAAAAAEAAAAAAAAAAQAAAAAAAAABAAAAAAAAAAEAAAAAAAAAAQAAAAAAAAABAAAAAAAAAAEAAAAAAAAAAQAAAAAAAAABAAAAAAAAAAEAAAAAAAAAAQAAAAAAAAABAAAAAAAAAAEAAAAAAAAAAQAAAAAAAAABAAAAAAAAAAEAAAAAAAAAAQAAAAAAAAABAAAAAAAAAAEAAAAAAAAAAQAAAAAAAAABAAAAAAAAAAEAAAAAAAAAAQAAAAAAAAABAAAAAAAAAAEAAAAAAAAAAQAAAAAAAAABAAAAAAAAAAEAAAAAAAAAAQAAAAAAAAABAAAAAAAAAAEAAAAAAAAAAQAAAAAAAAABAAAAAAAAAAEAAAAAAAAAAQAAAAAAAAABAAAAAAAAAAEAAAAAAAAAAQAAAAAAAAABAAAAAAAAAAEAAAAAAAAAAQAAAAAAAAABAAAAAAAAAAEAAAAAAAAAAQAAAAAAAAABAAAAAAAAAAEAAAAAAAAAAQAAAAAAAAABAAAAAAAAAAEAAAAAAAAAAQAAAAAAAAABAAAAAAAAAAEAAAAAAAAAAQAAAAAAAAABAAAAAAAAAAEAAAAAAAAAAQAAAAAAAAABAAAAAAAAAAEAAAAAAAAAAQAAAAAAAAABAAAAAAAAAAEAAAAAAAAAAQAAAAAAAAABAAAAAAAAAAEAAAAAAAAAAQAAAAAAAAABAAAAAAAAAAEAAAAAAAAAAQAAAAAAAAABAAAAAAAAAAEAAAAAAAAAAQAAAAAAAAABAAAAAAAAAAEAAAAAAAAAAQAAAAAAAAABAAAAAAAAAAEAAAAAAAAAAQAAAAAAAAABAAAAAAAAAAEAAAAAAAAAAQAAAAAAAAABAAAAAAAAAAEAAAAAAAAAAQAAAAAAAAABAAAAAAAAAAEAAAAAAAAAAQAAAAAAAAABAAAAAAAAAAEAAAAAAAAAAQAAAAAAAAABAAAAAAAAAAEAAAAAAAAAAQAAAAAAAAABAAAAAAAAAAEAAAAAAAAAAQAAAAAAAAABAAAAAAAAAAEAAAAAAAAAAQAAAAAAAAABAAAAAAAAAAEAAAAAAAAAAQAAAAAAAAABAAAAAAAAAAEAAAAAAAAAAQAAAAAAAAABAAAAAAAAAAEAAAAAAAAAAQAAAAAAAAABAAAAAAAAAAEAAAAAAAAAAQAAAAAAAAABAAAAAAAAAAEAAAAAAAAAAQAAAAAAAAABAAAAAAAAAAEAAAAAAAAAAQAAAAAAAAABAAAAAAAAAAEAAAAAAAAAAQAAAAAAAAABAAAAAAAAAAEAAAAAAAAAAQAAAAAAAAABAAAAAAAAAAEAAAAAAAAAAQAAAAAAAAABAAAAAAAAAAEAAAAAAAAAAQAAAAAAAAABAAAAAAAAAAEAAAAAAAAAAQAAAAAAAAABAAAAAAAAAAEAAAAAAAAAAQAAAAAAAAABAAAAAAAAAAEAAAAAAAAAAQAAAAAAAAABAAAAAAAAAAEAAAAAAAAAAQAAAAAAAAABAAAAAAAAAAEAAAAAAAAAAQAAAAAAAAABAAAAAAAAAAEAAAAAAAAAAQAAAAAAAAABAAAAAAAAAAEAAAAAAAAAAQAAAAAAAAABAAAAAAAAAAEAAAAAAAAAAQAAAAAAAAABAAAAAAAAAAEAAAAAAAAAAQAAAAAAAAABAAAAAAAAAAEAAAAAAAAAAQAAAAAAAAABAAAAAAAAAAEAAAAAAAAAAQAAAAAAAAABAAAAAAAAAAEAAAAAAAAAAQAAAAAAAAABAAAAAAAAAAEAAAAAAAAAAQAAAAAAAAABAAAAAAAAAAEAAAAAAAAAAQAAAAAAAAABAAAAAAAAAAEAAAAAAAAAAQAAAAAAAAABAAAAAAAAAAEAAAAAAAAAAQAAAAAAAAABAAAAAAAAAAEAAAAAAAAAAQAAAAAAAAABAAAAAAAAAAEAAAAAAAAAAQAAAAAAAAABAAAAAAAAAAEAAAAAAAAAAQAAAAAAAAABAAAAAAAAAAEAAAAAAAAAAQAAAAAAAAABAAAAAAAAAAEAAAAAAAAAAQAAAAAAAAABAAAAAAAAAAEAAAAAAAAAAQAAAAAAAAABAAAAAAAAAAEAAAAAAAAAAQAAAAAAAAABAAAAAAAAAAEAAAAAAAAAAQAAAAAAAAABAAAAAAAAAAEAAAAAAAAAAQAAAAAAAAABAAAAAAAAAAEAAAAAAAAAAQAAAAAAAAABAAAAAAAAAAEAAAAAAAAAAQAAAAAAAAABAAAAAAAAAAEAAAAAAAAAAQAAAAAAAAABAAAAAAAAAAEAAAAAAAAAAQAAAAAAAAABAAAAAAAAAAEAAAAAAAAAAQAAAAAAAAABAAAAAAAAAAEAAAAAAAAAAQAAAAAAAAABAAAAAAAAAAEAAAAAAAAAAQAAAAAAAAABAAAAAAAAAAEAAAAAAAAAAQAAAAAAAAABAAAAAAAAAAEAAAAAAAAAAQAAAAAAAAABAAAAAAAAAAEAAAAAAAAAAQAAAAAAAAABAAAAAAAAAAEAAAAAAAAAAQAAAAAAAAABAAAAAAAAAAEAAAAAAAAAAQAAAAAAAAABAAAAAAAAAAEAAAAAAAAAAQAAAAAAAAABAAAAAAAAAAEAAAAAAAAAAQAAAAAAAAABAAAAAAAAAAEAAAAAAAAAAQAAAAAAAAABAAAAAAAAAAEAAAAAAAAAAQAAAAAAAAABAAAAAAAAAAEAAAAAAAAAAQAAAAAAAAABAAAAAAAAAAEAAAAAAAAAAQAAAAAAAAABAAAAAAAAAAEAAAAAAAAAAQAAAAAAAAABAAAAAAAAAAEAAAAAAAAAAQAAAAAAAAABAAAAAAAAAAEAAAAAAAAAAQAAAAAAAAABAAAAAAAAAAEAAAAAAAAAAQAAAAAAAAABAAAAAAAAAAEAAAAAAAAAAQAAAAAAAAABAAAAAAAAAAEAAAAAAAAAAQAAAAAAAAABAAAAAAAAAAEAAAAAAAAAAQAAAAAAAAABAAAAAAAAAAEAAAAAAAAAAQAAAAAAAAABAAAAAAAAAAEAAAAAAAAAAQAAAAAAAAABAAAAAAAAAAEAAAAAAAAAAQAAAAAAAAABAAAAAAAAAAEAAAAAAAAAAQAAAAAAAAABAAAAAAAAAAEAAAAAAAAAAQAAAAAAAAABAAAAAAAAAAEAAAAAAAAAAQAAAAAAAAABAAAAAAAAAAEAAAAAAAAAAQAAAAAAAAABAAAAAAAAAAEAAAAAAAAAAQAAAAAAAAABAAAAAAAAAAEAAAAAAAAAAQAAAAAAAAABAAAAAAAAAAEAAAAAAAAAAQAAAAAAAAABAAAAAAAAAAEAAAAAAAAAAQAAAAAAAAABAAAAAAAAAAEAAAAAAAAAAQAAAAAAAAABAAAAAAAAAAEAAAAAAAAAAQAAAAAAAAABAAAAAAAAAAEAAAAAAAAAAQAAAAAAAAABAAAAAAAAAAEAAAAAAAAAAQAAAAAAAAABAAAAAAAAAAEAAAAAAAAAAQAAAAAAAAABAAAAAAAAAAEAAAAAAAAAAQAAAAAAAAABAAAAAAAAAAEAAAAAAAAAAQAAAAAAAAABAAAAAAAAAAEAAAAAAAAAAQAAAAAAAAABAAAAAAAAAAEAAAAAAAAAAQAAAAAAAAABAAAAAAAAAAEAAAAAAAAAAQAAAAAAAAABAAAAAAAAAAEAAAAAAAAAAQAAAAAAAAABAAAAAAAAAAEAAAAAAAAAAQAAAAAAAAABAAAAAAAAAAEAAAAAAAAAAQAAAAAAAAABAAAAAAAAAAEAAAAAAAAAAQAAAAAAAAABAAAAAAAAAAEAAAAAAAAAAQAAAAAAAAABAAAAAAAAAAEAAAAAAAAAAQAAAAAAAAABAAAAAAAAAAEAAAAAAAAAAQAAAAAAAAABAAAAAAAAAAEAAAAAAAAAAQAAAAAAAAABAAAAAAAAAAEAAAAAAAAAAQAAAAAAAAABAAAAAAAAAAEAAAAAAAAAAQAAAAAAAAABAAAAAAAAAAEAAAAAAAAAAQAAAAAAAAABAAAAAAAAAAEAAAAAAAAAAQAAAAAAAAABAAAAAAAAAAEAAAAAAAAAAQAAAAAAAAABAAAAAAAAAAEAAAAAAAAAAQAAAAAAAAABAAAAAAAAAAEAAAAAAAAAAQAAAAAAAAABAAAAAAAAAAEAAAAAAAAAAQAAAAAAAAABAAAAAAAAAAEAAAAAAAAAAQAAAAAAAAABAAAAAAAAAAEAAAAAAAAAAQAAAAAAAAABAAAAAAAAAAEAAAAAAAAAAQAAAAAAAAABAAAAAAAAAAEAAAAAAAAAAQAAAAAAAAABAAAAAAAAAAEAAAAAAAAAAQAAAAAAAAABAAAAAAAAAAEAAAAAAAAAAQAAAAAAAAABAAAAAAAAAAEAAAAAAAAAAQAAAAAAAAABAAAAAAAAAAEAAAAAAAAAAQAAAAAAAAABAAAAAAAAAAEAAAAAAAAAAQAAAAAAAAABAAAAAAAAAAEAAAAAAAAAAQAAAAAAAAABAAAAAAAAAAEAAAAAAAAAAQAAAAAAAAABAAAAAAAAAAEAAAAAAAAAAQAAAAAAAAABAAAAAAAAAAEAAAAAAAAAAQAAAAAAAAABAAAAAAAAAAEAAAAAAAAAAQAAAAAAAAABAAAAAAAAAAEAAAAAAAAAAQAAAAAAAAABAAAAAAAAAAEAAAAAAAAAAQAAAAAAAAABAAAAAAAAAAEAAAAAAAAAAQAAAAAAAAABAAAAAAAAAAEAAAAAAAAAAQAAAAAAAAABAAAAAAAAAAEAAAAAAAAAAQAAAAAAAAABAAAAAAAAAAEAAAAAAAAAAQAAAAAAAAABAAAAAAAAAAEAAAAAAAAAAQAAAAAAAAABAAAAAAAAAAEAAAAAAAAAAQAAAAAAAAABAAAAAAAAAAEAAAAAAAAAAQAAAAAAAAABAAAAAAAAAAEAAAAAAAAAAQAAAAAAAAABAAAAAAAAAAEAAAAAAAAAAQAAAAAAAAABAAAAAAAAAAEAAAAAAAAAAQAAAAAAAAABAAAAAAAAAAEAAAAAAAAAAQAAAAAAAAABAAAAAAAAAAEAAAAAAAAAAQAAAAAAAAABAAAAAAAAAAEAAAAAAAAAAQAAAAAAAAABAAAAAAAAAAEAAAAAAAAAAQAAAAAAAAABAAAAAAAAAAEAAAAAAAAAAQAAAAAAAAABAAAAAAAAAAEAAAAAAAAAAQAAAAAAAAABAAAAAAAAAAEAAAAAAAAAAQAAAAAAAAABAAAAAAAAAAEAAAAAAAAAAQAAAAAAAAABAAAAAAAAAAEAAAAAAAAAAQAAAAAAAAABAAAAAAAAAAEAAAAAAAAAAQAAAAAAAAABAAAAAAAAAAEAAAAAAAAAAQAAAAAAAAABAAAAAAAAAAEAAAAAAAAAAQAAAAAAAAABAAAAAAAAAAEAAAAAAAAAAQAAAAAAAAABAAAAAAAAAAEAAAAAAAAAAQAAAAAAAAABAAAAAAAAAAEAAAAAAAAAAQAAAAAAAAABAAAAAAAAAAEAAAAAAAAAAQAAAAAAAAABAAAAAAAAAAEAAAAAAAAAAQAAAAAAAAABAAAAAAAAAAEAAAAAAAAAAQAAAAAAAAABAAAAAAAAAAEAAAAAAAAAAQAAAAAAAAABAAAAAAAAAAEAAAAAAAAAAQAAAAAAAAABAAAAAAAAAAEAAAAAAAAAAQAAAAAAAAABAAAAAAAAAAEAAAAAAAAAAQAAAAAAAAABAAAAAAAAAAEAAAAAAAAAAQAAAAAAAAABAAAAAAAAAAEAAAAAAAAAAQAAAAAAAAABAAAAAAAAAAEAAAAAAAAAAQAAAAAAAAABAAAAAAAAAAEAAAAAAAAAAQAAAAAAAAABAAAAAAAAAAEAAAAAAAAAAQAAAAAAAAABAAAAAAAAAAEAAAAAAAAAAQAAAAAAAAABAAAAAAAAAAEAAAAAAAAAAQAAAAAAAAABAAAAAAAAAAEAAAAAAAAAAQAAAAAAAAABAAAAAAAAAAEAAAAAAAAAAQAAAAAAAAABAAAAAAAAAAEAAAAAAAAAAQAAAAAAAAABAAAAAAAAAAEAAAAAAAAAAQAAAAAAAAABAAAAAAAAAAEAAAAAAAAAAQAAAAAAAAABAAAAAAAAAAEAAAAAAAAAAQAAAAAAAAABAAAAAAAAAAEAAAAAAAAAAQAAAAAAAAABAAAAAAAAAAEAAAAAAAAAAQAAAAAAAAABAAAAAAAAAAEAAAAAAAAAAQAAAAAAAAABAAAAAAAAAAEAAAAAAAAAAQAAAAAAAAABAAAAAAAAAAEAAAAAAAAAAQAAAAAAAAABAAAAAAAAAAEAAAAAAAAAAQAAAAAAAAABAAAAAAAAAAEAAAAAAAAAAQAAAAAAAAABAAAAAAAAAAEAAAAAAAAAAQAAAAAAAAABAAAAAAAAAAEAAAAAAAAAAQAAAAAAAAABAAAAAAAAAAEAAAAAAAAAAQAAAAAAAAABAAAAAAAAAAEAAAAAAAAAAQAAAAAAAAABAAAAAAAAAAEAAAAAAAAAAQAAAAAAAAABAAAAAAAAAAEAAAAAAAAAAQAAAAAAAAABAAAAAAAAAAEAAAAAAAAAAQAAAAAAAAABAAAAAAAAAAEAAAAAAAAAAQAAAAAAAAABAAAAAAAAAAEAAAAAAAAAAQAAAAAAAAABAAAAAAAAAAEAAAAAAAAAAQAAAAAAAAABAAAAAAAAAAEAAAAAAAAAAQAAAAAAAAABAAAAAAAAAAEAAAAAAAAAAQAAAAAAAAABAAAAAAAAAAEAAAAAAAAAAQAAAAAAAAABAAAAAAAAAAEAAAAAAAAAAQAAAAAAAAABAAAAAAAAAAEAAAAAAAAAAQAAAAAAAAABAAAAAAAAAAEAAAAAAAAAAQAAAAAAAAABAAAAAAAAAAEAAAAAAAAAAQAAAAAAAAABAAAAAAAAAAEAAAAAAAAAAQAAAAAAAAABAAAAAAAAAAEAAAAAAAAAAQAAAAAAAAABAAAAAAAAAAEAAAAAAAAAAQAAAAAAAAABAAAAAAAAAAEAAAAAAAAAAQAAAAAAAAABAAAAAAAAAAEAAAAAAAAAAQAAAAAAAAABAAAAAAAAAAEAAAAAAAAAAQAAAAAAAAABAAAAAAAAAAEAAAAAAAAAAQAAAAAAAAABAAAAAAAAAAEAAAAAAAAAAQAAAAAAAAABAAAAAAAAAAEAAAAAAAAAAQAAAAAAAAABAAAAAAAAAAEAAAAAAAAAAQAAAAAAAAABAAAAAAAAAAEAAAAAAAAAAQAAAAAAAAABAAAAAAAAAAEAAAAAAAAAAQAAAAAAAAABAAAAAAAAAAEAAAAAAAAAAQAAAAAAAAABAAAAAAAAAAEAAAAAAAAAAQAAAAAAAAABAAAAAAAAAAEAAAAAAAAAAQAAAAAAAAABAAAAAAAAAAEAAAAAAAAAAQAAAAAAAAABAAAAAAAAAAEAAAAAAAAAAQAAAAAAAAABAAAAAAAAAAEAAAAAAAAAAQAAAAAAAAABAAAAAAAAAAEAAAAAAAAAAQAAAAAAAAABAAAAAAAAAAEAAAAAAAAAAQAAAAAAAAABAAAAAAAAAAEAAAAAAAAAAQAAAAAAAAABAAAAAAAAAAEAAAAAAAAAAQAAAAAAAAABAAAAAAAAAAEAAAAAAAAAAQAAAAAAAAABAAAAAAAAAAEAAAAAAAAAAQAAAAAAAAABAAAAAAAAAAEAAAAAAAAAAQAAAAAAAAABAAAAAAAAAAEAAAAAAAAAAQAAAAAAAAABAAAAAAAAAAEAAAAAAAAAAQAAAAAAAAABAAAAAAAAAAEAAAAAAAAAAQAAAAAAAAABAAAAAAAAAAEAAAAAAAAAAQAAAAAAAAABAAAAAAAAAAEAAAAAAAAAAQAAAAAAAAABAAAAAAAAAAEAAAAAAAAAAQAAAAAAAAABAAAAAAAAAAEAAAAAAAAAAQAAAAAAAAABAAAAAAAAAAEAAAAAAAAAAQAAAAAAAAABAAAAAAAAAAEAAAAAAAAAAQAAAAAAAAABAAAAAAAAAAEAAAAAAAAAAQAAAAAAAAABAAAAAAAAAAEAAAAAAAAAAQAAAAAAAAABAAAAAAAAAAEAAAAAAAAAAQAAAAAAAAABAAAAAAAAAAEAAAAAAAAAAQAAAAAAAAABAAAAAAAAAAEAAAAAAAAAAQAAAAAAAAABAAAAAAAAAAEAAAAAAAAAAQAAAAAAAAABAAAAAAAAAAEAAAAAAAAAAQAAAAAAAAABAAAAAAAAAAEAAAAAAAAAAQAAAAAAAAABAAAAAAAAAAEAAAAAAAAAAQAAAAAAAAABAAAAAAAAAAEAAAAAAAAAAQAAAAAAAAABAAAAAAAAAAEAAAAAAAAAAQAAAAAAAAABAAAAAAAAAAEAAAAAAAAAAQAAAAAAAAABAAAAAAAAAAEAAAAAAAAAAQAAAAAAAAABAAAAAAAAAAEAAAAAAAAAAQAAAAAAAAABAAAAAAAAAAEAAAAAAAAAAQAAAAAAAAABAAAAAAAAAAEAAAAAAAAAAQAAAAAAAAABAAAAAAAAAAEAAAAAAAAAAQAAAAAAAAABAAAAAAAAAAEAAAAAAAAAAQAAAAAAAAABAAAAAAAAAAEAAAAAAAAAAQAAAAAAAAABAAAAAAAAAAEAAAAAAAAAAQAAAAAAAAABAAAAAAAAAAEAAAAAAAAAAQAAAAAAAAABAAAAAAAAAAEAAAAAAAAAAQAAAAAAAAABAAAAAAAAAAEAAAAAAAAAAQAAAAAAAAABAAAAAAAAAAEA=",
          "dtype": "f8"
         },
         "z": {
          "bdata": "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",
          "dtype": "f8"
         }
        }
       ],
       "layout": {
        "template": {
         "data": {
          "bar": [
           {
            "error_x": {
             "color": "#2a3f5f"
            },
            "error_y": {
             "color": "#2a3f5f"
            },
            "marker": {
             "line": {
              "color": "#E5ECF6",
              "width": 0.5
             },
             "pattern": {
              "fillmode": "overlay",
              "size": 10,
              "solidity": 0.2
             }
            },
            "type": "bar"
           }
          ],
          "barpolar": [
           {
            "marker": {
             "line": {
              "color": "#E5ECF6",
              "width": 0.5
             },
             "pattern": {
              "fillmode": "overlay",
              "size": 10,
              "solidity": 0.2
             }
            },
            "type": "barpolar"
           }
          ],
          "carpet": [
           {
            "aaxis": {
             "endlinecolor": "#2a3f5f",
             "gridcolor": "white",
             "linecolor": "white",
             "minorgridcolor": "white",
             "startlinecolor": "#2a3f5f"
            },
            "baxis": {
             "endlinecolor": "#2a3f5f",
             "gridcolor": "white",
             "linecolor": "white",
             "minorgridcolor": "white",
             "startlinecolor": "#2a3f5f"
            },
            "type": "carpet"
           }
          ],
          "choropleth": [
           {
            "colorbar": {
             "outlinewidth": 0,
             "ticks": ""
            },
            "type": "choropleth"
           }
          ],
          "contour": [
           {
            "colorbar": {
             "outlinewidth": 0,
             "ticks": ""
            },
            "colorscale": [
             [
              0,
              "#0d0887"
             ],
             [
              0.1111111111111111,
              "#46039f"
             ],
             [
              0.2222222222222222,
              "#7201a8"
             ],
             [
              0.3333333333333333,
              "#9c179e"
             ],
             [
              0.4444444444444444,
              "#bd3786"
             ],
             [
              0.5555555555555556,
              "#d8576b"
             ],
             [
              0.6666666666666666,
              "#ed7953"
             ],
             [
              0.7777777777777778,
              "#fb9f3a"
             ],
             [
              0.8888888888888888,
              "#fdca26"
             ],
             [
              1,
              "#f0f921"
             ]
            ],
            "type": "contour"
           }
          ],
          "contourcarpet": [
           {
            "colorbar": {
             "outlinewidth": 0,
             "ticks": ""
            },
            "type": "contourcarpet"
           }
          ],
          "heatmap": [
           {
            "colorbar": {
             "outlinewidth": 0,
             "ticks": ""
            },
            "colorscale": [
             [
              0,
              "#0d0887"
             ],
             [
              0.1111111111111111,
              "#46039f"
             ],
             [
              0.2222222222222222,
              "#7201a8"
             ],
             [
              0.3333333333333333,
              "#9c179e"
             ],
             [
              0.4444444444444444,
              "#bd3786"
             ],
             [
              0.5555555555555556,
              "#d8576b"
             ],
             [
              0.6666666666666666,
              "#ed7953"
             ],
             [
              0.7777777777777778,
              "#fb9f3a"
             ],
             [
              0.8888888888888888,
              "#fdca26"
             ],
             [
              1,
              "#f0f921"
             ]
            ],
            "type": "heatmap"
           }
          ],
          "histogram": [
           {
            "marker": {
             "pattern": {
              "fillmode": "overlay",
              "size": 10,
              "solidity": 0.2
             }
            },
            "type": "histogram"
           }
          ],
          "histogram2d": [
           {
            "colorbar": {
             "outlinewidth": 0,
             "ticks": ""
            },
            "colorscale": [
             [
              0,
              "#0d0887"
             ],
             [
              0.1111111111111111,
              "#46039f"
             ],
             [
              0.2222222222222222,
              "#7201a8"
             ],
             [
              0.3333333333333333,
              "#9c179e"
             ],
             [
              0.4444444444444444,
              "#bd3786"
             ],
             [
              0.5555555555555556,
              "#d8576b"
             ],
             [
              0.6666666666666666,
              "#ed7953"
             ],
             [
              0.7777777777777778,
              "#fb9f3a"
             ],
             [
              0.8888888888888888,
              "#fdca26"
             ],
             [
              1,
              "#f0f921"
             ]
            ],
            "type": "histogram2d"
           }
          ],
          "histogram2dcontour": [
           {
            "colorbar": {
             "outlinewidth": 0,
             "ticks": ""
            },
            "colorscale": [
             [
              0,
              "#0d0887"
             ],
             [
              0.1111111111111111,
              "#46039f"
             ],
             [
              0.2222222222222222,
              "#7201a8"
             ],
             [
              0.3333333333333333,
              "#9c179e"
             ],
             [
              0.4444444444444444,
              "#bd3786"
             ],
             [
              0.5555555555555556,
              "#d8576b"
             ],
             [
              0.6666666666666666,
              "#ed7953"
             ],
             [
              0.7777777777777778,
              "#fb9f3a"
             ],
             [
              0.8888888888888888,
              "#fdca26"
             ],
             [
              1,
              "#f0f921"
             ]
            ],
            "type": "histogram2dcontour"
           }
          ],
          "mesh3d": [
           {
            "colorbar": {
             "outlinewidth": 0,
             "ticks": ""
            },
            "type": "mesh3d"
           }
          ],
          "parcoords": [
           {
            "line": {
             "colorbar": {
              "outlinewidth": 0,
              "ticks": ""
             }
            },
            "type": "parcoords"
           }
          ],
          "pie": [
           {
            "automargin": true,
            "type": "pie"
           }
          ],
          "scatter": [
           {
            "fillpattern": {
             "fillmode": "overlay",
             "size": 10,
             "solidity": 0.2
            },
            "type": "scatter"
           }
          ],
          "scatter3d": [
           {
            "line": {
             "colorbar": {
              "outlinewidth": 0,
              "ticks": ""
             }
            },
            "marker": {
             "colorbar": {
              "outlinewidth": 0,
              "ticks": ""
             }
            },
            "type": "scatter3d"
           }
          ],
          "scattercarpet": [
           {
            "marker": {
             "colorbar": {
              "outlinewidth": 0,
              "ticks": ""
             }
            },
            "type": "scattercarpet"
           }
          ],
          "scattergeo": [
           {
            "marker": {
             "colorbar": {
              "outlinewidth": 0,
              "ticks": ""
             }
            },
            "type": "scattergeo"
           }
          ],
          "scattergl": [
           {
            "marker": {
             "colorbar": {
              "outlinewidth": 0,
              "ticks": ""
             }
            },
            "type": "scattergl"
           }
          ],
          "scattermap": [
           {
            "marker": {
             "colorbar": {
              "outlinewidth": 0,
              "ticks": ""
             }
            },
            "type": "scattermap"
           }
          ],
          "scattermapbox": [
           {
            "marker": {
             "colorbar": {
              "outlinewidth": 0,
              "ticks": ""
             }
            },
            "type": "scattermapbox"
           }
          ],
          "scatterpolar": [
           {
            "marker": {
             "colorbar": {
              "outlinewidth": 0,
              "ticks": ""
             }
            },
            "type": "scatterpolar"
           }
          ],
          "scatterpolargl": [
           {
            "marker": {
             "colorbar": {
              "outlinewidth": 0,
              "ticks": ""
             }
            },
            "type": "scatterpolargl"
           }
          ],
          "scatterternary": [
           {
            "marker": {
             "colorbar": {
              "outlinewidth": 0,
              "ticks": ""
             }
            },
            "type": "scatterternary"
           }
          ],
          "surface": [
           {
            "colorbar": {
             "outlinewidth": 0,
             "ticks": ""
            },
            "colorscale": [
             [
              0,
              "#0d0887"
             ],
             [
              0.1111111111111111,
              "#46039f"
             ],
             [
              0.2222222222222222,
              "#7201a8"
             ],
             [
              0.3333333333333333,
              "#9c179e"
             ],
             [
              0.4444444444444444,
              "#bd3786"
             ],
             [
              0.5555555555555556,
              "#d8576b"
             ],
             [
              0.6666666666666666,
              "#ed7953"
             ],
             [
              0.7777777777777778,
              "#fb9f3a"
             ],
             [
              0.8888888888888888,
              "#fdca26"
             ],
             [
              1,
              "#f0f921"
             ]
            ],
            "type": "surface"
           }
          ],
          "table": [
           {
            "cells": {
             "fill": {
              "color": "#EBF0F8"
             },
             "line": {
              "color": "white"
             }
            },
            "header": {
             "fill": {
              "color": "#C8D4E3"
             },
             "line": {
              "color": "white"
             }
            },
            "type": "table"
           }
          ]
         },
         "layout": {
          "annotationdefaults": {
           "arrowcolor": "#2a3f5f",
           "arrowhead": 0,
           "arrowwidth": 1
          },
          "autotypenumbers": "strict",
          "coloraxis": {
           "colorbar": {
            "outlinewidth": 0,
            "ticks": ""
           }
          },
          "colorscale": {
           "diverging": [
            [
             0,
             "#8e0152"
            ],
            [
             0.1,
             "#c51b7d"
            ],
            [
             0.2,
             "#de77ae"
            ],
            [
             0.3,
             "#f1b6da"
            ],
            [
             0.4,
             "#fde0ef"
            ],
            [
             0.5,
             "#f7f7f7"
            ],
            [
             0.6,
             "#e6f5d0"
            ],
            [
             0.7,
             "#b8e186"
            ],
            [
             0.8,
             "#7fbc41"
            ],
            [
             0.9,
             "#4d9221"
            ],
            [
             1,
             "#276419"
            ]
           ],
           "sequential": [
            [
             0,
             "#0d0887"
            ],
            [
             0.1111111111111111,
             "#46039f"
            ],
            [
             0.2222222222222222,
             "#7201a8"
            ],
            [
             0.3333333333333333,
             "#9c179e"
            ],
            [
             0.4444444444444444,
             "#bd3786"
            ],
            [
             0.5555555555555556,
             "#d8576b"
            ],
            [
             0.6666666666666666,
             "#ed7953"
            ],
            [
             0.7777777777777778,
             "#fb9f3a"
            ],
            [
             0.8888888888888888,
             "#fdca26"
            ],
            [
             1,
             "#f0f921"
            ]
           ],
           "sequentialminus": [
            [
             0,
             "#0d0887"
            ],
            [
             0.1111111111111111,
             "#46039f"
            ],
            [
             0.2222222222222222,
             "#7201a8"
            ],
            [
             0.3333333333333333,
             "#9c179e"
            ],
            [
             0.4444444444444444,
             "#bd3786"
            ],
            [
             0.5555555555555556,
             "#d8576b"
            ],
            [
             0.6666666666666666,
             "#ed7953"
            ],
            [
             0.7777777777777778,
             "#fb9f3a"
            ],
            [
             0.8888888888888888,
             "#fdca26"
            ],
            [
             1,
             "#f0f921"
            ]
           ]
          },
          "colorway": [
           "#636efa",
           "#EF553B",
           "#00cc96",
           "#ab63fa",
           "#FFA15A",
           "#19d3f3",
           "#FF6692",
           "#B6E880",
           "#FF97FF",
           "#FECB52"
          ],
          "font": {
           "color": "#2a3f5f"
          },
          "geo": {
           "bgcolor": "white",
           "lakecolor": "white",
           "landcolor": "#E5ECF6",
           "showlakes": true,
           "showland": true,
           "subunitcolor": "white"
          },
          "hoverlabel": {
           "align": "left"
          },
          "hovermode": "closest",
          "mapbox": {
           "style": "light"
          },
          "paper_bgcolor": "white",
          "plot_bgcolor": "#E5ECF6",
          "polar": {
           "angularaxis": {
            "gridcolor": "white",
            "linecolor": "white",
            "ticks": ""
           },
           "bgcolor": "#E5ECF6",
           "radialaxis": {
            "gridcolor": "white",
            "linecolor": "white",
            "ticks": ""
           }
          },
          "scene": {
           "xaxis": {
            "backgroundcolor": "#E5ECF6",
            "gridcolor": "white",
            "gridwidth": 2,
            "linecolor": "white",
            "showbackground": true,
            "ticks": "",
            "zerolinecolor": "white"
           },
           "yaxis": {
            "backgroundcolor": "#E5ECF6",
            "gridcolor": "white",
            "gridwidth": 2,
            "linecolor": "white",
            "showbackground": true,
            "ticks": "",
            "zerolinecolor": "white"
           },
           "zaxis": {
            "backgroundcolor": "#E5ECF6",
            "gridcolor": "white",
            "gridwidth": 2,
            "linecolor": "white",
            "showbackground": true,
            "ticks": "",
            "zerolinecolor": "white"
           }
          },
          "shapedefaults": {
           "line": {
            "color": "#2a3f5f"
           }
          },
          "ternary": {
           "aaxis": {
            "gridcolor": "white",
            "linecolor": "white",
            "ticks": ""
           },
           "baxis": {
            "gridcolor": "white",
            "linecolor": "white",
            "ticks": ""
           },
           "bgcolor": "#E5ECF6",
           "caxis": {
            "gridcolor": "white",
            "linecolor": "white",
            "ticks": ""
           }
          },
          "title": {
           "x": 0.05
          },
          "xaxis": {
           "automargin": true,
           "gridcolor": "white",
           "linecolor": "white",
           "ticks": "",
           "title": {
            "standoff": 15
           },
           "zerolinecolor": "white",
           "zerolinewidth": 2
          },
          "yaxis": {
           "automargin": true,
           "gridcolor": "white",
           "linecolor": "white",
           "ticks": "",
           "title": {
            "standoff": 15
           },
           "zerolinecolor": "white",
           "zerolinewidth": 2
          }
         }
        }
       }
      }
     },
     "metadata": {},
     "output_type": "display_data"
    }
   ],
   "source": [
    "X,Y,Z = isoler_plan_cartesien(test,\"xoz\",2)\n",
    "fig = go.Figure(data=[go.Scatter3d(x=X, y=Y, z=Z, mode='markers',marker=dict(size=2))])\n",
    "fig.show()"
   ]
  }
 ],
 "metadata": {
  "kernelspec": {
   "display_name": "Python 3",
   "language": "python",
   "name": "python3"
  },
  "language_info": {
   "codemirror_mode": {
    "name": "ipython",
    "version": 3
   },
   "file_extension": ".py",
   "mimetype": "text/x-python",
   "name": "python",
   "nbconvert_exporter": "python",
   "pygments_lexer": "ipython3",
   "version": "3.12.2"
  }
 },
 "nbformat": 4,
 "nbformat_minor": 2
}
