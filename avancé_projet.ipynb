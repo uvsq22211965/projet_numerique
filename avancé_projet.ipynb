{
 "cells": [
  {
   "cell_type": "code",
   "execution_count": 50,
   "metadata": {},
   "outputs": [],
   "source": [
    "import numpy as np\n",
    "import plotly.graph_objects as go"
   ]
  },
  {
   "cell_type": "code",
   "execution_count": 51,
   "metadata": {},
   "outputs": [],
   "source": [
    "def afficher_maillage_3D(X : np.array, Y : np.array, Z : np.array, titre : str, grandeur = None, nom_grandeur  = None, unite = None, afficher_array = None) -> None:\n",
    "    precision_slider = 50 \n",
    "\n",
    "    couleur = \"temps\" \n",
    "    methode_affichage = 'vscode' \n",
    "     \n",
    "    #Gère le cas d'une valeur affectée aux points.\n",
    "    if grandeur is not None:\n",
    "        fig = go.Figure()\n",
    "        mask_charge_positive = grandeur.flatten() > 0 #Filtre les valeurs positives.\n",
    "        mask_charge_negative = grandeur.flatten() <= 0 #Filtre les valeurs négatives ou nulles.\n",
    "        \n",
    "        #Création d'une trace affichant seulement les grandeurs positives. C'est la trace(1)\n",
    "        fig.add_trace(go.Scatter3d(\n",
    "            x=X.flatten()[mask_charge_positive], y=Y.flatten()[mask_charge_positive], z=Z.flatten()[mask_charge_positive],\n",
    "            mode=\"markers\",\n",
    "            marker=dict(size=2, #Taille des points.\n",
    "                        color=grandeur.flatten()[mask_charge_positive],\n",
    "                        colorscale=couleur,\n",
    "                        cmin = grandeur.min(),\n",
    "                        cmax = grandeur.max(),\n",
    "                        opacity=1, \n",
    "                        colorbar=dict(\n",
    "                        title=f'{nom_grandeur} ({unite})', #Titre de la colorbar \n",
    "                        ticks=\"outside\",  \n",
    "                        tickvals=[grandeur.min(), grandeur.max()], #Plage des valeurs de la colorbar\n",
    "                        ticktext=[f\"{grandeur.min():{trouver_signe_afficher_maillage_3D(grandeur.min())}.2f}\", f\"{grandeur.max():{trouver_signe_afficher_maillage_3D(grandeur.max())}.2f}\"],\n",
    "                    )),\n",
    "            showlegend = False #Evite d'avoir \"Trace 0\" etc. affichées à droite.\n",
    "        ))\n",
    "        #Création d'une trace affichant seulement les grandeurs négatives. C'est la trace(2)\n",
    "        fig.add_trace(go.Scatter3d(\n",
    "            x=X.flatten()[mask_charge_negative], y=Y.flatten()[mask_charge_negative], z=Z.flatten()[mask_charge_negative],\n",
    "            mode=\"markers\",\n",
    "            marker=dict(size=2, #Taille des points.\n",
    "                        color=grandeur.flatten()[mask_charge_negative],\n",
    "                        colorscale=couleur,\n",
    "                        cmin = grandeur.min(),\n",
    "                        cmax = grandeur.max(),\n",
    "                        opacity=1,\n",
    "                        colorbar=dict(\n",
    "                        title=f'{nom_grandeur} ({unite})', #Titre de la colorbar \n",
    "                        ticks=\"outside\",  \n",
    "                        tickvals=[grandeur.min(), grandeur.max()], #Plage des valeurs de la colorbar\n",
    "                        ticktext=[f\"{grandeur.min():{trouver_signe_afficher_maillage_3D(grandeur.min())}.2f}\", f\"{grandeur.max():{trouver_signe_afficher_maillage_3D(grandeur.max())}.2f}\"],  \n",
    "                    )),\n",
    "            showlegend= False #Evite d'avoir \"Trace 0\" etc. affichées à droite.\n",
    "        ))\n",
    "        \n",
    "        #Création de len(np.linspace(grandeur.min(),grandeur.max(),precision_slider)) traces affichant seulement une gamme de grandeur. Ce sont\n",
    "        #les trace(3), ..., trace(len(np.linspace(grandeur.min(),grandeur.max(),precision_slider)) + 2).\n",
    "        tolerance = float((grandeur.max() - grandeur.min())/(2*precision_slider))\n",
    "        for valeur in np.linspace(grandeur.min(),grandeur.max(),precision_slider):\n",
    "            fig.add_trace(go.Scatter3d(\n",
    "            x=X.flatten()[abs(grandeur.flatten()-valeur) <= tolerance], y=Y.flatten()[abs(grandeur.flatten()-valeur) <= tolerance], z=Z.flatten()[abs(grandeur.flatten()-valeur) <= tolerance],\n",
    "            mode=\"markers\",\n",
    "            marker=dict(size=2, #Taille des points.\n",
    "                        color=grandeur.flatten()[abs(grandeur.flatten()-valeur) <= tolerance],\n",
    "                        colorscale=couleur,\n",
    "                        cmin = grandeur.min(),\n",
    "                        cmax = grandeur.max(),\n",
    "                        opacity=1,\n",
    "                        ),\n",
    "            showlegend= False #Evite d'avoir \"Trace 0\" etc. affichées à droite.\n",
    "        ))\n",
    "        \n",
    "        #Création d'un slider permettant de mettre en avant un certain intervalle de valeurs.\n",
    "        steps = []\n",
    "        for valeur, charge in zip(range(precision_slider),np.linspace(grandeur.min(),grandeur.max(),precision_slider)):\n",
    "            step = dict(\n",
    "                method='update',\n",
    "                args=[\n",
    "                    {'marker.opacity': calcul_liste_arg_slider_afficher_maillage_3D(valeur,precision_slider)}, #Modifie l'opacité de la trace(1), ..., trace(max).\n",
    "                ],\n",
    "                label = f\" {charge:.2f}{chr(177)}{tolerance:.3f} {unite}\" #Légende du slider.\n",
    "            )\n",
    "            steps.append(step)\n",
    "        slider = [dict(\n",
    "            active = int(precision_slider/2), #Position intiale du slider.\n",
    "            currentvalue = {'prefix' : f'Valeur {nom_grandeur} :'}, #Nom du slider.\n",
    "            pad = {'t':50},\n",
    "            steps = steps\n",
    "        )]\n",
    "        \n",
    "        #Création d'un bouton permettant de réafficher toutes les valeurs.\n",
    "        liste_arg_reset_button = [1,1] #Respectivement l'opacité des charges positives puis négatives.\n",
    "        for _ in range(precision_slider):\n",
    "            liste_arg_reset_button.append(0) #La valeur ajoutée dans la liste est l'opacité des traces des gammes des valeurs.\n",
    "        \n",
    "        reset_button = dict(\n",
    "            type='buttons',\n",
    "            showactive=True,\n",
    "            buttons=[\n",
    "                dict(label='Réinitialiser Opacité', #Nom du bouton.\n",
    "                     method='update',\n",
    "                     args=[{'marker.opacity': liste_arg_reset_button}] #Modifie l'opacité de la trace(1), ..., trace(max).\n",
    "                )\n",
    "            ],\n",
    "            x=0.1, #Position en %\n",
    "            y=0.9, #Position en % \n",
    "            xanchor=\"right\",\n",
    "            yanchor=\"bottom\"\n",
    "        )\n",
    "        \n",
    "        #Création d'un bouton qui permet de mettre en avant les valeurs positives.   \n",
    "        liste_arg_bouton_valeur_positive = [1,0.1] #Respectivement l'opacité des charges positives puis négatives.\n",
    "        for _ in range(precision_slider):\n",
    "            liste_arg_bouton_valeur_positive.append(0) #La valeur ajoutée dans la liste est l'opacité des traces des gammes des valeurs.\n",
    "     \n",
    "        bouton_valeur_positive = dict(\n",
    "            type='buttons',\n",
    "            showactive=True,\n",
    "            buttons=[\n",
    "                dict(label=f'Afficher {nom_grandeur} +', #Nom du bouton.\n",
    "                     method='update',\n",
    "                     args=[{'marker.opacity': liste_arg_bouton_valeur_positive}] #Modifie l'opacité de la trace(1), ..., trace(max).\n",
    "                )\n",
    "            ],\n",
    "            x=0.1, #Position en %\n",
    "            y=0.7, #Position en %\n",
    "            xanchor=\"right\",\n",
    "            yanchor=\"bottom\"\n",
    "        )\n",
    "        \n",
    "        #Création d'un bouton qui permet de mettre en avant les valeurs positives.   \n",
    "        liste_arg_bouton_valeur_negative = [0.1,1] #Respectivement l'opacité des charges positives puis négatives.\n",
    "        for _ in range(precision_slider):\n",
    "            liste_arg_bouton_valeur_negative.append(0) #La valeur ajoutée dans la liste est l'opacité des traces des gammes des valeurs.\n",
    "            \n",
    "        bouton_valeur_negative = dict(\n",
    "            type='buttons',\n",
    "            showactive=True,\n",
    "            buttons=[\n",
    "                dict(label=f'Afficher {nom_grandeur} -', #Nom du bouton.\n",
    "                     method='update',\n",
    "                     args=[{'marker.opacity': liste_arg_bouton_valeur_negative}] #Modifie l'opacité de la trace(1), ..., trace(max).\n",
    "                )\n",
    "            ],\n",
    "            x=0.1, #Position en %\n",
    "            y=0.5, #Position en %\n",
    "            xanchor=\"right\",\n",
    "            yanchor=\"bottom\"\n",
    "        )\n",
    "        #Update et affiche le plot selon methode_affichage.\n",
    "        fig.update_layout(\n",
    "            title = titre,\n",
    "            sliders = slider,\n",
    "            updatemenus = [reset_button,bouton_valeur_positive,bouton_valeur_negative],\n",
    "            scene=dict(xaxis_title=\"X\", yaxis_title=\"Y\", zaxis_title=\"Z\")\n",
    "        )\n",
    "        fig.show(methode_affichage)\n",
    "    #Gère le cas dans lequel aucune valeur n'est affectée aux points.\n",
    "    else:\n",
    "        #Création d'une trace contenant tous les points du maillage.\n",
    "        fig = go.Figure(data=[go.Scatter3d(\n",
    "            x=X.flatten(), y=Y.flatten(), z=Z.flatten(),\n",
    "            mode=\"markers\",\n",
    "            marker=dict(size=2, opacity=0.8) \n",
    "        )])\n",
    "        #Update et affiche le plot selon methode_affichage.\n",
    "        fig.update_layout(\n",
    "            title=titre,\n",
    "            scene=dict(xaxis_title=\"X\", yaxis_title=\"Y\", zaxis_title=\"Z\")\n",
    "        )\n",
    "        fig.show(methode_affichage)\n",
    "    #Gère le cas où l'on souhaite voir à quoi ressemblent les matrices du maillage X,Y,Z.\n",
    "    if afficher_array:\n",
    "        print(f\"La première matrice ressemble à :\\n\\n{X},\\n\\n\"\n",
    "              f\"La deuxième matrice ressemble à :\\n\\n{Y},\\n\\n\"\n",
    "              f\"La dernière matrice ressemble à :\\n\\n{Z}\")\n",
    "    \n",
    "    #C'est une méthode, elle ne retourne rien mais permet seulement d'afficher.\n",
    "    return None"
   ]
  },
  {
   "cell_type": "code",
   "execution_count": 52,
   "metadata": {},
   "outputs": [
    {
     "data": {
      "application/vnd.plotly.v1+json": {
       "config": {
        "plotlyServerURL": "https://plot.ly"
       },
       "data": [
        {
         "marker": {
          "opacity": 0.8,
          "size": 2
         },
         "mode": "markers",
         "type": "scatter3d",
         "x": {
          "bdata": "AAAAAAAA8L8AAAAAAADwvwAAAAAAAPC/AAAAAAAAAAAAAAAAAAAAAAAAAAAAAAAAAAAAAAAA8D8AAAAAAADwPwAAAAAAAPA/AAAAAAAA8L8AAAAAAADwvwAAAAAAAPC/AAAAAAAAAAAAAAAAAAAAAAAAAAAAAAAAAAAAAAAA8D8AAAAAAADwPwAAAAAAAPA/AAAAAAAA8L8AAAAAAADwvwAAAAAAAPC/AAAAAAAAAAAAAAAAAAAAAAAAAAAAAAAAAAAAAAAA8D8AAAAAAADwPwAAAAAAAPA/",
          "dtype": "f8"
         },
         "y": {
          "bdata": "AAAAAAAA8L8AAAAAAADwvwAAAAAAAPC/AAAAAAAA8L8AAAAAAADwvwAAAAAAAPC/AAAAAAAA8L8AAAAAAADwvwAAAAAAAPC/AAAAAAAAAAAAAAAAAAAAAAAAAAAAAAAAAAAAAAAAAAAAAAAAAAAAAAAAAAAAAAAAAAAAAAAAAAAAAAAAAAAAAAAAAAAAAAAAAAAAAAAA8D8AAAAAAADwPwAAAAAAAPA/AAAAAAAA8D8AAAAAAADwPwAAAAAAAPA/AAAAAAAA8D8AAAAAAADwPwAAAAAAAPA/",
          "dtype": "f8"
         },
         "z": {
          "bdata": "AAAAAAAA8L8AAAAAAAAAAAAAAAAAAPA/AAAAAAAA8L8AAAAAAAAAAAAAAAAAAPA/AAAAAAAA8L8AAAAAAAAAAAAAAAAAAPA/AAAAAAAA8L8AAAAAAAAAAAAAAAAAAPA/AAAAAAAA8L8AAAAAAAAAAAAAAAAAAPA/AAAAAAAA8L8AAAAAAAAAAAAAAAAAAPA/AAAAAAAA8L8AAAAAAAAAAAAAAAAAAPA/AAAAAAAA8L8AAAAAAAAAAAAAAAAAAPA/AAAAAAAA8L8AAAAAAAAAAAAAAAAAAPA/",
          "dtype": "f8"
         }
        }
       ],
       "layout": {
        "scene": {
         "xaxis": {
          "title": {
           "text": "X"
          }
         },
         "yaxis": {
          "title": {
           "text": "Y"
          }
         },
         "zaxis": {
          "title": {
           "text": "Z"
          }
         }
        },
        "template": {
         "data": {
          "bar": [
           {
            "error_x": {
             "color": "#2a3f5f"
            },
            "error_y": {
             "color": "#2a3f5f"
            },
            "marker": {
             "line": {
              "color": "#E5ECF6",
              "width": 0.5
             },
             "pattern": {
              "fillmode": "overlay",
              "size": 10,
              "solidity": 0.2
             }
            },
            "type": "bar"
           }
          ],
          "barpolar": [
           {
            "marker": {
             "line": {
              "color": "#E5ECF6",
              "width": 0.5
             },
             "pattern": {
              "fillmode": "overlay",
              "size": 10,
              "solidity": 0.2
             }
            },
            "type": "barpolar"
           }
          ],
          "carpet": [
           {
            "aaxis": {
             "endlinecolor": "#2a3f5f",
             "gridcolor": "white",
             "linecolor": "white",
             "minorgridcolor": "white",
             "startlinecolor": "#2a3f5f"
            },
            "baxis": {
             "endlinecolor": "#2a3f5f",
             "gridcolor": "white",
             "linecolor": "white",
             "minorgridcolor": "white",
             "startlinecolor": "#2a3f5f"
            },
            "type": "carpet"
           }
          ],
          "choropleth": [
           {
            "colorbar": {
             "outlinewidth": 0,
             "ticks": ""
            },
            "type": "choropleth"
           }
          ],
          "contour": [
           {
            "colorbar": {
             "outlinewidth": 0,
             "ticks": ""
            },
            "colorscale": [
             [
              0,
              "#0d0887"
             ],
             [
              0.1111111111111111,
              "#46039f"
             ],
             [
              0.2222222222222222,
              "#7201a8"
             ],
             [
              0.3333333333333333,
              "#9c179e"
             ],
             [
              0.4444444444444444,
              "#bd3786"
             ],
             [
              0.5555555555555556,
              "#d8576b"
             ],
             [
              0.6666666666666666,
              "#ed7953"
             ],
             [
              0.7777777777777778,
              "#fb9f3a"
             ],
             [
              0.8888888888888888,
              "#fdca26"
             ],
             [
              1,
              "#f0f921"
             ]
            ],
            "type": "contour"
           }
          ],
          "contourcarpet": [
           {
            "colorbar": {
             "outlinewidth": 0,
             "ticks": ""
            },
            "type": "contourcarpet"
           }
          ],
          "heatmap": [
           {
            "colorbar": {
             "outlinewidth": 0,
             "ticks": ""
            },
            "colorscale": [
             [
              0,
              "#0d0887"
             ],
             [
              0.1111111111111111,
              "#46039f"
             ],
             [
              0.2222222222222222,
              "#7201a8"
             ],
             [
              0.3333333333333333,
              "#9c179e"
             ],
             [
              0.4444444444444444,
              "#bd3786"
             ],
             [
              0.5555555555555556,
              "#d8576b"
             ],
             [
              0.6666666666666666,
              "#ed7953"
             ],
             [
              0.7777777777777778,
              "#fb9f3a"
             ],
             [
              0.8888888888888888,
              "#fdca26"
             ],
             [
              1,
              "#f0f921"
             ]
            ],
            "type": "heatmap"
           }
          ],
          "histogram": [
           {
            "marker": {
             "pattern": {
              "fillmode": "overlay",
              "size": 10,
              "solidity": 0.2
             }
            },
            "type": "histogram"
           }
          ],
          "histogram2d": [
           {
            "colorbar": {
             "outlinewidth": 0,
             "ticks": ""
            },
            "colorscale": [
             [
              0,
              "#0d0887"
             ],
             [
              0.1111111111111111,
              "#46039f"
             ],
             [
              0.2222222222222222,
              "#7201a8"
             ],
             [
              0.3333333333333333,
              "#9c179e"
             ],
             [
              0.4444444444444444,
              "#bd3786"
             ],
             [
              0.5555555555555556,
              "#d8576b"
             ],
             [
              0.6666666666666666,
              "#ed7953"
             ],
             [
              0.7777777777777778,
              "#fb9f3a"
             ],
             [
              0.8888888888888888,
              "#fdca26"
             ],
             [
              1,
              "#f0f921"
             ]
            ],
            "type": "histogram2d"
           }
          ],
          "histogram2dcontour": [
           {
            "colorbar": {
             "outlinewidth": 0,
             "ticks": ""
            },
            "colorscale": [
             [
              0,
              "#0d0887"
             ],
             [
              0.1111111111111111,
              "#46039f"
             ],
             [
              0.2222222222222222,
              "#7201a8"
             ],
             [
              0.3333333333333333,
              "#9c179e"
             ],
             [
              0.4444444444444444,
              "#bd3786"
             ],
             [
              0.5555555555555556,
              "#d8576b"
             ],
             [
              0.6666666666666666,
              "#ed7953"
             ],
             [
              0.7777777777777778,
              "#fb9f3a"
             ],
             [
              0.8888888888888888,
              "#fdca26"
             ],
             [
              1,
              "#f0f921"
             ]
            ],
            "type": "histogram2dcontour"
           }
          ],
          "mesh3d": [
           {
            "colorbar": {
             "outlinewidth": 0,
             "ticks": ""
            },
            "type": "mesh3d"
           }
          ],
          "parcoords": [
           {
            "line": {
             "colorbar": {
              "outlinewidth": 0,
              "ticks": ""
             }
            },
            "type": "parcoords"
           }
          ],
          "pie": [
           {
            "automargin": true,
            "type": "pie"
           }
          ],
          "scatter": [
           {
            "fillpattern": {
             "fillmode": "overlay",
             "size": 10,
             "solidity": 0.2
            },
            "type": "scatter"
           }
          ],
          "scatter3d": [
           {
            "line": {
             "colorbar": {
              "outlinewidth": 0,
              "ticks": ""
             }
            },
            "marker": {
             "colorbar": {
              "outlinewidth": 0,
              "ticks": ""
             }
            },
            "type": "scatter3d"
           }
          ],
          "scattercarpet": [
           {
            "marker": {
             "colorbar": {
              "outlinewidth": 0,
              "ticks": ""
             }
            },
            "type": "scattercarpet"
           }
          ],
          "scattergeo": [
           {
            "marker": {
             "colorbar": {
              "outlinewidth": 0,
              "ticks": ""
             }
            },
            "type": "scattergeo"
           }
          ],
          "scattergl": [
           {
            "marker": {
             "colorbar": {
              "outlinewidth": 0,
              "ticks": ""
             }
            },
            "type": "scattergl"
           }
          ],
          "scattermap": [
           {
            "marker": {
             "colorbar": {
              "outlinewidth": 0,
              "ticks": ""
             }
            },
            "type": "scattermap"
           }
          ],
          "scattermapbox": [
           {
            "marker": {
             "colorbar": {
              "outlinewidth": 0,
              "ticks": ""
             }
            },
            "type": "scattermapbox"
           }
          ],
          "scatterpolar": [
           {
            "marker": {
             "colorbar": {
              "outlinewidth": 0,
              "ticks": ""
             }
            },
            "type": "scatterpolar"
           }
          ],
          "scatterpolargl": [
           {
            "marker": {
             "colorbar": {
              "outlinewidth": 0,
              "ticks": ""
             }
            },
            "type": "scatterpolargl"
           }
          ],
          "scatterternary": [
           {
            "marker": {
             "colorbar": {
              "outlinewidth": 0,
              "ticks": ""
             }
            },
            "type": "scatterternary"
           }
          ],
          "surface": [
           {
            "colorbar": {
             "outlinewidth": 0,
             "ticks": ""
            },
            "colorscale": [
             [
              0,
              "#0d0887"
             ],
             [
              0.1111111111111111,
              "#46039f"
             ],
             [
              0.2222222222222222,
              "#7201a8"
             ],
             [
              0.3333333333333333,
              "#9c179e"
             ],
             [
              0.4444444444444444,
              "#bd3786"
             ],
             [
              0.5555555555555556,
              "#d8576b"
             ],
             [
              0.6666666666666666,
              "#ed7953"
             ],
             [
              0.7777777777777778,
              "#fb9f3a"
             ],
             [
              0.8888888888888888,
              "#fdca26"
             ],
             [
              1,
              "#f0f921"
             ]
            ],
            "type": "surface"
           }
          ],
          "table": [
           {
            "cells": {
             "fill": {
              "color": "#EBF0F8"
             },
             "line": {
              "color": "white"
             }
            },
            "header": {
             "fill": {
              "color": "#C8D4E3"
             },
             "line": {
              "color": "white"
             }
            },
            "type": "table"
           }
          ]
         },
         "layout": {
          "annotationdefaults": {
           "arrowcolor": "#2a3f5f",
           "arrowhead": 0,
           "arrowwidth": 1
          },
          "autotypenumbers": "strict",
          "coloraxis": {
           "colorbar": {
            "outlinewidth": 0,
            "ticks": ""
           }
          },
          "colorscale": {
           "diverging": [
            [
             0,
             "#8e0152"
            ],
            [
             0.1,
             "#c51b7d"
            ],
            [
             0.2,
             "#de77ae"
            ],
            [
             0.3,
             "#f1b6da"
            ],
            [
             0.4,
             "#fde0ef"
            ],
            [
             0.5,
             "#f7f7f7"
            ],
            [
             0.6,
             "#e6f5d0"
            ],
            [
             0.7,
             "#b8e186"
            ],
            [
             0.8,
             "#7fbc41"
            ],
            [
             0.9,
             "#4d9221"
            ],
            [
             1,
             "#276419"
            ]
           ],
           "sequential": [
            [
             0,
             "#0d0887"
            ],
            [
             0.1111111111111111,
             "#46039f"
            ],
            [
             0.2222222222222222,
             "#7201a8"
            ],
            [
             0.3333333333333333,
             "#9c179e"
            ],
            [
             0.4444444444444444,
             "#bd3786"
            ],
            [
             0.5555555555555556,
             "#d8576b"
            ],
            [
             0.6666666666666666,
             "#ed7953"
            ],
            [
             0.7777777777777778,
             "#fb9f3a"
            ],
            [
             0.8888888888888888,
             "#fdca26"
            ],
            [
             1,
             "#f0f921"
            ]
           ],
           "sequentialminus": [
            [
             0,
             "#0d0887"
            ],
            [
             0.1111111111111111,
             "#46039f"
            ],
            [
             0.2222222222222222,
             "#7201a8"
            ],
            [
             0.3333333333333333,
             "#9c179e"
            ],
            [
             0.4444444444444444,
             "#bd3786"
            ],
            [
             0.5555555555555556,
             "#d8576b"
            ],
            [
             0.6666666666666666,
             "#ed7953"
            ],
            [
             0.7777777777777778,
             "#fb9f3a"
            ],
            [
             0.8888888888888888,
             "#fdca26"
            ],
            [
             1,
             "#f0f921"
            ]
           ]
          },
          "colorway": [
           "#636efa",
           "#EF553B",
           "#00cc96",
           "#ab63fa",
           "#FFA15A",
           "#19d3f3",
           "#FF6692",
           "#B6E880",
           "#FF97FF",
           "#FECB52"
          ],
          "font": {
           "color": "#2a3f5f"
          },
          "geo": {
           "bgcolor": "white",
           "lakecolor": "white",
           "landcolor": "#E5ECF6",
           "showlakes": true,
           "showland": true,
           "subunitcolor": "white"
          },
          "hoverlabel": {
           "align": "left"
          },
          "hovermode": "closest",
          "mapbox": {
           "style": "light"
          },
          "paper_bgcolor": "white",
          "plot_bgcolor": "#E5ECF6",
          "polar": {
           "angularaxis": {
            "gridcolor": "white",
            "linecolor": "white",
            "ticks": ""
           },
           "bgcolor": "#E5ECF6",
           "radialaxis": {
            "gridcolor": "white",
            "linecolor": "white",
            "ticks": ""
           }
          },
          "scene": {
           "xaxis": {
            "backgroundcolor": "#E5ECF6",
            "gridcolor": "white",
            "gridwidth": 2,
            "linecolor": "white",
            "showbackground": true,
            "ticks": "",
            "zerolinecolor": "white"
           },
           "yaxis": {
            "backgroundcolor": "#E5ECF6",
            "gridcolor": "white",
            "gridwidth": 2,
            "linecolor": "white",
            "showbackground": true,
            "ticks": "",
            "zerolinecolor": "white"
           },
           "zaxis": {
            "backgroundcolor": "#E5ECF6",
            "gridcolor": "white",
            "gridwidth": 2,
            "linecolor": "white",
            "showbackground": true,
            "ticks": "",
            "zerolinecolor": "white"
           }
          },
          "shapedefaults": {
           "line": {
            "color": "#2a3f5f"
           }
          },
          "ternary": {
           "aaxis": {
            "gridcolor": "white",
            "linecolor": "white",
            "ticks": ""
           },
           "baxis": {
            "gridcolor": "white",
            "linecolor": "white",
            "ticks": ""
           },
           "bgcolor": "#E5ECF6",
           "caxis": {
            "gridcolor": "white",
            "linecolor": "white",
            "ticks": ""
           }
          },
          "title": {
           "x": 0.05
          },
          "xaxis": {
           "automargin": true,
           "gridcolor": "white",
           "linecolor": "white",
           "ticks": "",
           "title": {
            "standoff": 15
           },
           "zerolinecolor": "white",
           "zerolinewidth": 2
          },
          "yaxis": {
           "automargin": true,
           "gridcolor": "white",
           "linecolor": "white",
           "ticks": "",
           "title": {
            "standoff": 15
           },
           "zerolinecolor": "white",
           "zerolinewidth": 2
          }
         }
        },
        "title": {
         "text": "Visualisation du maillage"
        }
       }
      }
     },
     "metadata": {},
     "output_type": "display_data"
    }
   ],
   "source": [
    "def creer_maillage_3D(x_min : float, x_max : float, y_min : float, y_max : float, z_min : float, z_max : float, pas_du_maillage : float) -> list:\n",
    "    for min, max in zip([x_min,y_min,z_min],[x_max,y_max,z_max]):\n",
    "        if min == max: \n",
    "            raise ValueError(f\"Le maillage n'est pas 3D: {min} = {max}.\")\n",
    "        if min > max:\n",
    "            min, max = max, min \n",
    "        if pas_du_maillage > float(abs(max-min)/2):\n",
    "            raise ValueError(\"pas_du_maillage est trop grand.\") \n",
    "\n",
    "    longueur_maillage_x = abs(x_max - x_min)\n",
    "    longueur_maillage_y = abs(y_max - y_min)\n",
    "    longueur_maillage_z = abs(z_max - z_min)\n",
    "    \n",
    "    nb_points_entre_x_min_x_max = int((longueur_maillage_x) / (pas_du_maillage)) + 1\n",
    "    nb_points_entre_y_min_y_max = int((longueur_maillage_y) / (pas_du_maillage)) + 1\n",
    "    nb_points_entre_z_min_z_max = int((longueur_maillage_z) / (pas_du_maillage)) + 1\n",
    "\n",
    "    axe_x = np.linspace(x_min, x_max, nb_points_entre_x_min_x_max)\n",
    "    axe_y = np.linspace(y_min, y_max, nb_points_entre_y_min_y_max)\n",
    "    axe_z = np.linspace(z_min, z_max, nb_points_entre_z_min_z_max)\n",
    "    \n",
    "    X,Y,Z = np.meshgrid(axe_x,axe_y,axe_z)\n",
    "\n",
    "    X = np.round(X, 1) \n",
    "    Y = np.round(Y, 1)\n",
    "    Z = np.round(Z, 1)\n",
    "\n",
    "    return [X,Y,Z]\n",
    "\n",
    "cote = 1\n",
    "pas_du_maillage = 1\n",
    "X,Y,Z = creer_maillage_3D(-cote,cote,-cote,cote,-cote,cote,pas_du_maillage)\n",
    "\n",
    "afficher_maillage_3D(X,Y,Z,\"Visualisation du maillage\")\n",
    "\n",
    "P1 = np.array([X[0],Y[0],Z[0]])"
   ]
  },
  {
   "cell_type": "code",
   "execution_count": 53,
   "metadata": {},
   "outputs": [],
   "source": [
    "sphere = lambda r, theta, phi: np.array([r * np.sin(theta) * np.cos(phi), r * np.sin(theta) * np.sin(phi), r * np.cos(theta)])\n",
    "cylindre = lambda r, theta, z: np.array([r * np.cos(theta), r * np.sin(theta), z])"
   ]
  },
  {
   "cell_type": "code",
   "execution_count": 54,
   "metadata": {},
   "outputs": [
    {
     "data": {
      "application/vnd.plotly.v1+json": {
       "config": {
        "plotlyServerURL": "https://plot.ly"
       },
       "data": [
        {
         "marker": {
          "size": 2
         },
         "mode": "markers",
         "type": "scatter3d",
         "x": {
          "bdata": "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",
          "dtype": "f8"
         },
         "y": {
          "bdata": "AAAAAAAAAAAAAAAAAAAAAAAAAAAAAAAAAAAAAAAAAAAAAAAAAAAAAAAAAAAAAAAAAAAAAAAAAAAAAAAAAAAAAAAAAAAAAAAAAAAAAAAAAAAAAAAAAAAAAAAAAAAAAAAAAAAAAAAAAAAAAAAAAAAAAAAAAAAAAAAAAAAAAAAAAAAAAAAAAAAAAAAAAAAAAAAAAAAAAAAAAAAAAAAAAAAAAAAAAAAAAAAAAAAAAAAAAAAAAAAAAAAAAAAAAAAAAAAAAAAAAAAAAAAAAAAAAAAAAAAAAAAAAAAAAAAAAAAAAAAAAAAAAAAAAAAAAAAAAAAAAAAAAAAAAAAAAAAAAAAAAAAAAAAAAAAAAAAAAAAAAAAAAAAAAAAAAAAAAAAAAAAAAAAAAAAAAAAAAAAAAAAAAAAAAAAAAAAAAAAAAAAAAAAAAAAAAAAAAAAAAAAAAAAAAAAAAAAAAAAAAAAAAAAAAAAAAAAAAAAAAAAAAAAAAAAAAAAAAAAAAAAAAAAAAAAAAAAAAAAAAAAAAAAAAAAAAAAAAAAAAAAAmPxzFXH5tD8FfCXeaO7EP/KI6V0USs8/64Cxy2rC1D+ofgPc9MnZP4BHrO9dtt4/9FUiEDzB4T+rzAPCmxTkP6sdbr7bUuY/xd8E75956D8FSZXxpIbqP2QKk3nCd+w/SEEXle1K7j+XT/7SOv7vP6fz8CPwx/A/ZLnntxt/8T8eDmB13yPyP9xx/wiOtfI/2iZpMo4z8z/IBnVlW53zP+2+nlWG8vM/HsUaa7Uy9D9j2xUhpV30P+/8u0woc/Q/7/y7TChz9D9j2xUhpV30Px7FGmu1MvQ/7b6eVYby8z/JBnVlW53zP9omaTKOM/M/3XH/CI618j8eDmB13yPyP2W557cbf/E/qPPwI/DH8D+aT/7SOv7vP0pBF5XtSu4/ZQqTecJ37D8JSZXxpIbqP8ffBO+feeg/rx1uvttS5j+vzAPCmxTkP/VVIhA8weE/iUes71223j+tfgPc9MnZP/WAsctqwtQ//ojpXRRKzz8cfCXeaO7EP7X8cxVx+bQ/MxioVK6RpjwAAAAAAAAAAKaKL9NbzcQ/6oCxy2rC1D/OfWAhUQjfP8GCXy/JluQ/L7icJ8GT6T8gjdwn0XXuP4DuNxbrm/E/woFtc2fq8z97z9uA8CP2P4dryx0vRvg/ea/CqeRO+j+vlwFh7Tv8PyiYu5xCC/4/lT6x9Py6/z9h1/Ufq6QAQNRMP7lVWgFAQA0tK7/9AUAWYK6OO44CQIVmf+UyCwNAfRsNuiF0A0Afgb+pmcgDQNyBGNlBCARA7l0tUdcyBEBAUBhGLUgEQEBQGEYtSARA7l0tUdcyBEDcgRjZQQgEQB+Bv6mZyANAfhsNuiF0A0CFZn/lMgsDQBdgro47jgJAQA0tK7/9AUDVTD+5VVoBQGPX9R+rpABAmD6x9Py6/z8qmLucQgv+P7CXAWHtO/w/fa/CqeRO+j+Ja8sdL0b4P3/P24DwI/Y/xYFtc2fq8z+B7jcW65vxPymN3CfRde4/M7icJ8GT6T/Lgl8vyZbkP9p9YCFRCN8/AYGxy2rC1D/Cii/TW83EP0KDZw0/YrY8AAAAAAAAAACrctfkjcbOP4BHrO9dtt4/nDjuBJP05j8hjdwn0XXuP0kujyeC6/I/QzEyjzSI9j+bAJkMMw36P8LLt9DJdv0/ksdh8LBgAEDHVHZuwvQBQJFhZlLwdQNAdpLZaqXiBEDMXpEPYjkGQMWEALW9eAdAgl+SZ2ifCECvIhMtLKwJQNc2xUrunQpAY6/MbrBzC0Dy+re7kSwMQI1eDLXPxwxA/mTdC8dEDUAvCZhK9KINQK7jTF/04Q1AUuHnA4UBDkBS4ecDhQEOQK7jTF/04Q1ALwmYSvSiDUD+ZN0Lx0QNQI9eDLXPxwxA8vq3u5EsDEBkr8xusHMLQNc2xUrunQpAsCITLSysCUCDX5JnaJ8IQMeEALW9eAdAzV6RD2I5BkB3ktlqpeIEQJRhZlLwdQNAyVR2bsL0AUCVx2HwsGAAQMbLt9DJdv0/nACZDDMN+j9KMTKPNIj2P0wujyeC6/I/MI3cJ9F17j+lOO4Ek/TmP6FHrO9dtt4/1XLX5I3Gzj+anDPjx47APAAAAAAAAAAAkPLYLTEf1D+szAPCmxTkP1X6ozd/BO4/w4Ftc2fq8z/QwEH7m734P8LLt9DJdv0/d2cNeXwIAUCIrFj8qEMDQCD6RJiRagVAk8JPxPJ6B0ChzhGroHIJQLcN9nKJTwtA/vSaa7cPDUDZFZQdU7EOQCJfMJ1SGRBAqvNGNQzJEECZpg58HWcRQJOQuCng8hFAqJqROMFrEkCKzqt/QdESQMGuojj2IhNAA9/tb4lgE0Ax9EtfuokTQE5O5rFdnhNATk7msV2eE0Ax9EtfuokTQAPf7W+JYBNAwa6iOPYiE0CLzqt/QdESQKiakTjBaxJAlJC4KeDyEUCZpg58HWcRQKvzRjUMyRBAI18wnVIZEEDcFZQdU7EOQAD1mmu3Dw1AuA32colPC0ClzhGroHIJQJXCT8TyegdAJPpEmJFqBUCLrFj8qEMDQHhnDXl8CAFAy8u30Ml2/T/UwEH7m734P82BbXNn6vM/YfqjN38E7j/CzAPCmxTkP6zy2C0xH9Q/AHWaetamxTwAAAAAAAAAAMRIA0+Ghtg/xd8E75956D8m4UDEHkvyP4dryx0vRvg/zp1dZrYn/j/HVHZuwvQBQDxamQ/GwgRAk8JPxPJ6B0CFbr0zbBoKQHVl2ABwngxAjY15sVgED0D8IoU70KQQQAuX8OrxtRFAIbhBFHK0EkBY8RL+RJ8TQCgK+aFzdRRAXV5fsBw2FUCCaox9deAVQOFX1dbKcxZATkAgv4HvFkBa3O4RGFMXQEEYRgwlnhdAOIviulnQF0CK4kVNgekXQIriRU2B6RdAOIviulnQF0BBGEYMJZ4XQFrc7hEYUxdAT0Agv4HvFkDhV9XWynMWQIRqjH114BVAXV5fsBw2FUApCvmhc3UUQFnxEv5EnxNAI7hBFHK0EkAMl/Dq8bURQP0ihTvQpBBAko15sVgED0B4ZdgAcJ4MQIpuvTNsGgpAlsJPxPJ6B0A9WpkPxsIEQMxUdm7C9AFA051dZrYn/j+Ta8sdL0b4Py3hQMQeS/I/398E75956D/mSANPhobYPyUJE67hY8o8AAAAAAAAAABESSeUw4bcP2QKk3nCd+w/1XJMXhhH9T+vlwFh7Tv8P2bqGHSHiQFAdpLZaqXiBED41d7tyiUIQLYN9nKJTwtAqe3NKI1cDkD8IoU70KQQQP9mRq/XCRJAA+QyW+VbE0CgPQKhlZkUQDcitE6awRVASZYf/rvSFkD7Lodc28sXQKCi2VjyqxhA5LlgNxVyGUAQoLyJcx0aQDq0JgpZrRpAWjQVWS4hG0DXQ3iceXgbQLTK6P/eshtAK1VCFSHQG0ArVUIVIdAbQLTK6P/eshtA10N4nHl4G0BaNBVZLiEbQDu0JgpZrRpAEKC8iXMdGkDmuWA3FXIZQKCi2VjyqxhA/C6HXNvLF0BKlh/+u9IWQDkitE6awRVAoT0CoZWZFEAE5DJb5VsTQAFnRq/XCRJA/SKFO9CkEECu7c0ojVwOQLoN9nKJTwtA+dXe7colCEB8ktlqpeIEQGnqGHSHiQFAvZcBYe07/D/eckxeGEf1P4MKk3nCd+w/a0knlMOG3D+o7hFy/rHOPAAAAAAAAAAAppwDy4sH4D+YT/7SOv7vP/bF+gih6fc/lj6x9Py6/z95QNbpe7UDQMWEALW9eAdA1H1NjU4jC0DaFZQdU7EOQLYaVwyHDxFAIrhBFHK0EkCtbazcr0UUQDgitE6awRVAOWZ1wqEmF0DaWnijTnMYQOfuyPtCphlA8tEb5Du+GkD513zXErobQLF4Iem+mBxAFn8Z21VZHUBrvbgUDfsdQGmOtnc6fR5AI/EiE1XfHkBL/nSz9SAfQP8rG0/XQR9A/ysbT9dBH0BL/nSz9SAfQCPxIhNV3x5AaY62dzp9HkBsvbgUDfsdQBZ/GdtVWR1Asngh6b6YHED513zXErobQPPRG+Q7vhpA6e7I+0KmGUDcWnijTnMYQDtmdcKhJhdAOSK0TprBFUCwbazcr0UUQCS4QRRytBJAuRpXDIcPEUDeFZQdU7EOQNV9TY1OIwtAzIQAtb14B0B8QNbpe7UDQKY+sfT8uv8//8X6CKHp9z+6T/7SOv7vP7ucA8uLB+A/azweBIo/0TwAAAAAAAAAAKZK3nxUiOE/Zbnntxt/8T9x3OFapSf6P9RMP7lVWgFAaPaxnZeOBUCvIhMtLKwJQPGfpRS/rg1AqvNGNQzJEEDCNeyOEKkSQCkK+aFzdRRA8hmGH1EsFkD8Lodc28sXQPQeczddUhlA8tEb5Du+GkDtp9Kb+A0cQJGkEjAyQB1AXssIfqZTHkB61XPBM0cfQCpju+LsDCBAzdoOeV1lIECFpLyajqwgQMvSrWM14iBA23d0YxkGIUAizarYFBghQCLNqtgUGCFA23d0YxkGIUDL0q1jNeIgQIWkvJqOrCBAztoOeV1lIEAqY7vi7AwgQHzVc8EzRx9AXssIfqZTHkCTpBIwMkAdQO+n0pv4DRxA9NEb5Du+GkD2HnM3XVIZQPwuh1zbyxdA9hmGH1EsFkAqCvmhc3UUQMY17I4QqRJArfNGNQzJEEDzn6UUv64NQLciEy0srAlAbPaxnZeOBUDdTD+5VVoBQHvc4VqlJ/o/d7nntxt/8T++St58VIjhP8tvmgiU3dI8AAAAAAAAAACX0eFtar/iP91x/wiOtfI/LEzYcLj3+z8WYK6OO44CQK9NQNgVDQdAY6/MbrBzC0Ab5Dwuar0PQJOQuCng8hFANM+BnSn0E0CDaox9deAVQArnsum9tRdA5blgNxVyGUCkW+P4pxMbQLB4Iem+mBxAbfuyucD/HUB61XPBM0cfQCNL5sTfNiBAvXCHHBe5IECpSjTstikhQNFeC7pIiCFA0JNUCmnUIUBeLyjIxw0iQIHyrJkoNCJApbSUH2NHIkCltJQfY0ciQIHyrJkoNCJAXi8oyMcNIkDQk1QKadQhQNJeC7pIiCFAqUo07LYpIUC+cIccF7kgQCNL5sTfNiBAe9VzwTNHH0Bu+7K5wP8dQLN4Iem+mBxAplvj+KcTG0DluWA3FXIZQA7nsum9tRdAhWqMfXXgFUA3z4GdKfQTQJaQuCng8hFAHeQ8Lmq9D0Brr8xusHMLQLJNQNgVDQdAIGCujjuOAkA3TNhwuPf7P/Fx/wiOtfI/sNHhbWq/4j9JpUTbUCzUPAAAAAAAAAAAHXzw9rGn4z/JBnVlW53zP7inj4w7Uv0/fhsNuiF0A0DIE/fIrioIQI5eDLXPxwxAFCZP/1SjEECKzqt/QdESQFUj5XFi6xRAT0Agv4HvFkDnEN92gNsYQDu0JgpZrRpAgcPyayFjHEBrvbgUDfsdQP9J3eZucx9AzdoOeV1lIECwYgkKxP8gQNJeC7pIiCFAyXt/7Fv+IUBOxaBrgWEiQKaYJOtQsSJArUDydXbtIkCb0HTGshUjQL5UKonbKSNAvlQqidspI0Cb0HTGshUjQK1A8nV27SJAppgk61CxIkBPxaBrgWEiQMl7f+xb/iFA014LukiIIUCwYgkKxP8gQM7aDnldZSBAAUrd5m5zH0BuvbgUDfsdQIPD8mshYxxAO7QmClmtGkDqEN92gNsYQFFAIL+B7xZAWSPlcWLrFECNzqt/QdESQBUmT/9UoxBAll4Mtc/HDEDME/fIrioIQIcbDbohdANAw6ePjDtS/T/eBnVlW53zPzh88Paxp+M/Ymo5aUEm1TwAAAAAAAAAALsBTbRaPeQ/HsUaa7Uy9D9xGY4cfjH+P9yBGNlBCARAU9Kl7LHiCEAuCZhK9KINQCw7Qr8EIhFAAt/tb4lgE0DGZ6zYq4oVQEEYRgwlnhdAzP8k9MWYGUDXQ3iceXgbQD//2GRHOx1AIvEiE1XfHkC7RiljdDEgQMrSrWM14iBApdUHmzOBIUBeLyjIxw0iQKyw+QhehyJArEDydXbtIkCUuJ+opT8jQK3qoiyVfSNA4fqh2gOnI0CiXNIcxrsjQKJc0hzGuyNA4fqh2gOnI0Ct6qIslX0jQJS4n6ilPyNArUDydXbtIkCssPkIXociQF8vKMjHDSJApdUHmzOBIUDL0q1jNeIgQLxGKWN0MSBAJfEiE1XfHkBB/9hkRzsdQNhDeJx5eBtA0P8k9MWYGUBDGEYMJZ4XQMpnrNirihVABd/tb4lgE0AtO0K/BCIRQDcJmEr0og1AV9Kl7LHiCEDmgRjZQQgEQH0Zjhx+Mf4/NMUaa7Uy9D/XAU20Wj3kPxHmkRJLx9U8AAAAAAAAAAAKtd6N733kP/D8u0woc/Q/zX3iptWR/j9BUBhGLUgEQEhv1MMZMglAUuHnA4UBDkDdKrDPr1gRQE5O5rFdnhNAoxeCQWjPFUCK4kVNgekXQCBWpsZy6hlALFVCFSHQG0DAyYROjZgdQP8rG0/XQR9AR7AF2h9lIEAizarYFBghQLeUGWIOuSFApbSUH2NHIkBxEihXfcIiQL1UKonbKSNA6RJ3+BB9I0CiXNIcxrsjQJxE/f645SNA0pAafr36I0DSkBp+vfojQJxE/f645SNAolzSHMa7I0DpEnf4EH0jQL5UKonbKSNAcRIoV33CIkCmtJQfY0ciQLeUGWIOuSFAI82q2BQYIUBIsAXaH2UgQAIsG0/XQR9AwsmETo2YHUAtVUIVIdAbQCRWpsZy6hlAjOJFTYHpF0CnF4JBaM8VQFFO5rFdnhNA3iqwz69YEUBb4ecDhQEOQExv1MMZMglAS1AYRi1IBEDZfeKm1ZH+Pwb9u0woc/Q/JrXeje995D8GRbTqyAzWPAAAAAAAAAAA1USZC2Fo5D9j2xUhpV30P6QfCjKtcf4/7l0tUdcyBEBLwiuGmBcJQK7jTF/04Q1AHBQqZHBGEUAx9EtfuokTQDYZqr12uBVAOIviulnQF0CX4eGbL88ZQLTK6P/eshtAbLfYFWt5HUBL/nSz9SAfQN2yMqbgUyBA2nd0YxkGIUAR7SWWaaYhQIHyrJkoNCJA8/aWUcGuIkCb0HTGshUjQHieha2QaCNA4vqh2gOnI0DZqO+bytAjQJxE/f645SNAnET9/rjlI0DZqO+bytAjQOL6odoDpyNAeJ6FrZBoI0Cc0HTGshUjQPP2llHBriJAgvKsmSg0IkAR7SWWaaYhQNt3dGMZBiFA3rIypuBTIEBO/nSz9SAfQG632BVreR1Atcro/96yG0Cb4eGbL88ZQDqL4rpZ0BdAOhmqvXa4FUA09EtfuokTQB0UKmRwRhFAt+NMX/ThDUBPwiuGmBcJQPhdLVHXMgRAsB8KMq1x/j952xUhpV30P/FEmQthaOQ/jmnJ1Zb11TwAAAAAAAAAAGhFnMoJ/eM/7b6eVYby8z8zqUHri9H9Px+Bv6mZyANAwMiEnZ2TCED9ZN0Lx0QNQIDPDzGT6xBAwK6iOPYiE0AP3om+N0YVQFrc7hEYUxdAg3rcDG9HGUBZNBVZLiEbQI99wplj3hxAaI62dzp9HkADMRmO/vsfQIWkvJqOrCBAGBWwlZNJIUDQk1QKadQhQBl5g+x8TCJApZgk61CxIkDkjA/1egIjQJS4n6ilPyNAeJ6FrZBoI0DoEnf4EH0jQOgSd/gQfSNAeJ6FrZBoI0CUuJ+opT8jQOSMD/V6AiNAppgk61CxIkAZeYPsfEwiQNGTVApp1CFAGBWwlZNJIUCGpLyajqwgQAUxGY7++x9Aa462dzp9HkCRfcKZY94cQFo0FVkuIRtAh3rcDG9HGUBc3O4RGFMXQBPeib43RhVAw66iOPYiE0CBzw8xk+sQQAZl3QvHRA1AxMiEnZ2TCEApgb+pmcgDQD+pQeuL0f0/Ar+eVYby8z+ERZzKCf3jP/zxnlQWgtU8AAAAAAAAAAAqyE0ArT3jP9smaTKOM/M/kZRN7hK0/D+GZn/lMgsDQEyxlNFTqAdA8vq3u5EsDEBULiIplkkQQKiakTjBaxJAzDBCgIt6FEDhV9XWynMWQAh6arxrVRhAEKC8iXMdGkAY9ByFAsobQBZ/GdtVWR1ACUK9eMnJHkAqY7vi7AwgQIgkap0SpCBAqUo07LYpIUAJqyg5TZ0hQMl7f+xb/iFAGXmD7HxMIkCssPkIXociQPT2llHBriJAcRIoV33CIkBxEihXfcIiQPT2llHBriJArLD5CF6HIkAZeYPsfEwiQMp7f+xb/iFACasoOU2dIUCqSjTstikhQIgkap0SpCBAKmO74uwMIEALQr14yckeQBl/GdtVWR1AGvQchQLKG0ARoLyJcx0aQAx6arxrVRhA41fV1spzFkDQMEKAi3oUQKuakTjBaxJAVS4iKZZJEED6+re7kSwMQFCxlNFTqAdAj2Z/5TILA0CdlE3uErT8P+8maTKOM/M/RMhNAK094z+eKczqLLTUPAAAAAAAAAAAkRuxEW8t4j8fDmB13yPyP3qdDjjyHfs/QQ0tK7/9AUAvXuYrmFkGQNg2xUrunQpA53P5b0TGDkCapg58HWcRQE3KAifKWBNAXV5fsBw2FUBiqoL4Hv0WQKGi2VjyqxhAgD5lm9FAGkD513zXErobQCgM2DEpFh1AXssIfqZTHkDoba6/PHEfQCNL5sTfNiBAiSRqnRKkIECwYgkKxP8gQBkVsJWTSSFAptUHmzOBIUAS7SWWaaYhQLeUGWIOuSFAt5QZYg65IUAS7SWWaaYhQKbVB5szgSFAGRWwlZNJIUCwYgkKxP8gQIkkap0SpCBAJEvmxN82IEDoba6/PHEfQGDLCH6mUx5AKgzYMSkWHUD813zXErobQII+ZZvRQBpAoqLZWPKrGEBlqoL4Hv0WQF9eX7AcNhVAUMoCJ8pYE0Ccpg58HWcRQOlz+W9Exg5A4DbFSu6dCkAzXuYrmFkGQEoNLSu//QFAhZ0OOPId+z8zDmB13yPyP6obsRFvLeI/o7nUJTyP0zwAAAAAAAAAADtXHl7I0OA/qPPwI/DH8D+WtVfy1BX5P2PX9R+rpABAVxFsuumsBECDX5JnaJ8IQCSWpycAeAxAIl8wnVIZEECKMz2wteURQFnxEv5EnxNAxo79BTBEFUBKlh/+u9IWQHLCPaVFSRhA6O7I+0KmGUBjalbiROgaQO6n0pv4DRxAKQzYMSkWHUBu+7K5wP8dQApCvXjJyR5AAErd5m5zH0AFMRmO/vsfQLxGKWN0MSBA3rIypuBTIEBIsAXaH2UgQEiwBdofZSBA3rIypuBTIEC8RiljdDEgQAUxGY7++x9AAUrd5m5zH0AKQr14yckeQG/7srnA/x1AKQzYMSkWHUDwp9Kb+A0cQGRqVuJE6BpA6+7I+0KmGUBzwj2lRUkYQEuWH/670hZAyY79BTBEFUBb8RL+RJ8TQI0zPbC15RFAJV8wnVIZEEAllqcnAHgMQIpfkmdonwhAWxFsuumsBEBr1/Ufq6QAQKC1V/LUFfk/uvPwI/DH8D9SVx5eyNDgP+jmy2YTGNI8AAAAAAAAAADB8L/p5FreP0tBF5XtSu4/0LDYa0Wk9j8rmLucQgv+P70S7XRSqQJAzV6RD2I5BkCEBO2qELIJQAD1mmu3Dw1Aio/O8mUnEEANl/Dq8bURQJlL+FzcMRNAoT0CoZWZFECmuu5Mo+sVQDtmdcKhJhdAcsI9pUVJGED2HnM3XVIZQII+ZZvRQBpAplvj+KcTG0Aa9ByFAsobQIPD8mshYxxAkn3CmWPeHEBC/9hkRzsdQG632BVreR1AwsmETo2YHUDCyYROjZgdQG632BVreR1AQv/YZEc7HUCSfcKZY94cQITD8mshYxxAGvQchQLKG0CoW+P4pxMbQII+ZZvRQBpA+B5zN11SGUB0wj2lRUkYQD1mdcKhJhdAp7ruTKPrFUCiPQKhlZkUQJxL+FzcMRNADpfw6vG1EUCMj87yZScQQAX1mmu3Dw1AhQTtqhCyCUDUXpEPYjkGQMAS7XRSqQJAOpi7nEIL/j/ZsNhrRaT2P2tBF5XtSu4/6vC/6eRa3j+2Qzaq21TQPAAAAAAAAAAADSRmCaCU2j8JSZXxpIbqPxVs8jGJ0/M/fq/CqeRO+j+VS22mSVcAQJRhZlLwdQNAsJviMh6ABkClzhGroHIJQKM0YwReSgxAko15sVgED0Bru7852c4QQAFnRq/XCRJAmkv4XNwxE0Cwbazcr0UUQMiO/QUwRBVA9hmGH1EsFkBlqoL4Hv0WQA7nsum9tRdADHpqvGtVGEDqEN92gNsYQId63AxvRxlA0P8k9MWYGUCb4eGbL88ZQCNWpsZy6hlAI1amxnLqGUCb4eGbL88ZQND/JPTFmBlAh3rcDG9HGUDrEN92gNsYQAx6arxrVRhAD+ey6b21F0BlqoL4Hv0WQPcZhh9RLBZAyo79BTBEFUCxbazcr0UUQJtL+FzcMRNAAmdGr9cJEkBuu7852c4QQJWNebFYBA9AqDRjBF5KDECpzhGroHIJQLKb4jIegAZAmmFmUvB1A0CXS22mSVcAQIuvwqnkTvo/HWzyMYnT8z8lSZXxpIbqPzEkZgmglNo/GG5PRvuZzDwAAAAAAAAAAIebo9SfXtY/rx1uvttS5j9cb1vjda/wP4DP24DwI/Y/+H3drSCB+z+Vx2HwsGAAQLR74/+W7wJAJPpEmJFqBUBx88TABM8HQItuvTNsGgpApDRjBF5KDECv7c0ojVwOQIuPzvJlJxBAuRpXDIcPEUCMMz2wteURQMY17I4QqRJAUMoCJ8pYE0A4z4GdKfQTQNAwQoCLehRAWSPlcWLrFEAU3om+N0YVQMpnrNirihVAOhmqvXa4FUCoF4JBaM8VQKgXgkFozxVAOhmqvXa4FUDKZ6zYq4oVQBTeib43RhVAWiPlcWLrFEDQMEKAi3oUQDnPgZ0p9BNAUMoCJ8pYE0DHNeyOEKkSQI4zPbC15RFAuxpXDIcPEUCNj87yZScQQLHtzSiNXA5AqTRjBF5KDECNbr0zbBoKQHbzxMAEzwdAKPpEmJFqBUC1e+P/lu8CQJrHYfCwYABA/X3drSCB+z+Lz9uA8CP2P2JvW+N1r/A/xx1uvttS5j+lm6PUn17WP6/i7CwFEsg8AAAAAAAAAADX/WOvl8rRP/VVIhA8weE/g/En4n6K6j+B7jcW65vxP5XPR5YQ4PU/nACZDDMN+j93LaLJ7R7+P3hnDXl8CAFAsXvj/5bvAkA9WpkPxsIEQK6b4jIegAZA+dXe7colCECDBO2qELIJQNV9TY1OIwtAJJanJwB4DEDyn6UUv64NQOhz+W9Exg5AHOQ8Lmq9D0BVLiIplkkQQBQmT/9UoxBAgc8PMZPrEEAtO0K/BCIRQB0UKmRwRhFA3iqwz69YEUDeKrDPr1gRQB0UKmRwRhFALTtCvwQiEUCBzw8xk+sQQBUmT/9UoxBAVS4iKZZJEEAe5Dwuar0PQOhz+W9Exg5A9J+lFL+uDUAllqcnAHgMQNd9TY1OIwtAhQTtqhCyCUD61d7tyiUIQLKb4jIegAZAP1qZD8bCBEC1e+P/lu8CQHpnDXl8CAFAeS2iye0e/j+kAJkMMw36P5jPR5YQ4PU/iu43Fuub8T+O8SfiforqPwhWIhA8weE/8P1jr5fK0T+9KNnx4CTDPAAAAAAAAAAAWZOQgIzXyT+tfgPc9MnZP2O/ij2BRuM/M7icJ8GT6T+HULEZGcbvP0sujyeC6/I/l89HlhDg9T/UwEH7m734P/d93a0ggfs/051dZrYn/j+VS22mSVcAQGnqGHSHiQFAvhLtdFKpAkB8QNbpe7UDQFkRbLrprARAa/axnZeOBUAyXuYrmFkGQLJNQNgVDQdAULGU0VOoB0DLE/fIrioIQMXIhJ2dkwhAV9Kl7LHiCEBPwiuGmBcJQExv1MMZMglATG/UwxkyCUBPwiuGmBcJQFfSpeyx4ghAxciEnZ2TCEDME/fIrioIQFCxlNFTqAdAs01A2BUNB0AyXuYrmFkGQGz2sZ2XjgVAWxFsuumsBEB+QNbpe7UDQMAS7XRSqQJAauoYdIeJAUCXS22mSVcAQNWdXWa2J/4//H3drSCB+z/XwEH7m734P5jPR5YQ4PU/US6PJ4Lr8j+MULEZGcbvP0C4nCfBk+k/ar+KPYFG4z/IfgPc9MnZP3yTkICM18k/JNc0nYfOuzwAAAAAAAAAAAvdpC2SWr8//ojpXRRKzz+2B1uv+mLXP9t9YCFRCN8/Z7+KPYFG4z+lOO4Ek/TmP4zxJ+J+iuo/YPqjN38E7j9eb1vjda/wPy3hQMQeS/I/GmzyMYnT8z/eckxeGEf1P9ew2GtFpPY//8X6CKHp9z+ftVfy1BX5P3vc4VqlJ/o/hJ0OOPId+z83TNhwuPf7P5yUTe4StPw/wqePjDtS/T8/qUHri9H9P30Zjhx+Mf4/rx8KMq1x/j/ZfeKm1ZH+P9l94qbVkf4/rx8KMq1x/j99GY4cfjH+Pz+pQeuL0f0/xKePjDtS/T+clE3uErT8PzlM2HC49/s/hJ0OOPId+z983OFapSf6P6C1V/LUFfk/Acb6CKHp9z/YsNhrRaT2P95yTF4YR/U/HWzyMYnT8z8u4UDEHkvyP2JvW+N1r/A/ZfqjN38E7j+O8SfiforqP6w47gST9OY/ar+KPYFG4z/qfWAhUQjfP78HW6/6Ytc/IInpXRRKzz823aQtklq/P5wDyYFq3rA8AAAAAAAAAAAzNkwdfwSlP7X8cxVx+bQ/Kt2kLZJavz/Dii/TW83EP3mTkICM18k/1XLX5I3Gzj/v/WOvl8rRP6zy2C0xH9Q/oZuj1J9e1j/mSANPhobYPy4kZgmglNo/a0knlMOG3D/o8L/p5FreP7ucA8uLB+A/UVceXsjQ4D++St58VIjhP6kbsRFvLeI/sNHhbWq/4j9EyE0ArT3jPzh88Paxp+M/hEWcygn94z/XAU20Wj3kP/FEmQthaOQ/JrXeje995D8mtd6N733kP/FEmQthaOQ/1wFNtFo95D+ERZzKCf3jPzl88Paxp+M/RMhNAK094z+x0eFtar/iP6kbsRFvLeI/v0refFSI4T9SVx5eyNDgP72cA8uLB+A/6vC/6eRa3j9sSSeUw4bcPzIkZgmglNo/6EgDT4aG2D+lm6PUn17WP6/y2C0xH9Q/8P1jr5fK0T/ectfkjcbOP32TkICM18k/zYov01vNxD833aQtklq/P8z8cxVx+bQ/UDZMHX8EpT8dS2SHk52WPAAAAAAAAACA8zVMHX8Epb91/HMVcfm0v8vcpC2SWr+/g4ov01vNxL8qk5CAjNfJv3dy1+SNxs6/uf1jr5fK0b9u8tgtMR/Uv12bo9SfXta/nEgDT4aG2L/dI2YJoJTavxRJJ5TDhty/jPC/6eRa3r+LnAPLiwfgvx5XHl7I0OC/iErefFSI4b9yG7ERby3iv3fR4W1qv+K/CchNAK0947/8e/D2safjv0dFnMoJ/eO/mgFNtFo95L+zRJkLYWjkv+i03o3vfeS/6LTeje995L+zRJkLYWjkv5oBTbRaPeS/R0Wcygn947/9e/D2safjvwnITQCtPeO/eNHhbWq/4r9yG7ERby3iv4lK3nxUiOG/H1ceXsjQ4L+MnAPLiwfgv47wv+nkWt6/FkknlMOG3L/hI2YJoJTav55IA0+Ghti/YZuj1J9e1r9x8tgtMR/Uv7r9Y6+XytG/gXLX5I3Gzr8uk5CAjNfJv46KL9NbzcS/19ykLZJav7+M/HMVcfm0vxA2TB1/BKW/2Epkh5OdlrwAAAAAAAAAgOzcpC2SWr+/4IjpXRRKz7+fB1uv+mLXv7x9YCFRCN+/VL+KPYFG47+OOO4Ek/Tmv3LxJ+J+iuq/Q/qjN38E7r9Ob1vjda/wvxvhQMQeS/K/B2zyMYnT87/JckxeGEf1v8Gw2GtFpPa/58X6CKHp97+GtVfy1BX5v2Hc4VqlJ/q/aZ0OOPId+78cTNhwuPf7v4CUTe4StPy/paePjDtS/b8iqUHri9H9v18Zjhx+Mf6/kh8KMq1x/r+7feKm1ZH+v7t94qbVkf6/kh8KMq1x/r9fGY4cfjH+vyKpQeuL0f2/p6ePjDtS/b+AlE3uErT8vx1M2HC49/u/aZ0OOPId+79i3OFapSf6v4i1V/LUFfm/6sX6CKHp97/CsNhrRaT2v8lyTF4YR/W/CmzyMYnT878c4UDEHkvyv1FvW+N1r/C/SPqjN38E7r908Sfiforqv5U47gST9Oa/V7+KPYFG47/LfWAhUQjfv6gHW6/6Yte/AYnpXRRKz78X3aQtklq/v4wDyYFq3rC8AAAAAAAAAIBLk5CAjNfJv59+A9z0ydm/WL+KPYFG478luJwnwZPpv3ZQsRkZxu+/QS6PJ4Lr8r+Lz0eWEOD1v8bAQfubvfi/6H3drSCB+7/CnV1mtif+v4xLbaZJVwDAX+oYdIeJAcC0Eu10UqkCwHFA1ul7tQPAThFsuumsBMBf9rGdl44FwCZe5iuYWQbApU1A2BUNB8BDsZTRU6gHwL4T98iuKgjAt8iEnZ2TCMBK0qXsseIIwEHCK4aYFwnAPm/UwxkyCcA+b9TDGTIJwEHCK4aYFwnAStKl7LHiCMC3yISdnZMIwL8T98iuKgjAQ7GU0VOoB8CmTUDYFQ0HwCZe5iuYWQbAYfaxnZeOBcBPEWy66awEwHNA1ul7tQPAtRLtdFKpAsBg6hh0h4kBwI5LbaZJVwDAxZ1dZrYn/r/tfd2tIIH7v8rAQfubvfi/jM9HlhDg9b9HLo8nguvyv3tQsRkZxu+/MricJ8GT6b9gv4o9gUbjv7p+A9z0ydm/bpOQgIzXyb8V1zSdh867vAAAAAAAAACA1f1jr5fK0b/yVSIQPMHhv4DxJ+J+iuq/f+43Fuub8b+Sz0eWEOD1v5gAmQwzDfq/cy2iye0e/r91Zw15fAgBwK974/+W7wLAOlqZD8bCBMCrm+IyHoAGwPbV3u3KJQjAfwTtqhCyCcDRfU2NTiMLwCCWpycAeAzA7p+lFL+uDcDkc/lvRMYOwBjkPC5qvQ/AUy4iKZZJEMASJk//VKMQwH7PDzGT6xDAKztCvwQiEcAbFCpkcEYRwNsqsM+vWBHA2yqwz69YEcAbFCpkcEYRwCs7Qr8EIhHAfs8PMZPrEMATJk//VKMQwFMuIimWSRDAGeQ8Lmq9D8Dkc/lvRMYOwPCfpRS/rg3AIZanJwB4DMDTfU2NTiMLwIEE7aoQsgnA99Xe7colCMCum+IyHoAGwDxamQ/GwgTAsnvj/5bvAsB4Zw15fAgBwHUtosntHv6/oACZDDMN+r+Vz0eWEOD1v4fuNxbrm/G/ivEn4n6K6r8FViIQPMHhv+39Y6+XytG/uyjZ8eAkw7wAAAAAAAAAgICbo9SfXta/qR1uvttS5r9Xb1vjda/wv3rP24DwI/a/8H3drSCB+7+Qx2HwsGAAwK974/+W7wLAHvpEmJFqBcBq88TABM8HwIRuvTNsGgrAnDRjBF5KDMCn7c0ojVwOwIePzvJlJxDAtBpXDIcPEcCHMz2wteURwMA17I4QqRLAS8oCJ8pYE8Ayz4GdKfQTwMowQoCLehTAUyPlcWLrFMAO3om+N0YVwMRnrNirihXANBmqvXa4FcChF4JBaM8VwKEXgkFozxXANBmqvXa4FcDEZ6zYq4oVwA7eib43RhXAVCPlcWLrFMDKMEKAi3oUwDPPgZ0p9BPAS8oCJ8pYE8DCNeyOEKkSwIgzPbC15RHAthpXDIcPEcCIj87yZScQwKjtzSiNXA7AoTRjBF5KDMCGbr0zbBoKwG/zxMAEzwfAIfpEmJFqBcCwe+P/lu8CwJXHYfCwYADA9X3drSCB+7+Fz9uA8CP2v11vW+N1r/C/wR1uvttS5r+fm6PUn17Wv6ji7CwFEsi8AAAAAAAAAIAHJGYJoJTavwNJlfGkhuq/EWzyMYnT8793r8Kp5E76v5FLbaZJVwDAj2FmUvB1A8Crm+IyHoAGwJ/OEaugcgnAnDRjBF5KDMCLjXmxWAQPwGe7vznZzhDA/WZGr9cJEsCVS/hc3DETwKttrNyvRRTAw479BTBEFcDwGYYfUSwWwF+qgvge/RbACOey6b21F8AGemq8a1UYwOQQ33aA2xjAgXrcDG9HGcDK/yT0xZgZwJXh4ZsvzxnAHVamxnLqGcAdVqbGcuoZwJXh4ZsvzxnAyv8k9MWYGcCBetwMb0cZwOUQ33aA2xjABnpqvGtVGMAJ57LpvbUXwF+qgvge/RbA8hmGH1EsFsDFjv0FMEQVwK1trNyvRRTAl0v4XNwxE8D+Zkav1wkSwGq7vznZzhDAjY15sVgED8ChNGMEXkoMwKPOEaugcgnArJviMh6ABsCVYWZS8HUDwJRLbaZJVwDAhK/CqeRO+r8YbPIxidPzvx9JlfGkhuq/KyRmCaCU2r8Rbk9G+5nMvAAAAAAAAACAvPC/6eRa3r9FQReV7Uruv8yw2GtFpPa/Jpi7nEIL/r+6Eu10UqkCwMpekQ9iOQbAgATtqhCyCcD79Jprtw8NwIePzvJlJxDACpfw6vG1EcCVS/hc3DETwJ49AqGVmRTAorruTKPrFcA3ZnXCoSYXwG7CPaVFSRjA8h5zN11SGcB9PmWb0UAawKJb4/inExvAFvQchQLKG8B+w/JrIWMcwI19wplj3hzAPf/YZEc7HcBqt9gVa3kdwL3JhE6NmB3AvcmETo2YHcBqt9gVa3kdwD3/2GRHOx3AjX3CmWPeHMCAw/JrIWMcwBb0HIUCyhvAo1vj+KcTG8B9PmWb0UAawPMeczddUhnAcMI9pUVJGMA5ZnXCoSYXwKS67kyj6xXAnz0CoZWZFMCYS/hc3DETwAuX8OrxtRHAio/O8mUnEMAA9Zprtw8NwIEE7aoQsgnA0F6RD2I5BsC9Eu10UqkCwDWYu5xCC/6/1bDYa0Wk9r9mQReV7Uruv+Xwv+nkWt6/s0M2qttU0LwAAAAAAAAAgDhXHl7I0OC/pfPwI/DH8L+TtVfy1BX5v2DX9R+rpADAVBFsuumsBMB/X5JnaJ8IwB+WpycAeAzAIF8wnVIZEMCHMz2wteURwFbxEv5EnxPAw479BTBEFcBHlh/+u9IWwG7CPaVFSRjA5O7I+0KmGcBfalbiROgawOqn0pv4DRzAJAzYMSkWHcBp+7K5wP8dwAVCvXjJyR7A+0nd5m5zH8AAMRmO/vsfwLlGKWN0MSDA27IypuBTIMBFsAXaH2UgwEWwBdofZSDA27IypuBTIMC5RiljdDEgwAAxGY7++x/A/Und5m5zH8AFQr14yckewGv7srnA/x3AJAzYMSkWHcDrp9Kb+A0cwGBqVuJE6BrA5+7I+0KmGcBvwj2lRUkYwEeWH/670hbAxo79BTBEFcBY8RL+RJ8TwIozPbC15RHAIl8wnVIZEMAhlqcnAHgMwIZfkmdonwjAVxFsuumsBMBo1/Ufq6QAwJy1V/LUFfm/t/PwI/DH8L9PVx5eyNDgv+Xmy2YTGNK8AAAAAAAAAICRG7ERby3ivx8OYHXfI/K/ep0OOPId+79BDS0rv/0BwC9e5iuYWQbA2DbFSu6dCsDnc/lvRMYOwJqmDnwdZxHATcoCJ8pYE8BdXl+wHDYVwGKqgvge/RbAoaLZWPKrGMCAPmWb0UAawPnXfNcSuhvAKAzYMSkWHcBeywh+plMewOhtrr88cR/AI0vmxN82IMCJJGqdEqQgwLBiCQrE/yDAGRWwlZNJIcCm1QebM4EhwBLtJZZppiHAt5QZYg65IcC3lBliDrkhwBLtJZZppiHAptUHmzOBIcAZFbCVk0khwLBiCQrE/yDAiSRqnRKkIMAkS+bE3zYgwOhtrr88cR/AYMsIfqZTHsAqDNgxKRYdwPzXfNcSuhvAgj5lm9FAGsCiotlY8qsYwGWqgvge/RbAX15fsBw2FcBQygInylgTwJymDnwdZxHA6XP5b0TGDsDgNsVK7p0KwDNe5iuYWQbASg0tK7/9AcCFnQ448h37vzMOYHXfI/K/qhuxEW8t4r+judQlPI/TvAAAAAAAAACAKMhNAK0947/aJmkyjjPzv4+UTe4StPy/hWZ/5TILA8BLsZTRU6gHwPD6t7uRLAzAUy4iKZZJEMCnmpE4wWsSwMowQoCLehTA4FfV1spzFsAGemq8a1UYwA+gvIlzHRrAFvQchQLKG8AUfxnbVVkdwAdCvXjJyR7AKGO74uwMIMCHJGqdEqQgwKhKNOy2KSHACKsoOU2dIcDIe3/sW/4hwBh5g+x8TCLAq7D5CF6HIsDy9pZRwa4iwG8SKFd9wiLAbxIoV33CIsDy9pZRwa4iwKuw+QhehyLAGHmD7HxMIsDJe3/sW/4hwAirKDlNnSHAqUo07LYpIcCHJGqdEqQgwClju+LsDCDACUK9eMnJHsAXfxnbVVkdwBj0HIUCyhvAEKC8iXMdGsAKemq8a1UYwOJX1dbKcxbAzjBCgIt6FMCpmpE4wWsSwFQuIimWSRDA+Pq3u5EsDMBPsZTRU6gHwI5mf+UyCwPAm5RN7hK0/L/uJmkyjjPzv0PITQCtPeO/nCnM6iy01LwAAAAAAAAAgGhFnMoJ/eO/7L6eVYby878yqUHri9H9vx6Bv6mZyAPAwMiEnZ2TCMD8ZN0Lx0QNwH/PDzGT6xDAwK6iOPYiE8AO3om+N0YVwFnc7hEYUxfAgnrcDG9HGcBYNBVZLiEbwI59wplj3hzAZ462dzp9HsACMRmO/vsfwISkvJqOrCDAGBWwlZNJIcDPk1QKadQhwBh5g+x8TCLApJgk61CxIsDjjA/1egIjwJS4n6ilPyPAd56FrZBoI8DoEnf4EH0jwOgSd/gQfSPAd56FrZBoI8CUuJ+opT8jwOOMD/V6AiPApZgk61CxIsAYeYPsfEwiwNCTVApp1CHAGBWwlZNJIcCFpLyajqwgwAQxGY7++x/Aao62dzp9HsCQfcKZY94cwFk0FVkuIRvAhnrcDG9HGcBb3O4RGFMXwBLeib43RhXAw66iOPYiE8CAzw8xk+sQwAVl3QvHRA3Aw8iEnZ2TCMAogb+pmcgDwD6pQeuL0f2/Ar+eVYby87+DRZzKCf3jv/zxnlQWgtW8AAAAAAAAAIDURJkLYWjkv2PbFSGlXfS/ox8KMq1x/r/uXS1R1zIEwErCK4aYFwnAreNMX/ThDcAcFCpkcEYRwDD0S1+6iRPANRmqvXa4FcA3i+K6WdAXwJbh4ZsvzxnAs8ro/96yG8Brt9gVa3kdwEr+dLP1IB/A3LIypuBTIMDad3RjGQYhwBHtJZZppiHAgfKsmSg0IsDz9pZRwa4iwJrQdMayFSPAeJ6FrZBoI8Dh+qHaA6cjwNio75vK0CPAm0T9/rjlI8CbRP3+uOUjwNio75vK0CPA4fqh2gOnI8B4noWtkGgjwJvQdMayFSPA8/aWUcGuIsCC8qyZKDQiwBHtJZZppiHA23d0YxkGIcDdsjKm4FMgwE3+dLP1IB/AbbfYFWt5HcC0yuj/3rIbwJrh4ZsvzxnAOYviulnQF8A5Gaq9drgVwDP0S1+6iRPAHRQqZHBGEcC240xf9OENwE7CK4aYFwnA+F0tUdcyBMCvHwoyrXH+v3jbFSGlXfS/8ESZC2Fo5L+NacnVlvXVvAAAAAAAAACACrXeje995L/w/LtMKHP0v8194qbVkf6/QVAYRi1IBMBIb9TDGTIJwFLh5wOFAQ7A3Sqwz69YEcBOTuaxXZ4TwKMXgkFozxXAiuJFTYHpF8AgVqbGcuoZwCxVQhUh0BvAwMmETo2YHcD/KxtP10EfwEewBdofZSDAIs2q2BQYIcC3lBliDrkhwKW0lB9jRyLAcRIoV33CIsC9VCqJ2ykjwOkSd/gQfSPAolzSHMa7I8CcRP3+uOUjwNKQGn69+iPA0pAafr36I8CcRP3+uOUjwKJc0hzGuyPA6RJ3+BB9I8C+VCqJ2ykjwHESKFd9wiLAprSUH2NHIsC3lBliDrkhwCPNqtgUGCHASLAF2h9lIMACLBtP10EfwMLJhE6NmB3ALVVCFSHQG8AkVqbGcuoZwIziRU2B6RfApxeCQWjPFcBRTuaxXZ4TwN4qsM+vWBHAW+HnA4UBDsBMb9TDGTIJwEtQGEYtSATA2X3iptWR/r8G/btMKHP0vya13o3vfeS/BkW06sgM1rwAAAAAAAAAgL0BTbRaPeS/IMUaa7Uy9L9zGY4cfjH+v92BGNlBCATAVdKl7LHiCMAwCZhK9KINwC07Qr8EIhHAA9/tb4lgE8DHZ6zYq4oVwEIYRgwlnhfAzv8k9MWYGcDZQ3iceXgbwEH/2GRHOx3AJPEiE1XfHsC8RiljdDEgwMvSrWM14iDAptUHmzOBIcBfLyjIxw0iwK2w+QhehyLArUDydXbtIsCWuJ+opT8jwK/qoiyVfSPA4/qh2gOnI8CjXNIcxrsjwKNc0hzGuyPA4/qh2gOnI8Cv6qIslX0jwJa4n6ilPyPArkDydXbtIsCtsPkIXociwGAvKMjHDSLAptUHmzOBIcDM0q1jNeIgwL1GKWN0MSDAJ/EiE1XfHsBD/9hkRzsdwNpDeJx5eBvA0v8k9MWYGcBEGEYMJZ4XwMtnrNirihXABt/tb4lgE8AuO0K/BCIRwDkJmEr0og3AWdKl7LHiCMDngRjZQQgEwH8Zjhx+Mf6/NcUaa7Uy9L/YAU20Wj3kvxLmkRJLx9W8AAAAAAAAAIAffPD2safjv8oGdWVbnfO/uqePjDtS/b9/Gw26IXQDwMkT98iuKgjAkF4Mtc/HDMAVJk//VKMQwIzOq39B0RLAViPlcWLrFMBQQCC/ge8WwOgQ33aA2xjAPLQmClmtGsCDw/JrIWMcwG29uBQN+x3AAUrd5m5zH8DO2g55XWUgwLFiCQrE/yDA014LukiIIcDLe3/sW/4hwE/FoGuBYSLAp5gk61CxIsCuQPJ1du0iwJzQdMayFSPAv1QqidspI8C/VCqJ2ykjwJzQdMayFSPArkDydXbtIsCnmCTrULEiwFDFoGuBYSLAy3t/7Fv+IcDUXgu6SIghwLFiCQrE/yDAz9oOeV1lIMADSt3mbnMfwHC9uBQN+x3AhcPyayFjHMA9tCYKWa0awOwQ33aA2xjAUkAgv4HvFsBaI+VxYusUwI7Oq39B0RLAFiZP/1SjEMCYXgy1z8cMwM0T98iuKgjAiRsNuiF0A8DFp4+MO1L9v98GdWVbnfO/Onzw9rGn479jajlpQSbVvAAAAAAAAACAmdHhbWq/4r/fcf8IjrXyvzBM2HC49/u/GWCujjuOAsCyTUDYFQ0HwGevzG6wcwvAH+Q8Lmq9D8CWkLgp4PIRwDfPgZ0p9BPAhmqMfXXgFcAN57LpvbUXwOi5YDcVchnAqFvj+KcTG8C0eCHpvpgcwHH7srnA/x3AftVzwTNHH8AlS+bE3zYgwMBwhxwXuSDAq0o07LYpIcDUXgu6SIghwNOTVApp1CHAYC8oyMcNIsCE8qyZKDQiwKi0lB9jRyLAqLSUH2NHIsCE8qyZKDQiwGAvKMjHDSLA05NUCmnUIcDVXgu6SIghwKtKNOy2KSHAwHCHHBe5IMAlS+bE3zYgwIDVc8EzRx/Ac/uyucD/HcC3eCHpvpgcwKpb4/inExvA6blgNxVyGcAR57LpvbUXwIhqjH114BXAOs+BnSn0E8CYkLgp4PIRwCHkPC5qvQ/Ab6/MbrBzC8C1TUDYFQ0HwCJgro47jgLAO0zYcLj3+7/zcf8IjrXyv7PR4W1qv+K/TKVE21As1LwAAAAAAAAAgKhK3nxUiOG/Z7nntxt/8b913OFapSf6v9dMP7lVWgHAa/axnZeOBcCzIhMtLKwJwPWfpRS/rg3ArfNGNQzJEMDFNeyOEKkSwCwK+aFzdRTA9hmGH1EsFsD/Lodc28sXwPgeczddUhnA9tEb5Du+GsDxp9Kb+A0cwJWkEjAyQB3AY8sIfqZTHsB+1XPBM0cfwCxju+LsDCDA0NoOeV1lIMCIpLyajqwgwM3SrWM14iDA3Xd0YxkGIcAlzarYFBghwCXNqtgUGCHA3Xd0YxkGIcDN0q1jNeIgwIikvJqOrCDA0NoOeV1lIMAsY7vi7AwgwIDVc8EzRx/AY8sIfqZTHsCXpBIwMkAdwPOn0pv4DRzA+NEb5Du+GsD6HnM3XVIZwAAvh1zbyxfA+RmGH1EsFsAtCvmhc3UUwMg17I4QqRLAr/NGNQzJEMD3n6UUv64NwLoiEy0srAnAb/axnZeOBcDfTD+5VVoBwH/c4VqlJ/q/ernntxt/8b/ASt58VIjhv81vmgiU3dK8AAAAAAAAAICnnAPLiwfgv5pP/tI6/u+/+MX6CKHp97+YPrH0/Lr/v3tA1ul7tQPAx4QAtb14B8DWfU2NTiMLwNwVlB1TsQ7AuBpXDIcPEcAjuEEUcrQSwK5trNyvRRTAOiK0TprBFcA7ZnXCoSYXwNxaeKNOcxjA6e7I+0KmGcD00RvkO74awPzXfNcSuhvAs3gh6b6YHMAZfxnbVVkdwG29uBQN+x3Aa462dzp9HsAl8SITVd8ewE7+dLP1IB/AAiwbT9dBH8ACLBtP10EfwE7+dLP1IB/AJfEiE1XfHsBrjrZ3On0ewG+9uBQN+x3AGX8Z21VZHcC1eCHpvpgcwPzXfNcSuhvA9dEb5Du+GsDr7sj7QqYZwN5aeKNOcxjAPWZ1wqEmF8A6IrROmsEVwLFtrNyvRRTAJbhBFHK0EsC7GlcMhw8RwOEVlB1TsQ7A131NjU4jC8DOhAC1vXgHwH5A1ul7tQPAqD6x9Py6/78BxvoIoen3v71P/tI6/u+/vZwDy4sH4L9tPB4Eij/RvAAAAAAAAACASkknlMOG3L9rCpN5wnfsv9pyTF4YR/W/tpcBYe07/L9q6hh0h4kBwHuS2Wql4gTA/dXe7colCMC8DfZyiU8LwLDtzSiNXA7AACOFO9CkEMADZ0av1wkSwAjkMlvlWxPApD0CoZWZFMA8IrROmsEVwE6WH/670hbAAC+HXNvLF8ClotlY8qsYwOq5YDcVchnAFqC8iXMdGsBAtCYKWa0awGA0FVkuIRvA3UN4nHl4G8C6yuj/3rIbwDJVQhUh0BvAMlVCFSHQG8C6yuj/3rIbwN1DeJx5eBvAYDQVWS4hG8BBtCYKWa0awBagvIlzHRrA67lgNxVyGcClotlY8qsYwAIvh1zbyxfAT5Yf/rvSFsA+IrROmsEVwKY9AqGVmRTACOQyW+VbE8AFZ0av1wkSwAEjhTvQpBDAte3NKI1cDsDADfZyiU8LwP/V3u3KJQjAgZLZaqXiBMBt6hh0h4kBwMSXAWHtO/y/4nJMXhhH9b+JCpN5wnfsv3FJJ5TDhty/ru4Rcv6xzrwAAAAAAAAAgMhIA0+Ghti/yd8E75956L8p4UDEHkvyv4tryx0vRvi/051dZrYn/r/KVHZuwvQBwD9amQ/GwgTAl8JPxPJ6B8CJbr0zbBoKwHpl2ABwngzAko15sVgED8D/IoU70KQQwA6X8OrxtRHAJLhBFHK0EsBb8RL+RJ8TwCsK+aFzdRTAYF5fsBw2FcCGaox9deAVwORX1dbKcxbAUUAgv4HvFsBe3O4RGFMXwEUYRgwlnhfAO4viulnQF8CN4kVNgekXwI3iRU2B6RfAO4viulnQF8BFGEYMJZ4XwF7c7hEYUxfAU0Agv4HvFsDkV9XWynMWwIdqjH114BXAYF5fsBw2FcAtCvmhc3UUwFzxEv5EnxPAJrhBFHK0EsAPl/Dq8bURwP8ihTvQpBDAl415sVgED8B8ZdgAcJ4MwI5uvTNsGgrAmsJPxPJ6B8BAWpkPxsIEwM9Udm7C9AHA151dZrYn/r+Xa8sdL0b4vzDhQMQeS/K/498E75956L/qSANPhobYvykJE67hY8q8AAAAAAAAAICZ8tgtMR/Uv7XMA8KbFOS/Y/qjN38E7r/MgW1zZ+rzv9vAQfubvfi/z8u30Ml2/b9/Zw15fAgBwJCsWPyoQwPAKvpEmJFqBcCewk/E8noHwK3OEaugcgnAww32colPC8AL9Zprtw8NwOcVlB1TsQ7AKV8wnVIZEMCy80Y1DMkQwKGmDnwdZxHAm5C4KeDyEcCwmpE4wWsSwJPOq39B0RLAyq6iOPYiE8AL3+1viWATwDr0S1+6iRPAV07msV2eE8BXTuaxXZ4TwDr0S1+6iRPAC9/tb4lgE8DKrqI49iITwJTOq39B0RLAsJqROMFrEsCckLgp4PIRwKGmDnwdZxHAs/NGNQzJEMAqXzCdUhkQwOoVlB1TsQ7ADfWaa7cPDcDEDfZyiU8LwLHOEaugcgnAoMJPxPJ6B8Au+kSYkWoFwJOsWPyoQwPAgGcNeXwIAcDYy7fQyXb9v9/AQfubvfi/1oFtc2fq879u+qM3fwTuv8vMA8KbFOS/tfLYLTEf1L8JdZp61qbFvAAAAAAAAACAt3LX5I3Gzr+MR6zvXbbev6U47gST9Oa/LI3cJ9F17r9QLo8nguvyv0sxMo80iPa/pQCZDDMN+r/Ny7fQyXb9v5jHYfCwYADAzlR2bsL0AcCYYWZS8HUDwH6S2Wql4gTA1F6RD2I5BsDNhAC1vXgHwItfkmdonwjAuCITLSysCcDhNsVK7p0KwG2vzG6wcwvA/Pq3u5EsDMCYXgy1z8cMwAll3QvHRA3AOgmYSvSiDcC540xf9OENwF3h5wOFAQ7AXeHnA4UBDsC540xf9OENwDoJmEr0og3ACWXdC8dEDcCaXgy1z8cMwPz6t7uRLAzAb6/MbrBzC8DhNsVK7p0KwLoiEy0srAnAjV+SZ2ifCMDQhAC1vXgHwNVekQ9iOQbAf5LZaqXiBMCbYWZS8HUDwM9Udm7C9AHAm8dh8LBgAMDRy7fQyXb9v6YAmQwzDfq/UjEyjzSI9r9TLo8nguvyvzuN3CfRde6/rjjuBJP05r+tR6zvXbbev+Fy1+SNxs6/oZwz48eOwLwAAAAAAAAAgL2KL9NbzcS/AYGxy2rC1L/wfWAhUQjfv9iCXy/JluS/S7icJ8GT6b9Cjdwn0XXuv5PuNxbrm/G/2IFtc2fq87+Uz9uA8CP2v6Jryx0vRvi/lq/CqeRO+r/OlwFh7Tv8v0mYu5xCC/6/uD6x9Py6/7901/Ufq6QAwOdMP7lVWgHAVA0tK7/9AcAqYK6OO44CwJtmf+UyCwPAkhsNuiF0A8A1gb+pmcgDwPKBGNlBCATABF4tUdcyBMBXUBhGLUgEwFdQGEYtSATABF4tUdcyBMDygRjZQQgEwDWBv6mZyAPAkxsNuiF0A8CbZn/lMgsDwCxgro47jgLAVA0tK7/9AcDoTD+5VVoBwHXX9R+rpADAuz6x9Py6/79LmLucQgv+v8+XAWHtO/y/mq/CqeRO+r+ka8sdL0b4v5jP24DwI/a/24Ftc2fq87+U7jcW65vxv0uN3CfRde6/T7icJ8GT6b/igl8vyZbkv/19YCFRCN+/GIGxy2rC1L/Zii/TW83Ev1uDZw0/Yra8AAAAAAAAAIC2/HMVcfm0vyN8Jd5o7sS/HonpXRRKz78IgbHLasLUv81+A9z0ydm/q0es71223r8NViIQPMHhv8jMA8KbFOS/yh1uvttS5r/n3wTvn3novypJlfGkhuq/jAqTecJ37L9yQReV7Uruv8RP/tI6/u+/vvPwI/DH8L99uee3G3/xvzgOYHXfI/K/93H/CI618r/1JmkyjjPzv+QGdWVbnfO/Cb+eVYby8787xRprtTL0v4DbFSGlXfS/DP27TChz9L8M/btMKHP0v4DbFSGlXfS/O8Uaa7Uy9L8Jv55VhvLzv+UGdWVbnfO/9SZpMo4z87/4cf8IjrXyvzgOYHXfI/K/frnntxt/8b+/8/Aj8Mfwv8dP/tI6/u+/dEEXle1K7r+NCpN5wnfsvy5JlfGkhuq/6d8E75956L/OHW6+21Lmv8vMA8KbFOS/DlYiEDzB4b+0R6zvXbbev9F+A9z0ydm/EoGxy2rC1L8qieldFErPvzl8Jd5o7sS/0vxzFXH5tL9SGKhUrpGmvAAAAAAAAACA/Upkh5OdprwzGKhUrpG2vJUDyYFq3sC8Q4NnDT9ixrwg1zSdh87LvJqcM+PHjtC8vCjZ8eAk07z/dJp61qbVvKri7CwFEti8JQkTruFj2rwTbk9G+5ncvKjuEXL+sd68tUM2qttU4LxrPB4Eij/hvOfmy2YTGOK8ym+aCJTd4ryjudQlPI/jvEilRNtQLOS8nSnM6iy05LxhajlpQSblvP3xnlQWguW8EeaREkvH5byOacnVlvXlvAZFtOrIDOa8BkW06sgM5ryOacnVlvXlvBHmkRJLx+W8/fGeVBaC5bxiajlpQSblvJ0pzOostOS8SqVE21As5LyjudQlPI/jvMtvmgiU3eK86ObLZhMY4rxsPB4Eij/hvLZDNqrbVOC8qe4Rcv6x3rwYbk9G+5ncvCcJE67hY9q8ruLsLAUS2LwCdZp61qbVvL0o2fHgJNO8n5wz48eO0Lwk1zSdh87LvE6DZw0/Ysa8nAPJgWrewLxLGKhUrpG2vBxLZIeTnaa8m/TsJsJVmLk=",
          "dtype": "f8"
         },
         "z": {
          "bdata": "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",
          "dtype": "f8"
         }
        }
       ],
       "layout": {
        "template": {
         "data": {
          "bar": [
           {
            "error_x": {
             "color": "#2a3f5f"
            },
            "error_y": {
             "color": "#2a3f5f"
            },
            "marker": {
             "line": {
              "color": "#E5ECF6",
              "width": 0.5
             },
             "pattern": {
              "fillmode": "overlay",
              "size": 10,
              "solidity": 0.2
             }
            },
            "type": "bar"
           }
          ],
          "barpolar": [
           {
            "marker": {
             "line": {
              "color": "#E5ECF6",
              "width": 0.5
             },
             "pattern": {
              "fillmode": "overlay",
              "size": 10,
              "solidity": 0.2
             }
            },
            "type": "barpolar"
           }
          ],
          "carpet": [
           {
            "aaxis": {
             "endlinecolor": "#2a3f5f",
             "gridcolor": "white",
             "linecolor": "white",
             "minorgridcolor": "white",
             "startlinecolor": "#2a3f5f"
            },
            "baxis": {
             "endlinecolor": "#2a3f5f",
             "gridcolor": "white",
             "linecolor": "white",
             "minorgridcolor": "white",
             "startlinecolor": "#2a3f5f"
            },
            "type": "carpet"
           }
          ],
          "choropleth": [
           {
            "colorbar": {
             "outlinewidth": 0,
             "ticks": ""
            },
            "type": "choropleth"
           }
          ],
          "contour": [
           {
            "colorbar": {
             "outlinewidth": 0,
             "ticks": ""
            },
            "colorscale": [
             [
              0,
              "#0d0887"
             ],
             [
              0.1111111111111111,
              "#46039f"
             ],
             [
              0.2222222222222222,
              "#7201a8"
             ],
             [
              0.3333333333333333,
              "#9c179e"
             ],
             [
              0.4444444444444444,
              "#bd3786"
             ],
             [
              0.5555555555555556,
              "#d8576b"
             ],
             [
              0.6666666666666666,
              "#ed7953"
             ],
             [
              0.7777777777777778,
              "#fb9f3a"
             ],
             [
              0.8888888888888888,
              "#fdca26"
             ],
             [
              1,
              "#f0f921"
             ]
            ],
            "type": "contour"
           }
          ],
          "contourcarpet": [
           {
            "colorbar": {
             "outlinewidth": 0,
             "ticks": ""
            },
            "type": "contourcarpet"
           }
          ],
          "heatmap": [
           {
            "colorbar": {
             "outlinewidth": 0,
             "ticks": ""
            },
            "colorscale": [
             [
              0,
              "#0d0887"
             ],
             [
              0.1111111111111111,
              "#46039f"
             ],
             [
              0.2222222222222222,
              "#7201a8"
             ],
             [
              0.3333333333333333,
              "#9c179e"
             ],
             [
              0.4444444444444444,
              "#bd3786"
             ],
             [
              0.5555555555555556,
              "#d8576b"
             ],
             [
              0.6666666666666666,
              "#ed7953"
             ],
             [
              0.7777777777777778,
              "#fb9f3a"
             ],
             [
              0.8888888888888888,
              "#fdca26"
             ],
             [
              1,
              "#f0f921"
             ]
            ],
            "type": "heatmap"
           }
          ],
          "histogram": [
           {
            "marker": {
             "pattern": {
              "fillmode": "overlay",
              "size": 10,
              "solidity": 0.2
             }
            },
            "type": "histogram"
           }
          ],
          "histogram2d": [
           {
            "colorbar": {
             "outlinewidth": 0,
             "ticks": ""
            },
            "colorscale": [
             [
              0,
              "#0d0887"
             ],
             [
              0.1111111111111111,
              "#46039f"
             ],
             [
              0.2222222222222222,
              "#7201a8"
             ],
             [
              0.3333333333333333,
              "#9c179e"
             ],
             [
              0.4444444444444444,
              "#bd3786"
             ],
             [
              0.5555555555555556,
              "#d8576b"
             ],
             [
              0.6666666666666666,
              "#ed7953"
             ],
             [
              0.7777777777777778,
              "#fb9f3a"
             ],
             [
              0.8888888888888888,
              "#fdca26"
             ],
             [
              1,
              "#f0f921"
             ]
            ],
            "type": "histogram2d"
           }
          ],
          "histogram2dcontour": [
           {
            "colorbar": {
             "outlinewidth": 0,
             "ticks": ""
            },
            "colorscale": [
             [
              0,
              "#0d0887"
             ],
             [
              0.1111111111111111,
              "#46039f"
             ],
             [
              0.2222222222222222,
              "#7201a8"
             ],
             [
              0.3333333333333333,
              "#9c179e"
             ],
             [
              0.4444444444444444,
              "#bd3786"
             ],
             [
              0.5555555555555556,
              "#d8576b"
             ],
             [
              0.6666666666666666,
              "#ed7953"
             ],
             [
              0.7777777777777778,
              "#fb9f3a"
             ],
             [
              0.8888888888888888,
              "#fdca26"
             ],
             [
              1,
              "#f0f921"
             ]
            ],
            "type": "histogram2dcontour"
           }
          ],
          "mesh3d": [
           {
            "colorbar": {
             "outlinewidth": 0,
             "ticks": ""
            },
            "type": "mesh3d"
           }
          ],
          "parcoords": [
           {
            "line": {
             "colorbar": {
              "outlinewidth": 0,
              "ticks": ""
             }
            },
            "type": "parcoords"
           }
          ],
          "pie": [
           {
            "automargin": true,
            "type": "pie"
           }
          ],
          "scatter": [
           {
            "fillpattern": {
             "fillmode": "overlay",
             "size": 10,
             "solidity": 0.2
            },
            "type": "scatter"
           }
          ],
          "scatter3d": [
           {
            "line": {
             "colorbar": {
              "outlinewidth": 0,
              "ticks": ""
             }
            },
            "marker": {
             "colorbar": {
              "outlinewidth": 0,
              "ticks": ""
             }
            },
            "type": "scatter3d"
           }
          ],
          "scattercarpet": [
           {
            "marker": {
             "colorbar": {
              "outlinewidth": 0,
              "ticks": ""
             }
            },
            "type": "scattercarpet"
           }
          ],
          "scattergeo": [
           {
            "marker": {
             "colorbar": {
              "outlinewidth": 0,
              "ticks": ""
             }
            },
            "type": "scattergeo"
           }
          ],
          "scattergl": [
           {
            "marker": {
             "colorbar": {
              "outlinewidth": 0,
              "ticks": ""
             }
            },
            "type": "scattergl"
           }
          ],
          "scattermap": [
           {
            "marker": {
             "colorbar": {
              "outlinewidth": 0,
              "ticks": ""
             }
            },
            "type": "scattermap"
           }
          ],
          "scattermapbox": [
           {
            "marker": {
             "colorbar": {
              "outlinewidth": 0,
              "ticks": ""
             }
            },
            "type": "scattermapbox"
           }
          ],
          "scatterpolar": [
           {
            "marker": {
             "colorbar": {
              "outlinewidth": 0,
              "ticks": ""
             }
            },
            "type": "scatterpolar"
           }
          ],
          "scatterpolargl": [
           {
            "marker": {
             "colorbar": {
              "outlinewidth": 0,
              "ticks": ""
             }
            },
            "type": "scatterpolargl"
           }
          ],
          "scatterternary": [
           {
            "marker": {
             "colorbar": {
              "outlinewidth": 0,
              "ticks": ""
             }
            },
            "type": "scatterternary"
           }
          ],
          "surface": [
           {
            "colorbar": {
             "outlinewidth": 0,
             "ticks": ""
            },
            "colorscale": [
             [
              0,
              "#0d0887"
             ],
             [
              0.1111111111111111,
              "#46039f"
             ],
             [
              0.2222222222222222,
              "#7201a8"
             ],
             [
              0.3333333333333333,
              "#9c179e"
             ],
             [
              0.4444444444444444,
              "#bd3786"
             ],
             [
              0.5555555555555556,
              "#d8576b"
             ],
             [
              0.6666666666666666,
              "#ed7953"
             ],
             [
              0.7777777777777778,
              "#fb9f3a"
             ],
             [
              0.8888888888888888,
              "#fdca26"
             ],
             [
              1,
              "#f0f921"
             ]
            ],
            "type": "surface"
           }
          ],
          "table": [
           {
            "cells": {
             "fill": {
              "color": "#EBF0F8"
             },
             "line": {
              "color": "white"
             }
            },
            "header": {
             "fill": {
              "color": "#C8D4E3"
             },
             "line": {
              "color": "white"
             }
            },
            "type": "table"
           }
          ]
         },
         "layout": {
          "annotationdefaults": {
           "arrowcolor": "#2a3f5f",
           "arrowhead": 0,
           "arrowwidth": 1
          },
          "autotypenumbers": "strict",
          "coloraxis": {
           "colorbar": {
            "outlinewidth": 0,
            "ticks": ""
           }
          },
          "colorscale": {
           "diverging": [
            [
             0,
             "#8e0152"
            ],
            [
             0.1,
             "#c51b7d"
            ],
            [
             0.2,
             "#de77ae"
            ],
            [
             0.3,
             "#f1b6da"
            ],
            [
             0.4,
             "#fde0ef"
            ],
            [
             0.5,
             "#f7f7f7"
            ],
            [
             0.6,
             "#e6f5d0"
            ],
            [
             0.7,
             "#b8e186"
            ],
            [
             0.8,
             "#7fbc41"
            ],
            [
             0.9,
             "#4d9221"
            ],
            [
             1,
             "#276419"
            ]
           ],
           "sequential": [
            [
             0,
             "#0d0887"
            ],
            [
             0.1111111111111111,
             "#46039f"
            ],
            [
             0.2222222222222222,
             "#7201a8"
            ],
            [
             0.3333333333333333,
             "#9c179e"
            ],
            [
             0.4444444444444444,
             "#bd3786"
            ],
            [
             0.5555555555555556,
             "#d8576b"
            ],
            [
             0.6666666666666666,
             "#ed7953"
            ],
            [
             0.7777777777777778,
             "#fb9f3a"
            ],
            [
             0.8888888888888888,
             "#fdca26"
            ],
            [
             1,
             "#f0f921"
            ]
           ],
           "sequentialminus": [
            [
             0,
             "#0d0887"
            ],
            [
             0.1111111111111111,
             "#46039f"
            ],
            [
             0.2222222222222222,
             "#7201a8"
            ],
            [
             0.3333333333333333,
             "#9c179e"
            ],
            [
             0.4444444444444444,
             "#bd3786"
            ],
            [
             0.5555555555555556,
             "#d8576b"
            ],
            [
             0.6666666666666666,
             "#ed7953"
            ],
            [
             0.7777777777777778,
             "#fb9f3a"
            ],
            [
             0.8888888888888888,
             "#fdca26"
            ],
            [
             1,
             "#f0f921"
            ]
           ]
          },
          "colorway": [
           "#636efa",
           "#EF553B",
           "#00cc96",
           "#ab63fa",
           "#FFA15A",
           "#19d3f3",
           "#FF6692",
           "#B6E880",
           "#FF97FF",
           "#FECB52"
          ],
          "font": {
           "color": "#2a3f5f"
          },
          "geo": {
           "bgcolor": "white",
           "lakecolor": "white",
           "landcolor": "#E5ECF6",
           "showlakes": true,
           "showland": true,
           "subunitcolor": "white"
          },
          "hoverlabel": {
           "align": "left"
          },
          "hovermode": "closest",
          "mapbox": {
           "style": "light"
          },
          "paper_bgcolor": "white",
          "plot_bgcolor": "#E5ECF6",
          "polar": {
           "angularaxis": {
            "gridcolor": "white",
            "linecolor": "white",
            "ticks": ""
           },
           "bgcolor": "#E5ECF6",
           "radialaxis": {
            "gridcolor": "white",
            "linecolor": "white",
            "ticks": ""
           }
          },
          "scene": {
           "xaxis": {
            "backgroundcolor": "#E5ECF6",
            "gridcolor": "white",
            "gridwidth": 2,
            "linecolor": "white",
            "showbackground": true,
            "ticks": "",
            "zerolinecolor": "white"
           },
           "yaxis": {
            "backgroundcolor": "#E5ECF6",
            "gridcolor": "white",
            "gridwidth": 2,
            "linecolor": "white",
            "showbackground": true,
            "ticks": "",
            "zerolinecolor": "white"
           },
           "zaxis": {
            "backgroundcolor": "#E5ECF6",
            "gridcolor": "white",
            "gridwidth": 2,
            "linecolor": "white",
            "showbackground": true,
            "ticks": "",
            "zerolinecolor": "white"
           }
          },
          "shapedefaults": {
           "line": {
            "color": "#2a3f5f"
           }
          },
          "ternary": {
           "aaxis": {
            "gridcolor": "white",
            "linecolor": "white",
            "ticks": ""
           },
           "baxis": {
            "gridcolor": "white",
            "linecolor": "white",
            "ticks": ""
           },
           "bgcolor": "#E5ECF6",
           "caxis": {
            "gridcolor": "white",
            "linecolor": "white",
            "ticks": ""
           }
          },
          "title": {
           "x": 0.05
          },
          "xaxis": {
           "automargin": true,
           "gridcolor": "white",
           "linecolor": "white",
           "ticks": "",
           "title": {
            "standoff": 15
           },
           "zerolinecolor": "white",
           "zerolinewidth": 2
          },
          "yaxis": {
           "automargin": true,
           "gridcolor": "white",
           "linecolor": "white",
           "ticks": "",
           "title": {
            "standoff": 15
           },
           "zerolinecolor": "white",
           "zerolinewidth": 2
          }
         }
        }
       }
      }
     },
     "metadata": {},
     "output_type": "display_data"
    }
   ],
   "source": [
    "n = 50\n",
    "r = 10 * np.ones((n, n))  \n",
    "theta = np.linspace(0, np.pi, n)\n",
    "phi = np.linspace(0, 2*np.pi, n) \n",
    "\n",
    "Theta, Phi = np.meshgrid(theta, phi)\n",
    "\n",
    "X, Y, Z = sphere(r, Theta, Phi)\n",
    "\n",
    "x_flat = X.flatten()\n",
    "y_flat = Y.flatten()\n",
    "z_flat = Z.flatten()\n",
    "\n",
    "fig = go.Figure(data=[go.Scatter3d(x=x_flat, y=y_flat, z=z_flat, mode='markers',marker=dict(size=2))])\n",
    "fig.show()"
   ]
  },
  {
   "cell_type": "code",
   "execution_count": 55,
   "metadata": {},
   "outputs": [
    {
     "data": {
      "text/plain": [
       "array([[[-1., -1., -1.],\n",
       "        [ 0.,  0.,  0.],\n",
       "        [ 1.,  1.,  1.]],\n",
       "\n",
       "       [[-1., -1., -1.],\n",
       "        [-1., -1., -1.],\n",
       "        [-1., -1., -1.]],\n",
       "\n",
       "       [[-1.,  0.,  1.],\n",
       "        [-1.,  0.,  1.],\n",
       "        [-1.,  0.,  1.]]])"
      ]
     },
     "execution_count": 55,
     "metadata": {},
     "output_type": "execute_result"
    }
   ],
   "source": [
    "P1"
   ]
  },
  {
   "cell_type": "code",
   "execution_count": 56,
   "metadata": {},
   "outputs": [
    {
     "data": {
      "text/plain": [
       "(array([[0.00000000e+00, 6.40702200e-01, 1.27877162e+00, ...,\n",
       "         1.27877162e+00, 6.40702200e-01, 1.22464680e-15],\n",
       "        [0.00000000e+00, 6.35442044e-01, 1.26827292e+00, ...,\n",
       "         1.26827292e+00, 6.35442044e-01, 1.21459247e-15],\n",
       "        [0.00000000e+00, 6.19747947e-01, 1.23694922e+00, ...,\n",
       "         1.23694922e+00, 6.19747947e-01, 1.18459456e-15],\n",
       "        ...,\n",
       "        [0.00000000e+00, 6.19747947e-01, 1.23694922e+00, ...,\n",
       "         1.23694922e+00, 6.19747947e-01, 1.18459456e-15],\n",
       "        [0.00000000e+00, 6.35442044e-01, 1.26827292e+00, ...,\n",
       "         1.26827292e+00, 6.35442044e-01, 1.21459247e-15],\n",
       "        [0.00000000e+00, 6.40702200e-01, 1.27877162e+00, ...,\n",
       "         1.27877162e+00, 6.40702200e-01, 1.22464680e-15]]),\n",
       " array([[ 0.00000000e+00,  0.00000000e+00,  0.00000000e+00, ...,\n",
       "          0.00000000e+00,  0.00000000e+00,  0.00000000e+00],\n",
       "        [ 0.00000000e+00,  8.19311788e-02,  1.63525685e-01, ...,\n",
       "          1.63525685e-01,  8.19311788e-02,  1.56604357e-16],\n",
       "        [ 0.00000000e+00,  1.62517050e-01,  3.24366282e-01, ...,\n",
       "          3.24366282e-01,  1.62517050e-01,  3.10637274e-16],\n",
       "        ...,\n",
       "        [-0.00000000e+00, -1.62517050e-01, -3.24366282e-01, ...,\n",
       "         -3.24366282e-01, -1.62517050e-01, -3.10637274e-16],\n",
       "        [-0.00000000e+00, -8.19311788e-02, -1.63525685e-01, ...,\n",
       "         -1.63525685e-01, -8.19311788e-02, -1.56604357e-16],\n",
       "        [-0.00000000e+00, -1.56926780e-16, -3.13208713e-16, ...,\n",
       "         -3.13208713e-16, -1.56926780e-16, -2.99951957e-31]]),\n",
       " array([[ 10.        ,   9.97945393,   9.91790014, ...,  -9.91790014,\n",
       "          -9.97945393, -10.        ],\n",
       "        [ 10.        ,   9.97945393,   9.91790014, ...,  -9.91790014,\n",
       "          -9.97945393, -10.        ],\n",
       "        [ 10.        ,   9.97945393,   9.91790014, ...,  -9.91790014,\n",
       "          -9.97945393, -10.        ],\n",
       "        ...,\n",
       "        [ 10.        ,   9.97945393,   9.91790014, ...,  -9.91790014,\n",
       "          -9.97945393, -10.        ],\n",
       "        [ 10.        ,   9.97945393,   9.91790014, ...,  -9.91790014,\n",
       "          -9.97945393, -10.        ],\n",
       "        [ 10.        ,   9.97945393,   9.91790014, ...,  -9.91790014,\n",
       "          -9.97945393, -10.        ]]))"
      ]
     },
     "execution_count": 56,
     "metadata": {},
     "output_type": "execute_result"
    }
   ],
   "source": [
    "X,Y,Z"
   ]
  },
  {
   "cell_type": "code",
   "execution_count": 57,
   "metadata": {},
   "outputs": [],
   "source": [
    "#x_flat,y_flat,z_flat \n",
    "#np.sqrt(x_flat**2 + y_flat**2 + z_flat**2)"
   ]
  },
  {
   "cell_type": "code",
   "execution_count": 58,
   "metadata": {},
   "outputs": [
    {
     "data": {
      "application/vnd.plotly.v1+json": {
       "config": {
        "plotlyServerURL": "https://plot.ly"
       },
       "data": [
        {
         "marker": {
          "size": 2
         },
         "mode": "markers",
         "type": "scatter3d",
         "x": {
          "bdata": "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",
          "dtype": "f8"
         },
         "y": {
          "bdata": "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",
          "dtype": "f8"
         },
         "z": {
          "bdata": "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",
          "dtype": "f8"
         }
        }
       ],
       "layout": {
        "template": {
         "data": {
          "bar": [
           {
            "error_x": {
             "color": "#2a3f5f"
            },
            "error_y": {
             "color": "#2a3f5f"
            },
            "marker": {
             "line": {
              "color": "#E5ECF6",
              "width": 0.5
             },
             "pattern": {
              "fillmode": "overlay",
              "size": 10,
              "solidity": 0.2
             }
            },
            "type": "bar"
           }
          ],
          "barpolar": [
           {
            "marker": {
             "line": {
              "color": "#E5ECF6",
              "width": 0.5
             },
             "pattern": {
              "fillmode": "overlay",
              "size": 10,
              "solidity": 0.2
             }
            },
            "type": "barpolar"
           }
          ],
          "carpet": [
           {
            "aaxis": {
             "endlinecolor": "#2a3f5f",
             "gridcolor": "white",
             "linecolor": "white",
             "minorgridcolor": "white",
             "startlinecolor": "#2a3f5f"
            },
            "baxis": {
             "endlinecolor": "#2a3f5f",
             "gridcolor": "white",
             "linecolor": "white",
             "minorgridcolor": "white",
             "startlinecolor": "#2a3f5f"
            },
            "type": "carpet"
           }
          ],
          "choropleth": [
           {
            "colorbar": {
             "outlinewidth": 0,
             "ticks": ""
            },
            "type": "choropleth"
           }
          ],
          "contour": [
           {
            "colorbar": {
             "outlinewidth": 0,
             "ticks": ""
            },
            "colorscale": [
             [
              0,
              "#0d0887"
             ],
             [
              0.1111111111111111,
              "#46039f"
             ],
             [
              0.2222222222222222,
              "#7201a8"
             ],
             [
              0.3333333333333333,
              "#9c179e"
             ],
             [
              0.4444444444444444,
              "#bd3786"
             ],
             [
              0.5555555555555556,
              "#d8576b"
             ],
             [
              0.6666666666666666,
              "#ed7953"
             ],
             [
              0.7777777777777778,
              "#fb9f3a"
             ],
             [
              0.8888888888888888,
              "#fdca26"
             ],
             [
              1,
              "#f0f921"
             ]
            ],
            "type": "contour"
           }
          ],
          "contourcarpet": [
           {
            "colorbar": {
             "outlinewidth": 0,
             "ticks": ""
            },
            "type": "contourcarpet"
           }
          ],
          "heatmap": [
           {
            "colorbar": {
             "outlinewidth": 0,
             "ticks": ""
            },
            "colorscale": [
             [
              0,
              "#0d0887"
             ],
             [
              0.1111111111111111,
              "#46039f"
             ],
             [
              0.2222222222222222,
              "#7201a8"
             ],
             [
              0.3333333333333333,
              "#9c179e"
             ],
             [
              0.4444444444444444,
              "#bd3786"
             ],
             [
              0.5555555555555556,
              "#d8576b"
             ],
             [
              0.6666666666666666,
              "#ed7953"
             ],
             [
              0.7777777777777778,
              "#fb9f3a"
             ],
             [
              0.8888888888888888,
              "#fdca26"
             ],
             [
              1,
              "#f0f921"
             ]
            ],
            "type": "heatmap"
           }
          ],
          "histogram": [
           {
            "marker": {
             "pattern": {
              "fillmode": "overlay",
              "size": 10,
              "solidity": 0.2
             }
            },
            "type": "histogram"
           }
          ],
          "histogram2d": [
           {
            "colorbar": {
             "outlinewidth": 0,
             "ticks": ""
            },
            "colorscale": [
             [
              0,
              "#0d0887"
             ],
             [
              0.1111111111111111,
              "#46039f"
             ],
             [
              0.2222222222222222,
              "#7201a8"
             ],
             [
              0.3333333333333333,
              "#9c179e"
             ],
             [
              0.4444444444444444,
              "#bd3786"
             ],
             [
              0.5555555555555556,
              "#d8576b"
             ],
             [
              0.6666666666666666,
              "#ed7953"
             ],
             [
              0.7777777777777778,
              "#fb9f3a"
             ],
             [
              0.8888888888888888,
              "#fdca26"
             ],
             [
              1,
              "#f0f921"
             ]
            ],
            "type": "histogram2d"
           }
          ],
          "histogram2dcontour": [
           {
            "colorbar": {
             "outlinewidth": 0,
             "ticks": ""
            },
            "colorscale": [
             [
              0,
              "#0d0887"
             ],
             [
              0.1111111111111111,
              "#46039f"
             ],
             [
              0.2222222222222222,
              "#7201a8"
             ],
             [
              0.3333333333333333,
              "#9c179e"
             ],
             [
              0.4444444444444444,
              "#bd3786"
             ],
             [
              0.5555555555555556,
              "#d8576b"
             ],
             [
              0.6666666666666666,
              "#ed7953"
             ],
             [
              0.7777777777777778,
              "#fb9f3a"
             ],
             [
              0.8888888888888888,
              "#fdca26"
             ],
             [
              1,
              "#f0f921"
             ]
            ],
            "type": "histogram2dcontour"
           }
          ],
          "mesh3d": [
           {
            "colorbar": {
             "outlinewidth": 0,
             "ticks": ""
            },
            "type": "mesh3d"
           }
          ],
          "parcoords": [
           {
            "line": {
             "colorbar": {
              "outlinewidth": 0,
              "ticks": ""
             }
            },
            "type": "parcoords"
           }
          ],
          "pie": [
           {
            "automargin": true,
            "type": "pie"
           }
          ],
          "scatter": [
           {
            "fillpattern": {
             "fillmode": "overlay",
             "size": 10,
             "solidity": 0.2
            },
            "type": "scatter"
           }
          ],
          "scatter3d": [
           {
            "line": {
             "colorbar": {
              "outlinewidth": 0,
              "ticks": ""
             }
            },
            "marker": {
             "colorbar": {
              "outlinewidth": 0,
              "ticks": ""
             }
            },
            "type": "scatter3d"
           }
          ],
          "scattercarpet": [
           {
            "marker": {
             "colorbar": {
              "outlinewidth": 0,
              "ticks": ""
             }
            },
            "type": "scattercarpet"
           }
          ],
          "scattergeo": [
           {
            "marker": {
             "colorbar": {
              "outlinewidth": 0,
              "ticks": ""
             }
            },
            "type": "scattergeo"
           }
          ],
          "scattergl": [
           {
            "marker": {
             "colorbar": {
              "outlinewidth": 0,
              "ticks": ""
             }
            },
            "type": "scattergl"
           }
          ],
          "scattermap": [
           {
            "marker": {
             "colorbar": {
              "outlinewidth": 0,
              "ticks": ""
             }
            },
            "type": "scattermap"
           }
          ],
          "scattermapbox": [
           {
            "marker": {
             "colorbar": {
              "outlinewidth": 0,
              "ticks": ""
             }
            },
            "type": "scattermapbox"
           }
          ],
          "scatterpolar": [
           {
            "marker": {
             "colorbar": {
              "outlinewidth": 0,
              "ticks": ""
             }
            },
            "type": "scatterpolar"
           }
          ],
          "scatterpolargl": [
           {
            "marker": {
             "colorbar": {
              "outlinewidth": 0,
              "ticks": ""
             }
            },
            "type": "scatterpolargl"
           }
          ],
          "scatterternary": [
           {
            "marker": {
             "colorbar": {
              "outlinewidth": 0,
              "ticks": ""
             }
            },
            "type": "scatterternary"
           }
          ],
          "surface": [
           {
            "colorbar": {
             "outlinewidth": 0,
             "ticks": ""
            },
            "colorscale": [
             [
              0,
              "#0d0887"
             ],
             [
              0.1111111111111111,
              "#46039f"
             ],
             [
              0.2222222222222222,
              "#7201a8"
             ],
             [
              0.3333333333333333,
              "#9c179e"
             ],
             [
              0.4444444444444444,
              "#bd3786"
             ],
             [
              0.5555555555555556,
              "#d8576b"
             ],
             [
              0.6666666666666666,
              "#ed7953"
             ],
             [
              0.7777777777777778,
              "#fb9f3a"
             ],
             [
              0.8888888888888888,
              "#fdca26"
             ],
             [
              1,
              "#f0f921"
             ]
            ],
            "type": "surface"
           }
          ],
          "table": [
           {
            "cells": {
             "fill": {
              "color": "#EBF0F8"
             },
             "line": {
              "color": "white"
             }
            },
            "header": {
             "fill": {
              "color": "#C8D4E3"
             },
             "line": {
              "color": "white"
             }
            },
            "type": "table"
           }
          ]
         },
         "layout": {
          "annotationdefaults": {
           "arrowcolor": "#2a3f5f",
           "arrowhead": 0,
           "arrowwidth": 1
          },
          "autotypenumbers": "strict",
          "coloraxis": {
           "colorbar": {
            "outlinewidth": 0,
            "ticks": ""
           }
          },
          "colorscale": {
           "diverging": [
            [
             0,
             "#8e0152"
            ],
            [
             0.1,
             "#c51b7d"
            ],
            [
             0.2,
             "#de77ae"
            ],
            [
             0.3,
             "#f1b6da"
            ],
            [
             0.4,
             "#fde0ef"
            ],
            [
             0.5,
             "#f7f7f7"
            ],
            [
             0.6,
             "#e6f5d0"
            ],
            [
             0.7,
             "#b8e186"
            ],
            [
             0.8,
             "#7fbc41"
            ],
            [
             0.9,
             "#4d9221"
            ],
            [
             1,
             "#276419"
            ]
           ],
           "sequential": [
            [
             0,
             "#0d0887"
            ],
            [
             0.1111111111111111,
             "#46039f"
            ],
            [
             0.2222222222222222,
             "#7201a8"
            ],
            [
             0.3333333333333333,
             "#9c179e"
            ],
            [
             0.4444444444444444,
             "#bd3786"
            ],
            [
             0.5555555555555556,
             "#d8576b"
            ],
            [
             0.6666666666666666,
             "#ed7953"
            ],
            [
             0.7777777777777778,
             "#fb9f3a"
            ],
            [
             0.8888888888888888,
             "#fdca26"
            ],
            [
             1,
             "#f0f921"
            ]
           ],
           "sequentialminus": [
            [
             0,
             "#0d0887"
            ],
            [
             0.1111111111111111,
             "#46039f"
            ],
            [
             0.2222222222222222,
             "#7201a8"
            ],
            [
             0.3333333333333333,
             "#9c179e"
            ],
            [
             0.4444444444444444,
             "#bd3786"
            ],
            [
             0.5555555555555556,
             "#d8576b"
            ],
            [
             0.6666666666666666,
             "#ed7953"
            ],
            [
             0.7777777777777778,
             "#fb9f3a"
            ],
            [
             0.8888888888888888,
             "#fdca26"
            ],
            [
             1,
             "#f0f921"
            ]
           ]
          },
          "colorway": [
           "#636efa",
           "#EF553B",
           "#00cc96",
           "#ab63fa",
           "#FFA15A",
           "#19d3f3",
           "#FF6692",
           "#B6E880",
           "#FF97FF",
           "#FECB52"
          ],
          "font": {
           "color": "#2a3f5f"
          },
          "geo": {
           "bgcolor": "white",
           "lakecolor": "white",
           "landcolor": "#E5ECF6",
           "showlakes": true,
           "showland": true,
           "subunitcolor": "white"
          },
          "hoverlabel": {
           "align": "left"
          },
          "hovermode": "closest",
          "mapbox": {
           "style": "light"
          },
          "paper_bgcolor": "white",
          "plot_bgcolor": "#E5ECF6",
          "polar": {
           "angularaxis": {
            "gridcolor": "white",
            "linecolor": "white",
            "ticks": ""
           },
           "bgcolor": "#E5ECF6",
           "radialaxis": {
            "gridcolor": "white",
            "linecolor": "white",
            "ticks": ""
           }
          },
          "scene": {
           "xaxis": {
            "backgroundcolor": "#E5ECF6",
            "gridcolor": "white",
            "gridwidth": 2,
            "linecolor": "white",
            "showbackground": true,
            "ticks": "",
            "zerolinecolor": "white"
           },
           "yaxis": {
            "backgroundcolor": "#E5ECF6",
            "gridcolor": "white",
            "gridwidth": 2,
            "linecolor": "white",
            "showbackground": true,
            "ticks": "",
            "zerolinecolor": "white"
           },
           "zaxis": {
            "backgroundcolor": "#E5ECF6",
            "gridcolor": "white",
            "gridwidth": 2,
            "linecolor": "white",
            "showbackground": true,
            "ticks": "",
            "zerolinecolor": "white"
           }
          },
          "shapedefaults": {
           "line": {
            "color": "#2a3f5f"
           }
          },
          "ternary": {
           "aaxis": {
            "gridcolor": "white",
            "linecolor": "white",
            "ticks": ""
           },
           "baxis": {
            "gridcolor": "white",
            "linecolor": "white",
            "ticks": ""
           },
           "bgcolor": "#E5ECF6",
           "caxis": {
            "gridcolor": "white",
            "linecolor": "white",
            "ticks": ""
           }
          },
          "title": {
           "x": 0.05
          },
          "xaxis": {
           "automargin": true,
           "gridcolor": "white",
           "linecolor": "white",
           "ticks": "",
           "title": {
            "standoff": 15
           },
           "zerolinecolor": "white",
           "zerolinewidth": 2
          },
          "yaxis": {
           "automargin": true,
           "gridcolor": "white",
           "linecolor": "white",
           "ticks": "",
           "title": {
            "standoff": 15
           },
           "zerolinecolor": "white",
           "zerolinewidth": 2
          }
         }
        }
       }
      }
     },
     "metadata": {},
     "output_type": "display_data"
    }
   ],
   "source": [
    "n = 50\n",
    "theta = np.linspace(0, 2*np.pi, n)\n",
    "z = np.linspace(-1, 1, n) # 10 * np.ones((n, n)) \n",
    "r = z * np.ones((n, n))   # np.linspace(0, 20, n) \n",
    "\n",
    "Theta,Z = np.meshgrid(theta,z)\n",
    "\n",
    "\n",
    "X, Y, Z = cylindre(r.T, Theta, Z)\n",
    "\n",
    "x_flat = X.flatten()\n",
    "y_flat = Y.flatten()\n",
    "z_flat = Z.flatten()\n",
    "\n",
    "fig = go.Figure(data=[go.Scatter3d(x=x_flat, y=y_flat, z=z_flat, mode='markers',marker=dict(size=2))])\n",
    "fig.show()"
   ]
  },
  {
   "cell_type": "code",
   "execution_count": 59,
   "metadata": {},
   "outputs": [],
   "source": [
    "#x_flat,y_flat,z_flat; np.sqrt(x_flat**2 + y_flat**2 + z_flat**2)"
   ]
  }
 ],
 "metadata": {
  "kernelspec": {
   "display_name": "base",
   "language": "python",
   "name": "python3"
  },
  "language_info": {
   "codemirror_mode": {
    "name": "ipython",
    "version": 3
   },
   "file_extension": ".py",
   "mimetype": "text/x-python",
   "name": "python",
   "nbconvert_exporter": "python",
   "pygments_lexer": "ipython3",
   "version": "3.10.8"
  }
 },
 "nbformat": 4,
 "nbformat_minor": 2
}
